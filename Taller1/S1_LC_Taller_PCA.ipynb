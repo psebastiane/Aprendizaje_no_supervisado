{
 "cells": [
  {
   "cell_type": "markdown",
   "id": "51af9d6b",
   "metadata": {
    "id": "51af9d6b"
   },
   "source": [
    "![Clase aprendizaje no supervisado](https://raw.githubusercontent.com/MECA4605-Aprendizaje-no-supervisado/taller_1/main/figs/taller-meca-aprendizaje%20no%20supervisado_banner%201169%20x%20200%20px%20-05.png)"
   ]
  },
  {
   "cell_type": "markdown",
   "id": "c17e199e",
   "metadata": {
    "id": "c17e199e"
   },
   "source": [
    "# Caso-taller:  PCA para estudiar la dimensionalidad de la calidad de vida en las ciudades"
   ]
  },
  {
   "cell_type": "markdown",
   "id": "c267a5e7",
   "metadata": {
    "id": "c267a5e7"
   },
   "source": [
    "En este caso-taller vamos a aplicar PCA en el estudio de calidad de vida en diferentes ciudades. Para ello, haremos uso de los datos que surgen del Almanaque Calificado de Lugares. En este Almanaque Boyer y Savageau calificaron 329 ciudades de acuerdo con los siguientes nueve criterios:\n",
    "\n",
    "   - Clima y Terreno\n",
    "   - Alojamiento\n",
    "   - Cuidado de la salud y el medio ambiente\n",
    "   - Crimen\n",
    "   - Transporte\n",
    "   - Educación\n",
    "   - Artes\n",
    "   - Recreación\n",
    "   - Economía\n",
    "\n",
    "Con tantas variables disponibles, la matriz de dispersión puede resultar muy grande para estudiarla e interpretarla adecuadamente. Habría demasiadas correlaciones bivariadas entre las variables a considerar. Para interpretar los datos de una forma más significativa es necesario reducir el número de variables a unas pocas dimensiones, y para ello en este ejercicio recurriremos al análisis de componentes principales.\n"
   ]
  },
  {
   "cell_type": "markdown",
   "id": "6c57a5bd",
   "metadata": {
    "id": "6c57a5bd"
   },
   "source": [
    "## Instrucciones generales"
   ]
  },
  {
   "cell_type": "markdown",
   "id": "40134a94",
   "metadata": {
    "id": "40134a94"
   },
   "source": [
    "1. Para desarrollar el *cuaderno* primero debe descargarlo junto al archivo de soporte.\n",
    "\n",
    "2. Para responder cada inciso deberá utilizar el espacio debidamente especificado.\n",
    "\n",
    "3. La actividad será calificada sólo si sube el *cuaderno* de jupyter notebook con extensión `.ipynb` en la actividad designada como \"entrega calificada por el personal\".\n",
    "\n",
    "4. El archivo entregado debe poder ser ejecutado localmente por el tutor. Sea cuidadoso con la especificación de la ubicación de los archivos de soporte, guarde la carpeta de datos en la misma ruta de acceso del cuaderno, por ejemplo: `data/archivo_de_soporte.csv`."
   ]
  },
  {
   "cell_type": "markdown",
   "id": "b2a122c1",
   "metadata": {
    "id": "b2a122c1"
   },
   "source": [
    "## Desarrollo\n"
   ]
  },
  {
   "cell_type": "markdown",
   "id": "75d1a0db",
   "metadata": {
    "id": "75d1a0db"
   },
   "source": [
    "### 1. Carga de datos\n",
    "\n",
    "En el repositorio de taller 1 encontraran una carpeta `data` donde se encuentra el archivo `lugares.csv`, cargue estos datos en su *cuaderno*.\n"
   ]
  },
  {
   "cell_type": "code",
   "execution_count": 22,
   "id": "c777dd26",
   "metadata": {},
   "outputs": [],
   "source": [
    "import pandas as pd\n",
    "import numpy as np\n",
    "\n",
    "# Importamos matplotlib y seaborn para visualizar datos\n",
    "import seaborn as sns\n",
    "import matplotlib.pyplot as plt"
   ]
  },
  {
   "cell_type": "code",
   "execution_count": 23,
   "id": "089aa956",
   "metadata": {
    "id": "089aa956"
   },
   "outputs": [
    {
     "data": {
      "application/vnd.microsoft.datawrangler.viewer.v0+json": {
       "columns": [
        {
         "name": "index",
         "rawType": "int64",
         "type": "integer"
        },
        {
         "name": "Ciudad",
         "rawType": "object",
         "type": "string"
        },
        {
         "name": "Clima y Terreno",
         "rawType": "int64",
         "type": "integer"
        },
        {
         "name": "Alojamiento",
         "rawType": "int64",
         "type": "integer"
        },
        {
         "name": "Cuidado de la salud y el medio ambiente",
         "rawType": "int64",
         "type": "integer"
        },
        {
         "name": "Crimen",
         "rawType": "int64",
         "type": "integer"
        },
        {
         "name": "Transporte",
         "rawType": "int64",
         "type": "integer"
        },
        {
         "name": "Educación",
         "rawType": "int64",
         "type": "integer"
        },
        {
         "name": "Artes",
         "rawType": "int64",
         "type": "integer"
        },
        {
         "name": "Recreación",
         "rawType": "int64",
         "type": "integer"
        },
        {
         "name": "Economía",
         "rawType": "int64",
         "type": "integer"
        }
       ],
       "conversionMethod": "pd.DataFrame",
       "ref": "94585c8a-9445-4ca4-a83c-379eae9de5ca",
       "rows": [
        [
         "0",
         "Abilene,TX",
         "521",
         "6200",
         "237",
         "923",
         "4031",
         "2757",
         "996",
         "1405",
         "7633"
        ],
        [
         "1",
         "Akron,OH",
         "575",
         "8138",
         "1656",
         "886",
         "4883",
         "2438",
         "5564",
         "2632",
         "4350"
        ],
        [
         "2",
         "Albany,GA",
         "468",
         "7339",
         "618",
         "970",
         "2531",
         "2560",
         "237",
         "859",
         "5250"
        ],
        [
         "3",
         "Albany-Schenectady-Troy,NY",
         "476",
         "7908",
         "1431",
         "610",
         "6883",
         "3399",
         "4655",
         "1617",
         "5864"
        ],
        [
         "4",
         "Albuquerque,NM",
         "659",
         "8393",
         "1853",
         "1483",
         "6558",
         "3026",
         "4496",
         "2612",
         "5727"
        ]
       ],
       "shape": {
        "columns": 10,
        "rows": 5
       }
      },
      "text/html": [
       "<div>\n",
       "<style scoped>\n",
       "    .dataframe tbody tr th:only-of-type {\n",
       "        vertical-align: middle;\n",
       "    }\n",
       "\n",
       "    .dataframe tbody tr th {\n",
       "        vertical-align: top;\n",
       "    }\n",
       "\n",
       "    .dataframe thead th {\n",
       "        text-align: right;\n",
       "    }\n",
       "</style>\n",
       "<table border=\"1\" class=\"dataframe\">\n",
       "  <thead>\n",
       "    <tr style=\"text-align: right;\">\n",
       "      <th></th>\n",
       "      <th>Ciudad</th>\n",
       "      <th>Clima y Terreno</th>\n",
       "      <th>Alojamiento</th>\n",
       "      <th>Cuidado de la salud y el medio ambiente</th>\n",
       "      <th>Crimen</th>\n",
       "      <th>Transporte</th>\n",
       "      <th>Educación</th>\n",
       "      <th>Artes</th>\n",
       "      <th>Recreación</th>\n",
       "      <th>Economía</th>\n",
       "    </tr>\n",
       "  </thead>\n",
       "  <tbody>\n",
       "    <tr>\n",
       "      <th>0</th>\n",
       "      <td>Abilene,TX</td>\n",
       "      <td>521</td>\n",
       "      <td>6200</td>\n",
       "      <td>237</td>\n",
       "      <td>923</td>\n",
       "      <td>4031</td>\n",
       "      <td>2757</td>\n",
       "      <td>996</td>\n",
       "      <td>1405</td>\n",
       "      <td>7633</td>\n",
       "    </tr>\n",
       "    <tr>\n",
       "      <th>1</th>\n",
       "      <td>Akron,OH</td>\n",
       "      <td>575</td>\n",
       "      <td>8138</td>\n",
       "      <td>1656</td>\n",
       "      <td>886</td>\n",
       "      <td>4883</td>\n",
       "      <td>2438</td>\n",
       "      <td>5564</td>\n",
       "      <td>2632</td>\n",
       "      <td>4350</td>\n",
       "    </tr>\n",
       "    <tr>\n",
       "      <th>2</th>\n",
       "      <td>Albany,GA</td>\n",
       "      <td>468</td>\n",
       "      <td>7339</td>\n",
       "      <td>618</td>\n",
       "      <td>970</td>\n",
       "      <td>2531</td>\n",
       "      <td>2560</td>\n",
       "      <td>237</td>\n",
       "      <td>859</td>\n",
       "      <td>5250</td>\n",
       "    </tr>\n",
       "    <tr>\n",
       "      <th>3</th>\n",
       "      <td>Albany-Schenectady-Troy,NY</td>\n",
       "      <td>476</td>\n",
       "      <td>7908</td>\n",
       "      <td>1431</td>\n",
       "      <td>610</td>\n",
       "      <td>6883</td>\n",
       "      <td>3399</td>\n",
       "      <td>4655</td>\n",
       "      <td>1617</td>\n",
       "      <td>5864</td>\n",
       "    </tr>\n",
       "    <tr>\n",
       "      <th>4</th>\n",
       "      <td>Albuquerque,NM</td>\n",
       "      <td>659</td>\n",
       "      <td>8393</td>\n",
       "      <td>1853</td>\n",
       "      <td>1483</td>\n",
       "      <td>6558</td>\n",
       "      <td>3026</td>\n",
       "      <td>4496</td>\n",
       "      <td>2612</td>\n",
       "      <td>5727</td>\n",
       "    </tr>\n",
       "  </tbody>\n",
       "</table>\n",
       "</div>"
      ],
      "text/plain": [
       "                       Ciudad  Clima y Terreno  Alojamiento  \\\n",
       "0                  Abilene,TX              521         6200   \n",
       "1                    Akron,OH              575         8138   \n",
       "2                   Albany,GA              468         7339   \n",
       "3  Albany-Schenectady-Troy,NY              476         7908   \n",
       "4              Albuquerque,NM              659         8393   \n",
       "\n",
       "   Cuidado de la salud y el medio ambiente  Crimen  Transporte  Educación  \\\n",
       "0                                      237     923        4031       2757   \n",
       "1                                     1656     886        4883       2438   \n",
       "2                                      618     970        2531       2560   \n",
       "3                                     1431     610        6883       3399   \n",
       "4                                     1853    1483        6558       3026   \n",
       "\n",
       "   Artes  Recreación  Economía  \n",
       "0    996        1405      7633  \n",
       "1   5564        2632      4350  \n",
       "2    237         859      5250  \n",
       "3   4655        1617      5864  \n",
       "4   4496        2612      5727  "
      ]
     },
     "execution_count": 23,
     "metadata": {},
     "output_type": "execute_result"
    }
   ],
   "source": [
    "df = pd.read_csv('https://raw.githubusercontent.com/psebastiane/Aprendizaje_no_supervisado/refs/heads/main/Taller1/data/lugares.csv')\n",
    "df.head()"
   ]
  },
  {
   "cell_type": "markdown",
   "id": "b2742182",
   "metadata": {},
   "source": [
    "Importamos la librería pandas para poder crear un dataframe a partir de los datos usando la instrucción \"pd.read_csv\", se usó la URL de los datos raw alojados en el repositorio del taller 1 por lo que en teoría este jupyter notebook debe poderse usar en cualquier lugar siempre y cuando el repositorio se mantenga público."
   ]
  },
  {
   "cell_type": "markdown",
   "id": "342a1e75",
   "metadata": {
    "id": "342a1e75"
   },
   "source": [
    "### 2.  Análisis descriptivo de las variables.\n",
    "\n",
    "Para el análisis descriptivo haga uso de estadísticas descriptivas y matrices de correlación. Indique además cuantas gráficas de dispersión bivariadas debería examinar con este número de variables.\n",
    "\n",
    "Explique porqué es importante conocer las estadísticas descriptivas y como contribuyen al ejercicio posterior de Análisis de Componentes Principales.\n",
    "\n",
    "Tenga en cuenta que para las variables, a excepción de la alojamiento y crimen, cuanto mayor sea el puntaje, mejor. Por el contrario; para alojamiento y crimen, mientras más bajo sea el puntaje, mejor. También, mientras algunas comunidades podrían calificar mejor en las artes, otras podrían calificar mejor en otras áreas como tener una tasa de criminalidad más baja y buenas oportunidades educativas."
   ]
  },
  {
   "cell_type": "code",
   "execution_count": 24,
   "id": "23581b22",
   "metadata": {},
   "outputs": [],
   "source": [
    "# Transformamos las variables \"alojamiento\" y \"crimen\" para que, a mayor puntaje, sean mejores. \n",
    "# Esto lo logramos multiplicando las variables por -1, con esto, todos los números quedarán negativos y entre mas cercanas al cero (mayores) mejor la calificación.\n",
    "# Esta transformación no afectará al PCA ya que estandarizaremos los datos.\n",
    "\n",
    "df[\"Alojamiento\"] = df[\"Alojamiento\"]*-1\n",
    "df[\"Crimen\"] = df[\"Crimen\"]*-1"
   ]
  },
  {
   "cell_type": "code",
   "execution_count": 25,
   "id": "7d82f699",
   "metadata": {
    "id": "7d82f699"
   },
   "outputs": [
    {
     "data": {
      "application/vnd.microsoft.datawrangler.viewer.v0+json": {
       "columns": [
        {
         "name": "index",
         "rawType": "object",
         "type": "string"
        },
        {
         "name": "count",
         "rawType": "float64",
         "type": "float"
        },
        {
         "name": "mean",
         "rawType": "float64",
         "type": "float"
        },
        {
         "name": "std",
         "rawType": "float64",
         "type": "float"
        },
        {
         "name": "min",
         "rawType": "float64",
         "type": "float"
        },
        {
         "name": "25%",
         "rawType": "float64",
         "type": "float"
        },
        {
         "name": "50%",
         "rawType": "float64",
         "type": "float"
        },
        {
         "name": "75%",
         "rawType": "float64",
         "type": "float"
        },
        {
         "name": "max",
         "rawType": "float64",
         "type": "float"
        }
       ],
       "conversionMethod": "pd.DataFrame",
       "ref": "9151b951-df10-4fc1-8e44-3d7bf921652c",
       "rows": [
        [
         "Clima y Terreno",
         "329.0",
         "538.73",
         "120.81",
         "105.0",
         "480.0",
         "542.0",
         "592.0",
         "910.0"
        ],
        [
         "Alojamiento",
         "329.0",
         "-8346.56",
         "2385.26",
         "-23640.0",
         "-9015.0",
         "-7877.0",
         "-6760.0",
         "-5159.0"
        ],
        [
         "Cuidado de la salud y el medio ambiente",
         "329.0",
         "1185.74",
         "1003.0",
         "43.0",
         "583.0",
         "833.0",
         "1445.0",
         "7850.0"
        ],
        [
         "Crimen",
         "329.0",
         "-961.05",
         "357.15",
         "-2498.0",
         "-1156.0",
         "-947.0",
         "-707.0",
         "-308.0"
        ],
        [
         "Transporte",
         "329.0",
         "4210.08",
         "1451.18",
         "1145.0",
         "3141.0",
         "4080.0",
         "5205.0",
         "8625.0"
        ],
        [
         "Educación",
         "329.0",
         "2814.89",
         "320.79",
         "1701.0",
         "2619.0",
         "2794.0",
         "3012.0",
         "3781.0"
        ],
        [
         "Artes",
         "329.0",
         "3150.88",
         "4642.28",
         "52.0",
         "778.0",
         "1871.0",
         "3844.0",
         "56745.0"
        ],
        [
         "Recreación",
         "329.0",
         "1845.96",
         "807.89",
         "300.0",
         "1316.0",
         "1670.0",
         "2176.0",
         "4800.0"
        ],
        [
         "Economía",
         "329.0",
         "5525.36",
         "1084.47",
         "3045.0",
         "4842.0",
         "5384.0",
         "6113.0",
         "9980.0"
        ]
       ],
       "shape": {
        "columns": 8,
        "rows": 9
       }
      },
      "text/html": [
       "<div>\n",
       "<style scoped>\n",
       "    .dataframe tbody tr th:only-of-type {\n",
       "        vertical-align: middle;\n",
       "    }\n",
       "\n",
       "    .dataframe tbody tr th {\n",
       "        vertical-align: top;\n",
       "    }\n",
       "\n",
       "    .dataframe thead th {\n",
       "        text-align: right;\n",
       "    }\n",
       "</style>\n",
       "<table border=\"1\" class=\"dataframe\">\n",
       "  <thead>\n",
       "    <tr style=\"text-align: right;\">\n",
       "      <th></th>\n",
       "      <th>count</th>\n",
       "      <th>mean</th>\n",
       "      <th>std</th>\n",
       "      <th>min</th>\n",
       "      <th>25%</th>\n",
       "      <th>50%</th>\n",
       "      <th>75%</th>\n",
       "      <th>max</th>\n",
       "    </tr>\n",
       "  </thead>\n",
       "  <tbody>\n",
       "    <tr>\n",
       "      <th>Clima y Terreno</th>\n",
       "      <td>329.0</td>\n",
       "      <td>538.73</td>\n",
       "      <td>120.81</td>\n",
       "      <td>105.0</td>\n",
       "      <td>480.0</td>\n",
       "      <td>542.0</td>\n",
       "      <td>592.0</td>\n",
       "      <td>910.0</td>\n",
       "    </tr>\n",
       "    <tr>\n",
       "      <th>Alojamiento</th>\n",
       "      <td>329.0</td>\n",
       "      <td>-8346.56</td>\n",
       "      <td>2385.26</td>\n",
       "      <td>-23640.0</td>\n",
       "      <td>-9015.0</td>\n",
       "      <td>-7877.0</td>\n",
       "      <td>-6760.0</td>\n",
       "      <td>-5159.0</td>\n",
       "    </tr>\n",
       "    <tr>\n",
       "      <th>Cuidado de la salud y el medio ambiente</th>\n",
       "      <td>329.0</td>\n",
       "      <td>1185.74</td>\n",
       "      <td>1003.00</td>\n",
       "      <td>43.0</td>\n",
       "      <td>583.0</td>\n",
       "      <td>833.0</td>\n",
       "      <td>1445.0</td>\n",
       "      <td>7850.0</td>\n",
       "    </tr>\n",
       "    <tr>\n",
       "      <th>Crimen</th>\n",
       "      <td>329.0</td>\n",
       "      <td>-961.05</td>\n",
       "      <td>357.15</td>\n",
       "      <td>-2498.0</td>\n",
       "      <td>-1156.0</td>\n",
       "      <td>-947.0</td>\n",
       "      <td>-707.0</td>\n",
       "      <td>-308.0</td>\n",
       "    </tr>\n",
       "    <tr>\n",
       "      <th>Transporte</th>\n",
       "      <td>329.0</td>\n",
       "      <td>4210.08</td>\n",
       "      <td>1451.18</td>\n",
       "      <td>1145.0</td>\n",
       "      <td>3141.0</td>\n",
       "      <td>4080.0</td>\n",
       "      <td>5205.0</td>\n",
       "      <td>8625.0</td>\n",
       "    </tr>\n",
       "    <tr>\n",
       "      <th>Educación</th>\n",
       "      <td>329.0</td>\n",
       "      <td>2814.89</td>\n",
       "      <td>320.79</td>\n",
       "      <td>1701.0</td>\n",
       "      <td>2619.0</td>\n",
       "      <td>2794.0</td>\n",
       "      <td>3012.0</td>\n",
       "      <td>3781.0</td>\n",
       "    </tr>\n",
       "    <tr>\n",
       "      <th>Artes</th>\n",
       "      <td>329.0</td>\n",
       "      <td>3150.88</td>\n",
       "      <td>4642.28</td>\n",
       "      <td>52.0</td>\n",
       "      <td>778.0</td>\n",
       "      <td>1871.0</td>\n",
       "      <td>3844.0</td>\n",
       "      <td>56745.0</td>\n",
       "    </tr>\n",
       "    <tr>\n",
       "      <th>Recreación</th>\n",
       "      <td>329.0</td>\n",
       "      <td>1845.96</td>\n",
       "      <td>807.89</td>\n",
       "      <td>300.0</td>\n",
       "      <td>1316.0</td>\n",
       "      <td>1670.0</td>\n",
       "      <td>2176.0</td>\n",
       "      <td>4800.0</td>\n",
       "    </tr>\n",
       "    <tr>\n",
       "      <th>Economía</th>\n",
       "      <td>329.0</td>\n",
       "      <td>5525.36</td>\n",
       "      <td>1084.47</td>\n",
       "      <td>3045.0</td>\n",
       "      <td>4842.0</td>\n",
       "      <td>5384.0</td>\n",
       "      <td>6113.0</td>\n",
       "      <td>9980.0</td>\n",
       "    </tr>\n",
       "  </tbody>\n",
       "</table>\n",
       "</div>"
      ],
      "text/plain": [
       "                                         count     mean      std      min  \\\n",
       "Clima y Terreno                          329.0   538.73   120.81    105.0   \n",
       "Alojamiento                              329.0 -8346.56  2385.26 -23640.0   \n",
       "Cuidado de la salud y el medio ambiente  329.0  1185.74  1003.00     43.0   \n",
       "Crimen                                   329.0  -961.05   357.15  -2498.0   \n",
       "Transporte                               329.0  4210.08  1451.18   1145.0   \n",
       "Educación                                329.0  2814.89   320.79   1701.0   \n",
       "Artes                                    329.0  3150.88  4642.28     52.0   \n",
       "Recreación                               329.0  1845.96   807.89    300.0   \n",
       "Economía                                 329.0  5525.36  1084.47   3045.0   \n",
       "\n",
       "                                            25%     50%     75%      max  \n",
       "Clima y Terreno                           480.0   542.0   592.0    910.0  \n",
       "Alojamiento                             -9015.0 -7877.0 -6760.0  -5159.0  \n",
       "Cuidado de la salud y el medio ambiente   583.0   833.0  1445.0   7850.0  \n",
       "Crimen                                  -1156.0  -947.0  -707.0   -308.0  \n",
       "Transporte                               3141.0  4080.0  5205.0   8625.0  \n",
       "Educación                                2619.0  2794.0  3012.0   3781.0  \n",
       "Artes                                     778.0  1871.0  3844.0  56745.0  \n",
       "Recreación                               1316.0  1670.0  2176.0   4800.0  \n",
       "Economía                                 4842.0  5384.0  6113.0   9980.0  "
      ]
     },
     "execution_count": 25,
     "metadata": {},
     "output_type": "execute_result"
    }
   ],
   "source": [
    "# Creamos un data frame con estadísticas descriptivas para cada columna\n",
    "df_descriptive_stats = df.describe().round(2)\n",
    "\n",
    "# mostramos el data frame\n",
    "df_descriptive_stats.T"
   ]
  },
  {
   "cell_type": "markdown",
   "id": "290662d0",
   "metadata": {
    "id": "290662d0"
   },
   "source": [
    "La base de datos está compuesta por 329 ciudades sin embargo, los rangos de datos entre observaciones para las distintas variables parecen diferir, por ejemplo, el rango de calificación para \"Clima y Terreno\" (min 105, max= 910) difiere mucho al rango de calificación de \"Artes\" (min  = 52, max= 56.745), por lo que, por ahora no podemos comparar estas variables entre si, sin embargo, según cuartiles y medias podemos hacer análisis separados para las variables como sigue:\n",
    "\n",
    "**Clima y terreno**: Mediana y Media se encuentran muy cerca, es posible que tenga distribución no sesgada, muchos datos se encuentran entre percentil 50 y 75. \n",
    "\n",
    "**Alojamiento:** Distribución sesgada a la derecha, el máximo se encuentra bastante alejado del percentil 75, posible presencia de outliers. \n",
    "\n",
    "**Cuidado de la salud y medio ambiente:**  Distribución sesgada a la derecha  \n",
    "\n",
    "**Crimen:** Mediana y Media se encuentran muy cerca, es posible que tenga distribución no sesgada.  \n",
    "\n",
    "**Transporte:** Distribución ligeramente sesgada a la derecha  \n",
    "\n",
    "**Educación:** Mediana y Media se encuentran muy cerca, es posible que tenga distribución no sesgada.  \n",
    "\n",
    "**Artes:** Distribución altamente sesgada a la derecha, el máximo se encuentra bastante alejado del percentil 75, posible presencia de outliers.\n",
    "\n",
    "**Recreación:** Distribución ligeramente sesgada a la derecha.  \n",
    "\n",
    "**Economía:** Mediana y Media se encuentran muy cerca, es posible que tenga distribución no sesgada.  "
   ]
  },
  {
   "cell_type": "code",
   "execution_count": 26,
   "id": "aa57ef4a",
   "metadata": {},
   "outputs": [
    {
     "data": {
      "image/png": "[encoded data removed]",
      "text/plain": [
       "<Figure size 1000x800 with 2 Axes>"
      ]
     },
     "metadata": {},
     "output_type": "display_data"
    }
   ],
   "source": [
    "# Calculamos la matriz de correlacion\n",
    "correlation_matrix = df.select_dtypes(include=['number']).corr()\n",
    "correlation_matrix\n",
    "\n",
    "# Creamos un mapa de calor\n",
    "plt.figure(figsize=(10, 8))\n",
    "sns.heatmap(correlation_matrix, annot=True, cmap='coolwarm', vmin=-1, vmax=1)\n",
    "plt.title('Correlation Matrix Heatmap')\n",
    "plt.show()"
   ]
  },
  {
   "cell_type": "markdown",
   "id": "f6477e2a",
   "metadata": {},
   "source": [
    "La única correlación fuerte a destacar está entre \"Cuidado de la salud y el medio ambiente\" y \"Artes\", en cuanto a las otras correlaciones, son debiles en su mayoría (no superan el 0.5).\n",
    "\n",
    "Es importante hacer los análisis previos porque ya de antemano sabemos donde se encuentran las correlaciones principales en caso de que querramos evaluar cuales son las mejores ciudades para vivir. Dada esta correlación, es posible que las componentes principales capturen la varianza de estas más facilmente, sin embargo, como la gran mayoría no están correlacionadas, es posible que tengamos que usar muchas componentes principales."
   ]
  },
  {
   "cell_type": "markdown",
   "id": "904003c8",
   "metadata": {
    "id": "904003c8"
   },
   "source": [
    "### 3.  Cálculo y selección de componentes principales.\n",
    "\n",
    "Utilizando Álgebra Lineal, calcule los eigen valores y los eigen vectores, a partir de ellos obtenga los Componentes Principales. Tenga en cuenta de estandarizar las variables y explicar por qué es importante no omitir este paso.\n",
    "\n",
    "Luego, examine los valores propios para determinar cuántos componentes principales se deben considerar. Explique el criterio que utilizó para la elección y justifique su respuesta."
   ]
  },
  {
   "cell_type": "code",
   "execution_count": 27,
   "id": "0b1d2277",
   "metadata": {
    "id": "0b1d2277"
   },
   "outputs": [
    {
     "data": {
      "application/vnd.microsoft.datawrangler.viewer.v0+json": {
       "columns": [
        {
         "name": "Ciudad",
         "rawType": "object",
         "type": "string"
        },
        {
         "name": "Clima y Terreno",
         "rawType": "int64",
         "type": "integer"
        },
        {
         "name": "Alojamiento",
         "rawType": "int64",
         "type": "integer"
        },
        {
         "name": "Cuidado de la salud y el medio ambiente",
         "rawType": "int64",
         "type": "integer"
        },
        {
         "name": "Crimen",
         "rawType": "int64",
         "type": "integer"
        },
        {
         "name": "Transporte",
         "rawType": "int64",
         "type": "integer"
        },
        {
         "name": "Educación",
         "rawType": "int64",
         "type": "integer"
        },
        {
         "name": "Artes",
         "rawType": "int64",
         "type": "integer"
        },
        {
         "name": "Recreación",
         "rawType": "int64",
         "type": "integer"
        },
        {
         "name": "Economía",
         "rawType": "int64",
         "type": "integer"
        }
       ],
       "conversionMethod": "pd.DataFrame",
       "ref": "2200bd1c-3eee-4fef-ad5c-48ddd2b7179e",
       "rows": [
        [
         "Abilene,TX",
         "521",
         "-6200",
         "237",
         "-923",
         "4031",
         "2757",
         "996",
         "1405",
         "7633"
        ],
        [
         "Akron,OH",
         "575",
         "-8138",
         "1656",
         "-886",
         "4883",
         "2438",
         "5564",
         "2632",
         "4350"
        ],
        [
         "Albany,GA",
         "468",
         "-7339",
         "618",
         "-970",
         "2531",
         "2560",
         "237",
         "859",
         "5250"
        ],
        [
         "Albany-Schenectady-Troy,NY",
         "476",
         "-7908",
         "1431",
         "-610",
         "6883",
         "3399",
         "4655",
         "1617",
         "5864"
        ],
        [
         "Albuquerque,NM",
         "659",
         "-8393",
         "1853",
         "-1483",
         "6558",
         "3026",
         "4496",
         "2612",
         "5727"
        ]
       ],
       "shape": {
        "columns": 9,
        "rows": 5
       }
      },
      "text/html": [
       "<div>\n",
       "<style scoped>\n",
       "    .dataframe tbody tr th:only-of-type {\n",
       "        vertical-align: middle;\n",
       "    }\n",
       "\n",
       "    .dataframe tbody tr th {\n",
       "        vertical-align: top;\n",
       "    }\n",
       "\n",
       "    .dataframe thead th {\n",
       "        text-align: right;\n",
       "    }\n",
       "</style>\n",
       "<table border=\"1\" class=\"dataframe\">\n",
       "  <thead>\n",
       "    <tr style=\"text-align: right;\">\n",
       "      <th></th>\n",
       "      <th>Clima y Terreno</th>\n",
       "      <th>Alojamiento</th>\n",
       "      <th>Cuidado de la salud y el medio ambiente</th>\n",
       "      <th>Crimen</th>\n",
       "      <th>Transporte</th>\n",
       "      <th>Educación</th>\n",
       "      <th>Artes</th>\n",
       "      <th>Recreación</th>\n",
       "      <th>Economía</th>\n",
       "    </tr>\n",
       "    <tr>\n",
       "      <th>Ciudad</th>\n",
       "      <th></th>\n",
       "      <th></th>\n",
       "      <th></th>\n",
       "      <th></th>\n",
       "      <th></th>\n",
       "      <th></th>\n",
       "      <th></th>\n",
       "      <th></th>\n",
       "      <th></th>\n",
       "    </tr>\n",
       "  </thead>\n",
       "  <tbody>\n",
       "    <tr>\n",
       "      <th>Abilene,TX</th>\n",
       "      <td>521</td>\n",
       "      <td>-6200</td>\n",
       "      <td>237</td>\n",
       "      <td>-923</td>\n",
       "      <td>4031</td>\n",
       "      <td>2757</td>\n",
       "      <td>996</td>\n",
       "      <td>1405</td>\n",
       "      <td>7633</td>\n",
       "    </tr>\n",
       "    <tr>\n",
       "      <th>Akron,OH</th>\n",
       "      <td>575</td>\n",
       "      <td>-8138</td>\n",
       "      <td>1656</td>\n",
       "      <td>-886</td>\n",
       "      <td>4883</td>\n",
       "      <td>2438</td>\n",
       "      <td>5564</td>\n",
       "      <td>2632</td>\n",
       "      <td>4350</td>\n",
       "    </tr>\n",
       "    <tr>\n",
       "      <th>Albany,GA</th>\n",
       "      <td>468</td>\n",
       "      <td>-7339</td>\n",
       "      <td>618</td>\n",
       "      <td>-970</td>\n",
       "      <td>2531</td>\n",
       "      <td>2560</td>\n",
       "      <td>237</td>\n",
       "      <td>859</td>\n",
       "      <td>5250</td>\n",
       "    </tr>\n",
       "    <tr>\n",
       "      <th>Albany-Schenectady-Troy,NY</th>\n",
       "      <td>476</td>\n",
       "      <td>-7908</td>\n",
       "      <td>1431</td>\n",
       "      <td>-610</td>\n",
       "      <td>6883</td>\n",
       "      <td>3399</td>\n",
       "      <td>4655</td>\n",
       "      <td>1617</td>\n",
       "      <td>5864</td>\n",
       "    </tr>\n",
       "    <tr>\n",
       "      <th>Albuquerque,NM</th>\n",
       "      <td>659</td>\n",
       "      <td>-8393</td>\n",
       "      <td>1853</td>\n",
       "      <td>-1483</td>\n",
       "      <td>6558</td>\n",
       "      <td>3026</td>\n",
       "      <td>4496</td>\n",
       "      <td>2612</td>\n",
       "      <td>5727</td>\n",
       "    </tr>\n",
       "  </tbody>\n",
       "</table>\n",
       "</div>"
      ],
      "text/plain": [
       "                            Clima y Terreno  Alojamiento  \\\n",
       "Ciudad                                                     \n",
       "Abilene,TX                              521        -6200   \n",
       "Akron,OH                                575        -8138   \n",
       "Albany,GA                               468        -7339   \n",
       "Albany-Schenectady-Troy,NY              476        -7908   \n",
       "Albuquerque,NM                          659        -8393   \n",
       "\n",
       "                            Cuidado de la salud y el medio ambiente  Crimen  \\\n",
       "Ciudad                                                                        \n",
       "Abilene,TX                                                      237    -923   \n",
       "Akron,OH                                                       1656    -886   \n",
       "Albany,GA                                                       618    -970   \n",
       "Albany-Schenectady-Troy,NY                                     1431    -610   \n",
       "Albuquerque,NM                                                 1853   -1483   \n",
       "\n",
       "                            Transporte  Educación  Artes  Recreación  Economía  \n",
       "Ciudad                                                                          \n",
       "Abilene,TX                        4031       2757    996        1405      7633  \n",
       "Akron,OH                          4883       2438   5564        2632      4350  \n",
       "Albany,GA                         2531       2560    237         859      5250  \n",
       "Albany-Schenectady-Troy,NY        6883       3399   4655        1617      5864  \n",
       "Albuquerque,NM                    6558       3026   4496        2612      5727  "
      ]
     },
     "execution_count": 27,
     "metadata": {},
     "output_type": "execute_result"
    }
   ],
   "source": [
    "df = df.set_index(\"Ciudad\")\n",
    "df.head()"
   ]
  },
  {
   "cell_type": "markdown",
   "id": "2db0d0da",
   "metadata": {},
   "source": [
    "Iniciamos por estandarizar los datos, esto es importante dado que queremos que las magnitudes y centralización de las variables sean comparables entre sí, y a su vez, sus varianzas; si dejamos los datos como están originalmente, la varianza de variables cuyas unidades sean mayores pueden predominar en el PCA."
   ]
  },
  {
   "cell_type": "code",
   "execution_count": 28,
   "id": "eef9e773",
   "metadata": {},
   "outputs": [
    {
     "data": {
      "application/vnd.microsoft.datawrangler.viewer.v0+json": {
       "columns": [
        {
         "name": "Ciudad",
         "rawType": "object",
         "type": "string"
        },
        {
         "name": "Clima y Terreno",
         "rawType": "float64",
         "type": "float"
        },
        {
         "name": "Alojamiento",
         "rawType": "float64",
         "type": "float"
        },
        {
         "name": "Cuidado de la salud y el medio ambiente",
         "rawType": "float64",
         "type": "float"
        },
        {
         "name": "Crimen",
         "rawType": "float64",
         "type": "float"
        },
        {
         "name": "Transporte",
         "rawType": "float64",
         "type": "float"
        },
        {
         "name": "Educación",
         "rawType": "float64",
         "type": "float"
        },
        {
         "name": "Artes",
         "rawType": "float64",
         "type": "float"
        },
        {
         "name": "Recreación",
         "rawType": "float64",
         "type": "float"
        },
        {
         "name": "Economía",
         "rawType": "float64",
         "type": "float"
        }
       ],
       "conversionMethod": "pd.DataFrame",
       "ref": "602b6486-e847-452e-9a87-1e3a5be1f522",
       "rows": [
        [
         "Abilene,TX",
         "-0.14678237129581478",
         "0.8999257567597705",
         "-0.9458989791859875",
         "0.10654981152970673",
         "-0.12340451268040549",
         "-0.18045140185346467",
         "-0.4641862971152603",
         "-0.5458149563216473",
         "1.9434729681977594"
        ],
        [
         "Akron,OH",
         "0.30020693423065925",
         "0.08743660700495906",
         "0.4688538820181628",
         "0.21014652524784747",
         "0.46370421708671183",
         "-1.174862274834457",
         "0.5198121523227246",
         "0.9729596017537727",
         "-1.083816373868974"
        ],
        [
         "Albany,GA",
         "-0.5854940970903171",
         "0.4224102038336971",
         "-0.5660393314630973",
         "-0.0250460140041477",
         "-1.1570466425520909",
         "-0.7945546682398456",
         "-0.6276834125100569",
         "-1.2216510677390715",
         "-0.2539167674540912"
        ],
        [
         "Albany-Schenectady-Troy,NY",
         "-0.5192734592345432",
         "0.18386204789433297",
         "0.24452731840228273",
         "0.9829220113615458",
         "1.8418937235822923",
         "1.820839445964081",
         "0.324003354043581",
         "-0.2834024002401567",
         "0.31225918625561766"
        ],
        [
         "Albuquerque,NM",
         "0.9955236317162856",
         "-0.019469860068042456",
         "0.6652642510507334",
         "-1.4614004501502609",
         "1.6179379287767606",
         "0.6580956979330147",
         "0.289752970186173",
         "0.9482037002366509",
         "0.18593002394579664"
        ]
       ],
       "shape": {
        "columns": 9,
        "rows": 5
       }
      },
      "text/html": [
       "<div>\n",
       "<style scoped>\n",
       "    .dataframe tbody tr th:only-of-type {\n",
       "        vertical-align: middle;\n",
       "    }\n",
       "\n",
       "    .dataframe tbody tr th {\n",
       "        vertical-align: top;\n",
       "    }\n",
       "\n",
       "    .dataframe thead th {\n",
       "        text-align: right;\n",
       "    }\n",
       "</style>\n",
       "<table border=\"1\" class=\"dataframe\">\n",
       "  <thead>\n",
       "    <tr style=\"text-align: right;\">\n",
       "      <th></th>\n",
       "      <th>Clima y Terreno</th>\n",
       "      <th>Alojamiento</th>\n",
       "      <th>Cuidado de la salud y el medio ambiente</th>\n",
       "      <th>Crimen</th>\n",
       "      <th>Transporte</th>\n",
       "      <th>Educación</th>\n",
       "      <th>Artes</th>\n",
       "      <th>Recreación</th>\n",
       "      <th>Economía</th>\n",
       "    </tr>\n",
       "    <tr>\n",
       "      <th>Ciudad</th>\n",
       "      <th></th>\n",
       "      <th></th>\n",
       "      <th></th>\n",
       "      <th></th>\n",
       "      <th></th>\n",
       "      <th></th>\n",
       "      <th></th>\n",
       "      <th></th>\n",
       "      <th></th>\n",
       "    </tr>\n",
       "  </thead>\n",
       "  <tbody>\n",
       "    <tr>\n",
       "      <th>Abilene,TX</th>\n",
       "      <td>-0.146782</td>\n",
       "      <td>0.899926</td>\n",
       "      <td>-0.945899</td>\n",
       "      <td>0.106550</td>\n",
       "      <td>-0.123405</td>\n",
       "      <td>-0.180451</td>\n",
       "      <td>-0.464186</td>\n",
       "      <td>-0.545815</td>\n",
       "      <td>1.943473</td>\n",
       "    </tr>\n",
       "    <tr>\n",
       "      <th>Akron,OH</th>\n",
       "      <td>0.300207</td>\n",
       "      <td>0.087437</td>\n",
       "      <td>0.468854</td>\n",
       "      <td>0.210147</td>\n",
       "      <td>0.463704</td>\n",
       "      <td>-1.174862</td>\n",
       "      <td>0.519812</td>\n",
       "      <td>0.972960</td>\n",
       "      <td>-1.083816</td>\n",
       "    </tr>\n",
       "    <tr>\n",
       "      <th>Albany,GA</th>\n",
       "      <td>-0.585494</td>\n",
       "      <td>0.422410</td>\n",
       "      <td>-0.566039</td>\n",
       "      <td>-0.025046</td>\n",
       "      <td>-1.157047</td>\n",
       "      <td>-0.794555</td>\n",
       "      <td>-0.627683</td>\n",
       "      <td>-1.221651</td>\n",
       "      <td>-0.253917</td>\n",
       "    </tr>\n",
       "    <tr>\n",
       "      <th>Albany-Schenectady-Troy,NY</th>\n",
       "      <td>-0.519273</td>\n",
       "      <td>0.183862</td>\n",
       "      <td>0.244527</td>\n",
       "      <td>0.982922</td>\n",
       "      <td>1.841894</td>\n",
       "      <td>1.820839</td>\n",
       "      <td>0.324003</td>\n",
       "      <td>-0.283402</td>\n",
       "      <td>0.312259</td>\n",
       "    </tr>\n",
       "    <tr>\n",
       "      <th>Albuquerque,NM</th>\n",
       "      <td>0.995524</td>\n",
       "      <td>-0.019470</td>\n",
       "      <td>0.665264</td>\n",
       "      <td>-1.461400</td>\n",
       "      <td>1.617938</td>\n",
       "      <td>0.658096</td>\n",
       "      <td>0.289753</td>\n",
       "      <td>0.948204</td>\n",
       "      <td>0.185930</td>\n",
       "    </tr>\n",
       "  </tbody>\n",
       "</table>\n",
       "</div>"
      ],
      "text/plain": [
       "                            Clima y Terreno  Alojamiento  \\\n",
       "Ciudad                                                     \n",
       "Abilene,TX                        -0.146782     0.899926   \n",
       "Akron,OH                           0.300207     0.087437   \n",
       "Albany,GA                         -0.585494     0.422410   \n",
       "Albany-Schenectady-Troy,NY        -0.519273     0.183862   \n",
       "Albuquerque,NM                     0.995524    -0.019470   \n",
       "\n",
       "                            Cuidado de la salud y el medio ambiente    Crimen  \\\n",
       "Ciudad                                                                          \n",
       "Abilene,TX                                                -0.945899  0.106550   \n",
       "Akron,OH                                                   0.468854  0.210147   \n",
       "Albany,GA                                                 -0.566039 -0.025046   \n",
       "Albany-Schenectady-Troy,NY                                 0.244527  0.982922   \n",
       "Albuquerque,NM                                             0.665264 -1.461400   \n",
       "\n",
       "                            Transporte  Educación     Artes  Recreación  \\\n",
       "Ciudad                                                                    \n",
       "Abilene,TX                   -0.123405  -0.180451 -0.464186   -0.545815   \n",
       "Akron,OH                      0.463704  -1.174862  0.519812    0.972960   \n",
       "Albany,GA                    -1.157047  -0.794555 -0.627683   -1.221651   \n",
       "Albany-Schenectady-Troy,NY    1.841894   1.820839  0.324003   -0.283402   \n",
       "Albuquerque,NM                1.617938   0.658096  0.289753    0.948204   \n",
       "\n",
       "                            Economía  \n",
       "Ciudad                                \n",
       "Abilene,TX                  1.943473  \n",
       "Akron,OH                   -1.083816  \n",
       "Albany,GA                  -0.253917  \n",
       "Albany-Schenectady-Troy,NY  0.312259  \n",
       "Albuquerque,NM              0.185930  "
      ]
     },
     "execution_count": 28,
     "metadata": {},
     "output_type": "execute_result"
    }
   ],
   "source": [
    "# Estandarizamos la base de datos para poder aplicar PCA\n",
    "# Guardamos los datos originales en el dataframe \"df_original\", de aqui en adelante \"df\" será el dataframe estandarizado.\n",
    "df_original = df \n",
    "mu = df.mean()\n",
    "sigma = df.std()\n",
    "df = (df - mu)/sigma\n",
    "df.head()"
   ]
  },
  {
   "cell_type": "code",
   "execution_count": 58,
   "id": "eb6f56de",
   "metadata": {},
   "outputs": [
    {
     "data": {
      "application/vnd.microsoft.datawrangler.viewer.v0+json": {
       "columns": [
        {
         "name": "index",
         "rawType": "object",
         "type": "string"
        },
        {
         "name": "Clima y Terreno",
         "rawType": "float64",
         "type": "float"
        },
        {
         "name": "Alojamiento",
         "rawType": "float64",
         "type": "float"
        },
        {
         "name": "Cuidado de la salud y el medio ambiente",
         "rawType": "float64",
         "type": "float"
        },
        {
         "name": "Crimen",
         "rawType": "float64",
         "type": "float"
        },
        {
         "name": "Transporte",
         "rawType": "float64",
         "type": "float"
        },
        {
         "name": "Educación",
         "rawType": "float64",
         "type": "float"
        },
        {
         "name": "Artes",
         "rawType": "float64",
         "type": "float"
        },
        {
         "name": "Recreación",
         "rawType": "float64",
         "type": "float"
        },
        {
         "name": "Economía",
         "rawType": "float64",
         "type": "float"
        }
       ],
       "conversionMethod": "pd.DataFrame",
       "ref": "aeb8be1b-efe2-4f9d-ae35-9dcef2e8b330",
       "rows": [
        [
         "Clima y Terreno",
         "1.0",
         "-0.38629069736726845",
         "0.21330253901220864",
         "-0.19238730758424244",
         "0.07911993262106172",
         "0.06451976231452626",
         "0.22697419923965206",
         "0.21350902774946764",
         "-0.1000827407398888"
        ],
        [
         "Alojamiento",
         "-0.38629069736726845",
         "1.0",
         "-0.45300967804151593",
         "0.1342216623339066",
         "-0.2719215018204354",
         "-0.19793385848747141",
         "-0.4485677653415427",
         "-0.4222883774416567",
         "-0.26943277229650864"
        ],
        [
         "Cuidado de la salud y el medio ambiente",
         "0.21330253901220864",
         "-0.45300967804151593",
         "1.0000000000000002",
         "-0.3046594251012436",
         "0.4703170667848226",
         "0.49023402922348286",
         "0.8657960419746763",
         "0.3253969531875086",
         "0.06927073681199697"
        ],
        [
         "Crimen",
         "-0.19238730758424244",
         "0.1342216623339066",
         "-0.3046594251012436",
         "0.9999999999999997",
         "-0.2865784300364281",
         "-0.07441626593581199",
         "-0.38948260780250127",
         "-0.3446265444380064",
         "-0.25999471003091335"
        ],
        [
         "Transporte",
         "0.07911993262106172",
         "-0.2719215018204354",
         "0.4703170667848226",
         "-0.2865784300364281",
         "1.0",
         "0.33599249588704333",
         "0.4648055657247593",
         "0.36471624448334033",
         "0.059246753499399424"
        ]
       ],
       "shape": {
        "columns": 9,
        "rows": 5
       }
      },
      "text/html": [
       "<div>\n",
       "<style scoped>\n",
       "    .dataframe tbody tr th:only-of-type {\n",
       "        vertical-align: middle;\n",
       "    }\n",
       "\n",
       "    .dataframe tbody tr th {\n",
       "        vertical-align: top;\n",
       "    }\n",
       "\n",
       "    .dataframe thead th {\n",
       "        text-align: right;\n",
       "    }\n",
       "</style>\n",
       "<table border=\"1\" class=\"dataframe\">\n",
       "  <thead>\n",
       "    <tr style=\"text-align: right;\">\n",
       "      <th></th>\n",
       "      <th>Clima y Terreno</th>\n",
       "      <th>Alojamiento</th>\n",
       "      <th>Cuidado de la salud y el medio ambiente</th>\n",
       "      <th>Crimen</th>\n",
       "      <th>Transporte</th>\n",
       "      <th>Educación</th>\n",
       "      <th>Artes</th>\n",
       "      <th>Recreación</th>\n",
       "      <th>Economía</th>\n",
       "    </tr>\n",
       "  </thead>\n",
       "  <tbody>\n",
       "    <tr>\n",
       "      <th>Clima y Terreno</th>\n",
       "      <td>1.000000</td>\n",
       "      <td>-0.386291</td>\n",
       "      <td>0.213303</td>\n",
       "      <td>-0.192387</td>\n",
       "      <td>0.079120</td>\n",
       "      <td>0.064520</td>\n",
       "      <td>0.226974</td>\n",
       "      <td>0.213509</td>\n",
       "      <td>-0.100083</td>\n",
       "    </tr>\n",
       "    <tr>\n",
       "      <th>Alojamiento</th>\n",
       "      <td>-0.386291</td>\n",
       "      <td>1.000000</td>\n",
       "      <td>-0.453010</td>\n",
       "      <td>0.134222</td>\n",
       "      <td>-0.271922</td>\n",
       "      <td>-0.197934</td>\n",
       "      <td>-0.448568</td>\n",
       "      <td>-0.422288</td>\n",
       "      <td>-0.269433</td>\n",
       "    </tr>\n",
       "    <tr>\n",
       "      <th>Cuidado de la salud y el medio ambiente</th>\n",
       "      <td>0.213303</td>\n",
       "      <td>-0.453010</td>\n",
       "      <td>1.000000</td>\n",
       "      <td>-0.304659</td>\n",
       "      <td>0.470317</td>\n",
       "      <td>0.490234</td>\n",
       "      <td>0.865796</td>\n",
       "      <td>0.325397</td>\n",
       "      <td>0.069271</td>\n",
       "    </tr>\n",
       "    <tr>\n",
       "      <th>Crimen</th>\n",
       "      <td>-0.192387</td>\n",
       "      <td>0.134222</td>\n",
       "      <td>-0.304659</td>\n",
       "      <td>1.000000</td>\n",
       "      <td>-0.286578</td>\n",
       "      <td>-0.074416</td>\n",
       "      <td>-0.389483</td>\n",
       "      <td>-0.344627</td>\n",
       "      <td>-0.259995</td>\n",
       "    </tr>\n",
       "    <tr>\n",
       "      <th>Transporte</th>\n",
       "      <td>0.079120</td>\n",
       "      <td>-0.271922</td>\n",
       "      <td>0.470317</td>\n",
       "      <td>-0.286578</td>\n",
       "      <td>1.000000</td>\n",
       "      <td>0.335992</td>\n",
       "      <td>0.464806</td>\n",
       "      <td>0.364716</td>\n",
       "      <td>0.059247</td>\n",
       "    </tr>\n",
       "  </tbody>\n",
       "</table>\n",
       "</div>"
      ],
      "text/plain": [
       "                                         Clima y Terreno  Alojamiento  \\\n",
       "Clima y Terreno                                 1.000000    -0.386291   \n",
       "Alojamiento                                    -0.386291     1.000000   \n",
       "Cuidado de la salud y el medio ambiente         0.213303    -0.453010   \n",
       "Crimen                                         -0.192387     0.134222   \n",
       "Transporte                                      0.079120    -0.271922   \n",
       "\n",
       "                                         Cuidado de la salud y el medio ambiente  \\\n",
       "Clima y Terreno                                                         0.213303   \n",
       "Alojamiento                                                            -0.453010   \n",
       "Cuidado de la salud y el medio ambiente                                 1.000000   \n",
       "Crimen                                                                 -0.304659   \n",
       "Transporte                                                              0.470317   \n",
       "\n",
       "                                           Crimen  Transporte  Educación  \\\n",
       "Clima y Terreno                         -0.192387    0.079120   0.064520   \n",
       "Alojamiento                              0.134222   -0.271922  -0.197934   \n",
       "Cuidado de la salud y el medio ambiente -0.304659    0.470317   0.490234   \n",
       "Crimen                                   1.000000   -0.286578  -0.074416   \n",
       "Transporte                              -0.286578    1.000000   0.335992   \n",
       "\n",
       "                                            Artes  Recreación  Economía  \n",
       "Clima y Terreno                          0.226974    0.213509 -0.100083  \n",
       "Alojamiento                             -0.448568   -0.422288 -0.269433  \n",
       "Cuidado de la salud y el medio ambiente  0.865796    0.325397  0.069271  \n",
       "Crimen                                  -0.389483   -0.344627 -0.259995  \n",
       "Transporte                               0.464806    0.364716  0.059247  "
      ]
     },
     "execution_count": 58,
     "metadata": {},
     "output_type": "execute_result"
    }
   ],
   "source": [
    "# Hallamos la matriz de Covarianzas\n",
    "S = df.cov()\n",
    "S.head()"
   ]
  },
  {
   "cell_type": "code",
   "execution_count": 72,
   "id": "a854c152",
   "metadata": {},
   "outputs": [
    {
     "data": {
      "text/plain": [
       "array([3.4082918 , 1.21397617, 1.14147915, 0.92091782, 0.75328488,\n",
       "       0.6305619 , 0.49304772, 0.31803849, 0.12040208])"
      ]
     },
     "execution_count": 72,
     "metadata": {},
     "output_type": "execute_result"
    }
   ],
   "source": [
    "# Hallamos los eigenvalores y eigenvectores\n",
    "eig_val, eig_vec = np.linalg.eig(S)\n",
    "eig_val"
   ]
  },
  {
   "cell_type": "code",
   "execution_count": 73,
   "id": "7ce4a09b",
   "metadata": {},
   "outputs": [
    {
     "data": {
      "text/plain": [
       "array([[ 0.21, -0.36,  0.46, -0.28,  0.35,  0.28,  0.46,  0.33,  0.14],\n",
       "       [-0.22,  0.25,  0.3 ,  0.36,  0.18,  0.48,  0.19, -0.38, -0.47],\n",
       "       [ 0.69, -0.21,  0.01,  0.19, -0.15, -0.23,  0.03,  0.05, -0.61],\n",
       "       [-0.14,  0.51, -0.01, -0.54,  0.3 , -0.34,  0.1 ,  0.19, -0.42],\n",
       "       [-0.37, -0.23, -0.1 ,  0.52,  0.4 , -0.21, -0.11,  0.53, -0.16],\n",
       "       [-0.37, -0.14,  0.37,  0.08, -0.47, -0.5 ,  0.46, -0.09, -0.03],\n",
       "       [ 0.08, -0.23, -0.01,  0.02,  0.58, -0.43,  0.02, -0.63,  0.15],\n",
       "       [ 0.36,  0.61,  0.19,  0.43,  0.09, -0.19,  0.2 ,  0.15,  0.4 ],\n",
       "       [ 0.  , -0.01, -0.72,  0.06,  0.  ,  0.11,  0.69, -0.03,  0.  ]])"
      ]
     },
     "execution_count": 73,
     "metadata": {},
     "output_type": "execute_result"
    }
   ],
   "source": [
    "# Almacenamos la traspuesta del eigenvector\n",
    "eig_vec=eig_vec.T\n",
    "eig_vec.round(2)"
   ]
  },
  {
   "cell_type": "code",
   "execution_count": 76,
   "id": "93a7eaf0",
   "metadata": {},
   "outputs": [
    {
     "data": {
      "application/vnd.microsoft.datawrangler.viewer.v0+json": {
       "columns": [
        {
         "name": "Ciudad",
         "rawType": "object",
         "type": "string"
        },
        {
         "name": "CP1",
         "rawType": "float64",
         "type": "float"
        },
        {
         "name": "CP2",
         "rawType": "float64",
         "type": "float"
        },
        {
         "name": "CP3",
         "rawType": "float64",
         "type": "float"
        },
        {
         "name": "CP4",
         "rawType": "float64",
         "type": "float"
        },
        {
         "name": "CP5",
         "rawType": "float64",
         "type": "float"
        },
        {
         "name": "CP6",
         "rawType": "float64",
         "type": "float"
        },
        {
         "name": "CP7",
         "rawType": "float64",
         "type": "float"
        },
        {
         "name": "CP8",
         "rawType": "float64",
         "type": "float"
        },
        {
         "name": "CP9",
         "rawType": "float64",
         "type": "float"
        }
       ],
       "conversionMethod": "pd.DataFrame",
       "ref": "722edb16-20a3-4754-b4c4-e239b3fc7afa",
       "rows": [
        [
         "Abilene,TX",
         "-1.0401799169201325",
         "-0.8937689683841137",
         "-1.4366540694246401",
         "-0.5098341285978765",
         "-0.5651364730283017",
         "-0.4978542424158881",
         "0.42375134057394886",
         "1.0017756962165558",
         "0.3474043930932338"
        ],
        [
         "Akron,OH",
         "0.4398135959626821",
         "-0.07506617690209194",
         "1.1547165397943138",
         "1.1122071848472128",
         "0.9968837558371311",
         "0.6285465112870525",
         "0.01189487970220418",
         "0.4187457755719665",
         "-0.12168547618628214"
        ],
        [
         "Albany,GA",
         "-1.8755392598385339",
         "-0.06979169219143941",
         "-0.07334675646808331",
         "0.04623162212059241",
         "-0.6795243693323366",
         "0.7140967208679152",
         "0.23949403198500419",
         "-0.4418969610232922",
         "-0.0942008814435908"
        ],
        [
         "Albany-Schenectady-Troy,NY",
         "0.910741419051071",
         "1.8175821509151684",
         "-1.0961471967976673",
         "-0.5735807887774023",
         "0.7690799972933464",
         "-1.271236523830442",
         "0.45871617928585123",
         "0.3714961897109603",
         "0.3172765959888686"
        ],
        [
         "Albuquerque,NM",
         "2.1492475360920937",
         "-0.32885807862641536",
         "-0.01973835038757095",
         "1.0315015405020007",
         "-0.23854979376489502",
         "-1.2842240116409995",
         "0.15454404027451163",
         "0.148264109568305",
         "-0.30715341331707324"
        ]
       ],
       "shape": {
        "columns": 9,
        "rows": 5
       }
      },
      "text/html": [
       "<div>\n",
       "<style scoped>\n",
       "    .dataframe tbody tr th:only-of-type {\n",
       "        vertical-align: middle;\n",
       "    }\n",
       "\n",
       "    .dataframe tbody tr th {\n",
       "        vertical-align: top;\n",
       "    }\n",
       "\n",
       "    .dataframe thead th {\n",
       "        text-align: right;\n",
       "    }\n",
       "</style>\n",
       "<table border=\"1\" class=\"dataframe\">\n",
       "  <thead>\n",
       "    <tr style=\"text-align: right;\">\n",
       "      <th></th>\n",
       "      <th>CP1</th>\n",
       "      <th>CP2</th>\n",
       "      <th>CP3</th>\n",
       "      <th>CP4</th>\n",
       "      <th>CP5</th>\n",
       "      <th>CP6</th>\n",
       "      <th>CP7</th>\n",
       "      <th>CP8</th>\n",
       "      <th>CP9</th>\n",
       "    </tr>\n",
       "    <tr>\n",
       "      <th>Ciudad</th>\n",
       "      <th></th>\n",
       "      <th></th>\n",
       "      <th></th>\n",
       "      <th></th>\n",
       "      <th></th>\n",
       "      <th></th>\n",
       "      <th></th>\n",
       "      <th></th>\n",
       "      <th></th>\n",
       "    </tr>\n",
       "  </thead>\n",
       "  <tbody>\n",
       "    <tr>\n",
       "      <th>Abilene,TX</th>\n",
       "      <td>-1.040180</td>\n",
       "      <td>-0.893769</td>\n",
       "      <td>-1.436654</td>\n",
       "      <td>-0.509834</td>\n",
       "      <td>-0.565136</td>\n",
       "      <td>-0.497854</td>\n",
       "      <td>0.423751</td>\n",
       "      <td>1.001776</td>\n",
       "      <td>0.347404</td>\n",
       "    </tr>\n",
       "    <tr>\n",
       "      <th>Akron,OH</th>\n",
       "      <td>0.439814</td>\n",
       "      <td>-0.075066</td>\n",
       "      <td>1.154717</td>\n",
       "      <td>1.112207</td>\n",
       "      <td>0.996884</td>\n",
       "      <td>0.628547</td>\n",
       "      <td>0.011895</td>\n",
       "      <td>0.418746</td>\n",
       "      <td>-0.121685</td>\n",
       "    </tr>\n",
       "    <tr>\n",
       "      <th>Albany,GA</th>\n",
       "      <td>-1.875539</td>\n",
       "      <td>-0.069792</td>\n",
       "      <td>-0.073347</td>\n",
       "      <td>0.046232</td>\n",
       "      <td>-0.679524</td>\n",
       "      <td>0.714097</td>\n",
       "      <td>0.239494</td>\n",
       "      <td>-0.441897</td>\n",
       "      <td>-0.094201</td>\n",
       "    </tr>\n",
       "    <tr>\n",
       "      <th>Albany-Schenectady-Troy,NY</th>\n",
       "      <td>0.910741</td>\n",
       "      <td>1.817582</td>\n",
       "      <td>-1.096147</td>\n",
       "      <td>-0.573581</td>\n",
       "      <td>0.769080</td>\n",
       "      <td>-1.271237</td>\n",
       "      <td>0.458716</td>\n",
       "      <td>0.371496</td>\n",
       "      <td>0.317277</td>\n",
       "    </tr>\n",
       "    <tr>\n",
       "      <th>Albuquerque,NM</th>\n",
       "      <td>2.149248</td>\n",
       "      <td>-0.328858</td>\n",
       "      <td>-0.019738</td>\n",
       "      <td>1.031502</td>\n",
       "      <td>-0.238550</td>\n",
       "      <td>-1.284224</td>\n",
       "      <td>0.154544</td>\n",
       "      <td>0.148264</td>\n",
       "      <td>-0.307153</td>\n",
       "    </tr>\n",
       "  </tbody>\n",
       "</table>\n",
       "</div>"
      ],
      "text/plain": [
       "                                 CP1       CP2       CP3       CP4       CP5  \\\n",
       "Ciudad                                                                         \n",
       "Abilene,TX                 -1.040180 -0.893769 -1.436654 -0.509834 -0.565136   \n",
       "Akron,OH                    0.439814 -0.075066  1.154717  1.112207  0.996884   \n",
       "Albany,GA                  -1.875539 -0.069792 -0.073347  0.046232 -0.679524   \n",
       "Albany-Schenectady-Troy,NY  0.910741  1.817582 -1.096147 -0.573581  0.769080   \n",
       "Albuquerque,NM              2.149248 -0.328858 -0.019738  1.031502 -0.238550   \n",
       "\n",
       "                                 CP6       CP7       CP8       CP9  \n",
       "Ciudad                                                              \n",
       "Abilene,TX                 -0.497854  0.423751  1.001776  0.347404  \n",
       "Akron,OH                    0.628547  0.011895  0.418746 -0.121685  \n",
       "Albany,GA                   0.714097  0.239494 -0.441897 -0.094201  \n",
       "Albany-Schenectady-Troy,NY -1.271237  0.458716  0.371496  0.317277  \n",
       "Albuquerque,NM             -1.284224  0.154544  0.148264 -0.307153  "
      ]
     },
     "execution_count": 76,
     "metadata": {},
     "output_type": "execute_result"
    }
   ],
   "source": [
    "# Creamos un dataframe llamado f, en este almacenaremos las 9 componentes principales\n",
    "f = pd.DataFrame()\n",
    "for i in range(0,9):\n",
    "    eig_vec[[i]].round(2)\n",
    "    f[i]=df.dot(eig_vec[[i]].T) #calculamos f1\n",
    "\n",
    "f.columns = ['CP1','CP2','CP3','CP4','CP5','CP6','CP7','CP8','CP9'] # nombramos la columna del primer componente como CP1\n",
    "f.head()\n"
   ]
  },
  {
   "cell_type": "markdown",
   "id": "c91ad425",
   "metadata": {
    "id": "c91ad425"
   },
   "source": [
    "(Utilice este espacio para describir el procedimiento, análisis, y conclusiones)."
   ]
  },
  {
   "cell_type": "code",
   "execution_count": 33,
   "id": "6d9dc794",
   "metadata": {},
   "outputs": [
    {
     "data": {
      "image/png": "[encoded data removed]",
      "text/plain": [
       "<Figure size 640x480 with 1 Axes>"
      ]
     },
     "metadata": {},
     "output_type": "display_data"
    }
   ],
   "source": [
    "vector = np.sort(eig_val)[::-1]/sum(eig_val)\n",
    "\n",
    "# Graficar el vector\n",
    "plt.plot(vector)\n",
    "plt.title('Varianza explicada por cada Componente Principal')\n",
    "plt.xlabel('Componente Principal')\n",
    "plt.ylabel('Proporción de la varianza explicada')\n",
    "plt.show()"
   ]
  },
  {
   "cell_type": "code",
   "execution_count": 34,
   "id": "ded6f2c7",
   "metadata": {},
   "outputs": [
    {
     "data": {
      "text/plain": [
       "array([0.37869909, 0.13488624, 0.12683102, 0.1023242 , 0.08369832,\n",
       "       0.07006243, 0.05478308, 0.03533761, 0.01337801])"
      ]
     },
     "execution_count": 34,
     "metadata": {},
     "output_type": "execute_result"
    }
   ],
   "source": [
    "vectoracumulado = vector\n",
    "vectoracumulado"
   ]
  },
  {
   "cell_type": "code",
   "execution_count": 35,
   "id": "67f85761",
   "metadata": {},
   "outputs": [
    {
     "data": {
      "image/png": "[encoded data removed]",
      "text/plain": [
       "<Figure size 640x480 with 1 Axes>"
      ]
     },
     "metadata": {},
     "output_type": "display_data"
    }
   ],
   "source": [
    "for i in range(1,9):\n",
    "    vectoracumulado[i] = vectoracumulado[i] + vectoracumulado[i-1]\n",
    "\n",
    "# Graficar el vector\n",
    "x_values = np.arange(1, len(vector) + 1)\n",
    "plt.plot(x_values, vectoracumulado)\n",
    "plt.title('Varianza explicada acumulada por cada Componente Principal')\n",
    "plt.xlabel('Componente Principal')\n",
    "plt.ylabel('Proporción de la varianza explicada')\n",
    "plt.show()\n"
   ]
  },
  {
   "cell_type": "markdown",
   "id": "d5f6b49a",
   "metadata": {},
   "source": [
    "En nuestro análisis gráfico de la \"Varianza explicada por cada Componente Principal\" el codo no es tan fácil de escoger; sin embargo, en la explicación gráfica de \"Varianza explicada acumulada por cada Componente Principal\" vemos que con el 4to componente ya se explica mas del 70% de la varianza, teniendo en cuenta que la idea del PCA es reducir la dimensión y para este ejercicio ya usamos 9 variables, entre menos componentes escojamos, mas propósito tendrá el PCA, por lo que consideramos que con 4 componentes es suficiente."
   ]
  },
  {
   "cell_type": "markdown",
   "id": "101d1eb2",
   "metadata": {
    "id": "101d1eb2"
   },
   "source": [
    "### 4.  Interpretación de los componentes principales.\n",
    "\n",
    "Logró reducir la dimensión en el ejercicio anterior? Si lo hizo, pueden los pesos obtenidos identificar dimensiones menores de los datos? Provea una interpretación a estas dimensiones, para ello puede utilizar gráficas y/o tablas."
   ]
  },
  {
   "cell_type": "code",
   "execution_count": 86,
   "id": "bf4cac07",
   "metadata": {
    "id": "bf4cac07"
   },
   "outputs": [
    {
     "name": "stdout",
     "output_type": "stream",
     "text": [
      "                                              CP1       CP2       CP3  \\\n",
      "Clima y Terreno                          0.381072 -0.240012  0.737149   \n",
      "Alojamiento                             -0.658194  0.276139 -0.222411   \n",
      "Cuidado de la salud y el medio ambiente  0.849628  0.329953  0.007826   \n",
      "Crimen                                  -0.519321  0.391518  0.197766   \n",
      "Transporte                               0.648279  0.197889 -0.156388   \n",
      "Educación                                0.508233  0.532593 -0.245414   \n",
      "Artes                                    0.854871  0.214621  0.028296   \n",
      "Recreación                               0.605332 -0.423616  0.054331   \n",
      "Economía                                 0.249992 -0.519263 -0.648855   \n",
      "\n",
      "                                              CP4       CP5       CP6  \\\n",
      "Clima y Terreno                          -0.13178 -0.320393 -0.297466   \n",
      "Alojamiento                              0.491174 -0.202649 -0.112473   \n",
      "Cuidado de la salud y el medio ambiente -0.014109 -0.089604  0.296865   \n",
      "Crimen                                  -0.517297  0.454738   0.06426   \n",
      "Transporte                                0.29068  0.350942 -0.371305   \n",
      "Educación                               -0.321875 -0.181238 -0.398763   \n",
      "Artes                                    0.097001 -0.091216   0.36677   \n",
      "Recreación                               0.182141  0.459599   -0.0714   \n",
      "Economía                                -0.404749 -0.138537 -0.025893   \n",
      "\n",
      "                                              CP7       CP8       CP9  \n",
      "Clima y Terreno                          0.059478  0.204323  0.000483  \n",
      "Alojamiento                             -0.161948  0.346183 -0.004719  \n",
      "Cuidado de la salud y el medio ambiente -0.009737  0.104712 -0.248568  \n",
      "Crimen                                   0.013065  0.242512  0.020337  \n",
      "Transporte                               0.409642  0.052785  0.001259  \n",
      "Educación                               -0.299254 -0.106399   0.03846  \n",
      "Artes                                    0.015114   0.11504  0.237951  \n",
      "Recreación                              -0.440879  0.084928  -0.00885  \n",
      "Economía                                 0.105144  0.228292  0.000152  \n"
     ]
    }
   ],
   "source": [
    "# Calculamos la matriz de correlacion\n",
    "correlation_dataframe = pd.DataFrame(index=df.columns, columns=f.columns)\n",
    "\n",
    "for col1 in df.columns:\n",
    "    for col2 in f.columns:\n",
    "        correlation_dataframe.loc[col1, col2] = df[col1].corr(f[col2])\n",
    "\n",
    "print(correlation_dataframe)"
   ]
  },
  {
   "cell_type": "markdown",
   "id": "e8b20c4d",
   "metadata": {
    "id": "e8b20c4d"
   },
   "source": [
    "Si se logró reducir las dimensiones, pasamos de usar 9 variables a usar 4 componentes principales que explican mas del 70% de la varianza, como se puede apreciar en el código anterior, también se cálculo la correlación entre las variables originales y las componentes principales, la primeras componentes principales (especialmente la primera) está altamente correlacionadas con todas las variables lo que significa que agrupa en gran medida el comportamiento de las demás variables.\n",
    "\n",
    "A continuación vamos a analizar los \"loadings\" del primer componente:"
   ]
  },
  {
   "cell_type": "code",
   "execution_count": 87,
   "id": "63f3bdf1",
   "metadata": {},
   "outputs": [
    {
     "data": {
      "text/plain": [
       "array([ 0.20641395, -0.35652161,  0.46021465, -0.28129838,  0.35115078,\n",
       "        0.27529264,  0.46305449,  0.32788791,  0.13541225])"
      ]
     },
     "execution_count": 87,
     "metadata": {},
     "output_type": "execute_result"
    }
   ],
   "source": [
    "eig_vec[0]"
   ]
  },
  {
   "cell_type": "markdown",
   "id": "6c93792a",
   "metadata": {},
   "source": [
    "los loadings representan el peso que tiene cada variable original en la componente principal calculada por cada ciudad en promedio; por ejemplo, y haciendolo un poco análogo a la interpretación de una regresión, en promedio, para la primera componente principal, una unidad estandarizada de \"Clima y terreno\" aumenta en 0.20 el valor de la componente principal; con lo anterior podemos afirmar, que las variables más influyentes y correlacionadas positivamente son \"Cuidado de la salud\" y \"Artes\" con pesos cercados a 0.46; mientras que la más influyente y correlacionada negativamente es \"Alojamiento\" con -0.35\n",
    "\n",
    "El anterior análisis lo podríamos replicar con cualquier componente y sus loadings"
   ]
  },
  {
   "cell_type": "code",
   "execution_count": null,
   "id": "e20d7380",
   "metadata": {},
   "outputs": [
    {
     "data": {
      "application/vnd.microsoft.datawrangler.viewer.v0+json": {
       "columns": [
        {
         "name": "index",
         "rawType": "object",
         "type": "string"
        },
        {
         "name": "Clima y Terreno",
         "rawType": "float64",
         "type": "float"
        },
        {
         "name": "Alojamiento",
         "rawType": "float64",
         "type": "float"
        },
        {
         "name": "Cuidado de la salud y el medio ambiente",
         "rawType": "float64",
         "type": "float"
        },
        {
         "name": "Crimen",
         "rawType": "float64",
         "type": "float"
        },
        {
         "name": "Transporte",
         "rawType": "float64",
         "type": "float"
        },
        {
         "name": "Educación",
         "rawType": "float64",
         "type": "float"
        },
        {
         "name": "Artes",
         "rawType": "float64",
         "type": "float"
        },
        {
         "name": "Recreación",
         "rawType": "float64",
         "type": "float"
        },
        {
         "name": "Economía",
         "rawType": "float64",
         "type": "float"
        }
       ],
       "conversionMethod": "pd.DataFrame",
       "ref": "0a122372-dda0-4ad0-9987-aa35f418fa4b",
       "rows": [
        [
         "PC1",
         "0.2064139542015546",
         "-0.3565216076772153",
         "0.4602146470176633",
         "-0.28129838000387997",
         "0.3511507806412968",
         "0.2752926356568159",
         "0.4630544885856495",
         "0.3278879072078263",
         "0.13541225115704247"
        ],
        [
         "PC2",
         "-0.2178353083315009",
         "0.2506240001229812",
         "0.299465282209618",
         "0.3553422728193078",
         "0.1796044769507163",
         "0.4833820928780919",
         "0.19478991950631666",
         "-0.3844746379808697",
         "-0.47128327687013827"
        ],
        [
         "PC3",
         "0.6899559819307276",
         "-0.20817223006663194",
         "0.007324925503872495",
         "0.18510498107127094",
         "-0.14637628269134884",
         "-0.22970254818437902",
         "0.026484297940438717",
         "0.05085263998422175",
         "-0.6073144747726342"
        ],
        [
         "PC4",
         "0.13732124593479203",
         "-0.5118287076598821",
         "0.014701831984250346",
         "0.5390504725806404",
         "-0.3029037053712304",
         "0.33541103424448904",
         "-0.10108039064966498",
         "-0.189800815727021",
         "0.4217699395783382"
        ],
        [
         "PC5",
         "-0.3691499290061139",
         "-0.233487781160246",
         "-0.10324051815890058",
         "0.5239396872178806",
         "0.4043484753388862",
         "-0.20881905855404542",
         "-0.10509763676819109",
         "0.5295405755926715",
         "-0.15962005624106684"
        ],
        [
         "PC6",
         "0.3746046936045186",
         "0.14163982522421795",
         "-0.3738480373854908",
         "-0.08092328504686663",
         "0.4675918030806896",
         "0.5021698110577215",
         "-0.461880719073802",
         "0.08991578174586967",
         "0.03260813418545194"
        ],
        [
         "PC7",
         "-0.08470577406871935",
         "0.23063862440450883",
         "0.013867611522004684",
         "-0.01860645720461452",
         "-0.5833909701192203",
         "0.4261818604056535",
         "-0.02152515288176217",
         "0.6278778917248972",
         "-0.14974065778614815"
        ],
        [
         "PC8",
         "0.3623083297311771",
         "0.6138551312028869",
         "0.1856761195106976",
         "0.4300247651590906",
         "0.0935986618050844",
         "-0.1886675649124285",
         "0.20398969095945435",
         "0.1505959680264598",
         "0.40480925502186943"
        ],
        [
         "PC9",
         "-0.0013913514975395964",
         "0.013600340213022602",
         "0.7163548934512931",
         "-0.05860846136359873",
         "-0.00362945266237554",
         "-0.11084019108883485",
         "-0.6857582127232675",
         "0.0255062914518442",
         "-0.0004377942484012833"
        ]
       ],
       "shape": {
        "columns": 9,
        "rows": 9
       }
      },
      "text/html": [
       "<div>\n",
       "<style scoped>\n",
       "    .dataframe tbody tr th:only-of-type {\n",
       "        vertical-align: middle;\n",
       "    }\n",
       "\n",
       "    .dataframe tbody tr th {\n",
       "        vertical-align: top;\n",
       "    }\n",
       "\n",
       "    .dataframe thead th {\n",
       "        text-align: right;\n",
       "    }\n",
       "</style>\n",
       "<table border=\"1\" class=\"dataframe\">\n",
       "  <thead>\n",
       "    <tr style=\"text-align: right;\">\n",
       "      <th></th>\n",
       "      <th>Clima y Terreno</th>\n",
       "      <th>Alojamiento</th>\n",
       "      <th>Cuidado de la salud y el medio ambiente</th>\n",
       "      <th>Crimen</th>\n",
       "      <th>Transporte</th>\n",
       "      <th>Educación</th>\n",
       "      <th>Artes</th>\n",
       "      <th>Recreación</th>\n",
       "      <th>Economía</th>\n",
       "    </tr>\n",
       "  </thead>\n",
       "  <tbody>\n",
       "    <tr>\n",
       "      <th>PC1</th>\n",
       "      <td>0.206414</td>\n",
       "      <td>-0.356522</td>\n",
       "      <td>0.460215</td>\n",
       "      <td>-0.281298</td>\n",
       "      <td>0.351151</td>\n",
       "      <td>0.275293</td>\n",
       "      <td>0.463054</td>\n",
       "      <td>0.327888</td>\n",
       "      <td>0.135412</td>\n",
       "    </tr>\n",
       "    <tr>\n",
       "      <th>PC2</th>\n",
       "      <td>-0.217835</td>\n",
       "      <td>0.250624</td>\n",
       "      <td>0.299465</td>\n",
       "      <td>0.355342</td>\n",
       "      <td>0.179604</td>\n",
       "      <td>0.483382</td>\n",
       "      <td>0.194790</td>\n",
       "      <td>-0.384475</td>\n",
       "      <td>-0.471283</td>\n",
       "    </tr>\n",
       "    <tr>\n",
       "      <th>PC3</th>\n",
       "      <td>0.689956</td>\n",
       "      <td>-0.208172</td>\n",
       "      <td>0.007325</td>\n",
       "      <td>0.185105</td>\n",
       "      <td>-0.146376</td>\n",
       "      <td>-0.229703</td>\n",
       "      <td>0.026484</td>\n",
       "      <td>0.050853</td>\n",
       "      <td>-0.607314</td>\n",
       "    </tr>\n",
       "    <tr>\n",
       "      <th>PC4</th>\n",
       "      <td>0.137321</td>\n",
       "      <td>-0.511829</td>\n",
       "      <td>0.014702</td>\n",
       "      <td>0.539050</td>\n",
       "      <td>-0.302904</td>\n",
       "      <td>0.335411</td>\n",
       "      <td>-0.101080</td>\n",
       "      <td>-0.189801</td>\n",
       "      <td>0.421770</td>\n",
       "    </tr>\n",
       "    <tr>\n",
       "      <th>PC5</th>\n",
       "      <td>-0.369150</td>\n",
       "      <td>-0.233488</td>\n",
       "      <td>-0.103241</td>\n",
       "      <td>0.523940</td>\n",
       "      <td>0.404348</td>\n",
       "      <td>-0.208819</td>\n",
       "      <td>-0.105098</td>\n",
       "      <td>0.529541</td>\n",
       "      <td>-0.159620</td>\n",
       "    </tr>\n",
       "    <tr>\n",
       "      <th>PC6</th>\n",
       "      <td>0.374605</td>\n",
       "      <td>0.141640</td>\n",
       "      <td>-0.373848</td>\n",
       "      <td>-0.080923</td>\n",
       "      <td>0.467592</td>\n",
       "      <td>0.502170</td>\n",
       "      <td>-0.461881</td>\n",
       "      <td>0.089916</td>\n",
       "      <td>0.032608</td>\n",
       "    </tr>\n",
       "    <tr>\n",
       "      <th>PC7</th>\n",
       "      <td>-0.084706</td>\n",
       "      <td>0.230639</td>\n",
       "      <td>0.013868</td>\n",
       "      <td>-0.018606</td>\n",
       "      <td>-0.583391</td>\n",
       "      <td>0.426182</td>\n",
       "      <td>-0.021525</td>\n",
       "      <td>0.627878</td>\n",
       "      <td>-0.149741</td>\n",
       "    </tr>\n",
       "    <tr>\n",
       "      <th>PC8</th>\n",
       "      <td>0.362308</td>\n",
       "      <td>0.613855</td>\n",
       "      <td>0.185676</td>\n",
       "      <td>0.430025</td>\n",
       "      <td>0.093599</td>\n",
       "      <td>-0.188668</td>\n",
       "      <td>0.203990</td>\n",
       "      <td>0.150596</td>\n",
       "      <td>0.404809</td>\n",
       "    </tr>\n",
       "    <tr>\n",
       "      <th>PC9</th>\n",
       "      <td>-0.001391</td>\n",
       "      <td>0.013600</td>\n",
       "      <td>0.716355</td>\n",
       "      <td>-0.058608</td>\n",
       "      <td>-0.003629</td>\n",
       "      <td>-0.110840</td>\n",
       "      <td>-0.685758</td>\n",
       "      <td>0.025506</td>\n",
       "      <td>-0.000438</td>\n",
       "    </tr>\n",
       "  </tbody>\n",
       "</table>\n",
       "</div>"
      ],
      "text/plain": [
       "     Clima y Terreno  Alojamiento  Cuidado de la salud y el medio ambiente  \\\n",
       "PC1         0.206414    -0.356522                                 0.460215   \n",
       "PC2        -0.217835     0.250624                                 0.299465   \n",
       "PC3         0.689956    -0.208172                                 0.007325   \n",
       "PC4         0.137321    -0.511829                                 0.014702   \n",
       "PC5        -0.369150    -0.233488                                -0.103241   \n",
       "PC6         0.374605     0.141640                                -0.373848   \n",
       "PC7        -0.084706     0.230639                                 0.013868   \n",
       "PC8         0.362308     0.613855                                 0.185676   \n",
       "PC9        -0.001391     0.013600                                 0.716355   \n",
       "\n",
       "       Crimen  Transporte  Educación     Artes  Recreación  Economía  \n",
       "PC1 -0.281298    0.351151   0.275293  0.463054    0.327888  0.135412  \n",
       "PC2  0.355342    0.179604   0.483382  0.194790   -0.384475 -0.471283  \n",
       "PC3  0.185105   -0.146376  -0.229703  0.026484    0.050853 -0.607314  \n",
       "PC4  0.539050   -0.302904   0.335411 -0.101080   -0.189801  0.421770  \n",
       "PC5  0.523940    0.404348  -0.208819 -0.105098    0.529541 -0.159620  \n",
       "PC6 -0.080923    0.467592   0.502170 -0.461881    0.089916  0.032608  \n",
       "PC7 -0.018606   -0.583391   0.426182 -0.021525    0.627878 -0.149741  \n",
       "PC8  0.430025    0.093599  -0.188668  0.203990    0.150596  0.404809  \n",
       "PC9 -0.058608   -0.003629  -0.110840 -0.685758    0.025506 -0.000438  "
      ]
     },
     "execution_count": 88,
     "metadata": {},
     "output_type": "execute_result"
    }
   ],
   "source": [
    "#from pca import pca\n",
    "#model = pca(n_components=9)\n",
    "#gasto_pca = model.fit_transform(df, verbose=False)\n",
    "#gasto_pca['loadings']\n",
    "#gasto_pca['PC']\n"
   ]
  },
  {
   "cell_type": "markdown",
   "id": "76ad13f0",
   "metadata": {
    "id": "76ad13f0"
   },
   "source": [
    "### 5.   Detección de ciudades inusuales.\n",
    "\n",
    "A partir de los Componentes Principales identifique las 5 ciudades calidad de vida inusualmente alta. En la distribución de calidad de vida  de la muestra que tan inusuales son? Cuáles son las dimensiones que hacen que estas ciudades tengan esta calidad de vida inusual?"
   ]
  },
  {
   "cell_type": "code",
   "execution_count": 109,
   "id": "bbf2c11b",
   "metadata": {
    "id": "bbf2c11b"
   },
   "outputs": [
    {
     "data": {
      "application/vnd.microsoft.datawrangler.viewer.v0+json": {
       "columns": [
        {
         "name": "Ciudad",
         "rawType": "object",
         "type": "string"
        },
        {
         "name": "CP1",
         "rawType": "float64",
         "type": "float"
        },
        {
         "name": "CP2",
         "rawType": "float64",
         "type": "float"
        },
        {
         "name": "CP3",
         "rawType": "float64",
         "type": "float"
        },
        {
         "name": "CP4",
         "rawType": "float64",
         "type": "float"
        },
        {
         "name": "CP5",
         "rawType": "float64",
         "type": "float"
        },
        {
         "name": "CP6",
         "rawType": "float64",
         "type": "float"
        },
        {
         "name": "CP7",
         "rawType": "float64",
         "type": "float"
        },
        {
         "name": "CP8",
         "rawType": "float64",
         "type": "float"
        },
        {
         "name": "CP9",
         "rawType": "float64",
         "type": "float"
        },
        {
         "name": "suma_componentes",
         "rawType": "float64",
         "type": "float"
        }
       ],
       "conversionMethod": "pd.DataFrame",
       "ref": "c7a9db3b-f29d-49a1-b3ae-6ab271342810",
       "rows": [
        [
         "Abilene,TX",
         "-1.0401799169201325",
         "-0.8937689683841137",
         "-1.4366540694246401",
         "-0.5098341285978765",
         "-0.5651364730283017",
         "-0.4978542424158881",
         "0.42375134057394886",
         "1.0017756962165558",
         "0.3474043930932338",
         "-3.8804370833267625"
        ],
        [
         "Akron,OH",
         "0.4398135959626821",
         "-0.07506617690209194",
         "1.1547165397943138",
         "1.1122071848472128",
         "0.9968837558371311",
         "0.6285465112870525",
         "0.01189487970220418",
         "0.4187457755719665",
         "-0.12168547618628214",
         "2.6316711437021167"
        ],
        [
         "Albany,GA",
         "-1.8755392598385339",
         "-0.06979169219143941",
         "-0.07334675646808331",
         "0.04623162212059241",
         "-0.6795243693323366",
         "0.7140967208679152",
         "0.23949403198500419",
         "-0.4418969610232922",
         "-0.0942008814435908",
         "-1.972446086377464"
        ],
        [
         "Albany-Schenectady-Troy,NY",
         "0.910741419051071",
         "1.8175821509151684",
         "-1.0961471967976673",
         "-0.5735807887774023",
         "0.7690799972933464",
         "-1.271236523830442",
         "0.45871617928585123",
         "0.3714961897109603",
         "0.3172765959888686",
         "1.0585955843911696"
        ],
        [
         "Albuquerque,NM",
         "2.1492475360920937",
         "-0.32885807862641536",
         "-0.01973835038757095",
         "1.0315015405020007",
         "-0.23854979376489502",
         "-1.2842240116409995",
         "0.15454404027451163",
         "0.148264109568305",
         "-0.30715341331707324",
         "2.832152647580108"
        ],
        [
         "Alexandria,LA",
         "-1.7879611007818668",
         "0.7812016710135022",
         "-0.06083498500188597",
         "-0.4648186480498088",
         "-0.8239929322709707",
         "-0.09922526312279957",
         "-0.5635621223455266",
         "0.18935585290453116",
         "0.07334151403127318",
         "-1.5324130628200594"
        ],
        [
         "Allentown,Bethlehem,PA-NJ",
         "-1.0554483629083267",
         "1.0759557980238097",
         "0.4259539611041039",
         "-1.3209259204256238",
         "-0.334512050840902",
         "-0.24983142149827228",
         "-0.4283001697723099",
         "-0.10142909297515976",
         "0.4890170885272379",
         "-0.8744645242060369"
        ],
        [
         "Alton,Granite-City,IL",
         "-0.6483210220751683",
         "0.7594404445424563",
         "-0.4080465874483872",
         "-0.23116297172602823",
         "-0.024397278019362992",
         "-0.690347857021139",
         "0.4393347113074535",
         "0.6344483211644448",
         "0.007942600056245001",
         "-0.5280901367071273"
        ],
        [
         "Altoona,PA",
         "-1.804240224187903",
         "1.213476401917168",
         "0.9165071462261583",
         "-0.06261359505522057",
         "0.4964369837253805",
         "-0.4827624474162901",
         "0.21230546353979646",
         "0.45344615095020174",
         "0.19779375951366354",
         "0.2631297289002027"
        ],
        [
         "Amarillo,TX",
         "-0.4995669649009208",
         "-0.10228602671780859",
         "-0.3720736793208985",
         "0.09546688328958763",
         "-0.8783725059489018",
         "-0.9539324964300082",
         "0.768014846521867",
         "0.5120411252017371",
         "0.09632794865673114",
         "-0.8784597876500403"
        ],
        [
         "Anaheim-Santa-Ana,CA",
         "2.973047786477225",
         "-2.0152753943068995",
         "2.3577097808291865",
         "-2.016339570986875",
         "0.1877388947509563",
         "-0.1899344397102084",
         "-0.0764010470135525",
         "-0.2348558697838064",
         "-0.22061257004714332",
         "1.2991426020126369"
        ],
        [
         "Anchorage,AK",
         "0.44770531649095224",
         "-2.226825803936242",
         "-2.7026712755107654",
         "-0.0035482895173610807",
         "2.0667032965158674",
         "1.0866464607728823",
         "0.40555414189506556",
         "-1.1676198586872197",
         "0.10173339084233934",
         "-4.485340052473417"
        ],
        [
         "Anderson,IN",
         "-2.3251734987935446",
         "0.8097023812306914",
         "1.2695267539345756",
         "1.083594618174277",
         "-0.4792699554219167",
         "0.5443388103057345",
         "0.14298871606638425",
         "-0.35358387472417463",
         "-0.06276513247107132",
         "0.8376502545459994"
        ],
        [
         "Anderson,SC",
         "-1.8154716871975416",
         "0.8181536195327667",
         "0.855013833552426",
         "0.3973889714911623",
         "-1.3447335647653393",
         "-0.027241062777026925",
         "0.010178379016635403",
         "-0.15724850691086967",
         "-0.17606501200285957",
         "0.2550847373788134"
        ],
        [
         "Ann-Arbor,MI",
         "1.8699431599542036",
         "1.0859874353435388",
         "0.5100809573573639",
         "-0.5897410055872179",
         "-0.2856284672069811",
         "0.4415241696588289",
         "-1.232555757118185",
         "-0.9871043558637694",
         "-0.1280708586536386",
         "2.876270547067888"
        ],
        [
         "Anniston,AL",
         "-2.0060289331409966",
         "-0.6188154454426082",
         "0.7375681984662332",
         "1.3353123235851942",
         "-0.7002503257312387",
         "0.6767014852788671",
         "0.5137386672740244",
         "0.22527177126420428",
         "-0.2467856186424094",
         "-0.5519638565321774"
        ],
        [
         "Appleton-Oshkosh-Neenah,WI",
         "-1.0539516340225115",
         "0.36851449881134835",
         "-0.4031678212394535",
         "-0.4464341840027625",
         "1.1823111396600257",
         "0.388183434819998",
         "-0.9315373448743343",
         "-0.01668491470247864",
         "0.01882557249662127",
         "-1.5350391404533792"
        ],
        [
         "Asheville,NC",
         "-0.25810626746978094",
         "0.8754437800241797",
         "0.8913924641678103",
         "-0.4063102846743658",
         "-0.036650688968375394",
         "-1.1693282438382462",
         "0.2741924353547975",
         "1.0593467606875342",
         "-0.14350058938712365",
         "1.1024196920478433"
        ],
        [
         "Athens,GA",
         "-1.4867907943709853",
         "-0.06527033294881726",
         "0.7139992448421895",
         "-0.12269873578736573",
         "-1.3084639217132943",
         "0.6615312542218064",
         "-0.2122802592625209",
         "0.22300773573423405",
         "0.43134331642144813",
         "-0.9607606182649788"
        ],
        [
         "Atlanta,GA",
         "3.0250091598281905",
         "0.9309766611881027",
         "-0.31404217361007875",
         "0.62045602349269",
         "-0.7202041545788358",
         "-1.0824281640867073",
         "1.9334151885274315",
         "0.960408755648379",
         "-0.7294112469733965",
         "4.262399670898905"
        ],
        [
         "Atlantic-City,NJ",
         "1.3691383779344481",
         "-3.0489754270182052",
         "-1.227089518438187",
         "-0.3917039938826121",
         "-1.2669646301754136",
         "-0.8803115518936767",
         "-0.4650943496220141",
         "-0.7743476345279902",
         "-0.10431547668580303",
         "-3.298630561404556"
        ],
        [
         "Augusta,GA-SC",
         "-1.0269984361970796",
         "0.8345920434437173",
         "-0.07510867832489859",
         "-0.3822495684545974",
         "-1.204280312089524",
         "0.4252935095668602",
         "-0.3147396631545269",
         "0.2658459081811756",
         "-0.6854368687300613",
         "-0.6497646395328583"
        ],
        [
         "Aurora-Elgin,IL",
         "-0.4956006088451325",
         "-0.6627356544022829",
         "0.5833553116770425",
         "0.1747222983701326",
         "0.9384964319034202",
         "1.484207001046359",
         "0.8374164317589654",
         "-0.34438828965389745",
         "-0.0832479092214974",
         "-0.4002586532002404"
        ],
        [
         "Austin,TX",
         "0.0024515474013400707",
         "-0.13140130486956803",
         "-1.8302323410029175",
         "-1.0997359519316232",
         "-0.8798192014326345",
         "0.21453610905018683",
         "0.31131840765895447",
         "-0.13193203804213027",
         "0.7109508781077364",
         "-3.0589180504027684"
        ],
        [
         "Bakersfield,CA",
         "-0.4557590518103889",
         "-1.45194590961429",
         "-0.3164655016104936",
         "0.7997105380987115",
         "-1.082017032246743",
         "-0.13172715029234888",
         "0.38596043017921966",
         "-0.5508660162848142",
         "0.08326051506817166",
         "-1.424459924936461"
        ],
        [
         "Baltimore,MD",
         "4.2973588234005735",
         "0.9680198887549107",
         "-0.8235468853467625",
         "1.309209665629385",
         "-0.3571230650140862",
         "-0.8441833363502156",
         "-0.3737964244633651",
         "-0.3027908924206498",
         "-0.6373902045215184",
         "5.751041492438107"
        ],
        [
         "Bangor,ME",
         "-0.3352782861203284",
         "0.7723509524707303",
         "-0.45316112715302204",
         "0.21872595291802213",
         "1.2495157133986872",
         "-0.6489434397276979",
         "-0.026319611930911195",
         "0.2043867616607736",
         "0.1977920874369702",
         "0.20263749211540197"
        ],
        [
         "Baton-Rouge,LA",
         "-0.4789981236615735",
         "-1.092235846279493",
         "-1.221958743903826",
         "0.7291854108585789",
         "-1.0354857420754855",
         "0.5776962738047051",
         "0.21074367239736685",
         "-0.842494773420692",
         "0.610778956205361",
         "-2.0640073029863135"
        ],
        [
         "Battle-Creek,MI",
         "-1.1223522859588742",
         "0.2677294227124354",
         "0.734105454710961",
         "1.4752077827471946",
         "0.2625089411027799",
         "-0.03847653278577803",
         "0.34819769654808896",
         "-0.158923847485893",
         "-0.34005195292310797",
         "1.354690374211717"
        ],
        [
         "Beaumont-Port-Arthur,TX",
         "-0.9821732690750685",
         "-0.6330713237272734",
         "-1.1193550155770142",
         "0.658556383296607",
         "-0.7215044995684334",
         "0.3679988994439836",
         "-0.684424552716697",
         "-0.27899811453597034",
         "0.10931868126049522",
         "-2.076043225082749"
        ],
        [
         "Beaver-County,PA",
         "-1.8307398048511803",
         "1.0811695729291835",
         "2.2034771761115177",
         "-0.08751536695859763",
         "0.7874942582589295",
         "0.6196437348554846",
         "-0.16213161163068424",
         "0.024690176212009085",
         "-0.02845363888927692",
         "1.3663915772309232"
        ],
        [
         "Bellingham,WA",
         "-0.07634808133648488",
         "-0.8415054046897508",
         "2.2550829012661002",
         "0.2701281684134491",
         "0.6030321129050434",
         "-1.1446453732916901",
         "-1.1809030754436443",
         "0.38050542515062635",
         "0.3701559646667019",
         "1.6073575836533136"
        ],
        [
         "Benton-Harbor,MI",
         "-1.511882598884714",
         "0.016200442366118173",
         "1.2284915895989015",
         "1.2727457001588927",
         "-0.5696155000651666",
         "0.1481208402839821",
         "-0.25845690787049924",
         "-0.7292404618586175",
         "-0.14572768450322593",
         "1.0055551332391983"
        ],
        [
         "Bergen-Passaic,NJ",
         "2.819651816633329",
         "1.0367095954023013",
         "-0.03790582030280143",
         "-2.607211774474883",
         "-0.3529654990931135",
         "0.385057499444594",
         "-0.7496313046680287",
         "-1.223032411662916",
         "0.19405448229601993",
         "1.2112438172579458"
        ],
        [
         "Billings,MT",
         "-0.03545402778557015",
         "0.28355244551831565",
         "-0.9905653200357616",
         "-0.036511399792322485",
         "1.136500446552643",
         "-1.2030049848775721",
         "0.4184135273580005",
         "-0.1029785499029339",
         "0.24360120271019134",
         "-0.7789783020953387"
        ],
        [
         "Biloxi-Gulfport,MS",
         "-1.373428901431929",
         "-0.8480378737068422",
         "0.3449391296409236",
         "-0.08376790136204201",
         "-0.16603903381944496",
         "0.11572760891677915",
         "-0.6931371269377714",
         "0.7303589087588899",
         "0.09194690883812222",
         "-1.9602955468598897"
        ],
        [
         "Binghampton,NY",
         "-0.4196109520821008",
         "0.831127776243098",
         "0.0699921762596828",
         "-1.093860973587157",
         "0.6516072061828369",
         "-0.6003626683827902",
         "-0.05526154560712012",
         "0.5041224352254616",
         "0.07431240646890384",
         "-0.612351973166477"
        ],
        [
         "Birmingham,AL",
         "0.26740658157945807",
         "0.8149842214825833",
         "0.4290206999477671",
         "0.7864742399856794",
         "-0.7369178411919348",
         "-0.3655234310816235",
         "0.613320408300415",
         "0.2214514639199785",
         "-0.24289604784675717",
         "2.297885742995488"
        ],
        [
         "Bismarck,ND",
         "-1.577584051936512",
         "0.7562501397677996",
         "-2.161145744328114",
         "-0.5133358844242801",
         "1.9754766118590676",
         "1.1794840663711743",
         "0.19793675826307058",
         "-0.4437988976816708",
         "0.03435024518432076",
         "-3.4958155409211065"
        ],
        [
         "Bloomington,IN",
         "-1.282610878565498",
         "0.24236054226691123",
         "0.75194463599552",
         "-0.48938234984083084",
         "-0.19723593392357053",
         "0.3715364896008949",
         "-1.3696763862207333",
         "0.20173622721273632",
         "0.2290697334419934",
         "-0.7776880501438975"
        ],
        [
         "Bloomington-Normal,IL",
         "-0.22289755762611713",
         "0.40102095347414835",
         "-0.5332265895346249",
         "-0.35146813295936186",
         "0.9216683990161959",
         "-0.6470207018901101",
         "0.8626641198796685",
         "0.1364663797692472",
         "0.09036860072044406",
         "-0.7065713266459555"
        ],
        [
         "Boise-City,ID",
         "-0.37773402592754535",
         "-0.12857196758215278",
         "0.8793145247290273",
         "1.0811426295388389",
         "0.9888063269193524",
         "-0.5558426771165207",
         "1.5618624118195354",
         "0.15666339682526254",
         "0.28797712287873173",
         "1.454151160758168"
        ],
        [
         "Boston,MA",
         "6.301057204531269",
         "1.6087416195449502",
         "-0.36266133028900843",
         "-0.2760396967313044",
         "-0.1732850873645037",
         "1.153423242645402",
         "-0.28588106844004435",
         "0.9719698845399039",
         "-0.1206248037975523",
         "7.271097797055906"
        ],
        [
         "Boulder-Longmont,CO",
         "2.030150765221285",
         "-2.1142645523345376",
         "-1.0982432453995639",
         "0.2602839535674355",
         "2.5578755672256754",
         "-0.46837954512839547",
         "0.2933837422839104",
         "-0.0064144739137868",
         "0.09480678993341214",
         "-0.922073078945381"
        ],
        [
         "Bradenton,FL",
         "-0.9199129856497072",
         "-1.1220269903836417",
         "-1.651998682416316",
         "-0.556145376051791",
         "-0.3994833259572318",
         "-0.0565520814733495",
         "0.5357052764056471",
         "-0.062286515399435305",
         "0.12284867724413401",
         "-4.250084034501456"
        ],
        [
         "Brazoria,TX",
         "-1.4469617620417496",
         "-0.32365416762036187",
         "-0.6167768984404634",
         "-0.744083771859445",
         "0.02020609415910507",
         "0.7231635094519152",
         "-0.33852098103460726",
         "-0.27551228041910814",
         "0.29439534548179946",
         "-3.13147659996202"
        ],
        [
         "Bremerton,WA",
         "-1.132861573038446",
         "-1.4759648078402927",
         "2.1152166694124594",
         "-1.2483309779655716",
         "-0.6148680043436885",
         "-0.10025293416683237",
         "-0.4666816487046318",
         "0.7869954898359789",
         "0.17058901988039246",
         "-1.741940689431851"
        ],
        [
         "Bridgeport-Milford,CT",
         "2.2530464568038115",
         "-0.6479565276094614",
         "0.13365350355263717",
         "-2.218149977454314",
         "-0.6921827454527206",
         "0.9281800801050168",
         "0.06130578591088759",
         "-0.0315302328991095",
         "-0.10049306467527469",
         "-0.4794065447073266"
        ],
        [
         "Bristol,CT",
         "-0.8731932163165013",
         "-0.06958169406898429",
         "-0.30603005643715203",
         "-1.4058425199990028",
         "0.28001429355590046",
         "0.2140767527303314",
         "1.4921691914716713",
         "0.14473512373559233",
         "-0.19104295996624726",
         "-2.6546474868216405"
        ],
        [
         "Brockton,MA",
         "-0.1478148431720277",
         "-1.0354392546449869",
         "-0.7105650661323156",
         "-0.1545683809188616",
         "-1.2853981963278214",
         "-0.1252922262955724",
         "0.6281021404618039",
         "-0.0010473905701754438",
         "-0.04906175840278815",
         "-2.048387544868192"
        ]
       ],
       "shape": {
        "columns": 10,
        "rows": 329
       }
      },
      "text/html": [
       "<div>\n",
       "<style scoped>\n",
       "    .dataframe tbody tr th:only-of-type {\n",
       "        vertical-align: middle;\n",
       "    }\n",
       "\n",
       "    .dataframe tbody tr th {\n",
       "        vertical-align: top;\n",
       "    }\n",
       "\n",
       "    .dataframe thead th {\n",
       "        text-align: right;\n",
       "    }\n",
       "</style>\n",
       "<table border=\"1\" class=\"dataframe\">\n",
       "  <thead>\n",
       "    <tr style=\"text-align: right;\">\n",
       "      <th></th>\n",
       "      <th>CP1</th>\n",
       "      <th>CP2</th>\n",
       "      <th>CP3</th>\n",
       "      <th>CP4</th>\n",
       "      <th>CP5</th>\n",
       "      <th>CP6</th>\n",
       "      <th>CP7</th>\n",
       "      <th>CP8</th>\n",
       "      <th>CP9</th>\n",
       "      <th>suma_componentes</th>\n",
       "    </tr>\n",
       "    <tr>\n",
       "      <th>Ciudad</th>\n",
       "      <th></th>\n",
       "      <th></th>\n",
       "      <th></th>\n",
       "      <th></th>\n",
       "      <th></th>\n",
       "      <th></th>\n",
       "      <th></th>\n",
       "      <th></th>\n",
       "      <th></th>\n",
       "      <th></th>\n",
       "    </tr>\n",
       "  </thead>\n",
       "  <tbody>\n",
       "    <tr>\n",
       "      <th>Abilene,TX</th>\n",
       "      <td>-1.040180</td>\n",
       "      <td>-0.893769</td>\n",
       "      <td>-1.436654</td>\n",
       "      <td>-0.509834</td>\n",
       "      <td>-0.565136</td>\n",
       "      <td>-0.497854</td>\n",
       "      <td>0.423751</td>\n",
       "      <td>1.001776</td>\n",
       "      <td>0.347404</td>\n",
       "      <td>-3.880437</td>\n",
       "    </tr>\n",
       "    <tr>\n",
       "      <th>Akron,OH</th>\n",
       "      <td>0.439814</td>\n",
       "      <td>-0.075066</td>\n",
       "      <td>1.154717</td>\n",
       "      <td>1.112207</td>\n",
       "      <td>0.996884</td>\n",
       "      <td>0.628547</td>\n",
       "      <td>0.011895</td>\n",
       "      <td>0.418746</td>\n",
       "      <td>-0.121685</td>\n",
       "      <td>2.631671</td>\n",
       "    </tr>\n",
       "    <tr>\n",
       "      <th>Albany,GA</th>\n",
       "      <td>-1.875539</td>\n",
       "      <td>-0.069792</td>\n",
       "      <td>-0.073347</td>\n",
       "      <td>0.046232</td>\n",
       "      <td>-0.679524</td>\n",
       "      <td>0.714097</td>\n",
       "      <td>0.239494</td>\n",
       "      <td>-0.441897</td>\n",
       "      <td>-0.094201</td>\n",
       "      <td>-1.972446</td>\n",
       "    </tr>\n",
       "    <tr>\n",
       "      <th>Albany-Schenectady-Troy,NY</th>\n",
       "      <td>0.910741</td>\n",
       "      <td>1.817582</td>\n",
       "      <td>-1.096147</td>\n",
       "      <td>-0.573581</td>\n",
       "      <td>0.769080</td>\n",
       "      <td>-1.271237</td>\n",
       "      <td>0.458716</td>\n",
       "      <td>0.371496</td>\n",
       "      <td>0.317277</td>\n",
       "      <td>1.058596</td>\n",
       "    </tr>\n",
       "    <tr>\n",
       "      <th>Albuquerque,NM</th>\n",
       "      <td>2.149248</td>\n",
       "      <td>-0.328858</td>\n",
       "      <td>-0.019738</td>\n",
       "      <td>1.031502</td>\n",
       "      <td>-0.238550</td>\n",
       "      <td>-1.284224</td>\n",
       "      <td>0.154544</td>\n",
       "      <td>0.148264</td>\n",
       "      <td>-0.307153</td>\n",
       "      <td>2.832153</td>\n",
       "    </tr>\n",
       "    <tr>\n",
       "      <th>...</th>\n",
       "      <td>...</td>\n",
       "      <td>...</td>\n",
       "      <td>...</td>\n",
       "      <td>...</td>\n",
       "      <td>...</td>\n",
       "      <td>...</td>\n",
       "      <td>...</td>\n",
       "      <td>...</td>\n",
       "      <td>...</td>\n",
       "      <td>...</td>\n",
       "    </tr>\n",
       "    <tr>\n",
       "      <th>Worcester,MA</th>\n",
       "      <td>-0.140983</td>\n",
       "      <td>1.642143</td>\n",
       "      <td>0.230877</td>\n",
       "      <td>-1.224202</td>\n",
       "      <td>-0.670711</td>\n",
       "      <td>-0.348114</td>\n",
       "      <td>-0.159054</td>\n",
       "      <td>-0.309008</td>\n",
       "      <td>-0.400504</td>\n",
       "      <td>0.507835</td>\n",
       "    </tr>\n",
       "    <tr>\n",
       "      <th>Yakima,WA</th>\n",
       "      <td>-1.132624</td>\n",
       "      <td>-0.739830</td>\n",
       "      <td>0.319330</td>\n",
       "      <td>1.115428</td>\n",
       "      <td>0.099816</td>\n",
       "      <td>-0.027811</td>\n",
       "      <td>-0.257803</td>\n",
       "      <td>0.062502</td>\n",
       "      <td>0.144835</td>\n",
       "      <td>-0.437696</td>\n",
       "    </tr>\n",
       "    <tr>\n",
       "      <th>York,PA</th>\n",
       "      <td>-1.708201</td>\n",
       "      <td>0.904933</td>\n",
       "      <td>0.657982</td>\n",
       "      <td>-1.340779</td>\n",
       "      <td>-0.311793</td>\n",
       "      <td>0.344883</td>\n",
       "      <td>-0.170877</td>\n",
       "      <td>-0.136739</td>\n",
       "      <td>0.165862</td>\n",
       "      <td>-1.486065</td>\n",
       "    </tr>\n",
       "    <tr>\n",
       "      <th>Youngstown-Warren,OH</th>\n",
       "      <td>-0.765311</td>\n",
       "      <td>1.075326</td>\n",
       "      <td>0.962153</td>\n",
       "      <td>0.435825</td>\n",
       "      <td>-0.575757</td>\n",
       "      <td>-0.027063</td>\n",
       "      <td>-0.403151</td>\n",
       "      <td>-0.390747</td>\n",
       "      <td>0.057641</td>\n",
       "      <td>1.707993</td>\n",
       "    </tr>\n",
       "    <tr>\n",
       "      <th>Yuba-City,CA</th>\n",
       "      <td>-1.725960</td>\n",
       "      <td>-0.730340</td>\n",
       "      <td>1.076105</td>\n",
       "      <td>0.551422</td>\n",
       "      <td>-1.017898</td>\n",
       "      <td>0.306287</td>\n",
       "      <td>0.586163</td>\n",
       "      <td>-0.571341</td>\n",
       "      <td>0.087884</td>\n",
       "      <td>-0.828773</td>\n",
       "    </tr>\n",
       "  </tbody>\n",
       "</table>\n",
       "<p>329 rows × 10 columns</p>\n",
       "</div>"
      ],
      "text/plain": [
       "                                 CP1       CP2       CP3       CP4       CP5  \\\n",
       "Ciudad                                                                         \n",
       "Abilene,TX                 -1.040180 -0.893769 -1.436654 -0.509834 -0.565136   \n",
       "Akron,OH                    0.439814 -0.075066  1.154717  1.112207  0.996884   \n",
       "Albany,GA                  -1.875539 -0.069792 -0.073347  0.046232 -0.679524   \n",
       "Albany-Schenectady-Troy,NY  0.910741  1.817582 -1.096147 -0.573581  0.769080   \n",
       "Albuquerque,NM              2.149248 -0.328858 -0.019738  1.031502 -0.238550   \n",
       "...                              ...       ...       ...       ...       ...   \n",
       "Worcester,MA               -0.140983  1.642143  0.230877 -1.224202 -0.670711   \n",
       "Yakima,WA                  -1.132624 -0.739830  0.319330  1.115428  0.099816   \n",
       "York,PA                    -1.708201  0.904933  0.657982 -1.340779 -0.311793   \n",
       "Youngstown-Warren,OH       -0.765311  1.075326  0.962153  0.435825 -0.575757   \n",
       "Yuba-City,CA               -1.725960 -0.730340  1.076105  0.551422 -1.017898   \n",
       "\n",
       "                                 CP6       CP7       CP8       CP9  \\\n",
       "Ciudad                                                               \n",
       "Abilene,TX                 -0.497854  0.423751  1.001776  0.347404   \n",
       "Akron,OH                    0.628547  0.011895  0.418746 -0.121685   \n",
       "Albany,GA                   0.714097  0.239494 -0.441897 -0.094201   \n",
       "Albany-Schenectady-Troy,NY -1.271237  0.458716  0.371496  0.317277   \n",
       "Albuquerque,NM             -1.284224  0.154544  0.148264 -0.307153   \n",
       "...                              ...       ...       ...       ...   \n",
       "Worcester,MA               -0.348114 -0.159054 -0.309008 -0.400504   \n",
       "Yakima,WA                  -0.027811 -0.257803  0.062502  0.144835   \n",
       "York,PA                     0.344883 -0.170877 -0.136739  0.165862   \n",
       "Youngstown-Warren,OH       -0.027063 -0.403151 -0.390747  0.057641   \n",
       "Yuba-City,CA                0.306287  0.586163 -0.571341  0.087884   \n",
       "\n",
       "                            suma_componentes  \n",
       "Ciudad                                        \n",
       "Abilene,TX                         -3.880437  \n",
       "Akron,OH                            2.631671  \n",
       "Albany,GA                          -1.972446  \n",
       "Albany-Schenectady-Troy,NY          1.058596  \n",
       "Albuquerque,NM                      2.832153  \n",
       "...                                      ...  \n",
       "Worcester,MA                        0.507835  \n",
       "Yakima,WA                          -0.437696  \n",
       "York,PA                            -1.486065  \n",
       "Youngstown-Warren,OH                1.707993  \n",
       "Yuba-City,CA                       -0.828773  \n",
       "\n",
       "[329 rows x 10 columns]"
      ]
     },
     "execution_count": 109,
     "metadata": {},
     "output_type": "execute_result"
    }
   ],
   "source": [
    "f"
   ]
  },
  {
   "cell_type": "markdown",
   "id": "0873589c",
   "metadata": {
    "id": "0873589c"
   },
   "source": [
    "Teniendo en cuenta que: \n",
    "\n",
    "Los datos están estandarizados\n",
    "Que las variables están transformadas para que entre más alto su valor mejor fuera la calidad de vida\n",
    "Que las primeras 4 primeras componentes principales explican mas del 70% de la varianza de las variables originales.\n",
    "\n",
    "Podemos sumar el resultado de las 4 primeras componentes principales para cada ciudad para determinar cuales ciudades tienen mayor calidad de vida, como podemos apreciar en la variable \"Suma componentes\" la ciudad con mayor calidad de vida por lejos es \"New york\", seguida de \"Chicago\", \"los Angeles\", \"San Francisco\" y \"Washington\"."
   ]
  },
  {
   "cell_type": "code",
   "execution_count": 94,
   "id": "266d1a65",
   "metadata": {},
   "outputs": [
    {
     "data": {
      "text/plain": [
       "Ciudad\n",
       "New-York,NY                         18.123266\n",
       "Chicago,IL                           9.550540\n",
       "Los-Angeles,Long-Beach,CA            9.341812\n",
       "San-Francisco,CA                     7.450278\n",
       "Washington,DC-MD-VA                  7.418959\n",
       "                                      ...    \n",
       "Victoria,TX                         -5.553506\n",
       "Enid,OK                             -5.758718\n",
       "Portsmouth-Dover-Rochester,NH-ME    -6.222860\n",
       "Lafayette,LA                        -6.256891\n",
       "Midland,TX                          -6.258950\n",
       "Name: suma_componentes, Length: 329, dtype: float64"
      ]
     },
     "execution_count": 94,
     "metadata": {},
     "output_type": "execute_result"
    }
   ],
   "source": [
    "f['suma_componentes'] = f['CP1'] + f['CP2'] + f['CP3'] + f['CP4']\n",
    "f_sorted = f.sort_values(by='suma_componentes', ascending=False)\n",
    "f_sorted['suma_componentes']\n"
   ]
  },
  {
   "cell_type": "markdown",
   "id": "eb98babf",
   "metadata": {},
   "source": [
    "Como podemos apreciar en el siguiente histograma, la mayoría de ciudades se ubican cerca del 0 por lo que si son bastante inusuales las ciudades con valores mayores a 7 como las 5 ciudades identificadas"
   ]
  },
  {
   "cell_type": "code",
   "execution_count": 96,
   "id": "d8b2fee1",
   "metadata": {},
   "outputs": [
    {
     "data": {
      "image/png": "[encoded data removed]",
      "text/plain": [
       "<Figure size 640x480 with 1 Axes>"
      ]
     },
     "metadata": {},
     "output_type": "display_data"
    }
   ],
   "source": [
    "# Crear un histograma de la nueva variable\n",
    "plt.hist(f_sorted['suma_componentes'], bins=10, edgecolor='black')\n",
    "plt.title('Histograma de suma_variables')\n",
    "plt.xlabel('Valor')\n",
    "plt.ylabel('Frecuencia')\n",
    "plt.show()\n"
   ]
  },
  {
   "cell_type": "markdown",
   "id": "dca57475",
   "metadata": {},
   "source": [
    "A continuación vamos a analizar los \"loadings\" del primer componente principal (el más relevante) por observación de cada variable para las ciudades, con el fin de determinar cuales son las variables que tienen más peso"
   ]
  },
  {
   "cell_type": "code",
   "execution_count": 118,
   "id": "ce2201c4",
   "metadata": {},
   "outputs": [
    {
     "name": "stdout",
     "output_type": "stream",
     "text": [
      "New york [ 0.1696092   0.74905249  3.05781105  1.21051422  1.06830489  0.14512605\n",
      "  5.34585931  0.70336925 -0.02339531] \n",
      " Chicago [-0.04225819  0.38360203  2.10159432  0.05745247  0.85463994  0.57592387\n",
      "  2.16402555  0.40993389 -0.04000237] \n",
      " Los Angeles [ 0.59163537  0.82528142  1.82032712  0.78677978  0.03264692  0.32619844\n",
      "  2.03644897  0.85313086 -0.02614235] \n",
      " San Francisco [0.63435057 1.31703276 1.16556643 0.5182046  0.98942066 0.47723513\n",
      " 1.10471101 1.1177503  0.06713187] \n",
      " Whasington [ 0.15764895  0.80375796  1.45692805  0.28034624  0.97417616  0.70379015\n",
      "  1.85032082 -0.10875268  0.06825566]\n"
     ]
    }
   ],
   "source": [
    "fila_especifica = df.loc['New-York,NY']\n",
    "vectorloading = fila_especifica.values\n",
    "NY = eig_vec[0]*vectorloading\n",
    "\n",
    "fila_especifica = df.loc['Chicago,IL']\n",
    "vectorloading = fila_especifica.values\n",
    "CH = eig_vec[0]*vectorloading\n",
    "\n",
    "fila_especifica = df.loc['Los-Angeles,Long-Beach,CA']\n",
    "vectorloading = fila_especifica.values\n",
    "LA = eig_vec[0]*vectorloading\n",
    "\n",
    "fila_especifica = df.loc['San-Francisco,CA']\n",
    "vectorloading = fila_especifica.values\n",
    "SF = eig_vec[0]*vectorloading\n",
    "\n",
    "fila_especifica = df.loc['Washington,DC-MD-VA']\n",
    "vectorloading = fila_especifica.values\n",
    "WS = eig_vec[0]*vectorloading\n",
    "\n",
    "print(\"New york\", NY, \"\\n Chicago\", CH , \"\\n Los Angeles\", LA , \"\\n San Francisco\", SF , \"\\n Whasington\", WS)"
   ]
  },
  {
   "cell_type": "markdown",
   "id": "331dde3f",
   "metadata": {},
   "source": [
    "Como podemos apreciar, en el caso de todas las ciudades, la variables predominantes son \"Artes\" (la 7ma variable), y \"Cuidado de la salud y medio ambiente\" pues son las que generan mayor aúmento en el primer componente principal cuando multiplicamos el respectivo \"loading\" y el valor de la variable para las ciudades listadas;."
   ]
  }
 ],
 "metadata": {
  "colab": {
   "provenance": []
  },
  "kernelspec": {
   "display_name": "base",
   "language": "python",
   "name": "python3"
  },
  "language_info": {
   "codemirror_mode": {
    "name": "ipython",
    "version": 3
   },
   "file_extension": ".py",
   "mimetype": "text/x-python",
   "name": "python",
   "nbconvert_exporter": "python",
   "pygments_lexer": "ipython3",
   "version": "3.12.8"
  },
  "toc": {
   "base_numbering": 1,
   "nav_menu": {},
   "number_sections": true,
   "sideBar": true,
   "skip_h1_title": false,
   "title_cell": "Table of Contents",
   "title_sidebar": "Contents",
   "toc_cell": false,
   "toc_position": {},
   "toc_section_display": true,
   "toc_window_display": false
  }
 },
 "nbformat": 4,
 "nbformat_minor": 5
}
