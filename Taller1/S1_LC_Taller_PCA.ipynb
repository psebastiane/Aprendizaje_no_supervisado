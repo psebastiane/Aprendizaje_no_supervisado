{
 "cells": [
  {
   "cell_type": "markdown",
   "id": "51af9d6b",
   "metadata": {
    "id": "51af9d6b"
   },
   "source": [
    "![Clase aprendizaje no supervisado](https://raw.githubusercontent.com/MECA4605-Aprendizaje-no-supervisado/taller_1/main/figs/taller-meca-aprendizaje%20no%20supervisado_banner%201169%20x%20200%20px%20-05.png)"
   ]
  },
  {
   "cell_type": "markdown",
   "id": "c17e199e",
   "metadata": {
    "id": "c17e199e"
   },
   "source": [
    "# Caso-taller:  PCA para estudiar la dimensionalidad de la calidad de vida en las ciudades"
   ]
  },
  {
   "cell_type": "markdown",
   "id": "c267a5e7",
   "metadata": {
    "id": "c267a5e7"
   },
   "source": [
    "En este caso-taller vamos a aplicar PCA en el estudio de calidad de vida en diferentes ciudades. Para ello, haremos uso de los datos que surgen del Almanaque Calificado de Lugares. En este Almanaque Boyer y Savageau calificaron 329 ciudades de acuerdo con los siguientes nueve criterios:\n",
    "\n",
    "   - Clima y Terreno\n",
    "   - Alojamiento\n",
    "   - Cuidado de la salud y el medio ambiente\n",
    "   - Crimen\n",
    "   - Transporte\n",
    "   - Educación\n",
    "   - Artes\n",
    "   - Recreación\n",
    "   - Economía\n",
    "\n",
    "Con tantas variables disponibles, la matriz de dispersión puede resultar muy grande para estudiarla e interpretarla adecuadamente. Habría demasiadas correlaciones bivariadas entre las variables a considerar. Para interpretar los datos de una forma más significativa es necesario reducir el número de variables a unas pocas dimensiones, y para ello en este ejercicio recurriremos al análisis de componentes principales.\n"
   ]
  },
  {
   "cell_type": "markdown",
   "id": "6c57a5bd",
   "metadata": {
    "id": "6c57a5bd"
   },
   "source": [
    "## Instrucciones generales"
   ]
  },
  {
   "cell_type": "markdown",
   "id": "40134a94",
   "metadata": {
    "id": "40134a94"
   },
   "source": [
    "1. Para desarrollar el *cuaderno* primero debe descargarlo junto al archivo de soporte.\n",
    "\n",
    "2. Para responder cada inciso deberá utilizar el espacio debidamente especificado.\n",
    "\n",
    "3. La actividad será calificada sólo si sube el *cuaderno* de jupyter notebook con extensión `.ipynb` en la actividad designada como \"entrega calificada por el personal\".\n",
    "\n",
    "4. El archivo entregado debe poder ser ejecutado localmente por el tutor. Sea cuidadoso con la especificación de la ubicación de los archivos de soporte, guarde la carpeta de datos en la misma ruta de acceso del cuaderno, por ejemplo: `data/archivo_de_soporte.csv`."
   ]
  },
  {
   "cell_type": "markdown",
   "id": "b2a122c1",
   "metadata": {
    "id": "b2a122c1"
   },
   "source": [
    "## Desarrollo\n"
   ]
  },
  {
   "cell_type": "markdown",
   "id": "75d1a0db",
   "metadata": {
    "id": "75d1a0db"
   },
   "source": [
    "### 1. Carga de datos\n",
    "\n",
    "En el repositorio de taller 1 encontraran una carpeta `data` donde se encuentra el archivo `lugares.csv`, cargue estos datos en su *cuaderno*.\n"
   ]
  },
  {
   "cell_type": "code",
   "execution_count": 160,
   "id": "089aa956",
   "metadata": {
    "id": "089aa956"
   },
   "outputs": [
    {
     "data": {
      "application/vnd.microsoft.datawrangler.viewer.v0+json": {
       "columns": [
        {
         "name": "index",
         "rawType": "int64",
         "type": "integer"
        },
        {
         "name": "Ciudad",
         "rawType": "object",
         "type": "string"
        },
        {
         "name": "Clima y Terreno",
         "rawType": "int64",
         "type": "integer"
        },
        {
         "name": "Alojamiento",
         "rawType": "int64",
         "type": "integer"
        },
        {
         "name": "Cuidado de la salud y el medio ambiente",
         "rawType": "int64",
         "type": "integer"
        },
        {
         "name": "Crimen",
         "rawType": "int64",
         "type": "integer"
        },
        {
         "name": "Transporte",
         "rawType": "int64",
         "type": "integer"
        },
        {
         "name": "Educación",
         "rawType": "int64",
         "type": "integer"
        },
        {
         "name": "Artes",
         "rawType": "int64",
         "type": "integer"
        },
        {
         "name": "Recreación",
         "rawType": "int64",
         "type": "integer"
        },
        {
         "name": "Economía",
         "rawType": "int64",
         "type": "integer"
        }
       ],
       "conversionMethod": "pd.DataFrame",
       "ref": "0f582989-56a4-4d8f-9954-229116b4b86e",
       "rows": [
        [
         "0",
         "Abilene,TX",
         "521",
         "6200",
         "237",
         "923",
         "4031",
         "2757",
         "996",
         "1405",
         "7633"
        ],
        [
         "1",
         "Akron,OH",
         "575",
         "8138",
         "1656",
         "886",
         "4883",
         "2438",
         "5564",
         "2632",
         "4350"
        ],
        [
         "2",
         "Albany,GA",
         "468",
         "7339",
         "618",
         "970",
         "2531",
         "2560",
         "237",
         "859",
         "5250"
        ],
        [
         "3",
         "Albany-Schenectady-Troy,NY",
         "476",
         "7908",
         "1431",
         "610",
         "6883",
         "3399",
         "4655",
         "1617",
         "5864"
        ],
        [
         "4",
         "Albuquerque,NM",
         "659",
         "8393",
         "1853",
         "1483",
         "6558",
         "3026",
         "4496",
         "2612",
         "5727"
        ]
       ],
       "shape": {
        "columns": 10,
        "rows": 5
       }
      },
      "text/html": [
       "<div>\n",
       "<style scoped>\n",
       "    .dataframe tbody tr th:only-of-type {\n",
       "        vertical-align: middle;\n",
       "    }\n",
       "\n",
       "    .dataframe tbody tr th {\n",
       "        vertical-align: top;\n",
       "    }\n",
       "\n",
       "    .dataframe thead th {\n",
       "        text-align: right;\n",
       "    }\n",
       "</style>\n",
       "<table border=\"1\" class=\"dataframe\">\n",
       "  <thead>\n",
       "    <tr style=\"text-align: right;\">\n",
       "      <th></th>\n",
       "      <th>Ciudad</th>\n",
       "      <th>Clima y Terreno</th>\n",
       "      <th>Alojamiento</th>\n",
       "      <th>Cuidado de la salud y el medio ambiente</th>\n",
       "      <th>Crimen</th>\n",
       "      <th>Transporte</th>\n",
       "      <th>Educación</th>\n",
       "      <th>Artes</th>\n",
       "      <th>Recreación</th>\n",
       "      <th>Economía</th>\n",
       "    </tr>\n",
       "  </thead>\n",
       "  <tbody>\n",
       "    <tr>\n",
       "      <th>0</th>\n",
       "      <td>Abilene,TX</td>\n",
       "      <td>521</td>\n",
       "      <td>6200</td>\n",
       "      <td>237</td>\n",
       "      <td>923</td>\n",
       "      <td>4031</td>\n",
       "      <td>2757</td>\n",
       "      <td>996</td>\n",
       "      <td>1405</td>\n",
       "      <td>7633</td>\n",
       "    </tr>\n",
       "    <tr>\n",
       "      <th>1</th>\n",
       "      <td>Akron,OH</td>\n",
       "      <td>575</td>\n",
       "      <td>8138</td>\n",
       "      <td>1656</td>\n",
       "      <td>886</td>\n",
       "      <td>4883</td>\n",
       "      <td>2438</td>\n",
       "      <td>5564</td>\n",
       "      <td>2632</td>\n",
       "      <td>4350</td>\n",
       "    </tr>\n",
       "    <tr>\n",
       "      <th>2</th>\n",
       "      <td>Albany,GA</td>\n",
       "      <td>468</td>\n",
       "      <td>7339</td>\n",
       "      <td>618</td>\n",
       "      <td>970</td>\n",
       "      <td>2531</td>\n",
       "      <td>2560</td>\n",
       "      <td>237</td>\n",
       "      <td>859</td>\n",
       "      <td>5250</td>\n",
       "    </tr>\n",
       "    <tr>\n",
       "      <th>3</th>\n",
       "      <td>Albany-Schenectady-Troy,NY</td>\n",
       "      <td>476</td>\n",
       "      <td>7908</td>\n",
       "      <td>1431</td>\n",
       "      <td>610</td>\n",
       "      <td>6883</td>\n",
       "      <td>3399</td>\n",
       "      <td>4655</td>\n",
       "      <td>1617</td>\n",
       "      <td>5864</td>\n",
       "    </tr>\n",
       "    <tr>\n",
       "      <th>4</th>\n",
       "      <td>Albuquerque,NM</td>\n",
       "      <td>659</td>\n",
       "      <td>8393</td>\n",
       "      <td>1853</td>\n",
       "      <td>1483</td>\n",
       "      <td>6558</td>\n",
       "      <td>3026</td>\n",
       "      <td>4496</td>\n",
       "      <td>2612</td>\n",
       "      <td>5727</td>\n",
       "    </tr>\n",
       "  </tbody>\n",
       "</table>\n",
       "</div>"
      ],
      "text/plain": [
       "                       Ciudad  Clima y Terreno  Alojamiento  \\\n",
       "0                  Abilene,TX              521         6200   \n",
       "1                    Akron,OH              575         8138   \n",
       "2                   Albany,GA              468         7339   \n",
       "3  Albany-Schenectady-Troy,NY              476         7908   \n",
       "4              Albuquerque,NM              659         8393   \n",
       "\n",
       "   Cuidado de la salud y el medio ambiente  Crimen  Transporte  Educación  \\\n",
       "0                                      237     923        4031       2757   \n",
       "1                                     1656     886        4883       2438   \n",
       "2                                      618     970        2531       2560   \n",
       "3                                     1431     610        6883       3399   \n",
       "4                                     1853    1483        6558       3026   \n",
       "\n",
       "   Artes  Recreación  Economía  \n",
       "0    996        1405      7633  \n",
       "1   5564        2632      4350  \n",
       "2    237         859      5250  \n",
       "3   4655        1617      5864  \n",
       "4   4496        2612      5727  "
      ]
     },
     "execution_count": 160,
     "metadata": {},
     "output_type": "execute_result"
    }
   ],
   "source": [
    "import pandas as pd\n",
    "df = pd.read_csv('https://raw.githubusercontent.com/MECA4605-Aprendizaje-no-supervisado/taller_1/refs/heads/main/data/lugares.csv')\n",
    "df.head()"
   ]
  },
  {
   "cell_type": "markdown",
   "id": "b2742182",
   "metadata": {},
   "source": [
    "Importamos la librería pandas para poder crear un dataframe a partir de los datos usando la instrucción \"pd.read_csv\", se usó la URL de los datos raw alojados en el repositorio del taller 1 por lo que en teoría este jupyter notebook debe poderse usar en cualquier lugar siempre y cuando el repositorio se mantenga público."
   ]
  },
  {
   "cell_type": "markdown",
   "id": "342a1e75",
   "metadata": {
    "id": "342a1e75"
   },
   "source": [
    "### 2.  Análisis descriptivo de las variables.\n",
    "\n",
    "Para el análisis descriptivo haga uso de estadísticas descriptivas y matrices de correlación. Indique además cuantas gráficas de dispersión bivariadas debería examinar con este número de variables.\n",
    "\n",
    "Explique porqué es importante conocer las estadísticas descriptivas y como contribuyen al ejercicio posterior de Análisis de Componentes Principales.\n",
    "\n",
    "Tenga en cuenta que para las variables, a excepción de la alojamiento y crimen, cuanto mayor sea el puntaje, mejor. Por el contrario; para alojamiento y crimen, mientras más bajo sea el puntaje, mejor. También, mientras algunas comunidades podrían calificar mejor en las artes, otras podrían calificar mejor en otras áreas como tener una tasa de criminalidad más baja y buenas oportunidades educativas."
   ]
  },
  {
   "cell_type": "code",
   "execution_count": 161,
   "id": "23581b22",
   "metadata": {},
   "outputs": [],
   "source": [
    "# Transformamos las variables \"alojamiento\" y \"crimen\" para que, a mayor puntaje, sean mejores. \n",
    "# Esto lo logramos multiplicando las variables por -1, con esto, todos los números quedarán negativos y entre mas cercanas al cero (mayores) mejor la calificación.\n",
    "# Esta transformación no afectará al PCA ya que estandarizaremos los datos.\n",
    "\n",
    "df[\"Alojamiento\"] = df[\"Alojamiento\"]*-1\n",
    "df[\"Crimen\"] = df[\"Crimen\"]*-1"
   ]
  },
  {
   "cell_type": "code",
   "execution_count": 162,
   "id": "7d82f699",
   "metadata": {
    "id": "7d82f699"
   },
   "outputs": [
    {
     "data": {
      "application/vnd.microsoft.datawrangler.viewer.v0+json": {
       "columns": [
        {
         "name": "index",
         "rawType": "object",
         "type": "string"
        },
        {
         "name": "count",
         "rawType": "float64",
         "type": "float"
        },
        {
         "name": "mean",
         "rawType": "float64",
         "type": "float"
        },
        {
         "name": "std",
         "rawType": "float64",
         "type": "float"
        },
        {
         "name": "min",
         "rawType": "float64",
         "type": "float"
        },
        {
         "name": "25%",
         "rawType": "float64",
         "type": "float"
        },
        {
         "name": "50%",
         "rawType": "float64",
         "type": "float"
        },
        {
         "name": "75%",
         "rawType": "float64",
         "type": "float"
        },
        {
         "name": "max",
         "rawType": "float64",
         "type": "float"
        }
       ],
       "conversionMethod": "pd.DataFrame",
       "ref": "dfefb9b3-a246-42df-b886-2b90fae787bb",
       "rows": [
        [
         "Clima y Terreno",
         "329.0",
         "538.73",
         "120.81",
         "105.0",
         "480.0",
         "542.0",
         "592.0",
         "910.0"
        ],
        [
         "Alojamiento",
         "329.0",
         "-8346.56",
         "2385.26",
         "-23640.0",
         "-9015.0",
         "-7877.0",
         "-6760.0",
         "-5159.0"
        ],
        [
         "Cuidado de la salud y el medio ambiente",
         "329.0",
         "1185.74",
         "1003.0",
         "43.0",
         "583.0",
         "833.0",
         "1445.0",
         "7850.0"
        ],
        [
         "Crimen",
         "329.0",
         "-961.05",
         "357.15",
         "-2498.0",
         "-1156.0",
         "-947.0",
         "-707.0",
         "-308.0"
        ],
        [
         "Transporte",
         "329.0",
         "4210.08",
         "1451.18",
         "1145.0",
         "3141.0",
         "4080.0",
         "5205.0",
         "8625.0"
        ],
        [
         "Educación",
         "329.0",
         "2814.89",
         "320.79",
         "1701.0",
         "2619.0",
         "2794.0",
         "3012.0",
         "3781.0"
        ],
        [
         "Artes",
         "329.0",
         "3150.88",
         "4642.28",
         "52.0",
         "778.0",
         "1871.0",
         "3844.0",
         "56745.0"
        ],
        [
         "Recreación",
         "329.0",
         "1845.96",
         "807.89",
         "300.0",
         "1316.0",
         "1670.0",
         "2176.0",
         "4800.0"
        ],
        [
         "Economía",
         "329.0",
         "5525.36",
         "1084.47",
         "3045.0",
         "4842.0",
         "5384.0",
         "6113.0",
         "9980.0"
        ]
       ],
       "shape": {
        "columns": 8,
        "rows": 9
       }
      },
      "text/html": [
       "<div>\n",
       "<style scoped>\n",
       "    .dataframe tbody tr th:only-of-type {\n",
       "        vertical-align: middle;\n",
       "    }\n",
       "\n",
       "    .dataframe tbody tr th {\n",
       "        vertical-align: top;\n",
       "    }\n",
       "\n",
       "    .dataframe thead th {\n",
       "        text-align: right;\n",
       "    }\n",
       "</style>\n",
       "<table border=\"1\" class=\"dataframe\">\n",
       "  <thead>\n",
       "    <tr style=\"text-align: right;\">\n",
       "      <th></th>\n",
       "      <th>count</th>\n",
       "      <th>mean</th>\n",
       "      <th>std</th>\n",
       "      <th>min</th>\n",
       "      <th>25%</th>\n",
       "      <th>50%</th>\n",
       "      <th>75%</th>\n",
       "      <th>max</th>\n",
       "    </tr>\n",
       "  </thead>\n",
       "  <tbody>\n",
       "    <tr>\n",
       "      <th>Clima y Terreno</th>\n",
       "      <td>329.0</td>\n",
       "      <td>538.73</td>\n",
       "      <td>120.81</td>\n",
       "      <td>105.0</td>\n",
       "      <td>480.0</td>\n",
       "      <td>542.0</td>\n",
       "      <td>592.0</td>\n",
       "      <td>910.0</td>\n",
       "    </tr>\n",
       "    <tr>\n",
       "      <th>Alojamiento</th>\n",
       "      <td>329.0</td>\n",
       "      <td>-8346.56</td>\n",
       "      <td>2385.26</td>\n",
       "      <td>-23640.0</td>\n",
       "      <td>-9015.0</td>\n",
       "      <td>-7877.0</td>\n",
       "      <td>-6760.0</td>\n",
       "      <td>-5159.0</td>\n",
       "    </tr>\n",
       "    <tr>\n",
       "      <th>Cuidado de la salud y el medio ambiente</th>\n",
       "      <td>329.0</td>\n",
       "      <td>1185.74</td>\n",
       "      <td>1003.00</td>\n",
       "      <td>43.0</td>\n",
       "      <td>583.0</td>\n",
       "      <td>833.0</td>\n",
       "      <td>1445.0</td>\n",
       "      <td>7850.0</td>\n",
       "    </tr>\n",
       "    <tr>\n",
       "      <th>Crimen</th>\n",
       "      <td>329.0</td>\n",
       "      <td>-961.05</td>\n",
       "      <td>357.15</td>\n",
       "      <td>-2498.0</td>\n",
       "      <td>-1156.0</td>\n",
       "      <td>-947.0</td>\n",
       "      <td>-707.0</td>\n",
       "      <td>-308.0</td>\n",
       "    </tr>\n",
       "    <tr>\n",
       "      <th>Transporte</th>\n",
       "      <td>329.0</td>\n",
       "      <td>4210.08</td>\n",
       "      <td>1451.18</td>\n",
       "      <td>1145.0</td>\n",
       "      <td>3141.0</td>\n",
       "      <td>4080.0</td>\n",
       "      <td>5205.0</td>\n",
       "      <td>8625.0</td>\n",
       "    </tr>\n",
       "    <tr>\n",
       "      <th>Educación</th>\n",
       "      <td>329.0</td>\n",
       "      <td>2814.89</td>\n",
       "      <td>320.79</td>\n",
       "      <td>1701.0</td>\n",
       "      <td>2619.0</td>\n",
       "      <td>2794.0</td>\n",
       "      <td>3012.0</td>\n",
       "      <td>3781.0</td>\n",
       "    </tr>\n",
       "    <tr>\n",
       "      <th>Artes</th>\n",
       "      <td>329.0</td>\n",
       "      <td>3150.88</td>\n",
       "      <td>4642.28</td>\n",
       "      <td>52.0</td>\n",
       "      <td>778.0</td>\n",
       "      <td>1871.0</td>\n",
       "      <td>3844.0</td>\n",
       "      <td>56745.0</td>\n",
       "    </tr>\n",
       "    <tr>\n",
       "      <th>Recreación</th>\n",
       "      <td>329.0</td>\n",
       "      <td>1845.96</td>\n",
       "      <td>807.89</td>\n",
       "      <td>300.0</td>\n",
       "      <td>1316.0</td>\n",
       "      <td>1670.0</td>\n",
       "      <td>2176.0</td>\n",
       "      <td>4800.0</td>\n",
       "    </tr>\n",
       "    <tr>\n",
       "      <th>Economía</th>\n",
       "      <td>329.0</td>\n",
       "      <td>5525.36</td>\n",
       "      <td>1084.47</td>\n",
       "      <td>3045.0</td>\n",
       "      <td>4842.0</td>\n",
       "      <td>5384.0</td>\n",
       "      <td>6113.0</td>\n",
       "      <td>9980.0</td>\n",
       "    </tr>\n",
       "  </tbody>\n",
       "</table>\n",
       "</div>"
      ],
      "text/plain": [
       "                                         count     mean      std      min  \\\n",
       "Clima y Terreno                          329.0   538.73   120.81    105.0   \n",
       "Alojamiento                              329.0 -8346.56  2385.26 -23640.0   \n",
       "Cuidado de la salud y el medio ambiente  329.0  1185.74  1003.00     43.0   \n",
       "Crimen                                   329.0  -961.05   357.15  -2498.0   \n",
       "Transporte                               329.0  4210.08  1451.18   1145.0   \n",
       "Educación                                329.0  2814.89   320.79   1701.0   \n",
       "Artes                                    329.0  3150.88  4642.28     52.0   \n",
       "Recreación                               329.0  1845.96   807.89    300.0   \n",
       "Economía                                 329.0  5525.36  1084.47   3045.0   \n",
       "\n",
       "                                            25%     50%     75%      max  \n",
       "Clima y Terreno                           480.0   542.0   592.0    910.0  \n",
       "Alojamiento                             -9015.0 -7877.0 -6760.0  -5159.0  \n",
       "Cuidado de la salud y el medio ambiente   583.0   833.0  1445.0   7850.0  \n",
       "Crimen                                  -1156.0  -947.0  -707.0   -308.0  \n",
       "Transporte                               3141.0  4080.0  5205.0   8625.0  \n",
       "Educación                                2619.0  2794.0  3012.0   3781.0  \n",
       "Artes                                     778.0  1871.0  3844.0  56745.0  \n",
       "Recreación                               1316.0  1670.0  2176.0   4800.0  \n",
       "Economía                                 4842.0  5384.0  6113.0   9980.0  "
      ]
     },
     "execution_count": 162,
     "metadata": {},
     "output_type": "execute_result"
    }
   ],
   "source": [
    "# Creamos un data frame con estadísticas descriptivas para cada columna\n",
    "df_descriptive_stats = df.describe().round(2)\n",
    "\n",
    "# mostramos el data frame\n",
    "df_descriptive_stats.T"
   ]
  },
  {
   "cell_type": "markdown",
   "id": "290662d0",
   "metadata": {
    "id": "290662d0"
   },
   "source": [
    "La base de datos está compuesta por 329 ciudades sin embargo, los rangos de datos entre observaciones para las distintas variables parecen diferir, por ejemplo, el rango de calificación para \"Clima y Terreno\" (min 105, max= 910) difiere mucho al rango de calificación de \"Artes\" (min  = 52, max= 56.745), por lo que, por ahora no podemos comparar estas variables entre si, sin embargo, según cuartiles y medias podemos hacer análisis separados para las variables como sigue:\n",
    "\n",
    "**Clima y terreno**: Mediana y Media se encuentran muy cerca, es posible que tenga distribución no sesgada, muchos datos se encuentran entre percentil 50 y 75. \n",
    "\n",
    "**Alojamiento:** Distribución sesgada a la derecha, el máximo se encuentra bastante alejado del percentil 75, posible presencia de outliers. \n",
    "\n",
    "**Cuidado de la salud y medio ambiente:**  Distribución sesgada a la derecha  \n",
    "\n",
    "**Crimen:** Mediana y Media se encuentran muy cerca, es posible que tenga distribución no sesgada.  \n",
    "\n",
    "**Transporte:** Distribución ligeramente sesgada a la derecha  \n",
    "\n",
    "**Educación:** Mediana y Media se encuentran muy cerca, es posible que tenga distribución no sesgada.  \n",
    "\n",
    "**Artes:** Distribución altamente sesgada a la derecha, el máximo se encuentra bastante alejado del percentil 75, posible presencia de outliers.\n",
    "\n",
    "**Recreación:** Distribución ligeramente sesgada a la derecha.  \n",
    "\n",
    "**Economía:** Mediana y Media se encuentran muy cerca, es posible que tenga distribución no sesgada.  "
   ]
  },
  {
   "cell_type": "code",
   "execution_count": 163,
   "id": "aa57ef4a",
   "metadata": {},
   "outputs": [
    {
     "data": {
      "image/png": "[encoded data removed]",
      "text/plain": [
       "<Figure size 1000x800 with 2 Axes>"
      ]
     },
     "metadata": {},
     "output_type": "display_data"
    }
   ],
   "source": [
    "# Calculamos la matriz de correlacion\n",
    "correlation_matrix = df.select_dtypes(include=['number']).corr()\n",
    "correlation_matrix\n",
    "\n",
    "# Importamos matplotlib y seaborn para visualizar datos\n",
    "import seaborn as sns\n",
    "import matplotlib.pyplot as plt\n",
    "\n",
    "# Creamos un mapa de calor\n",
    "plt.figure(figsize=(10, 8))\n",
    "sns.heatmap(correlation_matrix, annot=True, cmap='coolwarm', vmin=-1, vmax=1)\n",
    "plt.title('Correlation Matrix Heatmap')\n",
    "plt.show()"
   ]
  },
  {
   "cell_type": "markdown",
   "id": "f6477e2a",
   "metadata": {},
   "source": [
    "La única correlación fuerte a destacar está entre \"Cuidado de la salud y el medio ambiente\" y \"Artes\", en cuanto a las otras correlaciones, son debiles en su mayoría (no superan el 0.5).\n",
    "\n",
    "Es importante hacer los análisis previos porque ya de antemano sabemos donde se encuentran las correlaciones principales en caso de que querramos evaluar cuales son las mejores ciudades para vivir. Dada esta correlación, es posible que las componentes principales capturen la varianza de estas más facilmente, sin embargo, como la gran mayoría no están correlacionadas, es posible que tengamos que usar muchas componentes principales."
   ]
  },
  {
   "cell_type": "markdown",
   "id": "904003c8",
   "metadata": {
    "id": "904003c8"
   },
   "source": [
    "### 3.  Cálculo y selección de componentes principales.\n",
    "\n",
    "Utilizando Álgebra Lineal, calcule los eigen valores y los eigen vectores, a partir de ellos obtenga los Componentes Principales. Tenga en cuenta de estandarizar las variables y explicar por qué es importante no omitir este paso.\n",
    "\n",
    "Luego, examine los valores propios para determinar cuántos componentes principales se deben considerar. Explique el criterio que utilizó para la elección y justifique su respuesta."
   ]
  },
  {
   "cell_type": "code",
   "execution_count": 164,
   "id": "0b1d2277",
   "metadata": {
    "id": "0b1d2277"
   },
   "outputs": [
    {
     "data": {
      "application/vnd.microsoft.datawrangler.viewer.v0+json": {
       "columns": [
        {
         "name": "Ciudad",
         "rawType": "object",
         "type": "string"
        },
        {
         "name": "Clima y Terreno",
         "rawType": "int64",
         "type": "integer"
        },
        {
         "name": "Alojamiento",
         "rawType": "int64",
         "type": "integer"
        },
        {
         "name": "Cuidado de la salud y el medio ambiente",
         "rawType": "int64",
         "type": "integer"
        },
        {
         "name": "Crimen",
         "rawType": "int64",
         "type": "integer"
        },
        {
         "name": "Transporte",
         "rawType": "int64",
         "type": "integer"
        },
        {
         "name": "Educación",
         "rawType": "int64",
         "type": "integer"
        },
        {
         "name": "Artes",
         "rawType": "int64",
         "type": "integer"
        },
        {
         "name": "Recreación",
         "rawType": "int64",
         "type": "integer"
        },
        {
         "name": "Economía",
         "rawType": "int64",
         "type": "integer"
        }
       ],
       "conversionMethod": "pd.DataFrame",
       "ref": "ede18d8e-bcb0-4c9c-bd2e-99bf525e0796",
       "rows": [
        [
         "Abilene,TX",
         "521",
         "-6200",
         "237",
         "-923",
         "4031",
         "2757",
         "996",
         "1405",
         "7633"
        ],
        [
         "Akron,OH",
         "575",
         "-8138",
         "1656",
         "-886",
         "4883",
         "2438",
         "5564",
         "2632",
         "4350"
        ],
        [
         "Albany,GA",
         "468",
         "-7339",
         "618",
         "-970",
         "2531",
         "2560",
         "237",
         "859",
         "5250"
        ],
        [
         "Albany-Schenectady-Troy,NY",
         "476",
         "-7908",
         "1431",
         "-610",
         "6883",
         "3399",
         "4655",
         "1617",
         "5864"
        ],
        [
         "Albuquerque,NM",
         "659",
         "-8393",
         "1853",
         "-1483",
         "6558",
         "3026",
         "4496",
         "2612",
         "5727"
        ]
       ],
       "shape": {
        "columns": 9,
        "rows": 5
       }
      },
      "text/html": [
       "<div>\n",
       "<style scoped>\n",
       "    .dataframe tbody tr th:only-of-type {\n",
       "        vertical-align: middle;\n",
       "    }\n",
       "\n",
       "    .dataframe tbody tr th {\n",
       "        vertical-align: top;\n",
       "    }\n",
       "\n",
       "    .dataframe thead th {\n",
       "        text-align: right;\n",
       "    }\n",
       "</style>\n",
       "<table border=\"1\" class=\"dataframe\">\n",
       "  <thead>\n",
       "    <tr style=\"text-align: right;\">\n",
       "      <th></th>\n",
       "      <th>Clima y Terreno</th>\n",
       "      <th>Alojamiento</th>\n",
       "      <th>Cuidado de la salud y el medio ambiente</th>\n",
       "      <th>Crimen</th>\n",
       "      <th>Transporte</th>\n",
       "      <th>Educación</th>\n",
       "      <th>Artes</th>\n",
       "      <th>Recreación</th>\n",
       "      <th>Economía</th>\n",
       "    </tr>\n",
       "    <tr>\n",
       "      <th>Ciudad</th>\n",
       "      <th></th>\n",
       "      <th></th>\n",
       "      <th></th>\n",
       "      <th></th>\n",
       "      <th></th>\n",
       "      <th></th>\n",
       "      <th></th>\n",
       "      <th></th>\n",
       "      <th></th>\n",
       "    </tr>\n",
       "  </thead>\n",
       "  <tbody>\n",
       "    <tr>\n",
       "      <th>Abilene,TX</th>\n",
       "      <td>521</td>\n",
       "      <td>-6200</td>\n",
       "      <td>237</td>\n",
       "      <td>-923</td>\n",
       "      <td>4031</td>\n",
       "      <td>2757</td>\n",
       "      <td>996</td>\n",
       "      <td>1405</td>\n",
       "      <td>7633</td>\n",
       "    </tr>\n",
       "    <tr>\n",
       "      <th>Akron,OH</th>\n",
       "      <td>575</td>\n",
       "      <td>-8138</td>\n",
       "      <td>1656</td>\n",
       "      <td>-886</td>\n",
       "      <td>4883</td>\n",
       "      <td>2438</td>\n",
       "      <td>5564</td>\n",
       "      <td>2632</td>\n",
       "      <td>4350</td>\n",
       "    </tr>\n",
       "    <tr>\n",
       "      <th>Albany,GA</th>\n",
       "      <td>468</td>\n",
       "      <td>-7339</td>\n",
       "      <td>618</td>\n",
       "      <td>-970</td>\n",
       "      <td>2531</td>\n",
       "      <td>2560</td>\n",
       "      <td>237</td>\n",
       "      <td>859</td>\n",
       "      <td>5250</td>\n",
       "    </tr>\n",
       "    <tr>\n",
       "      <th>Albany-Schenectady-Troy,NY</th>\n",
       "      <td>476</td>\n",
       "      <td>-7908</td>\n",
       "      <td>1431</td>\n",
       "      <td>-610</td>\n",
       "      <td>6883</td>\n",
       "      <td>3399</td>\n",
       "      <td>4655</td>\n",
       "      <td>1617</td>\n",
       "      <td>5864</td>\n",
       "    </tr>\n",
       "    <tr>\n",
       "      <th>Albuquerque,NM</th>\n",
       "      <td>659</td>\n",
       "      <td>-8393</td>\n",
       "      <td>1853</td>\n",
       "      <td>-1483</td>\n",
       "      <td>6558</td>\n",
       "      <td>3026</td>\n",
       "      <td>4496</td>\n",
       "      <td>2612</td>\n",
       "      <td>5727</td>\n",
       "    </tr>\n",
       "  </tbody>\n",
       "</table>\n",
       "</div>"
      ],
      "text/plain": [
       "                            Clima y Terreno  Alojamiento  \\\n",
       "Ciudad                                                     \n",
       "Abilene,TX                              521        -6200   \n",
       "Akron,OH                                575        -8138   \n",
       "Albany,GA                               468        -7339   \n",
       "Albany-Schenectady-Troy,NY              476        -7908   \n",
       "Albuquerque,NM                          659        -8393   \n",
       "\n",
       "                            Cuidado de la salud y el medio ambiente  Crimen  \\\n",
       "Ciudad                                                                        \n",
       "Abilene,TX                                                      237    -923   \n",
       "Akron,OH                                                       1656    -886   \n",
       "Albany,GA                                                       618    -970   \n",
       "Albany-Schenectady-Troy,NY                                     1431    -610   \n",
       "Albuquerque,NM                                                 1853   -1483   \n",
       "\n",
       "                            Transporte  Educación  Artes  Recreación  Economía  \n",
       "Ciudad                                                                          \n",
       "Abilene,TX                        4031       2757    996        1405      7633  \n",
       "Akron,OH                          4883       2438   5564        2632      4350  \n",
       "Albany,GA                         2531       2560    237         859      5250  \n",
       "Albany-Schenectady-Troy,NY        6883       3399   4655        1617      5864  \n",
       "Albuquerque,NM                    6558       3026   4496        2612      5727  "
      ]
     },
     "execution_count": 164,
     "metadata": {},
     "output_type": "execute_result"
    }
   ],
   "source": [
    "#Cargamos las librerías a utilizar\n",
    "import numpy as np\n",
    "import pandas as pd\n",
    "\n",
    "df = df.set_index(\"Ciudad\")\n",
    "df.head()"
   ]
  },
  {
   "cell_type": "markdown",
   "id": "2db0d0da",
   "metadata": {},
   "source": [
    "Iniciamos por estandarizar los datos, esto es importante dado que queremos que las magnitudes y centralización de las variables sean comparables entre sí, y a su vez, sus varianzas; si dejamos los datos como están originalmente, la varianza de variables cuyas unidades sean mayores pueden predominar en el PCA."
   ]
  },
  {
   "cell_type": "code",
   "execution_count": 165,
   "id": "eef9e773",
   "metadata": {},
   "outputs": [
    {
     "data": {
      "application/vnd.microsoft.datawrangler.viewer.v0+json": {
       "columns": [
        {
         "name": "Ciudad",
         "rawType": "object",
         "type": "string"
        },
        {
         "name": "Clima y Terreno",
         "rawType": "float64",
         "type": "float"
        },
        {
         "name": "Alojamiento",
         "rawType": "float64",
         "type": "float"
        },
        {
         "name": "Cuidado de la salud y el medio ambiente",
         "rawType": "float64",
         "type": "float"
        },
        {
         "name": "Crimen",
         "rawType": "float64",
         "type": "float"
        },
        {
         "name": "Transporte",
         "rawType": "float64",
         "type": "float"
        },
        {
         "name": "Educación",
         "rawType": "float64",
         "type": "float"
        },
        {
         "name": "Artes",
         "rawType": "float64",
         "type": "float"
        },
        {
         "name": "Recreación",
         "rawType": "float64",
         "type": "float"
        },
        {
         "name": "Economía",
         "rawType": "float64",
         "type": "float"
        }
       ],
       "conversionMethod": "pd.DataFrame",
       "ref": "13fd14ed-2ec8-461c-a51d-e4502f4da031",
       "rows": [
        [
         "Abilene,TX",
         "-0.14678237129581478",
         "0.8999257567597705",
         "-0.9458989791859875",
         "0.10654981152970673",
         "-0.12340451268040549",
         "-0.18045140185346467",
         "-0.4641862971152603",
         "-0.5458149563216473",
         "1.9434729681977594"
        ],
        [
         "Akron,OH",
         "0.30020693423065925",
         "0.08743660700495906",
         "0.4688538820181628",
         "0.21014652524784747",
         "0.46370421708671183",
         "-1.174862274834457",
         "0.5198121523227246",
         "0.9729596017537727",
         "-1.083816373868974"
        ],
        [
         "Albany,GA",
         "-0.5854940970903171",
         "0.4224102038336971",
         "-0.5660393314630973",
         "-0.0250460140041477",
         "-1.1570466425520909",
         "-0.7945546682398456",
         "-0.6276834125100569",
         "-1.2216510677390715",
         "-0.2539167674540912"
        ],
        [
         "Albany-Schenectady-Troy,NY",
         "-0.5192734592345432",
         "0.18386204789433297",
         "0.24452731840228273",
         "0.9829220113615458",
         "1.8418937235822923",
         "1.820839445964081",
         "0.324003354043581",
         "-0.2834024002401567",
         "0.31225918625561766"
        ],
        [
         "Albuquerque,NM",
         "0.9955236317162856",
         "-0.019469860068042456",
         "0.6652642510507334",
         "-1.4614004501502609",
         "1.6179379287767606",
         "0.6580956979330147",
         "0.289752970186173",
         "0.9482037002366509",
         "0.18593002394579664"
        ]
       ],
       "shape": {
        "columns": 9,
        "rows": 5
       }
      },
      "text/html": [
       "<div>\n",
       "<style scoped>\n",
       "    .dataframe tbody tr th:only-of-type {\n",
       "        vertical-align: middle;\n",
       "    }\n",
       "\n",
       "    .dataframe tbody tr th {\n",
       "        vertical-align: top;\n",
       "    }\n",
       "\n",
       "    .dataframe thead th {\n",
       "        text-align: right;\n",
       "    }\n",
       "</style>\n",
       "<table border=\"1\" class=\"dataframe\">\n",
       "  <thead>\n",
       "    <tr style=\"text-align: right;\">\n",
       "      <th></th>\n",
       "      <th>Clima y Terreno</th>\n",
       "      <th>Alojamiento</th>\n",
       "      <th>Cuidado de la salud y el medio ambiente</th>\n",
       "      <th>Crimen</th>\n",
       "      <th>Transporte</th>\n",
       "      <th>Educación</th>\n",
       "      <th>Artes</th>\n",
       "      <th>Recreación</th>\n",
       "      <th>Economía</th>\n",
       "    </tr>\n",
       "    <tr>\n",
       "      <th>Ciudad</th>\n",
       "      <th></th>\n",
       "      <th></th>\n",
       "      <th></th>\n",
       "      <th></th>\n",
       "      <th></th>\n",
       "      <th></th>\n",
       "      <th></th>\n",
       "      <th></th>\n",
       "      <th></th>\n",
       "    </tr>\n",
       "  </thead>\n",
       "  <tbody>\n",
       "    <tr>\n",
       "      <th>Abilene,TX</th>\n",
       "      <td>-0.146782</td>\n",
       "      <td>0.899926</td>\n",
       "      <td>-0.945899</td>\n",
       "      <td>0.106550</td>\n",
       "      <td>-0.123405</td>\n",
       "      <td>-0.180451</td>\n",
       "      <td>-0.464186</td>\n",
       "      <td>-0.545815</td>\n",
       "      <td>1.943473</td>\n",
       "    </tr>\n",
       "    <tr>\n",
       "      <th>Akron,OH</th>\n",
       "      <td>0.300207</td>\n",
       "      <td>0.087437</td>\n",
       "      <td>0.468854</td>\n",
       "      <td>0.210147</td>\n",
       "      <td>0.463704</td>\n",
       "      <td>-1.174862</td>\n",
       "      <td>0.519812</td>\n",
       "      <td>0.972960</td>\n",
       "      <td>-1.083816</td>\n",
       "    </tr>\n",
       "    <tr>\n",
       "      <th>Albany,GA</th>\n",
       "      <td>-0.585494</td>\n",
       "      <td>0.422410</td>\n",
       "      <td>-0.566039</td>\n",
       "      <td>-0.025046</td>\n",
       "      <td>-1.157047</td>\n",
       "      <td>-0.794555</td>\n",
       "      <td>-0.627683</td>\n",
       "      <td>-1.221651</td>\n",
       "      <td>-0.253917</td>\n",
       "    </tr>\n",
       "    <tr>\n",
       "      <th>Albany-Schenectady-Troy,NY</th>\n",
       "      <td>-0.519273</td>\n",
       "      <td>0.183862</td>\n",
       "      <td>0.244527</td>\n",
       "      <td>0.982922</td>\n",
       "      <td>1.841894</td>\n",
       "      <td>1.820839</td>\n",
       "      <td>0.324003</td>\n",
       "      <td>-0.283402</td>\n",
       "      <td>0.312259</td>\n",
       "    </tr>\n",
       "    <tr>\n",
       "      <th>Albuquerque,NM</th>\n",
       "      <td>0.995524</td>\n",
       "      <td>-0.019470</td>\n",
       "      <td>0.665264</td>\n",
       "      <td>-1.461400</td>\n",
       "      <td>1.617938</td>\n",
       "      <td>0.658096</td>\n",
       "      <td>0.289753</td>\n",
       "      <td>0.948204</td>\n",
       "      <td>0.185930</td>\n",
       "    </tr>\n",
       "  </tbody>\n",
       "</table>\n",
       "</div>"
      ],
      "text/plain": [
       "                            Clima y Terreno  Alojamiento  \\\n",
       "Ciudad                                                     \n",
       "Abilene,TX                        -0.146782     0.899926   \n",
       "Akron,OH                           0.300207     0.087437   \n",
       "Albany,GA                         -0.585494     0.422410   \n",
       "Albany-Schenectady-Troy,NY        -0.519273     0.183862   \n",
       "Albuquerque,NM                     0.995524    -0.019470   \n",
       "\n",
       "                            Cuidado de la salud y el medio ambiente    Crimen  \\\n",
       "Ciudad                                                                          \n",
       "Abilene,TX                                                -0.945899  0.106550   \n",
       "Akron,OH                                                   0.468854  0.210147   \n",
       "Albany,GA                                                 -0.566039 -0.025046   \n",
       "Albany-Schenectady-Troy,NY                                 0.244527  0.982922   \n",
       "Albuquerque,NM                                             0.665264 -1.461400   \n",
       "\n",
       "                            Transporte  Educación     Artes  Recreación  \\\n",
       "Ciudad                                                                    \n",
       "Abilene,TX                   -0.123405  -0.180451 -0.464186   -0.545815   \n",
       "Akron,OH                      0.463704  -1.174862  0.519812    0.972960   \n",
       "Albany,GA                    -1.157047  -0.794555 -0.627683   -1.221651   \n",
       "Albany-Schenectady-Troy,NY    1.841894   1.820839  0.324003   -0.283402   \n",
       "Albuquerque,NM                1.617938   0.658096  0.289753    0.948204   \n",
       "\n",
       "                            Economía  \n",
       "Ciudad                                \n",
       "Abilene,TX                  1.943473  \n",
       "Akron,OH                   -1.083816  \n",
       "Albany,GA                  -0.253917  \n",
       "Albany-Schenectady-Troy,NY  0.312259  \n",
       "Albuquerque,NM              0.185930  "
      ]
     },
     "execution_count": 165,
     "metadata": {},
     "output_type": "execute_result"
    }
   ],
   "source": [
    "# Estandarizamos la base de datos para poder aplicar PCA\n",
    "# Guardamos los datos originales en el dataframe \"df_original\", de aqui en adelante \"df\" será el dataframe estandarizado.\n",
    "df_original = df \n",
    "mu = df.mean()\n",
    "sigma = df.std()\n",
    "df = (df - mu)/sigma\n",
    "df.head()"
   ]
  },
  {
   "cell_type": "code",
   "execution_count": 166,
   "id": "eb6f56de",
   "metadata": {},
   "outputs": [
    {
     "data": {
      "application/vnd.microsoft.datawrangler.viewer.v0+json": {
       "columns": [
        {
         "name": "index",
         "rawType": "object",
         "type": "string"
        },
        {
         "name": "Clima y Terreno",
         "rawType": "float64",
         "type": "float"
        },
        {
         "name": "Alojamiento",
         "rawType": "float64",
         "type": "float"
        },
        {
         "name": "Cuidado de la salud y el medio ambiente",
         "rawType": "float64",
         "type": "float"
        },
        {
         "name": "Crimen",
         "rawType": "float64",
         "type": "float"
        },
        {
         "name": "Transporte",
         "rawType": "float64",
         "type": "float"
        },
        {
         "name": "Educación",
         "rawType": "float64",
         "type": "float"
        },
        {
         "name": "Artes",
         "rawType": "float64",
         "type": "float"
        },
        {
         "name": "Recreación",
         "rawType": "float64",
         "type": "float"
        },
        {
         "name": "Economía",
         "rawType": "float64",
         "type": "float"
        }
       ],
       "conversionMethod": "pd.DataFrame",
       "ref": "cff77679-f959-4975-92a0-b7838751daba",
       "rows": [
        [
         "Clima y Terreno",
         "1.0",
         "-0.38629069736726857",
         "0.21330253901220864",
         "-0.1923873075842426",
         "0.07911993262106172",
         "0.06451976231452629",
         "0.22697419923965217",
         "0.21350902774946776",
         "-0.10008274073988883"
        ],
        [
         "Alojamiento",
         "-0.38629069736726857",
         "1.0000000000000002",
         "-0.4530096780415161",
         "0.1342216623339066",
         "-0.2719215018204353",
         "-0.19793385848747136",
         "-0.44856776534154263",
         "-0.42228837744165687",
         "-0.26943277229650847"
        ],
        [
         "Cuidado de la salud y el medio ambiente",
         "0.21330253901220864",
         "-0.4530096780415161",
         "1.0",
         "-0.3046594251012436",
         "0.4703170667848225",
         "0.490234029223483",
         "0.8657960419746761",
         "0.3253969531875088",
         "0.06927073681199696"
        ],
        [
         "Crimen",
         "-0.1923873075842426",
         "0.1342216623339066",
         "-0.3046594251012436",
         "0.9999999999999997",
         "-0.28657843003642797",
         "-0.07441626593581196",
         "-0.3894826078025011",
         "-0.34462654443800633",
         "-0.25999471003091335"
        ],
        [
         "Transporte",
         "0.07911993262106172",
         "-0.2719215018204353",
         "0.4703170667848225",
         "-0.28657843003642797",
         "1.0000000000000004",
         "0.33599249588704333",
         "0.4648055657247594",
         "0.3647162444833403",
         "0.05924675349939944"
        ]
       ],
       "shape": {
        "columns": 9,
        "rows": 5
       }
      },
      "text/html": [
       "<div>\n",
       "<style scoped>\n",
       "    .dataframe tbody tr th:only-of-type {\n",
       "        vertical-align: middle;\n",
       "    }\n",
       "\n",
       "    .dataframe tbody tr th {\n",
       "        vertical-align: top;\n",
       "    }\n",
       "\n",
       "    .dataframe thead th {\n",
       "        text-align: right;\n",
       "    }\n",
       "</style>\n",
       "<table border=\"1\" class=\"dataframe\">\n",
       "  <thead>\n",
       "    <tr style=\"text-align: right;\">\n",
       "      <th></th>\n",
       "      <th>Clima y Terreno</th>\n",
       "      <th>Alojamiento</th>\n",
       "      <th>Cuidado de la salud y el medio ambiente</th>\n",
       "      <th>Crimen</th>\n",
       "      <th>Transporte</th>\n",
       "      <th>Educación</th>\n",
       "      <th>Artes</th>\n",
       "      <th>Recreación</th>\n",
       "      <th>Economía</th>\n",
       "    </tr>\n",
       "  </thead>\n",
       "  <tbody>\n",
       "    <tr>\n",
       "      <th>Clima y Terreno</th>\n",
       "      <td>1.000000</td>\n",
       "      <td>-0.386291</td>\n",
       "      <td>0.213303</td>\n",
       "      <td>-0.192387</td>\n",
       "      <td>0.079120</td>\n",
       "      <td>0.064520</td>\n",
       "      <td>0.226974</td>\n",
       "      <td>0.213509</td>\n",
       "      <td>-0.100083</td>\n",
       "    </tr>\n",
       "    <tr>\n",
       "      <th>Alojamiento</th>\n",
       "      <td>-0.386291</td>\n",
       "      <td>1.000000</td>\n",
       "      <td>-0.453010</td>\n",
       "      <td>0.134222</td>\n",
       "      <td>-0.271922</td>\n",
       "      <td>-0.197934</td>\n",
       "      <td>-0.448568</td>\n",
       "      <td>-0.422288</td>\n",
       "      <td>-0.269433</td>\n",
       "    </tr>\n",
       "    <tr>\n",
       "      <th>Cuidado de la salud y el medio ambiente</th>\n",
       "      <td>0.213303</td>\n",
       "      <td>-0.453010</td>\n",
       "      <td>1.000000</td>\n",
       "      <td>-0.304659</td>\n",
       "      <td>0.470317</td>\n",
       "      <td>0.490234</td>\n",
       "      <td>0.865796</td>\n",
       "      <td>0.325397</td>\n",
       "      <td>0.069271</td>\n",
       "    </tr>\n",
       "    <tr>\n",
       "      <th>Crimen</th>\n",
       "      <td>-0.192387</td>\n",
       "      <td>0.134222</td>\n",
       "      <td>-0.304659</td>\n",
       "      <td>1.000000</td>\n",
       "      <td>-0.286578</td>\n",
       "      <td>-0.074416</td>\n",
       "      <td>-0.389483</td>\n",
       "      <td>-0.344627</td>\n",
       "      <td>-0.259995</td>\n",
       "    </tr>\n",
       "    <tr>\n",
       "      <th>Transporte</th>\n",
       "      <td>0.079120</td>\n",
       "      <td>-0.271922</td>\n",
       "      <td>0.470317</td>\n",
       "      <td>-0.286578</td>\n",
       "      <td>1.000000</td>\n",
       "      <td>0.335992</td>\n",
       "      <td>0.464806</td>\n",
       "      <td>0.364716</td>\n",
       "      <td>0.059247</td>\n",
       "    </tr>\n",
       "  </tbody>\n",
       "</table>\n",
       "</div>"
      ],
      "text/plain": [
       "                                         Clima y Terreno  Alojamiento  \\\n",
       "Clima y Terreno                                 1.000000    -0.386291   \n",
       "Alojamiento                                    -0.386291     1.000000   \n",
       "Cuidado de la salud y el medio ambiente         0.213303    -0.453010   \n",
       "Crimen                                         -0.192387     0.134222   \n",
       "Transporte                                      0.079120    -0.271922   \n",
       "\n",
       "                                         Cuidado de la salud y el medio ambiente  \\\n",
       "Clima y Terreno                                                         0.213303   \n",
       "Alojamiento                                                            -0.453010   \n",
       "Cuidado de la salud y el medio ambiente                                 1.000000   \n",
       "Crimen                                                                 -0.304659   \n",
       "Transporte                                                              0.470317   \n",
       "\n",
       "                                           Crimen  Transporte  Educación  \\\n",
       "Clima y Terreno                         -0.192387    0.079120   0.064520   \n",
       "Alojamiento                              0.134222   -0.271922  -0.197934   \n",
       "Cuidado de la salud y el medio ambiente -0.304659    0.470317   0.490234   \n",
       "Crimen                                   1.000000   -0.286578  -0.074416   \n",
       "Transporte                              -0.286578    1.000000   0.335992   \n",
       "\n",
       "                                            Artes  Recreación  Economía  \n",
       "Clima y Terreno                          0.226974    0.213509 -0.100083  \n",
       "Alojamiento                             -0.448568   -0.422288 -0.269433  \n",
       "Cuidado de la salud y el medio ambiente  0.865796    0.325397  0.069271  \n",
       "Crimen                                  -0.389483   -0.344627 -0.259995  \n",
       "Transporte                               0.464806    0.364716  0.059247  "
      ]
     },
     "execution_count": 166,
     "metadata": {},
     "output_type": "execute_result"
    }
   ],
   "source": [
    "# Halamos la matriz de Covarianzas\n",
    "S = df.cov()\n",
    "S.head()"
   ]
  },
  {
   "cell_type": "code",
   "execution_count": 167,
   "id": "a854c152",
   "metadata": {},
   "outputs": [
    {
     "data": {
      "text/plain": [
       "array([3.4082918 , 1.21397617, 1.14147915, 0.92091782, 0.75328488,\n",
       "       0.6305619 , 0.49304772, 0.31803849, 0.12040208])"
      ]
     },
     "execution_count": 167,
     "metadata": {},
     "output_type": "execute_result"
    }
   ],
   "source": [
    "# Hallamos los eigenvalores y eigenvectores\n",
    "eig_val, eig_vec = np.linalg.eig(S)\n",
    "eig_val"
   ]
  },
  {
   "cell_type": "code",
   "execution_count": 168,
   "id": "7ce4a09b",
   "metadata": {},
   "outputs": [
    {
     "data": {
      "text/plain": [
       "array([[ 2.06413954e-01, -3.56521608e-01,  4.60214647e-01,\n",
       "        -2.81298380e-01,  3.51150781e-01,  2.75292636e-01,\n",
       "         4.63054489e-01,  3.27887907e-01,  1.35412251e-01],\n",
       "       [-2.17835308e-01,  2.50624000e-01,  2.99465282e-01,\n",
       "         3.55342273e-01,  1.79604477e-01,  4.83382093e-01,\n",
       "         1.94789920e-01, -3.84474638e-01, -4.71283277e-01],\n",
       "       [ 6.89955982e-01, -2.08172230e-01,  7.32492550e-03,\n",
       "         1.85104981e-01, -1.46376283e-01, -2.29702548e-01,\n",
       "         2.64842979e-02,  5.08526400e-02, -6.07314475e-01],\n",
       "       [-1.37321246e-01,  5.11828708e-01, -1.47018320e-02,\n",
       "        -5.39050473e-01,  3.02903705e-01, -3.35411034e-01,\n",
       "         1.01080391e-01,  1.89800816e-01, -4.21769940e-01],\n",
       "       [-3.69149929e-01, -2.33487781e-01, -1.03240518e-01,\n",
       "         5.23939687e-01,  4.04348475e-01, -2.08819059e-01,\n",
       "        -1.05097637e-01,  5.29540576e-01, -1.59620056e-01],\n",
       "       [-3.74604694e-01, -1.41639825e-01,  3.73848037e-01,\n",
       "         8.09232850e-02, -4.67591803e-01, -5.02169811e-01,\n",
       "         4.61880719e-01, -8.99157817e-02, -3.26081342e-02],\n",
       "       [ 8.47057741e-02, -2.30638624e-01, -1.38676115e-02,\n",
       "         1.86064572e-02,  5.83390970e-01, -4.26181860e-01,\n",
       "         2.15251529e-02, -6.27877892e-01,  1.49740658e-01],\n",
       "       [ 3.62308330e-01,  6.13855131e-01,  1.85676120e-01,\n",
       "         4.30024765e-01,  9.35986618e-02, -1.88667565e-01,\n",
       "         2.03989691e-01,  1.50595968e-01,  4.04809255e-01],\n",
       "       [ 1.39135150e-03, -1.36003402e-02, -7.16354893e-01,\n",
       "         5.86084614e-02,  3.62945266e-03,  1.10840191e-01,\n",
       "         6.85758213e-01, -2.55062915e-02,  4.37794248e-04]])"
      ]
     },
     "execution_count": 168,
     "metadata": {},
     "output_type": "execute_result"
    }
   ],
   "source": [
    "# Mostramos los vectores\n",
    "eig_vec.T"
   ]
  },
  {
   "cell_type": "code",
   "execution_count": 169,
   "id": "93a7eaf0",
   "metadata": {},
   "outputs": [
    {
     "data": {
      "application/vnd.microsoft.datawrangler.viewer.v0+json": {
       "columns": [
        {
         "name": "Ciudad",
         "rawType": "object",
         "type": "string"
        },
        {
         "name": "CP1",
         "rawType": "float64",
         "type": "float"
        },
        {
         "name": "CP2",
         "rawType": "float64",
         "type": "float"
        },
        {
         "name": "CP3",
         "rawType": "float64",
         "type": "float"
        },
        {
         "name": "CP4",
         "rawType": "float64",
         "type": "float"
        },
        {
         "name": "CP5",
         "rawType": "float64",
         "type": "float"
        },
        {
         "name": "CP6",
         "rawType": "float64",
         "type": "float"
        },
        {
         "name": "CP7",
         "rawType": "float64",
         "type": "float"
        },
        {
         "name": "CP8",
         "rawType": "float64",
         "type": "float"
        },
        {
         "name": "CP9",
         "rawType": "float64",
         "type": "float"
        }
       ],
       "conversionMethod": "pd.DataFrame",
       "ref": "b94e9b75-b196-4b81-8cd2-9a54d97fa9d9",
       "rows": [
        [
         "Abilene,TX",
         "-1.040179916920133",
         "-0.8937689683841092",
         "-1.4366540694246384",
         "-0.509834128597879",
         "-0.5651364730283006",
         "-0.49785424241589094",
         "0.42375134057395086",
         "1.0017756962165576",
         "0.34740439309323234"
        ],
        [
         "Akron,OH",
         "0.4398135959626828",
         "-0.07506617690209506",
         "1.1547165397943109",
         "1.1122071848472184",
         "0.9968837558371293",
         "0.6285465112870505",
         "0.011894879702202224",
         "0.41874577557196535",
         "-0.12168547618628262"
        ],
        [
         "Albany,GA",
         "-1.8755392598385345",
         "-0.06979169219143957",
         "-0.07334675646808264",
         "0.046231622120587804",
         "-0.6795243693323341",
         "0.7140967208679172",
         "0.23949403198500482",
         "-0.441896961023291",
         "-0.09420088144358958"
        ],
        [
         "Albany-Schenectady-Troy,NY",
         "0.91074141905107",
         "1.817582150915173",
         "-1.0961471967976637",
         "-0.5735807887773947",
         "0.7690799972933435",
         "-1.2712365238304446",
         "0.4587161792858514",
         "0.3714961897109584",
         "0.317276595988867"
        ],
        [
         "Albuquerque,NM",
         "2.1492475360920937",
         "-0.3288580786264162",
         "-0.019738350387571952",
         "1.0315015405020014",
         "-0.23854979376490357",
         "-1.284224011640999",
         "0.1545440402745088",
         "0.1482641095683018",
         "-0.3071534133170739"
        ]
       ],
       "shape": {
        "columns": 9,
        "rows": 5
       }
      },
      "text/html": [
       "<div>\n",
       "<style scoped>\n",
       "    .dataframe tbody tr th:only-of-type {\n",
       "        vertical-align: middle;\n",
       "    }\n",
       "\n",
       "    .dataframe tbody tr th {\n",
       "        vertical-align: top;\n",
       "    }\n",
       "\n",
       "    .dataframe thead th {\n",
       "        text-align: right;\n",
       "    }\n",
       "</style>\n",
       "<table border=\"1\" class=\"dataframe\">\n",
       "  <thead>\n",
       "    <tr style=\"text-align: right;\">\n",
       "      <th></th>\n",
       "      <th>CP1</th>\n",
       "      <th>CP2</th>\n",
       "      <th>CP3</th>\n",
       "      <th>CP4</th>\n",
       "      <th>CP5</th>\n",
       "      <th>CP6</th>\n",
       "      <th>CP7</th>\n",
       "      <th>CP8</th>\n",
       "      <th>CP9</th>\n",
       "    </tr>\n",
       "    <tr>\n",
       "      <th>Ciudad</th>\n",
       "      <th></th>\n",
       "      <th></th>\n",
       "      <th></th>\n",
       "      <th></th>\n",
       "      <th></th>\n",
       "      <th></th>\n",
       "      <th></th>\n",
       "      <th></th>\n",
       "      <th></th>\n",
       "    </tr>\n",
       "  </thead>\n",
       "  <tbody>\n",
       "    <tr>\n",
       "      <th>Abilene,TX</th>\n",
       "      <td>-1.040180</td>\n",
       "      <td>-0.893769</td>\n",
       "      <td>-1.436654</td>\n",
       "      <td>-0.509834</td>\n",
       "      <td>-0.565136</td>\n",
       "      <td>-0.497854</td>\n",
       "      <td>0.423751</td>\n",
       "      <td>1.001776</td>\n",
       "      <td>0.347404</td>\n",
       "    </tr>\n",
       "    <tr>\n",
       "      <th>Akron,OH</th>\n",
       "      <td>0.439814</td>\n",
       "      <td>-0.075066</td>\n",
       "      <td>1.154717</td>\n",
       "      <td>1.112207</td>\n",
       "      <td>0.996884</td>\n",
       "      <td>0.628547</td>\n",
       "      <td>0.011895</td>\n",
       "      <td>0.418746</td>\n",
       "      <td>-0.121685</td>\n",
       "    </tr>\n",
       "    <tr>\n",
       "      <th>Albany,GA</th>\n",
       "      <td>-1.875539</td>\n",
       "      <td>-0.069792</td>\n",
       "      <td>-0.073347</td>\n",
       "      <td>0.046232</td>\n",
       "      <td>-0.679524</td>\n",
       "      <td>0.714097</td>\n",
       "      <td>0.239494</td>\n",
       "      <td>-0.441897</td>\n",
       "      <td>-0.094201</td>\n",
       "    </tr>\n",
       "    <tr>\n",
       "      <th>Albany-Schenectady-Troy,NY</th>\n",
       "      <td>0.910741</td>\n",
       "      <td>1.817582</td>\n",
       "      <td>-1.096147</td>\n",
       "      <td>-0.573581</td>\n",
       "      <td>0.769080</td>\n",
       "      <td>-1.271237</td>\n",
       "      <td>0.458716</td>\n",
       "      <td>0.371496</td>\n",
       "      <td>0.317277</td>\n",
       "    </tr>\n",
       "    <tr>\n",
       "      <th>Albuquerque,NM</th>\n",
       "      <td>2.149248</td>\n",
       "      <td>-0.328858</td>\n",
       "      <td>-0.019738</td>\n",
       "      <td>1.031502</td>\n",
       "      <td>-0.238550</td>\n",
       "      <td>-1.284224</td>\n",
       "      <td>0.154544</td>\n",
       "      <td>0.148264</td>\n",
       "      <td>-0.307153</td>\n",
       "    </tr>\n",
       "  </tbody>\n",
       "</table>\n",
       "</div>"
      ],
      "text/plain": [
       "                                 CP1       CP2       CP3       CP4       CP5  \\\n",
       "Ciudad                                                                         \n",
       "Abilene,TX                 -1.040180 -0.893769 -1.436654 -0.509834 -0.565136   \n",
       "Akron,OH                    0.439814 -0.075066  1.154717  1.112207  0.996884   \n",
       "Albany,GA                  -1.875539 -0.069792 -0.073347  0.046232 -0.679524   \n",
       "Albany-Schenectady-Troy,NY  0.910741  1.817582 -1.096147 -0.573581  0.769080   \n",
       "Albuquerque,NM              2.149248 -0.328858 -0.019738  1.031502 -0.238550   \n",
       "\n",
       "                                 CP6       CP7       CP8       CP9  \n",
       "Ciudad                                                              \n",
       "Abilene,TX                 -0.497854  0.423751  1.001776  0.347404  \n",
       "Akron,OH                    0.628547  0.011895  0.418746 -0.121685  \n",
       "Albany,GA                   0.714097  0.239494 -0.441897 -0.094201  \n",
       "Albany-Schenectady-Troy,NY -1.271237  0.458716  0.371496  0.317277  \n",
       "Albuquerque,NM             -1.284224  0.154544  0.148264 -0.307153  "
      ]
     },
     "execution_count": 169,
     "metadata": {},
     "output_type": "execute_result"
    }
   ],
   "source": [
    "# Almacenamos la traspuesta del eigenvector\n",
    "eig_vec=eig_vec.T\n",
    "\n",
    "# Creamos un df llamado f, en este almacenaremos las 9 componentes principales\n",
    "f = pd.DataFrame()\n",
    "for i in range(0,9):\n",
    "    eig_vec[[i]].round(2)\n",
    "    f[i]=df.dot(eig_vec[[i]].T) #calculamos f1\n",
    "\n",
    "f.columns = ['CP1','CP2','CP3','CP4','CP5','CP6','CP7','CP8','CP9'] # nombramos la columna del primer componente como CP1\n",
    "f.head()\n"
   ]
  },
  {
   "cell_type": "markdown",
   "id": "c91ad425",
   "metadata": {
    "id": "c91ad425"
   },
   "source": [
    "(Utilice este espacio para describir el procedimiento, análisis, y conclusiones)."
   ]
  },
  {
   "cell_type": "code",
   "execution_count": 170,
   "id": "6d9dc794",
   "metadata": {},
   "outputs": [
    {
     "data": {
      "image/png": "[encoded data removed]",
      "text/plain": [
       "<Figure size 640x480 with 1 Axes>"
      ]
     },
     "metadata": {},
     "output_type": "display_data"
    }
   ],
   "source": [
    "import matplotlib.pyplot as plt\n",
    "vector = np.sort(eig_val)[::-1]/sum(eig_val)\n",
    "\n",
    "# Graficar el vector\n",
    "plt.plot(vector)\n",
    "plt.title('Varianza explicada por cada Componente Principal')\n",
    "plt.xlabel('Componente Principal')\n",
    "plt.ylabel('Proporción de la varianza explicada')\n",
    "plt.show()"
   ]
  },
  {
   "cell_type": "code",
   "execution_count": 171,
   "id": "ded6f2c7",
   "metadata": {},
   "outputs": [
    {
     "data": {
      "text/plain": [
       "array([0.37869909, 0.13488624, 0.12683102, 0.1023242 , 0.08369832,\n",
       "       0.07006243, 0.05478308, 0.03533761, 0.01337801])"
      ]
     },
     "execution_count": 171,
     "metadata": {},
     "output_type": "execute_result"
    }
   ],
   "source": [
    "vectoracumulado = vector\n",
    "vectoracumulado"
   ]
  },
  {
   "cell_type": "code",
   "execution_count": 172,
   "id": "67f85761",
   "metadata": {},
   "outputs": [
    {
     "data": {
      "image/png": "[encoded data removed]",
      "text/plain": [
       "<Figure size 640x480 with 1 Axes>"
      ]
     },
     "metadata": {},
     "output_type": "display_data"
    }
   ],
   "source": [
    "for i in range(1,9):\n",
    "    vectoracumulado[i] = vectoracumulado[i] + vectoracumulado[i-1]\n",
    "\n",
    "# Graficar el vector\n",
    "x_values = np.arange(1, len(vector) + 1)\n",
    "plt.plot(x_values, vectoracumulado)\n",
    "plt.title('Varianza explicada acumulada por cada Componente Principal')\n",
    "plt.xlabel('Componente Principal')\n",
    "plt.ylabel('Proporción de la varianza explicada')\n",
    "plt.show()\n"
   ]
  },
  {
   "cell_type": "markdown",
   "id": "d5f6b49a",
   "metadata": {},
   "source": [
    "En nuestro análisis gráfico de la \"Varianza explicada por cada Componente Principal\" el codo no es tan fácil de escoger; sin embargo, en la explicación gráfica de \"Varianza explicada acumulada por cada Componente Principal\" vemos que con el 4to componente ya se explica mas del 70% de la varianza, teniendo en cuenta que la idea del PCA es reducir la dimensión y para este ejercicio ya usamos 9 variables, entre menos componentes escojamos, mas propósito tendrá el PCA, por lo que consideramos que con 4 componentes es suficiente."
   ]
  },
  {
   "cell_type": "markdown",
   "id": "101d1eb2",
   "metadata": {
    "id": "101d1eb2"
   },
   "source": [
    "### 4.  Interpretación de los componentes principales.\n",
    "\n",
    "Logró reducir la dimensión en el ejercicio anterior? Si lo hizo, pueden los pesos obtenidos identificar dimensiones menores de los datos? Provea una interpretación a estas dimensiones, para ello puede utilizar gráficas y/o tablas."
   ]
  },
  {
   "cell_type": "code",
   "execution_count": 174,
   "id": "bf4cac07",
   "metadata": {
    "id": "bf4cac07"
   },
   "outputs": [
    {
     "data": {
      "image/png": "[encoded data removed]",
      "text/plain": [
       "<Figure size 1000x800 with 2 Axes>"
      ]
     },
     "metadata": {},
     "output_type": "display_data"
    }
   ],
   "source": [
    "# Utilice este espacio para escribir el código.\n",
    "\n",
    "# Calculamos la matriz de correlacion\n",
    "correlation_matrix2 = f[:4].select_dtypes(include=['number']).corr()\n",
    "correlation_matrix2\n",
    "\n",
    "# Creamos un mapa de calor\n",
    "plt.figure(figsize=(10, 8))\n",
    "sns.heatmap(correlation_matrix2, annot=True, cmap='coolwarm', vmin=-1, vmax=1)\n",
    "plt.title('Correlation Matrix Heatmap')\n",
    "plt.show()"
   ]
  },
  {
   "cell_type": "markdown",
   "id": "e8b20c4d",
   "metadata": {
    "id": "e8b20c4d"
   },
   "source": [
    "(Utilice este espacio para describir el procedimiento, análisis, y conclusiones)."
   ]
  },
  {
   "cell_type": "markdown",
   "id": "76ad13f0",
   "metadata": {
    "id": "76ad13f0"
   },
   "source": [
    "### 5.   Detección de ciudades inusuales.\n",
    "\n",
    "A partir de los Componentes Principales identifique las 5 ciudades calidad de vida inusualmente alta. En la distribución de calidad de vida  de la muestra que tan inusuales son? Cuáles son las dimensiones que hacen que estas ciudades tengan esta calidad de vida inusual?"
   ]
  },
  {
   "cell_type": "code",
   "execution_count": 48,
   "id": "bbf2c11b",
   "metadata": {
    "id": "bbf2c11b"
   },
   "outputs": [],
   "source": [
    "# Utilice este espacio para escribir el código."
   ]
  },
  {
   "cell_type": "markdown",
   "id": "0873589c",
   "metadata": {
    "id": "0873589c"
   },
   "source": [
    "(Utilice este espacio para describir el procedimiento, análisis, y conclusiones)."
   ]
  }
 ],
 "metadata": {
  "colab": {
   "provenance": []
  },
  "kernelspec": {
   "display_name": "myenvironment",
   "language": "python",
   "name": "python3"
  },
  "language_info": {
   "codemirror_mode": {
    "name": "ipython",
    "version": 3
   },
   "file_extension": ".py",
   "mimetype": "text/x-python",
   "name": "python",
   "nbconvert_exporter": "python",
   "pygments_lexer": "ipython3",
   "version": "3.13.1"
  },
  "toc": {
   "base_numbering": 1,
   "nav_menu": {},
   "number_sections": true,
   "sideBar": true,
   "skip_h1_title": false,
   "title_cell": "Table of Contents",
   "title_sidebar": "Contents",
   "toc_cell": false,
   "toc_position": {},
   "toc_section_display": true,
   "toc_window_display": false
  }
 },
 "nbformat": 4,
 "nbformat_minor": 5
}
