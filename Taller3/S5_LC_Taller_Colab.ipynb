{
 "cells": [
  {
   "cell_type": "markdown",
   "id": "a73ff803",
   "metadata": {
    "id": "a73ff803"
   },
   "source": [
    "![Clase aprendizaje no supervisado](https://raw.githubusercontent.com/MECA4605-Aprendizaje-no-supervisado/taller_3/main/figs/taller-meca-aprendizaje%20no%20supervisado_banner%201169%20x%20200%20px%20-05.png)"
   ]
  },
  {
   "cell_type": "markdown",
   "id": "2f035f51",
   "metadata": {
    "id": "2f035f51"
   },
   "source": [
    "# Caso-taller:  Recomendando Música"
   ]
  },
  {
   "cell_type": "markdown",
   "id": "827a72c1",
   "metadata": {
    "id": "827a72c1"
   },
   "source": [
    "El objetivo de este caso-taller es construir un sistema de recomendación de Música utilizando los datos de [Last.fm](https://www.last.fm/) provistos  abiertamente por [grouplens](https://grouplens.org/about/what-is-grouplens/) para: **\"avanzar la teoría y la práctica de la computación social mediante la construcción y la comprensión de sistemas *(de recomendación)* utilizados por personas reales\".**\n",
    "\n",
    "Los datos contienen información sobre artistas, usuarios, y las veces que estos escucharon sus canciones. Las bases se encuentran en los `Archivos de Laboratorio` en la carpeta `data`, allí también está disponible un archivo [README](data/readme.txt) que contiene más información sobre las bases.\n"
   ]
  },
  {
   "cell_type": "markdown",
   "id": "e9d30d2a",
   "metadata": {
    "id": "e9d30d2a"
   },
   "source": [
    "## Instrucciones generales\n",
    "\n",
    "1. Para desarrollar el *cuaderno*, primero debe descargarlo.\n",
    "\n",
    "2. Para responder cada inciso deberá utilizar el espacio debidamente especificado.\n",
    "\n",
    "3. La actividad será calificada sólo si sube el *cuaderno* de jupyter notebook con extensión `.ipynb` en la actividad designada como \"entrega calificada por el personal\".\n",
    "\n",
    "4. El archivo entregado debe poder ser ejecutado localmente por el tutor. Sea cuidadoso con la especificación de la ubicación de los archivos de soporte, guarde la carpeta de datos en el mismo `path` de su cuaderno, por ejemplo: `data`."
   ]
  },
  {
   "cell_type": "markdown",
   "id": "f30f0306",
   "metadata": {
    "id": "f30f0306"
   },
   "source": [
    "## Desarrollo\n"
   ]
  },
  {
   "cell_type": "markdown",
   "id": "d7a99311",
   "metadata": {
    "id": "d7a99311"
   },
   "source": [
    "### 1. Carga de datos\n",
    "\n",
    "En la carpeta `data` se encuentran los archivos:\n",
    "\n",
    "   - `artists.dat`  que contienen el identificador del artista (`id`), nombre (`name`), link a la página del artista en last.fm (`url`), y link a la imagen del usuario (`pictureURL`), vale aclarar que varios de estos links están rotos.\n",
    "   - `user_artists.dat`  que contiene identificador del usuario (`userID`), nombre del artista que escuchó (`artistID`), y las veces que los escuchó (`weight`).\n",
    "\n",
    "Cargue estos datos en su *cuaderno*:\n",
    "\n",
    "   1. Para la base de artistas seleccione las columnas de identificador de artista (`id`) y nombre (`name`). Renombre estas columnas para poder hacer la unión con la base `user_artists.dat`.\n",
    "   2. Para la base de usuarios y artistas, renombre las columnas de forma tal que se mantenga la consistencia para unir con la base anterior, y renombre la columna `weight` a `nro_reproducciones`.\n",
    "   3. Una estas bases.\n",
    "   "
   ]
  },
  {
   "cell_type": "code",
   "execution_count": 47,
   "id": "9c31ddd3",
   "metadata": {
    "id": "9c31ddd3"
   },
   "outputs": [],
   "source": [
    "# Cargamos los paquetes\n",
    "import pandas as pd\n",
    "import numpy as np\n",
    "import matplotlib.pyplot as plt\n",
    "import statsmodels.api as sm"
   ]
  },
  {
   "cell_type": "code",
   "execution_count": 48,
   "id": "540f31aa",
   "metadata": {},
   "outputs": [
    {
     "data": {
      "application/vnd.microsoft.datawrangler.viewer.v0+json": {
       "columns": [
        {
         "name": "index",
         "rawType": "int64",
         "type": "integer"
        },
        {
         "name": "id",
         "rawType": "int64",
         "type": "integer"
        },
        {
         "name": "name",
         "rawType": "object",
         "type": "string"
        },
        {
         "name": "url",
         "rawType": "object",
         "type": "string"
        },
        {
         "name": "pictureURL",
         "rawType": "object",
         "type": "string"
        }
       ],
       "conversionMethod": "pd.DataFrame",
       "ref": "6d599963-bd5a-47e4-a67a-354de4415a6a",
       "rows": [
        [
         "0",
         "1",
         "MALICE MIZER",
         "http://www.last.fm/music/MALICE+MIZER",
         "http://userserve-ak.last.fm/serve/252/10808.jpg"
        ],
        [
         "1",
         "2",
         "Diary of Dreams",
         "http://www.last.fm/music/Diary+of+Dreams",
         "http://userserve-ak.last.fm/serve/252/3052066.jpg"
        ],
        [
         "2",
         "3",
         "Carpathian Forest",
         "http://www.last.fm/music/Carpathian+Forest",
         "http://userserve-ak.last.fm/serve/252/40222717.jpg"
        ],
        [
         "3",
         "4",
         "Moi dix Mois",
         "http://www.last.fm/music/Moi+dix+Mois",
         "http://userserve-ak.last.fm/serve/252/54697835.png"
        ],
        [
         "4",
         "5",
         "Bella Morte",
         "http://www.last.fm/music/Bella+Morte",
         "http://userserve-ak.last.fm/serve/252/14789013.jpg"
        ]
       ],
       "shape": {
        "columns": 4,
        "rows": 5
       }
      },
      "text/html": [
       "<div>\n",
       "<style scoped>\n",
       "    .dataframe tbody tr th:only-of-type {\n",
       "        vertical-align: middle;\n",
       "    }\n",
       "\n",
       "    .dataframe tbody tr th {\n",
       "        vertical-align: top;\n",
       "    }\n",
       "\n",
       "    .dataframe thead th {\n",
       "        text-align: right;\n",
       "    }\n",
       "</style>\n",
       "<table border=\"1\" class=\"dataframe\">\n",
       "  <thead>\n",
       "    <tr style=\"text-align: right;\">\n",
       "      <th></th>\n",
       "      <th>id</th>\n",
       "      <th>name</th>\n",
       "      <th>url</th>\n",
       "      <th>pictureURL</th>\n",
       "    </tr>\n",
       "  </thead>\n",
       "  <tbody>\n",
       "    <tr>\n",
       "      <th>0</th>\n",
       "      <td>1</td>\n",
       "      <td>MALICE MIZER</td>\n",
       "      <td>http://www.last.fm/music/MALICE+MIZER</td>\n",
       "      <td>http://userserve-ak.last.fm/serve/252/10808.jpg</td>\n",
       "    </tr>\n",
       "    <tr>\n",
       "      <th>1</th>\n",
       "      <td>2</td>\n",
       "      <td>Diary of Dreams</td>\n",
       "      <td>http://www.last.fm/music/Diary+of+Dreams</td>\n",
       "      <td>http://userserve-ak.last.fm/serve/252/3052066.jpg</td>\n",
       "    </tr>\n",
       "    <tr>\n",
       "      <th>2</th>\n",
       "      <td>3</td>\n",
       "      <td>Carpathian Forest</td>\n",
       "      <td>http://www.last.fm/music/Carpathian+Forest</td>\n",
       "      <td>http://userserve-ak.last.fm/serve/252/40222717...</td>\n",
       "    </tr>\n",
       "    <tr>\n",
       "      <th>3</th>\n",
       "      <td>4</td>\n",
       "      <td>Moi dix Mois</td>\n",
       "      <td>http://www.last.fm/music/Moi+dix+Mois</td>\n",
       "      <td>http://userserve-ak.last.fm/serve/252/54697835...</td>\n",
       "    </tr>\n",
       "    <tr>\n",
       "      <th>4</th>\n",
       "      <td>5</td>\n",
       "      <td>Bella Morte</td>\n",
       "      <td>http://www.last.fm/music/Bella+Morte</td>\n",
       "      <td>http://userserve-ak.last.fm/serve/252/14789013...</td>\n",
       "    </tr>\n",
       "  </tbody>\n",
       "</table>\n",
       "</div>"
      ],
      "text/plain": [
       "   id               name                                         url  \\\n",
       "0   1       MALICE MIZER       http://www.last.fm/music/MALICE+MIZER   \n",
       "1   2    Diary of Dreams    http://www.last.fm/music/Diary+of+Dreams   \n",
       "2   3  Carpathian Forest  http://www.last.fm/music/Carpathian+Forest   \n",
       "3   4       Moi dix Mois       http://www.last.fm/music/Moi+dix+Mois   \n",
       "4   5        Bella Morte        http://www.last.fm/music/Bella+Morte   \n",
       "\n",
       "                                          pictureURL  \n",
       "0    http://userserve-ak.last.fm/serve/252/10808.jpg  \n",
       "1  http://userserve-ak.last.fm/serve/252/3052066.jpg  \n",
       "2  http://userserve-ak.last.fm/serve/252/40222717...  \n",
       "3  http://userserve-ak.last.fm/serve/252/54697835...  \n",
       "4  http://userserve-ak.last.fm/serve/252/14789013...  "
      ]
     },
     "execution_count": 48,
     "metadata": {},
     "output_type": "execute_result"
    }
   ],
   "source": [
    "# Cargamos los datos de la base artist y user_artist\n",
    "artist = pd.read_csv('https://raw.githubusercontent.com/sebastian23escobar/Aprendizaje_no_supervisado/refs/heads/main/Taller3/data/artists.dat', sep='\\t')\n",
    "artist.head()"
   ]
  },
  {
   "cell_type": "code",
   "execution_count": 49,
   "id": "2dccf265",
   "metadata": {},
   "outputs": [
    {
     "data": {
      "application/vnd.microsoft.datawrangler.viewer.v0+json": {
       "columns": [
        {
         "name": "index",
         "rawType": "int64",
         "type": "integer"
        },
        {
         "name": "userID",
         "rawType": "int64",
         "type": "integer"
        },
        {
         "name": "artistID",
         "rawType": "int64",
         "type": "integer"
        },
        {
         "name": "weight",
         "rawType": "int64",
         "type": "integer"
        }
       ],
       "conversionMethod": "pd.DataFrame",
       "ref": "c46a3f8f-918d-451d-b139-56f86902cf7e",
       "rows": [
        [
         "0",
         "2",
         "51",
         "13883"
        ],
        [
         "1",
         "2",
         "52",
         "11690"
        ],
        [
         "2",
         "2",
         "53",
         "11351"
        ],
        [
         "3",
         "2",
         "54",
         "10300"
        ],
        [
         "4",
         "2",
         "55",
         "8983"
        ]
       ],
       "shape": {
        "columns": 3,
        "rows": 5
       }
      },
      "text/html": [
       "<div>\n",
       "<style scoped>\n",
       "    .dataframe tbody tr th:only-of-type {\n",
       "        vertical-align: middle;\n",
       "    }\n",
       "\n",
       "    .dataframe tbody tr th {\n",
       "        vertical-align: top;\n",
       "    }\n",
       "\n",
       "    .dataframe thead th {\n",
       "        text-align: right;\n",
       "    }\n",
       "</style>\n",
       "<table border=\"1\" class=\"dataframe\">\n",
       "  <thead>\n",
       "    <tr style=\"text-align: right;\">\n",
       "      <th></th>\n",
       "      <th>userID</th>\n",
       "      <th>artistID</th>\n",
       "      <th>weight</th>\n",
       "    </tr>\n",
       "  </thead>\n",
       "  <tbody>\n",
       "    <tr>\n",
       "      <th>0</th>\n",
       "      <td>2</td>\n",
       "      <td>51</td>\n",
       "      <td>13883</td>\n",
       "    </tr>\n",
       "    <tr>\n",
       "      <th>1</th>\n",
       "      <td>2</td>\n",
       "      <td>52</td>\n",
       "      <td>11690</td>\n",
       "    </tr>\n",
       "    <tr>\n",
       "      <th>2</th>\n",
       "      <td>2</td>\n",
       "      <td>53</td>\n",
       "      <td>11351</td>\n",
       "    </tr>\n",
       "    <tr>\n",
       "      <th>3</th>\n",
       "      <td>2</td>\n",
       "      <td>54</td>\n",
       "      <td>10300</td>\n",
       "    </tr>\n",
       "    <tr>\n",
       "      <th>4</th>\n",
       "      <td>2</td>\n",
       "      <td>55</td>\n",
       "      <td>8983</td>\n",
       "    </tr>\n",
       "  </tbody>\n",
       "</table>\n",
       "</div>"
      ],
      "text/plain": [
       "   userID  artistID  weight\n",
       "0       2        51   13883\n",
       "1       2        52   11690\n",
       "2       2        53   11351\n",
       "3       2        54   10300\n",
       "4       2        55    8983"
      ]
     },
     "execution_count": 49,
     "metadata": {},
     "output_type": "execute_result"
    }
   ],
   "source": [
    "user_artist = pd.read_csv('https://raw.githubusercontent.com/sebastian23escobar/Aprendizaje_no_supervisado/refs/heads/main/Taller3/data/user_artists.dat', sep='\\t')\n",
    "user_artist.head()"
   ]
  },
  {
   "cell_type": "code",
   "execution_count": null,
   "id": "79e250c3",
   "metadata": {},
   "outputs": [
    {
     "data": {
      "application/vnd.microsoft.datawrangler.viewer.v0+json": {
       "columns": [
        {
         "name": "index",
         "rawType": "int64",
         "type": "integer"
        },
        {
         "name": "artistID",
         "rawType": "int64",
         "type": "integer"
        },
        {
         "name": "name",
         "rawType": "object",
         "type": "string"
        }
       ],
       "conversionMethod": "pd.DataFrame",
       "ref": "268bfd10-49c1-48ff-b031-00c5c4513e78",
       "rows": [
        [
         "0",
         "1",
         "MALICE MIZER"
        ],
        [
         "1",
         "2",
         "Diary of Dreams"
        ],
        [
         "2",
         "3",
         "Carpathian Forest"
        ],
        [
         "3",
         "4",
         "Moi dix Mois"
        ],
        [
         "4",
         "5",
         "Bella Morte"
        ],
        [
         "5",
         "6",
         "Moonspell"
        ],
        [
         "6",
         "7",
         "Marilyn Manson"
        ],
        [
         "7",
         "8",
         "DIR EN GREY"
        ],
        [
         "8",
         "9",
         "Combichrist"
        ],
        [
         "9",
         "10",
         "Grendel"
        ],
        [
         "10",
         "11",
         "Agonoize"
        ],
        [
         "11",
         "12",
         "Behemoth"
        ],
        [
         "12",
         "13",
         "Hocico"
        ],
        [
         "13",
         "15",
         "Dimmu Borgir"
        ],
        [
         "14",
         "16",
         "London After Midnight"
        ],
        [
         "15",
         "17",
         "Psyclon Nine"
        ],
        [
         "16",
         "18",
         "The Crüxshadows"
        ],
        [
         "17",
         "19",
         ":wumpscut:"
        ],
        [
         "18",
         "20",
         "Limbonic Art"
        ],
        [
         "19",
         "21",
         "Artista sconosciuto"
        ],
        [
         "20",
         "22",
         "xotox"
        ],
        [
         "21",
         "23",
         "The Kovenant"
        ],
        [
         "22",
         "24",
         "Feindflug"
        ],
        [
         "23",
         "25",
         "Cradle of Filth"
        ],
        [
         "24",
         "26",
         "Tamtrum"
        ],
        [
         "25",
         "27",
         "Laibach"
        ],
        [
         "26",
         "28",
         "Gorgoroth"
        ],
        [
         "27",
         "30",
         "And One"
        ],
        [
         "28",
         "31",
         "Amduscia"
        ],
        [
         "29",
         "32",
         "Covenant"
        ],
        [
         "30",
         "34",
         "Icon of Coil"
        ],
        [
         "31",
         "36",
         "KMFDM"
        ],
        [
         "32",
         "37",
         "Funker Vogt"
        ],
        [
         "33",
         "38",
         "Dawn of Ashes"
        ],
        [
         "34",
         "39",
         "Sopor Aeternus & The Ensemble of Shadows"
        ],
        [
         "35",
         "40",
         "The Faint"
        ],
        [
         "36",
         "41",
         "God Module"
        ],
        [
         "37",
         "43",
         "Noisuf-X"
        ],
        [
         "38",
         "44",
         "Das Ich"
        ],
        [
         "39",
         "45",
         "Mindless Self Indulgence"
        ],
        [
         "40",
         "46",
         "Pyotr Ilyich Tchaikovsky"
        ],
        [
         "41",
         "47",
         "Emperor"
        ],
        [
         "42",
         "48",
         "Anorexia Nervosa"
        ],
        [
         "43",
         "49",
         "Reaper"
        ],
        [
         "44",
         "50",
         "Gothminister"
        ],
        [
         "45",
         "51",
         "Duran Duran"
        ],
        [
         "46",
         "52",
         "Morcheeba"
        ],
        [
         "47",
         "53",
         "Air"
        ],
        [
         "48",
         "54",
         "Hooverphonic"
        ],
        [
         "49",
         "55",
         "Kylie Minogue"
        ]
       ],
       "shape": {
        "columns": 2,
        "rows": 17632
       }
      },
      "text/html": [
       "<div>\n",
       "<style scoped>\n",
       "    .dataframe tbody tr th:only-of-type {\n",
       "        vertical-align: middle;\n",
       "    }\n",
       "\n",
       "    .dataframe tbody tr th {\n",
       "        vertical-align: top;\n",
       "    }\n",
       "\n",
       "    .dataframe thead th {\n",
       "        text-align: right;\n",
       "    }\n",
       "</style>\n",
       "<table border=\"1\" class=\"dataframe\">\n",
       "  <thead>\n",
       "    <tr style=\"text-align: right;\">\n",
       "      <th></th>\n",
       "      <th>artistID</th>\n",
       "      <th>name</th>\n",
       "    </tr>\n",
       "  </thead>\n",
       "  <tbody>\n",
       "    <tr>\n",
       "      <th>0</th>\n",
       "      <td>1</td>\n",
       "      <td>MALICE MIZER</td>\n",
       "    </tr>\n",
       "    <tr>\n",
       "      <th>1</th>\n",
       "      <td>2</td>\n",
       "      <td>Diary of Dreams</td>\n",
       "    </tr>\n",
       "    <tr>\n",
       "      <th>2</th>\n",
       "      <td>3</td>\n",
       "      <td>Carpathian Forest</td>\n",
       "    </tr>\n",
       "    <tr>\n",
       "      <th>3</th>\n",
       "      <td>4</td>\n",
       "      <td>Moi dix Mois</td>\n",
       "    </tr>\n",
       "    <tr>\n",
       "      <th>4</th>\n",
       "      <td>5</td>\n",
       "      <td>Bella Morte</td>\n",
       "    </tr>\n",
       "    <tr>\n",
       "      <th>...</th>\n",
       "      <td>...</td>\n",
       "      <td>...</td>\n",
       "    </tr>\n",
       "    <tr>\n",
       "      <th>17627</th>\n",
       "      <td>18741</td>\n",
       "      <td>Diamanda Galás</td>\n",
       "    </tr>\n",
       "    <tr>\n",
       "      <th>17628</th>\n",
       "      <td>18742</td>\n",
       "      <td>Aya RL</td>\n",
       "    </tr>\n",
       "    <tr>\n",
       "      <th>17629</th>\n",
       "      <td>18743</td>\n",
       "      <td>Coptic Rain</td>\n",
       "    </tr>\n",
       "    <tr>\n",
       "      <th>17630</th>\n",
       "      <td>18744</td>\n",
       "      <td>Oz Alchemist</td>\n",
       "    </tr>\n",
       "    <tr>\n",
       "      <th>17631</th>\n",
       "      <td>18745</td>\n",
       "      <td>Grzegorz Tomczak</td>\n",
       "    </tr>\n",
       "  </tbody>\n",
       "</table>\n",
       "<p>17632 rows × 2 columns</p>\n",
       "</div>"
      ],
      "text/plain": [
       "       artistID               name\n",
       "0             1       MALICE MIZER\n",
       "1             2    Diary of Dreams\n",
       "2             3  Carpathian Forest\n",
       "3             4       Moi dix Mois\n",
       "4             5        Bella Morte\n",
       "...         ...                ...\n",
       "17627     18741     Diamanda Galás\n",
       "17628     18742             Aya RL\n",
       "17629     18743        Coptic Rain\n",
       "17630     18744       Oz Alchemist\n",
       "17631     18745   Grzegorz Tomczak\n",
       "\n",
       "[17632 rows x 2 columns]"
      ]
     },
     "execution_count": 50,
     "metadata": {},
     "output_type": "execute_result"
    }
   ],
   "source": [
    "# Modificamos la base de datos para preservar solo las columnas id y name\n",
    "artist = artist[['id', 'name']]"
   ]
  },
  {
   "cell_type": "code",
   "execution_count": 52,
   "id": "60b8dba7",
   "metadata": {},
   "outputs": [
    {
     "data": {
      "application/vnd.microsoft.datawrangler.viewer.v0+json": {
       "columns": [
        {
         "name": "index",
         "rawType": "int64",
         "type": "integer"
        },
        {
         "name": "userID",
         "rawType": "int64",
         "type": "integer"
        },
        {
         "name": "artistID",
         "rawType": "int64",
         "type": "integer"
        },
        {
         "name": "weight",
         "rawType": "int64",
         "type": "integer"
        },
        {
         "name": "name",
         "rawType": "object",
         "type": "string"
        }
       ],
       "conversionMethod": "pd.DataFrame",
       "ref": "8569f051-79dd-4d42-979a-90c296331c7e",
       "rows": [
        [
         "0",
         "2",
         "51",
         "13883",
         "Duran Duran"
        ],
        [
         "1",
         "2",
         "52",
         "11690",
         "Morcheeba"
        ],
        [
         "2",
         "2",
         "53",
         "11351",
         "Air"
        ],
        [
         "3",
         "2",
         "54",
         "10300",
         "Hooverphonic"
        ],
        [
         "4",
         "2",
         "55",
         "8983",
         "Kylie Minogue"
        ],
        [
         "5",
         "2",
         "56",
         "6152",
         "Daft Punk"
        ],
        [
         "6",
         "2",
         "57",
         "5955",
         "Thievery Corporation"
        ],
        [
         "7",
         "2",
         "58",
         "4616",
         "Goldfrapp"
        ],
        [
         "8",
         "2",
         "59",
         "4337",
         "New Order"
        ],
        [
         "9",
         "2",
         "60",
         "4147",
         "Matt Bianco"
        ],
        [
         "10",
         "2",
         "61",
         "3923",
         "Talk Talk"
        ],
        [
         "11",
         "2",
         "62",
         "3782",
         "Prefab Sprout"
        ],
        [
         "12",
         "2",
         "63",
         "3735",
         "Enigma"
        ],
        [
         "13",
         "2",
         "64",
         "3644",
         "Röyksopp"
        ],
        [
         "14",
         "2",
         "65",
         "3579",
         "Coldplay"
        ],
        [
         "15",
         "2",
         "66",
         "3312",
         "Faithless"
        ],
        [
         "16",
         "2",
         "67",
         "3301",
         "Madonna"
        ],
        [
         "17",
         "2",
         "68",
         "2927",
         "Icehouse"
        ],
        [
         "18",
         "2",
         "69",
         "2720",
         "Sade"
        ],
        [
         "19",
         "2",
         "70",
         "2686",
         "Moby"
        ],
        [
         "20",
         "2",
         "71",
         "2654",
         "Dido"
        ],
        [
         "21",
         "2",
         "72",
         "2619",
         "Depeche Mode"
        ],
        [
         "22",
         "2",
         "73",
         "2584",
         "Café Del Mar"
        ],
        [
         "23",
         "2",
         "74",
         "2547",
         "Basia"
        ],
        [
         "24",
         "2",
         "75",
         "2397",
         "Camouflage"
        ],
        [
         "25",
         "2",
         "76",
         "2382",
         "Electronic"
        ],
        [
         "26",
         "2",
         "77",
         "2120",
         "George Michael"
        ],
        [
         "27",
         "2",
         "78",
         "2119",
         "The Adventures"
        ],
        [
         "28",
         "2",
         "79",
         "1990",
         "Fiction Factory"
        ],
        [
         "29",
         "2",
         "80",
         "1972",
         "Groove Armada"
        ],
        [
         "30",
         "2",
         "81",
         "1948",
         "Portishead"
        ],
        [
         "31",
         "2",
         "82",
         "1868",
         "Marc Almond"
        ],
        [
         "32",
         "2",
         "83",
         "1792",
         "Cock Robin"
        ],
        [
         "33",
         "2",
         "84",
         "1740",
         "Cut Copy"
        ],
        [
         "34",
         "2",
         "85",
         "1638",
         "Spandau Ballet"
        ],
        [
         "35",
         "2",
         "86",
         "1594",
         "Katie Melua"
        ],
        [
         "36",
         "2",
         "87",
         "1559",
         "Deacon Blue"
        ],
        [
         "37",
         "2",
         "88",
         "1553",
         "Gorillaz"
        ],
        [
         "38",
         "2",
         "89",
         "1519",
         "Lady Gaga"
        ],
        [
         "39",
         "2",
         "90",
         "1471",
         "Kosheen"
        ],
        [
         "40",
         "2",
         "91",
         "1438",
         "Nik Kershaw"
        ],
        [
         "41",
         "2",
         "92",
         "1411",
         "Vitamin Z"
        ],
        [
         "42",
         "2",
         "93",
         "1407",
         "Jean-Michel Jarre"
        ],
        [
         "43",
         "2",
         "94",
         "1373",
         "Ministry of Sound"
        ],
        [
         "44",
         "2",
         "95",
         "1363",
         "Simply Red"
        ],
        [
         "45",
         "2",
         "96",
         "1342",
         "Fleetwood Mac"
        ],
        [
         "46",
         "2",
         "97",
         "1337",
         "Duffy"
        ],
        [
         "47",
         "2",
         "98",
         "1332",
         "Japan"
        ],
        [
         "48",
         "2",
         "99",
         "1330",
         "INXS"
        ],
        [
         "49",
         "2",
         "100",
         "1315",
         "ABC"
        ]
       ],
       "shape": {
        "columns": 4,
        "rows": 92834
       }
      },
      "text/html": [
       "<div>\n",
       "<style scoped>\n",
       "    .dataframe tbody tr th:only-of-type {\n",
       "        vertical-align: middle;\n",
       "    }\n",
       "\n",
       "    .dataframe tbody tr th {\n",
       "        vertical-align: top;\n",
       "    }\n",
       "\n",
       "    .dataframe thead th {\n",
       "        text-align: right;\n",
       "    }\n",
       "</style>\n",
       "<table border=\"1\" class=\"dataframe\">\n",
       "  <thead>\n",
       "    <tr style=\"text-align: right;\">\n",
       "      <th></th>\n",
       "      <th>userID</th>\n",
       "      <th>artistID</th>\n",
       "      <th>weight</th>\n",
       "      <th>name</th>\n",
       "    </tr>\n",
       "  </thead>\n",
       "  <tbody>\n",
       "    <tr>\n",
       "      <th>0</th>\n",
       "      <td>2</td>\n",
       "      <td>51</td>\n",
       "      <td>13883</td>\n",
       "      <td>Duran Duran</td>\n",
       "    </tr>\n",
       "    <tr>\n",
       "      <th>1</th>\n",
       "      <td>2</td>\n",
       "      <td>52</td>\n",
       "      <td>11690</td>\n",
       "      <td>Morcheeba</td>\n",
       "    </tr>\n",
       "    <tr>\n",
       "      <th>2</th>\n",
       "      <td>2</td>\n",
       "      <td>53</td>\n",
       "      <td>11351</td>\n",
       "      <td>Air</td>\n",
       "    </tr>\n",
       "    <tr>\n",
       "      <th>3</th>\n",
       "      <td>2</td>\n",
       "      <td>54</td>\n",
       "      <td>10300</td>\n",
       "      <td>Hooverphonic</td>\n",
       "    </tr>\n",
       "    <tr>\n",
       "      <th>4</th>\n",
       "      <td>2</td>\n",
       "      <td>55</td>\n",
       "      <td>8983</td>\n",
       "      <td>Kylie Minogue</td>\n",
       "    </tr>\n",
       "    <tr>\n",
       "      <th>...</th>\n",
       "      <td>...</td>\n",
       "      <td>...</td>\n",
       "      <td>...</td>\n",
       "      <td>...</td>\n",
       "    </tr>\n",
       "    <tr>\n",
       "      <th>92829</th>\n",
       "      <td>2100</td>\n",
       "      <td>18726</td>\n",
       "      <td>337</td>\n",
       "      <td>Nyktalgia</td>\n",
       "    </tr>\n",
       "    <tr>\n",
       "      <th>92830</th>\n",
       "      <td>2100</td>\n",
       "      <td>18727</td>\n",
       "      <td>297</td>\n",
       "      <td>Atsakau  niekadA</td>\n",
       "    </tr>\n",
       "    <tr>\n",
       "      <th>92831</th>\n",
       "      <td>2100</td>\n",
       "      <td>18728</td>\n",
       "      <td>281</td>\n",
       "      <td>Domantas Razauskas</td>\n",
       "    </tr>\n",
       "    <tr>\n",
       "      <th>92832</th>\n",
       "      <td>2100</td>\n",
       "      <td>18729</td>\n",
       "      <td>280</td>\n",
       "      <td>Atalyja</td>\n",
       "    </tr>\n",
       "    <tr>\n",
       "      <th>92833</th>\n",
       "      <td>2100</td>\n",
       "      <td>18730</td>\n",
       "      <td>263</td>\n",
       "      <td>Les Chants de Nihil</td>\n",
       "    </tr>\n",
       "  </tbody>\n",
       "</table>\n",
       "<p>92834 rows × 4 columns</p>\n",
       "</div>"
      ],
      "text/plain": [
       "       userID  artistID  weight                 name\n",
       "0           2        51   13883          Duran Duran\n",
       "1           2        52   11690            Morcheeba\n",
       "2           2        53   11351                  Air\n",
       "3           2        54   10300         Hooverphonic\n",
       "4           2        55    8983        Kylie Minogue\n",
       "...       ...       ...     ...                  ...\n",
       "92829    2100     18726     337            Nyktalgia\n",
       "92830    2100     18727     297     Atsakau  niekadA\n",
       "92831    2100     18728     281   Domantas Razauskas\n",
       "92832    2100     18729     280              Atalyja\n",
       "92833    2100     18730     263  Les Chants de Nihil\n",
       "\n",
       "[92834 rows x 4 columns]"
      ]
     },
     "execution_count": 52,
     "metadata": {},
     "output_type": "execute_result"
    }
   ],
   "source": [
    "df = pd.merge(user_artist, artist, left_on='artistID', right_on='id', how='inner')\n",
    "df = df[['userID', 'artistID',  'weight', \"name\"]]\n",
    "df"
   ]
  },
  {
   "cell_type": "markdown",
   "id": "0eed9b9a",
   "metadata": {
    "id": "0eed9b9a"
   },
   "source": [
    "Se cargaron las bases de datos, se seleccionaron las columnas de interes y luego se realizó un merge para unir las bases de datos quedando un dataframe con los datos de los id de usuarios y el nro de reproducciones de los artistas."
   ]
  },
  {
   "cell_type": "markdown",
   "id": "9a8423e1-40a8-44a5-bd14-b33002e553fb",
   "metadata": {
    "id": "9a8423e1-40a8-44a5-bd14-b33002e553fb",
    "noteable": {
     "cell_type": "markdown"
    }
   },
   "source": [
    "### 2. Análisis preliminar.\n",
    "\n",
    "En esta sección exploraremos la base. Para ello responda las siguientes preguntas.\n",
    "\n",
    "#### 2.1 ¿Cuantos usuarios y artistas hay en la base?\n"
   ]
  },
  {
   "cell_type": "code",
   "execution_count": 57,
   "id": "fb9243d4",
   "metadata": {},
   "outputs": [
    {
     "name": "stdout",
     "output_type": "stream",
     "text": [
      "Hay 1892 usuarios y 17632 artistas\n"
     ]
    }
   ],
   "source": [
    "nusuarios = df['userID'].nunique()\n",
    "nartistas = df['artistID'].nunique()\n",
    "print('Hay', nusuarios, 'usuarios y', nartistas, 'artistas')"
   ]
  },
  {
   "cell_type": "markdown",
   "id": "07353add",
   "metadata": {},
   "source": [
    "Hay 1892 usuarios y 17632 artistas"
   ]
  },
  {
   "cell_type": "markdown",
   "id": "e7d32ea6",
   "metadata": {
    "id": "e7d32ea6"
   },
   "source": [
    "\n",
    "#### 2.2 ¿Cuáles es la distribución de probabilidad del consumo por artista? (haga el calculo sin ponderar y ponderando por el numero de reproducciones) ¿Qué podemos inferir a partir de la comparación de ambas?"
   ]
  },
  {
   "cell_type": "code",
   "execution_count": null,
   "id": "c9c9813e",
   "metadata": {
    "id": "c9c9813e"
   },
   "outputs": [],
   "source": [
    "# Utilice este espacio para escribir el código."
   ]
  },
  {
   "cell_type": "markdown",
   "id": "62c63ea1",
   "metadata": {
    "id": "62c63ea1"
   },
   "source": [
    "(Utilice este espacio para describir el procedimiento, análisis y conclusiones)."
   ]
  },
  {
   "cell_type": "markdown",
   "id": "8f5df619-a01f-4d16-b637-ef423291724a",
   "metadata": {
    "id": "8f5df619-a01f-4d16-b637-ef423291724a",
    "noteable": {
     "cell_type": "markdown"
    }
   },
   "source": [
    "#### 2.3 Para el usuario 8 (`userID==8`) ¿cuál es la distribución de reproducción de artistas basado en el número de reproducciones relativas?. Presente sus resultados usando tablas y/o gráficas. ¿Encuentra algún patrón en los artistas que escucha y las veces que reproduce? ¿Podemos decir algo de sus preferencias?\n"
   ]
  },
  {
   "cell_type": "code",
   "execution_count": null,
   "id": "2e19f3d9",
   "metadata": {
    "id": "2e19f3d9"
   },
   "outputs": [],
   "source": [
    "# Utilice este espacio para escribir el código."
   ]
  },
  {
   "cell_type": "markdown",
   "id": "edb0e94d",
   "metadata": {
    "id": "edb0e94d"
   },
   "source": [
    "(Utilice este espacio para describir el procedimiento, análisis y conclusiones)."
   ]
  },
  {
   "cell_type": "markdown",
   "id": "f4a3acb3-cb81-4474-b440-754c43d0d497",
   "metadata": {
    "id": "f4a3acb3-cb81-4474-b440-754c43d0d497",
    "noteable": {
     "cell_type": "markdown"
    }
   },
   "source": [
    "### 3. Generando Recomendaciones\n",
    "\n",
    "En esta sección nos interesa generar recomendaciones ***nuevas y relevantes*** para el usuario 8 (`userID==8`). Para ello vamos a generar distintos sistemas de recomendación y comparar las recomendaciones generadas."
   ]
  },
  {
   "cell_type": "markdown",
   "id": "ad60057d-05c8-4a08-b0d3-b841bf284667",
   "metadata": {
    "id": "ad60057d-05c8-4a08-b0d3-b841bf284667",
    "noteable": {
     "cell_type": "markdown"
    }
   },
   "source": [
    "#### 3.1. Filtrado colaborativo sencillo: promedios simples.\n",
    "\n",
    "Usando el promedio simple basado en el número de usuarios que escucha un artista (sin considerar el número de veces que estos usuarios reproducen al artista) genere una tabla y/o gráfica con 10 recomendaciones de artistas para este usuario. Explique con cuidado su procedimiento y justifique sus elecciones."
   ]
  },
  {
   "cell_type": "code",
   "execution_count": null,
   "id": "79eb7a48",
   "metadata": {
    "id": "79eb7a48"
   },
   "outputs": [],
   "source": [
    "# Utilice este espacio para escribir el código."
   ]
  },
  {
   "cell_type": "markdown",
   "id": "edec72cd",
   "metadata": {
    "id": "edec72cd"
   },
   "source": [
    "(Utilice este espacio para describir el procedimiento, análisis y conclusiones)."
   ]
  },
  {
   "cell_type": "markdown",
   "id": "8297cd0d",
   "metadata": {
    "id": "8297cd0d"
   },
   "source": [
    "#### 3.2.  Filtrado colaborativo sencillo: promedios ponderados.\n",
    "\n",
    "Usando el promedio ponderado basado en el número de usuarios que escucha un artista  y ponderando  por el número de veces que estos usuarios reproducen al artista (`nro_reproducciones`) genere una tabla y/o gráfica con 10 recomendaciones de artistas para este usuario. Explique con cuidado su procedimiento y justifique sus elecciones. Compare las recomendaciones con el sistema implementado en el paso anterior.\n"
   ]
  },
  {
   "cell_type": "code",
   "execution_count": null,
   "id": "abb30d61",
   "metadata": {
    "id": "abb30d61"
   },
   "outputs": [],
   "source": [
    "# Utilice este espacio para escribir el código."
   ]
  },
  {
   "cell_type": "markdown",
   "id": "0c92301a",
   "metadata": {
    "id": "0c92301a"
   },
   "source": [
    "(Utilice este espacio para describir el procedimiento, análisis y conclusiones)."
   ]
  },
  {
   "cell_type": "markdown",
   "id": "a088a085-6f88-4462-9376-12497f5b0fe1",
   "metadata": {
    "id": "a088a085-6f88-4462-9376-12497f5b0fe1",
    "noteable": {
     "cell_type": "markdown"
    }
   },
   "source": [
    "#### 3.3.  Filtrado colaborativo sencillo: similitud de coseno.\n",
    "\n",
    "Usando el promedio ponderado de reproducciones genere una tabla y/o gráfica  con 10 recomendaciones de artistas para este usuario. Para generar los pesos utilice la distancia de coseno. Explique con cuidado su procedimiento y justifique sus elecciones. Compare las recomendaciones con el sistema implementado en el paso anterior."
   ]
  },
  {
   "cell_type": "code",
   "execution_count": null,
   "id": "6a06fc40",
   "metadata": {
    "id": "6a06fc40"
   },
   "outputs": [],
   "source": [
    "# Utilice este espacio para escribir el código."
   ]
  },
  {
   "cell_type": "markdown",
   "id": "52cddf84",
   "metadata": {
    "id": "52cddf84"
   },
   "source": [
    "(Utilice este espacio para describir el procedimiento, análisis y conclusiones)."
   ]
  },
  {
   "cell_type": "markdown",
   "id": "b0699462-0af2-41b3-8a68-4ce4cd276724",
   "metadata": {
    "id": "b0699462-0af2-41b3-8a68-4ce4cd276724",
    "noteable": {
     "cell_type": "markdown"
    }
   },
   "source": [
    "#### 3.4.  Filtrado colaborativo usando SVD\n",
    "\n",
    "\n",
    "Usando la descomposición en valores singulares (SVD) genere una tabla y/o gráfica  con 10 recomendaciones de artistas para este usuario.  Explique con cuidado su procedimiento y justifique sus elecciones. Compare las recomendaciones con el sistema implementado en los pasos anteriores.\n"
   ]
  },
  {
   "cell_type": "code",
   "execution_count": null,
   "id": "8f4c2103",
   "metadata": {
    "id": "8f4c2103"
   },
   "outputs": [],
   "source": [
    "# Utilice este espacio para escribir el código."
   ]
  },
  {
   "cell_type": "markdown",
   "id": "dd0d7598",
   "metadata": {
    "ExecuteTime": {
     "end_time": "2023-07-20T13:08:53.953788+00:00",
     "start_time": "2023-07-20T13:08:00.765701+00:00"
    },
    "id": "dd0d7598",
    "noteable": {
     "cell_type": "code",
     "output_collection_id": "7748407e-0324-4bc3-a209-c6a2068ebdf2"
    }
   },
   "source": [
    "(Utilice este espacio para describir el procedimiento, análisis y conclusiones)."
   ]
  },
  {
   "cell_type": "markdown",
   "id": "aba1e662-e1bd-4ef3-b35b-5fece7bd2e93",
   "metadata": {
    "id": "aba1e662-e1bd-4ef3-b35b-5fece7bd2e93",
    "noteable": {
     "cell_type": "markdown"
    }
   },
   "source": [
    "#### 3.5.  Filtrado colaborativo usando Análisis de Canasta de Compra\n",
    "\n",
    "Usando  el algoritmo `Apriori` genere una tabla y/o gráfica  con 10 recomendaciones de artistas para este usuario.  Explique con cuidado su procedimiento y justifique sus elecciones. Compare las recomendaciones con el sistema implementado en los pasos anteriores. Esto puede tomar mucho tiempo, sea cuidadoso al elegir los hiper-parámetors del modelo, utilice los resultados de las estadísticas descriptivas para elegir sus hier-parámetros, y genere solo reglas con 2 elementos. (Puede también aprovechar los recursos de [Google Colab](https://colab.research.google.com/))\n"
   ]
  },
  {
   "cell_type": "code",
   "execution_count": null,
   "id": "6ac4f2ca",
   "metadata": {
    "id": "6ac4f2ca"
   },
   "outputs": [],
   "source": [
    "# Utilice este espacio para escribir el código."
   ]
  },
  {
   "cell_type": "markdown",
   "id": "fd6f53db",
   "metadata": {
    "ExecuteTime": null,
    "id": "fd6f53db",
    "noteable": {
     "cell_type": "code",
     "output_collection_id": "c81565ab-5de5-49a9-819f-ca3f6f442a3c"
    }
   },
   "source": [
    "(Utilice este espacio para describir el procedimiento, análisis y conclusiones)."
   ]
  },
  {
   "cell_type": "markdown",
   "id": "5754f491",
   "metadata": {
    "id": "5754f491"
   },
   "source": [
    "### 4. Recomendaciones generales\n",
    "\n",
    "De acuerdo con los resultados encontrados, en su opinión ¿qué procedimiento generó las mejores recomendaciones para este usuario? ¿Cómo implementaría una evaluación objetiva de estas recomendaciones? Justifique su respuesta."
   ]
  },
  {
   "cell_type": "markdown",
   "id": "41d16c61",
   "metadata": {
    "id": "41d16c61"
   },
   "source": [
    "(Utilice este espacio para describir el procedimiento, análisis y conclusiones)."
   ]
  }
 ],
 "metadata": {
  "colab": {
   "provenance": []
  },
  "kernelspec": {
   "display_name": "myenvironment",
   "language": "python",
   "name": "python3"
  },
  "language_info": {
   "codemirror_mode": {
    "name": "ipython",
    "version": 3
   },
   "file_extension": ".py",
   "mimetype": "text/x-python",
   "name": "python",
   "nbconvert_exporter": "python",
   "pygments_lexer": "ipython3",
   "version": "3.13.1"
  },
  "noteable": {
   "last_transaction_id": "6d8b1923-2053-48b7-b0ac-3ca8bd83674a"
  },
  "selected_hardware_size": "small",
  "toc": {
   "base_numbering": 1,
   "nav_menu": {},
   "number_sections": true,
   "sideBar": true,
   "skip_h1_title": false,
   "title_cell": "Table of Contents",
   "title_sidebar": "Contents",
   "toc_cell": false,
   "toc_position": {},
   "toc_section_display": true,
   "toc_window_display": true
  }
 },
 "nbformat": 4,
 "nbformat_minor": 5
}
