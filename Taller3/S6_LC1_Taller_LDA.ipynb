{
  "cells": [
    {
      "cell_type": "markdown",
      "id": "da72de5f",
      "metadata": {
        "id": "da72de5f"
      },
      "source": [
        "![Clase aprendizaje no supervisado](https://raw.githubusercontent.com/MECA4605-Aprendizaje-no-supervisado/taller_3/main/figs/taller-meca-aprendizaje%20no%20supervisado_banner%201169%20x%20200%20px%20-05.png)"
      ]
    },
    {
      "cell_type": "markdown",
      "id": "2b151b20",
      "metadata": {
        "id": "2b151b20"
      },
      "source": [
        "# Caso-taller:  Recomendando el Blog de  Hernán Casciari\n",
        "\n",
        "\n",
        "[Hernán Casciari](https://hernancasciari.com/#bio), es un escritor argentino, que escribe blog posts con cuentos e historias  relacionadas con el futbol, su vida, infancia, y relaciones familiares con toques de ficción. Este [blog](https://hernancasciari.com/blog/) es  tan interesantes que en 2005 fue premiado como “El mejor blog del mundo” por Deutsche Welle de Alemania.\n",
        "\n",
        "El objetivo de este caso-taller es construir un sistema de recomendación basado en los contenidos de los posts utilizando similitud de las palabras usadas o temas de los cuentos."
      ]
    },
    {
      "cell_type": "markdown",
      "id": "892acd2b",
      "metadata": {
        "id": "892acd2b"
      },
      "source": [
        "## Instrucciones generales\n",
        "\n",
        "1. Para desarrollar el *cuaderno*, primero debe descargarlo.\n",
        "\n",
        "2. Para responder cada inciso deberá utilizar el espacio debidamente especificado.\n",
        "\n",
        "3. La actividad será calificada sólo si sube el *cuaderno* de jupyter notebook con extensión `.ipynb` en la actividad designada como \"entrega calificada por el personal\".\n",
        "\n",
        "4. El archivo entregado debe poder ser ejecutado localmente por el tutor. Sea cuidadoso con la especificación de la ubicación de los archivos de soporte, guarde la carpeta de datos en el mismo `path` de su cuaderno, por ejemplo: `data`."
      ]
    },
    {
      "cell_type": "markdown",
      "id": "014e89b0",
      "metadata": {
        "id": "014e89b0"
      },
      "source": [
        "## Desarrollo\n"
      ]
    },
    {
      "cell_type": "markdown",
      "id": "dcadd9e7",
      "metadata": {
        "id": "dcadd9e7"
      },
      "source": [
        "### 1. Carga de datos\n",
        "\n",
        "En la carpeta `data` se encuentran el archivo `blog_casciari.csv` con el título, la fecha de publicación, y el contenido de los cuentos publicados en el blog  de sr. Casciari. Cargue estos datos en su *cuaderno* y reporte brevemente el contenido de la base.\n",
        "   "
      ]
    },
    {
      "cell_type": "code",
      "execution_count": 2,
      "id": "C0R7tOSXS29m",
      "metadata": {
        "colab": {
          "base_uri": "https://localhost:8080/"
        },
        "id": "C0R7tOSXS29m",
        "outputId": "225c327b-ec5b-4f7a-bdd3-b773b6df4598"
      },
      "outputs": [
        {
          "name": "stdout",
          "output_type": "stream",
          "text": [
            "Note: you may need to restart the kernel to use updated packages.\n"
          ]
        }
      ],
      "source": [
        "pip install -q pyspellchecker"
      ]
    },
    {
      "cell_type": "code",
      "execution_count": 11,
      "id": "9faf1d1e",
      "metadata": {},
      "outputs": [
        {
          "name": "stdout",
          "output_type": "stream",
          "text": [
            "Requirement already satisfied: pip in c:\\users\\ps.escobar\\appdata\\local\\programs\\python\\python313\\lib\\site-packages (25.1.1)\n",
            "Collecting setuptools\n",
            "  Downloading setuptools-80.4.0-py3-none-any.whl.metadata (6.5 kB)\n",
            "Collecting wheel\n",
            "  Using cached wheel-0.45.1-py3-none-any.whl.metadata (2.3 kB)\n",
            "Downloading setuptools-80.4.0-py3-none-any.whl (1.2 MB)\n",
            "   ---------------------------------------- 0.0/1.2 MB ? eta -:--:--\n",
            "   ---------------------------------------- 1.2/1.2 MB 37.9 MB/s eta 0:00:00\n",
            "Using cached wheel-0.45.1-py3-none-any.whl (72 kB)\n",
            "Installing collected packages: wheel, setuptools\n",
            "\n",
            "   ---------------------------------------- 0/2 [wheel]\n",
            "   ---------------------------------------- 0/2 [wheel]\n",
            "   ---------------------------------------- 0/2 [wheel]\n",
            "   -------------------- ------------------- 1/2 [setuptools]\n",
            "   -------------------- ------------------- 1/2 [setuptools]\n",
            "   -------------------- ------------------- 1/2 [setuptools]\n",
            "   -------------------- ------------------- 1/2 [setuptools]\n",
            "   -------------------- ------------------- 1/2 [setuptools]\n",
            "   -------------------- ------------------- 1/2 [setuptools]\n",
            "   -------------------- ------------------- 1/2 [setuptools]\n",
            "   -------------------- ------------------- 1/2 [setuptools]\n",
            "   -------------------- ------------------- 1/2 [setuptools]\n",
            "   -------------------- ------------------- 1/2 [setuptools]\n",
            "   -------------------- ------------------- 1/2 [setuptools]\n",
            "   -------------------- ------------------- 1/2 [setuptools]\n",
            "   -------------------- ------------------- 1/2 [setuptools]\n",
            "   -------------------- ------------------- 1/2 [setuptools]\n",
            "   -------------------- ------------------- 1/2 [setuptools]\n",
            "   -------------------- ------------------- 1/2 [setuptools]\n",
            "   -------------------- ------------------- 1/2 [setuptools]\n",
            "   -------------------- ------------------- 1/2 [setuptools]\n",
            "   -------------------- ------------------- 1/2 [setuptools]\n",
            "   -------------------- ------------------- 1/2 [setuptools]\n",
            "   -------------------- ------------------- 1/2 [setuptools]\n",
            "   -------------------- ------------------- 1/2 [setuptools]\n",
            "   -------------------- ------------------- 1/2 [setuptools]\n",
            "   -------------------- ------------------- 1/2 [setuptools]\n",
            "   -------------------- ------------------- 1/2 [setuptools]\n",
            "   -------------------- ------------------- 1/2 [setuptools]\n",
            "   -------------------- ------------------- 1/2 [setuptools]\n",
            "   -------------------- ------------------- 1/2 [setuptools]\n",
            "   -------------------- ------------------- 1/2 [setuptools]\n",
            "   -------------------- ------------------- 1/2 [setuptools]\n",
            "   -------------------- ------------------- 1/2 [setuptools]\n",
            "   -------------------- ------------------- 1/2 [setuptools]\n",
            "   -------------------- ------------------- 1/2 [setuptools]\n",
            "   -------------------- ------------------- 1/2 [setuptools]\n",
            "   -------------------- ------------------- 1/2 [setuptools]\n",
            "   ---------------------------------------- 2/2 [setuptools]\n",
            "\n",
            "Successfully installed setuptools-80.4.0 wheel-0.45.1\n",
            "Collecting spacy\n",
            "  Using cached spacy-3.8.2.tar.gz (1.3 MB)\n",
            "  Installing build dependencies: started\n",
            "  Installing build dependencies: finished with status 'error'\n"
          ]
        },
        {
          "name": "stderr",
          "output_type": "stream",
          "text": [
            "  error: subprocess-exited-with-error\n",
            "  \n",
            "  × pip subprocess to install build dependencies did not run successfully.\n",
            "  │ exit code: 1\n",
            "  ╰─> [65 lines of output]\n",
            "      Ignoring numpy: markers 'python_version < \"3.9\"' don't match your environment\n",
            "      Collecting setuptools\n",
            "        Using cached setuptools-80.4.0-py3-none-any.whl.metadata (6.5 kB)\n",
            "      Collecting cython<3.0,>=0.25\n",
            "        Using cached Cython-0.29.37-py2.py3-none-any.whl.metadata (3.1 kB)\n",
            "      Collecting cymem<2.1.0,>=2.0.2\n",
            "        Using cached cymem-2.0.11-cp313-cp313-win_amd64.whl.metadata (8.8 kB)\n",
            "      Collecting preshed<3.1.0,>=3.0.2\n",
            "        Using cached preshed-3.0.9.tar.gz (14 kB)\n",
            "        Installing build dependencies: started\n",
            "        Installing build dependencies: finished with status 'done'\n",
            "        Getting requirements to build wheel: started\n",
            "        Getting requirements to build wheel: finished with status 'done'\n",
            "        Preparing metadata (pyproject.toml): started\n",
            "        Preparing metadata (pyproject.toml): finished with status 'done'\n",
            "      Collecting murmurhash<1.1.0,>=0.28.0\n",
            "        Using cached murmurhash-1.0.12-cp313-cp313-win_amd64.whl.metadata (2.2 kB)\n",
            "      Collecting thinc<8.4.0,>=8.3.0\n",
            "        Using cached thinc-8.3.6-cp313-cp313-win_amd64.whl.metadata (15 kB)\n",
            "      Collecting numpy<2.1.0,>=2.0.0\n",
            "        Using cached numpy-2.0.2.tar.gz (18.9 MB)\n",
            "        Installing build dependencies: started\n",
            "        Installing build dependencies: finished with status 'done'\n",
            "        Getting requirements to build wheel: started\n",
            "        Getting requirements to build wheel: finished with status 'done'\n",
            "        Installing backend dependencies: started\n",
            "        Installing backend dependencies: finished with status 'done'\n",
            "        Preparing metadata (pyproject.toml): started\n",
            "        Preparing metadata (pyproject.toml): finished with status 'error'\n",
            "        error: subprocess-exited-with-error\n",
            "      \n",
            "        Ã— Preparing metadata (pyproject.toml) did not run successfully.\n",
            "        â”‚ exit code: 1\n",
            "        â•°â”€> [21 lines of output]\n",
            "            + C:\\Users\\ps.escobar\\AppData\\Local\\Programs\\Python\\Python313\\python.exe C:\\Users\\ps.escobar\\AppData\\Local\\Temp\\pip-install-e33q03ib\\numpy_ac402fc69ff64586bf2a01d6ed493a78\\vendored-meson\\meson\\meson.py setup C:\\Users\\ps.escobar\\AppData\\Local\\Temp\\pip-install-e33q03ib\\numpy_ac402fc69ff64586bf2a01d6ed493a78 C:\\Users\\ps.escobar\\AppData\\Local\\Temp\\pip-install-e33q03ib\\numpy_ac402fc69ff64586bf2a01d6ed493a78\\.mesonpy-3ihz88ha -Dbuildtype=release -Db_ndebug=if-release -Db_vscrt=md --native-file=C:\\Users\\ps.escobar\\AppData\\Local\\Temp\\pip-install-e33q03ib\\numpy_ac402fc69ff64586bf2a01d6ed493a78\\.mesonpy-3ihz88ha\\meson-python-native-file.ini\n",
            "            The Meson build system\n",
            "            Version: 1.4.99\n",
            "            Source dir: C:\\Users\\ps.escobar\\AppData\\Local\\Temp\\pip-install-e33q03ib\\numpy_ac402fc69ff64586bf2a01d6ed493a78\n",
            "            Build dir: C:\\Users\\ps.escobar\\AppData\\Local\\Temp\\pip-install-e33q03ib\\numpy_ac402fc69ff64586bf2a01d6ed493a78\\.mesonpy-3ihz88ha\n",
            "            Build type: native build\n",
            "            Project name: NumPy\n",
            "            Project version: 2.0.2\n",
            "            WARNING: Failed to activate VS environment: Could not find C:\\Program Files (x86)\\Microsoft Visual Studio\\Installer\\vswhere.exe\n",
            "      \n",
            "            ..\\meson.build:1:0: ERROR: Unknown compiler(s): [['icl'], ['cl'], ['cc'], ['gcc'], ['clang'], ['clang-cl'], ['pgcc']]\n",
            "            The following exception(s) were encountered:\n",
            "            Running `icl \"\"` gave \"[WinError 2] El sistema no puede encontrar el archivo especificado\"\n",
            "            Running `cl /?` gave \"[WinError 2] El sistema no puede encontrar el archivo especificado\"\n",
            "            Running `cc --version` gave \"[WinError 2] El sistema no puede encontrar el archivo especificado\"\n",
            "            Running `gcc --version` gave \"[WinError 2] El sistema no puede encontrar el archivo especificado\"\n",
            "            Running `clang --version` gave \"[WinError 2] El sistema no puede encontrar el archivo especificado\"\n",
            "            Running `clang-cl /?` gave \"[WinError 2] El sistema no puede encontrar el archivo especificado\"\n",
            "            Running `pgcc --version` gave \"[WinError 2] El sistema no puede encontrar el archivo especificado\"\n",
            "      \n",
            "            A full log can be found at C:\\Users\\ps.escobar\\AppData\\Local\\Temp\\pip-install-e33q03ib\\numpy_ac402fc69ff64586bf2a01d6ed493a78\\.mesonpy-3ihz88ha\\meson-logs\\meson-log.txt\n",
            "            [end of output]\n",
            "      \n",
            "        note: This error originates from a subprocess, and is likely not a problem with pip.\n",
            "      error: metadata-generation-failed\n",
            "      \n",
            "      Ã— Encountered error while generating package metadata.\n",
            "      â•°â”€> See above for output.\n",
            "      \n",
            "      note: This is an issue with the package mentioned above, not pip.\n",
            "      hint: See above for details.\n",
            "      [end of output]\n",
            "  \n",
            "  note: This error originates from a subprocess, and is likely not a problem with pip.\n",
            "error: subprocess-exited-with-error\n",
            "\n",
            "× pip subprocess to install build dependencies did not run successfully.\n",
            "│ exit code: 1\n",
            "╰─> See above for output.\n",
            "\n",
            "note: This error originates from a subprocess, and is likely not a problem with pip.\n"
          ]
        }
      ],
      "source": [
        "!pip install -U pip setuptools wheel\n",
        "!pip install spacy"
      ]
    },
    {
      "cell_type": "code",
      "execution_count": 12,
      "id": "uF19CIi1TZl3",
      "metadata": {
        "colab": {
          "base_uri": "https://localhost:8080/"
        },
        "id": "uF19CIi1TZl3",
        "outputId": "8aa52950-3132-4639-c56b-e85f835d1073"
      },
      "outputs": [
        {
          "name": "stderr",
          "output_type": "stream",
          "text": [
            "c:\\Users\\ps.escobar\\AppData\\Local\\Programs\\Python\\Python313\\python.exe: No module named spacy\n"
          ]
        }
      ],
      "source": [
        "!python -m spacy download es_core_news_sm"
      ]
    },
    {
      "cell_type": "code",
      "execution_count": 13,
      "id": "92f34e45",
      "metadata": {
        "colab": {
          "base_uri": "https://localhost:8080/"
        },
        "id": "92f34e45",
        "outputId": "a5cb6ac5-9eea-4d0e-c4b7-b87e259de0ce"
      },
      "outputs": [
        {
          "ename": "ModuleNotFoundError",
          "evalue": "No module named 'spacy'",
          "output_type": "error",
          "traceback": [
            "\u001b[1;31m---------------------------------------------------------------------------\u001b[0m",
            "\u001b[1;31mModuleNotFoundError\u001b[0m                       Traceback (most recent call last)",
            "Cell \u001b[1;32mIn[13], line 10\u001b[0m\n\u001b[0;32m      7\u001b[0m \u001b[38;5;28;01mfrom\u001b[39;00m\u001b[38;5;250m \u001b[39m\u001b[38;5;21;01mspellchecker\u001b[39;00m\u001b[38;5;250m \u001b[39m\u001b[38;5;28;01mimport\u001b[39;00m SpellChecker\n\u001b[0;32m      8\u001b[0m \u001b[38;5;28;01mimport\u001b[39;00m\u001b[38;5;250m \u001b[39m\u001b[38;5;21;01municodedata\u001b[39;00m\n\u001b[1;32m---> 10\u001b[0m \u001b[38;5;28;01mimport\u001b[39;00m\u001b[38;5;250m \u001b[39m\u001b[38;5;21;01mspacy\u001b[39;00m\n\u001b[0;32m     11\u001b[0m \u001b[38;5;28;01mfrom\u001b[39;00m\u001b[38;5;250m \u001b[39m\u001b[38;5;21;01mspacy\u001b[39;00m\u001b[38;5;21;01m.\u001b[39;00m\u001b[38;5;21;01mlanguage\u001b[39;00m\u001b[38;5;250m \u001b[39m\u001b[38;5;28;01mimport\u001b[39;00m Language\n\u001b[0;32m     13\u001b[0m \u001b[38;5;28;01mimport\u001b[39;00m\u001b[38;5;250m \u001b[39m\u001b[38;5;21;01mstring\u001b[39;00m\n",
            "\u001b[1;31mModuleNotFoundError\u001b[0m: No module named 'spacy'"
          ]
        }
      ],
      "source": [
        "# cargamos librerias\n",
        "import pandas as pd\n",
        "import numpy as np\n",
        "import os\n",
        "\n",
        "import re\n",
        "from spellchecker import SpellChecker\n",
        "import unicodedata\n",
        "\n",
        "import spacy\n",
        "from spacy.language import Language\n",
        "\n",
        "import string\n",
        "import nltk\n",
        "nltk.download('stopwords')\n",
        "from nltk.corpus import stopwords"
      ]
    },
    {
      "cell_type": "code",
      "execution_count": 5,
      "id": "bd2d85a4",
      "metadata": {
        "id": "bd2d85a4"
      },
      "outputs": [],
      "source": [
        "url = 'https://raw.githubusercontent.com/sebastian23escobar/Aprendizaje_no_supervisado/refs/heads/main/Taller3/data/blog_casciari.csv'"
      ]
    },
    {
      "cell_type": "code",
      "execution_count": 6,
      "id": "6a80e443",
      "metadata": {
        "colab": {
          "base_uri": "https://localhost:8080/",
          "height": 363
        },
        "id": "6a80e443",
        "outputId": "7d7588f5-2a59-49ec-c248-962b63b21906"
      },
      "outputs": [
        {
          "data": {
            "application/vnd.microsoft.datawrangler.viewer.v0+json": {
              "columns": [
                {
                  "name": "index",
                  "rawType": "int64",
                  "type": "integer"
                },
                {
                  "name": "titulo",
                  "rawType": "object",
                  "type": "string"
                },
                {
                  "name": "fecha",
                  "rawType": "object",
                  "type": "string"
                },
                {
                  "name": "cuento",
                  "rawType": "object",
                  "type": "string"
                }
              ],
              "conversionMethod": "pd.DataFrame",
              "ref": "2a761c4d-ae21-4011-a9bd-4bfc4289b5c1",
              "rows": [
                [
                  "0",
                  "El rincón blanco",
                  "1/11/08",
                  "De pronto yo estaba en el hogar donde pasé la infancia; lo supo primero mi nariz. Los ojos se acostumbran tarde a la penumbra, pero mi olfato reconoció enseguida el olor inconfundible de la casa de la calle Treintaicinco. Siempre sabemos cuál es la fragancia del sitio donde crecimos; nadie acertaría a explicar de qué está compuesta, pero cada uno de nosotros es capaz de reconocer ese aroma entre miles. Y yo estaba ahora en mi casa de Mercedes. Exactamente en el sitio al que llamábamos el rincón blanco.\nEl rincón blanco siempre fue el epicentro de la casa. El lugar por el que había que pasar para ir a cualquier parte. No era un rincón, sino una prominencia amplia que abultaba el pasillo justo por la mitad. Y tampoco estaba pintada de blanco, pero le decíamos así. Nunca supimos por qué.\nEn todos los hogares hay recovecos y habitaciones que los mayores bautizan sin conciencia, y que luego nombran para siempre de una forma estrafalaria. Los hijos nacen y después crecen con la certidumbre de que esos apodos son estándares. Sólo las visitas reconocen el fallo:\n—Dejá la campera y el portafolio en el rincón blanco —le decía yo a mis amigos cuando venían a tomar la leche.\n—¿A dónde?\n—Ahí, en el rincón blanco —y señalaba aquel sitio, empapelado con flores mustias sobre un fondo celeste, que solamente tenía un armario con cajones, un estante y un espejo.\nLos niños que habitan las casas no tienen la menor idea de que algunas palabras —rincón blanco era la mía— no significan nada para el huésped ocasional, que sólo tienen sentido para los moradores, y a veces sólo para los moradores más antiguos.\nQuizás ese lugar alguna vez haya sido blanco, es posible. Pero más tarde, después de mil manos de pintura, los habitantes mayores le siguen diciendo rincón blanco y los más jóvenes, por ejemplo mi hermana y yo, le decimos también así durante la infancia entera, y en la adolescencia, y también mucho después en el recuerdo, como si esas palabras fueran una referencia común en los hogares del mundo. Como si en todas las casas hubiera dormitorio, comedor, rinconblanco, baño y terraza.\nUna tarde, cuando éramos todavía compañeros de primaria, mi amigo el Chiri me preguntó por qué le decíamos rincón blanco al sitio pequeño que quedaba en medio del pasillo, y entonces, sólo entonces y no antes, descubrí que no tenía el menor sentido llamar así a tres paredes empapeladas de tonos pastel. No supe qué responderle.\nEn otras casas, en las ajenas, también había sitios bautizados por sus dueños de un modo extraño, lugares que los habitantes llamaban de forma especial sin darse cuenta, como por ejemplo el galpón de los juguetes, que era la habitación de mi amigo Sebastián, en donde no había juguetes sino libros y cacharros; o la cocina vieja de una compañera de mi adolescencia, que era un lavadero sucio detrás de un jardín. O los cuartos de soltero de los tíos díscolos que se van pronto de casa, pero que nuestras abuelas siguen llamando la pieza de toto para siempre.\n—¡No entres a la pieza de toto, que no le gusta!\nLas habitaciones guardan, también en su nombre, el recuerdo de lo que fueron, por eso ahora, que de repente he aparecido —aún no sé cómo— en la que fue mi casa de los ochenta, podía oler la frescura del rincón blanco aún sin verlo, y recordé largas tardes leyendo entre esas paredes libros de Mark Twain, o escuchando música de casete en un estéreo.\nDe a poco mis ojos se habituaron a la falta de luz. Desde la habitación de mis padres, entreabierta y oscura, pude escuchar el murmullo de una conversación. Ya era pasada la medianoche, supuse, y estarían a punto de acostarse. Siempre tardaban muy poco en comenzar a roncar.\nMi madre roncaba igual que una Vespa con la bujía empastada, y mi padre con un silbido musical. Los dos juntos, sincopados, se oían como un motociclista al que no le importa haber quedado en mitad del camino. Me hizo ilusión quedarme un rato y comenzar a escucharlos.\nMás allá del pasillo la puerta de la cocina estaba cerrada, pero se adivinaba una hendija de luz del otro lado. Reconocí entonces el tecleo apagado de una máquina de escribir. Supe sin sorpresa ni escándalo, sin asombro ninguno, que del otro lado estaba yo mismo con quince años, quizás dieciséis, escribiendo mi primera novela.\nAhora mismo, mientras narro estos detalles sensoriales, todavía no he decidido si estoy explicando un sueño o un cuento. Preferiría que fuese lo segundo: me gustaría caminar hasta la cocina, abrir la puerta y conversar con el adolescente que escribe, lleno de esperanzas y de trabas, su primera historia de largo aliento.\nMe gustaría ayudarlo con la estructura del relato, y también —lo confieso— poder narrar aquí esa charla completa, más para mí que para ustedes, pero tengo demasiado presente El Otro, aquel cuento muy famoso en el que Borges, ya viejo, se topa con Borges joven en un banco de Cambridge, a la vera del río Charles, y el más viejo logra convencer al más joven de que son el mismo, y conversan sobre literatura.\nHubiera sido vergonzoso, entonces, ir hasta la cocina y conversar conmigo mismo, porque esta historia, que se llama El rincón blanco, perdería muchísimo en comparación con la historia de El Otro. Mala suerte, hay cosas que ya no se pueden escribir mejor de lo que han sido escritas.\nPero ya que estaba allí, decidí recorrer un poco la casa a oscuras, intentando no hacer nada que pudiera parecer borgeano. Comencé a caminar hasta el comedor tanteando las paredes con las manos abiertas y los brazos extendidos, dando pasos temblorosos, sin darme cuenta de que, en mi afán de no imitar la escritura de Borges, estaba plagiando su forma de moverse por las casas.\nMe reí solo, mientras sacaba del bolsillo un encendedor para darme un poco de luz y no parecer un ciego.\nAhora estaba de pie frente a la habitación de mi hermana. Entré con cuidado y acerqué el encendedor para verla dormir. Ella tendría doce años si yo tenía quince, y me sorprendió —al verla dormida— cuánto se parecía a mi hija. Ese descubrimiento, insospechado, fue quizás lo mejor del sueño, porque lo que viene después será mejor olvidarlo.\nLa cara interior de su puerta fue otro hallazgo feliz. Hacía años que se había borrado de mi memoria ese pastiche rosa, espantoso. Florencia, en su primera juventud, escribía frases en la madera y en el marco, con rotuladores de mil colores. Y también hacía dibujitos cursis.\n—Si lo amas déjalo libre —leí ahora—, si regresa siempre fue tuyo y si no biene nunca lo fue.\nTambién había esta otra:\n—Amor no es mirarse el uno al otro en los ojos, sino mirar los dos a la misma dirección —y ésta estaba rematada con unas flechas de colores lila, púrpura y rosa fuerte, y un corazón partido por la última flecha. Mi hermana no tenía una puerta, tenía un blog de MSN.\nNo debí haberme regodeado tanto, porque cuando llegué a mi habitación de entonces se me cayó el alma al suelo. Yo era mucho peor que mi hermana; yo era directamente un farsante. Habría preferido mil veces ser cursi como ella y escribir cosas de amor en las puertas, en lugar de tener toda la habitación empapelada con afiches de escritores que jamás en la vida había leído.\n¿Qué hacía esa foto de Lenin allí, con ese bigote absurdo? Y sobre todo, ¿por qué durante toda mi adolescencia yo estuve convencido de haber colgado una de Nietzsche? Regresaron, urgentes, mis deseos de entrar a la cocina, pero ya no para conversar conmigo mismo al estilo borgeano, sino para cagar a trompadas al gordito pelotudo que estaba adentro.\nY lo habría hecho, con toda seguridad. Habría abierto la puerta de la cocina a patadas, me habría agarrado de mi camiseta de entonces con mis puños cerrados de ahora, me habría dicho que no fuera tan estúpido, que dejara de posar como un pavo real, que empezara de una vez por todas a disfrutar de la escritura en lugar de usarla como bandera, que escribiera menos, que escribiera solamente cuando me diera la gana y no cada puta noche como si de eso dependiera la salvación del mundo; me habría cacheteado, me habría pegado la cabeza contra la mesa hasta sacarme sangre, me habría hecho llorar por monigote y por pavo, de no haber sido porque escuché ruidos en la habitación de mis padres y me paralicé.\nAlgo, no sé qué, los había despertado.\nSaqué apenas la cabeza de mi habitación adolescente y me quedé así, escondido, sin hacer un solo movimiento de más. Roberto salió primero y encendió la luz del rincón blanco. Era una luz tenue, azulada. Detrás apareció Chichita, haciendo con los brazos gestos de frío. Los dos eran mucho más jóvenes de lo que yo hubiera imaginado. Pero no fue eso lo que más me llamó la atención, sino que estaban vestidos como para salir.\n—No hagas ruido que está Hernán despierto —dijo mi padre, señalando la cocina y el traqueteo de la olivetti. Ella asintió.\nFue extraño. Yo me escondía de ellos, y ellos se escondían de mí. Mi padre comenzó a tantearse los bolsillos mientras Chichita se arreglaba, con un dedo, la pintura de labios en el espejo que estaba sobre el estante.\n—¿Tenés una birome? —preguntó él, en un susurro.\nMi madre rebuscó en su cartera y le pasó una Bic azul sin decir palabra. Roberto abrió uno de los cajones del rincón blanco y sacó de allí una bolsa pequeña. Después descolgó el espejo pequeño y lo puso, boca arriba, en el estante. Chichita se acercó.\n—A mí no me la hagás muy grande —dijo ella—, mejor guardá un poco y la llevamos.\n—No, gorda, tomemos acá. No hagas cosas raras.\nRoberto peinó dos rayas finas, del largo de un dedo índice, con la tarjeta amarilla del Automóvil Club. Después chupó el borde de la tarjeta y se pasó la lengua por los dientes. Vi a Chichita doblarse sobre el anaquel y aspirar con velocidad. Después él hizo lo mismo, pero más despacio. Cuando acabaron de tomar, mi padre guardó otra vez la bolsita en el cajón del armario, mi madre colgó el espejo en la pared y caminaron hasta la cocina sin entrar. Solamente me golpearon la puerta y me avisaron:\n—Nos vamos a lo de Peti y Negra.\nMe escuché a mí mismo, con una voz muy atildada, contestar:\n—Bueno, yo después cierro.\nAntes de salir a la noche de Mercedes, Roberto apagó la luz del rincón blanco y se revisó la nariz en el reflejo de la ventana.\nHernán Casciari\n11 enero, 2008"
                ],
                [
                  "1",
                  "Mínimos avances en la cama",
                  "1/24/08",
                  "Menos la cama, todo ha mejorado en este mundo. Antes cocinábamos la sopa haciendo fuego con leña, ahora metemos el tazón directamente al microondas; hace medio siglo podíamos tener hasta cincuenta longplays en casa, hoy tenemos quinientas discografías completas en el bolsillo; ayer íbamos a los sitios a caballo y tardábamos meses en llegar, ahora nos movemos en aviones y en tren bala. Todo lo que nos importa ha evolucionado menos la cama, la cama no. Dormir sigue siendo la misma mierda desde el siglo once.\nCapaz que soy yo, que me estoy haciendo viejo y ya todo me cuesta mucho, pero cuando llega la noche prefiero quedarme dormido en el sofá, o en el suelo, antes que irme a la cama.\n—¿No vienes a dormir? —pregunta mi mujer.\n—No, otro día.\nSólo pensar en la cantidad de cosas que hay que hacer para acostarse me desmorona. No hay nada automático, todo es manual y torpe, todo es antiguo.\nObservo la vida del hombre moderno y todo parece estar bien, me siento satisfecho: un aparato nos alerta sobre la hora de despertar; enseguida una máquina nos prepara el café; después un vehículo nos conduce al trabajo; allí un dispositivo piensa por nosotros y nos corrige; por la tarde extraemos dinero de una estructura automática para insertarlo en otra que nos ofrece alimentos o cigarros; por la noche otro artefacto móvil nos devuelve al hogar; ya en casa una invención nos entretiene con música, dramaturgia o deportes; y otra maquinaria nos indica que ya es la hora de descansar.\nHasta ahí todo es perfecto.\nPero justo entonces —cuando más necesitados estamos de lo automático— sobreviene el fallo: antes de acostarnos, nosotros, los hombres modernos, los que ya hemos conseguido no realizar ni un solo esfuerzo físico, tenemos que hacernos la cama. No existe un artificio mecánico que nos libre de esa desdicha. En las casas hay control remoto para todo, hasta para bajar las cortinas. Pero no los hay para las actividades que involucran el dormir.\nSolamente los japoneses y los enfermos terminales tienen control remoto en sus camas. Ellos sí. A veces me dan ganas de ser amarillo (del verbo tokio o del verbo hepatitis) para que mi cama sea automática y tenga botonera.\nEl hombre se ha pasado los últimos veinte o treinta años inventando una cantidad enorme de estupideces. Ya hay máquinas que te informan quién llama, con letras de imprenta, para que no lo preguntes en el teléfono. ¡A eso hemos llegado en nuestra loca aventura hacia el confort! Inventamos artefactos que nos liberan de decir «hola, ¿quién habla?». Hay herramientas que convierten el agua en hielo sin que tengas que viajar al sur. Hay lo que quieras.\nPero a la noche, cuando llega la hora del reposo, debemos airear diferentes telas, extenderlas de manera que sus puntas se toquen, simétricas, y colocar los bordes debajo de una bolsa llena de plumas; una bolsa absurda que pesa lo mismo que la lengua de un dinosaurio.\nOdio el colchón actual. Lo odio con todas las fuerzas de mi alma. El colchón y el comunismo son las dos creaciones más equivocadas de la historia del Hombre. Ambos son inventos que jamás funcionaron bien del todo, pero nunca nadie se ha atrevido a decir en voz alta:\n—Hemos fallado, señores, hagamos esto otra vez desde el principio.\nAl contrario. Al comunismo y al colchón seguimos incorporándoles modificaciones y mejoras falsas, para disimular nuestro error de haber inventado algo tan incómodo. Colchón ergonómico, comunismo libertario; canapé abatible, izquierda moderada; somier articulado, socialismo utópico; colchón de espuma viscoelástica, partido obrero español.\nNo es posible que, a estas alturas del progreso, todavía haya algo en nuestros hogares que debamos limpiar pegándole con una escoba en el patio. No tiene lógica.\nNo puede ser que si un día nos meamos (sin querer), tengamos que pedir ayuda a un vecino para dar vuelta el colchón. Tenemos microchips, minifaldas, lentes de contacto, calditos de pollo... Una enorme variedad de cosas minúsculas. Pero a la noche dormimos en una cosa que pesa treinta y siete kilos.\nEs increíble que ya tengamos coches con los que podemos chocar diez veces sin matarnos, y marcapasos con el que podemos sufrir hasta siete ataques al corazón y seguir vivos, y que —por el contrario— haya que tirar el colchón a la basura cuando nos hacemos pis dos veces. La tecnología y la modernidad parecen estar al margen de los dormitorios. Los avances se quedan en el comedor, en la cocina, en la sala de juegos.\nSi comparamos una cama del año 1308 con otra de este año nos va a costar mucho encontrar un mínimo progreso. Siete siglos muertos, a la deriva de la ciencia, en donde únicamente hemos logrado construir el mismo armatoste horizontal con tres lienzos de tela encima. En setecientos años, sólo hemos conseguido ponerle elástico a las puntas de la sábana de abajo, para que no se salga cuando damos pataditas. En setecientos años, un elástico. ¿Qué carajo nos está pasando?\nEn estos tiempos de modernidad la cama debería venir con ingravidez de serie. Tendría que ser una cápsula gigante y hermética, sin sábanas ni frazada ni colchón de pluma. Fantaseo cada noche con un artefacto en el que mi cuerpo flota, desnudo y lánguido, siempre a una temperatura perfecta y con un leve sonido de fondo: el arrullo del mar, tres grillos en la distancia, los goles de Racing en la voz de Víctor Hugo...\nEn esta cama 2.0 no existiría ni el ronquido ni el insomnio, ni los ruidos externos, ni las pesadillas, ni los pedos con olor. Toda la cápsula estaría insonorizada y atenta a cualquier desliz del cuerpo o del entorno. Las almohadas tendrían un temporizador que las haría dar vuelta solas cuando notasen el cachete acalorado. Y, por supuesto, nosotros mismos estaríamos unidos a un grabador de sueños, para poder ver al día siguiente la repetición de las mejores escenas.\nYo no sé si falta mucho o poco para que lleguemos a este punto del confort. Pero lo veo muy complicado, porque los científicos están muy ocupados poniéndole más y más pelotudeces a los teléfonos móviles. Qué gente obsesiva.\nAhora me acuerdo de una frase de Juan Rulfo, el escritor mexicano. Una frase muy bonita que aparece en su novela Pedro Páramo. El protagonista se está quedando dormido sobre una roca áspera, después de haber andado todo el día por el desierto, y dice, antes de quedarse frito:\n—El mejor colchón es el cansancio.\nPuede ser, sí... Puede ser. En esa época los hombres se agotaban mucho, caminaban kilómetros enteros, trabajaban con las manos y la espalda, comían poco carbohidrato, se peleaban con cuchillo. Es decir, antes la gente se esforzaba. Pero ahora ya no. Hemos abolido el cansancio, hemos eliminado el sudor de la frente y el parirás con dolor. Nos hemos quitado de encima el yugo triste del siglo veinte. Hoy el único trabajo físico que nos queda es hacer la cama antes de acostarnos.\nY yo no quiero, me rebelo. Me enoja mucho que hayamos olvidado erradicar lo más importante. Nos pasamos ocho horas al día durmiendo, ¡un tercio de la vida! Dormimos más que comemos, más que viajamos, más que reímos y amamos. ¿Cómo es posible, entonces, que todavía nadie haya inventado una almohada que se enfríe sola en medio de la noche? Estamos en el nuevo milenio y tenemos que despertarnos para dar vuelta la almohada.\nSomos una raza de imbéciles.\nHernán Casciari\n24 enero, 2008"
                ],
                [
                  "2",
                  "Don Marcos",
                  "2/19/08",
                  "Dos veces, y no una, mi abuelo materno me ayudó a ser un escritor. Y las dos veces su intención fue convertirme en su títere. Ahora que el hombre ha muerto soy capaz de escribir sobre el asunto con menos tacto, y puedo recordar —creo que sin rencor— el año surrealista que viví en su casa de San Isidro, esas noches en las que él me encerraba en la cocina con candado para que no saliera al patio a fumar; o las otras noches, todavía peores, en que revisaba mis cuentos y me tachaba con lápiz rojo las ideas inmorales.\nPero antes debo saltar en el tiempo a 1982, porque entonces ocurrió algo importante. Yo estaba a punto de cumplir doce años y mi tía Ingrid me regaló dos canastos llenos de libros de su adolescencia; más de cincuenta libros. Mi abuelo Marcos, sin que se lo pidiese nadie, desparramó los libros y empezó a hacer dos montones. En uno puso los que yo podía leer, y en el otro los que no.\nEn el montón de los permitidos estaban esos libros seriales que se publicaban en los años sesenta, del tipo Jules y Gilles en busca del diamante, o Jules y Gilles y el piano de cola, etcétera. Volúmenes que sólo eran malas lecturas iniciales. Mientras que en la pila de los prohibidos había buena literatura, novelas que el hombre suponía demasiado complejas para mi edad, o que sospechaba, por la intuición del título, que podían contener tetas, y culos, y fornicación.\nCuando volví a Mercedes con los dos canastos de libros, naturalmente empecé a leer los prohibidos: eran novelas de Conan Doyle, de Oscar Wilde, de Mark Twain, de Chesterton. Libros impresos en hoja de biblia, obras completas. Claro que él no me había prohibido Wilde por El Príncipe Feliz, sino por Dorian Gray, que estaba en el mismo tomo. No me negaba Huck Finn, quiero decir, sino El diario de Adán y Eva.\nTuve un abuelo que me prohibió —justo en el inicio de mi rebeldía— la buena literatura. No la tele, o las drogas, o el alcohol. Tuve esa enorme suerte. No lo entendía entonces, claro, pero ahora sé que en la infancia la pasión desbordada solamente cabe por las puertas del NO.\nEsa fue la primera vez que mi abuelo Marcos me ayudó, por contraposición y sin él quererlo, a ser un escritor. La segunda iba a ocurrir quince años más tarde y sería bastante más dolorosa.\nAhora deberíamos ubicarnos en 1997. Yo tengo veintiséis años, soy un ex cocainómano flamante y tengo acidez de estómago. Mucha acidez, es espantoso. Ya me gasté los últimos dólares de un premio literario y no tengo dónde caerme muerto. No puedo vivir en Mercedes ni un minuto más, porque en cada esquina hay una cara conocida que me quiere convidar de su bolsa.\nChichita, que está al tanto de todo, quiere ayudar a que vuelva a la Capital, un sitio neutro en el que puedo conseguir trabajo y rehacer mi vida. Como no hay plata para alquilar departamentos, se juega una carta imposible: le pide a su padre, a don Marcos, que me acepte como huésped temporal en su casa de San Isidro.\nLa primera respuesta del viejo es veloz y tiene lógica: el abuelo dice que no, que la idea es una locura insensata, que sólo verme de cerca, ver en qué me he convertido, podría matarlo de tristeza. Don Marcos no quiere saber nada de mí.\nAntes de que alguien intente juzgar esta negativa, debo decir que mi abuelo materno tenía entonces quince nietos y que yo era el mayor. Es decir que fui el primero, el de las mil fotos, el de los grandes regalos, y el hombre había puesto en mí todas sus esperanzas. También debo decir —para completar el cuadro— que hacía más de diez años que yo no lo visitaba, ni lo llamaba por teléfono para preguntarle si estaba vivo o si estaba muerto.\nDon Marcos sabía de mi existencia de oídas y por rumores, que es la peor manera de saber sobre la vida de nadie. Conocía la síntesis de mi juventud, pero no su lento y agotador desarrollo. En esa síntesis biográfica campeaban a sus anchas cinco frases recurrentes: ahora está gordo, ahora escribe, ahora se droga, ahora está flaco, ahora no sabemos dónde está.\nSólo me había visto con sus ojos una vez, en toda una larga década, y no había sido un paisaje alentador. Se casaba mi hermana y él había ido a la ceremonia a regañadientes. Yo estaba en una mesa alejada del salón de fiestas. Cuando mi abuelo miró para mi sector, el Chiri me estaba tirando aceitunas desde lejos y yo las cazaba al vuelo con la boca. No. Ése no era el futuro que don Marcos había soñado para mí.\nPor suerte mi madre insistió en el pedido urgente de asilo (insistió varias veces, creo que hasta lloró y suplicó) y una tarde él llamó por teléfono y pidió hablar conmigo.\n—Hernán —dijo—, vas a venir a esta casa, pero bajo mi responsabilidad y acatando cada una de mis reglas. No quiero enfermarme, por tu culpa, ya más de lo que estoy.\nA la tarde siguiente metí en un bolso dos mudas de ropa, un paquete con cincuenta sobres de Uvasal y la carpeta con todos mis cuentos viejos. Con aquello bártulos y la cabeza astillada, me fui en un tren a San Isidro. Para mí comenzaban doce meses alucinantes tras los que acabaría convertido —ya sin retorno— en un escritor. Para don Marcos empezaba el último año de su vida.\nAl llegar, me puso unas reglas muy crueles. Debía escribir seis horas al día, debía fumar sólo en el patio y debía darle dos vueltas al perímetro del Hipódromo todas las mañanas, aunque el sol partiese la tierra o cayera el diluvio universal.\n—Pero yo vine a la Capital a buscar algún trabajo, de lo que sea —le decía espantado.\n—Tu trabajo es escribir, adelgazar y dejar el vicio —respondía él—. Pero sobre todo escribir. Si hacés las cosas bien, plata no te va a faltar. Yo me encargo de eso.\nDon Marcos tuvo siempre un sistema de pensamiento devastador y caprichoso contra el que era imposible debatir. Los demás siempre estaban equivocados y él había llegado al mundo para encontrar los errores. Desde el día en que viví con él hubo mil discusiones absurdas en las que yo acababa agotado y me retiraba con dolor de cabeza. Pero también me olvidaba de él muy pronto.\nEn cambio cuando el adversario era alguno de sus hijos, o su esposa, o alguien que compartía con él lazos inseparables, cada palabra de don Marcos provocaba una herida que no sanaba más. El dolor nacía y quedaba en el cuerpo toda la vida. Lo sabía por mi madre.\nEn aquel tiempo escribir era para mí una fiesta a la que podía entrar cuando se me daba la gana, y salir si la cosa se ponía muy densa. Escribir no era un trabajo, sino la mejor excusa para ser un vago. Me sospechaba con algún talento natural, y entonces me aprovechaba de la suerte. Nunca nadie, ni en mi familia ni entre mis amigos, me había enfrentado a la raíz de mi vocación.\nDon Marcos fue el primero. Me puso una máquina de escribir en el galpón de las herramientas y me dejó dormir en la cocina de su casa. Durante el día él contaba cuántas veces dejaba de escribir para fumar. Por la noche, cerraba con candado la cocina para que no pudiera salir al patio ni escapar de la casa. Mi humillación era absoluta, gigantesca y mortal, pero no podía rebelarme porque más allá de ese techo y de esas reglas no tenía nada.\nPara peor, él siempre estaba en casa. Desde muy joven había cortado la relación con sus hermanos. Su esposa le temía. Algunos de sus hijos le habían entregado la vida a cambio de nada. Los otros se alejaban o deseaban olvidarlo. No tenía amigos reales. Él veía que a su alrededor las personas tenían una vida y a veces eran felices al equivocarse y empezar de nuevo, pero pensaba que en todas partes, menos en sus zapatos, había un fallo monumental.\nMi primera defensa al encierro fue la de siempre: me sentaba en un sillón enorme a ver pasar las horas, con la hoja intacta en la máquina de escribir. No me salía una sola idea, pero me daba lo mismo. A las seis horas bajaba a tomar mate con gesto de escritor preocupado y con una enorme carpeta llena de cuentos viejos abajo del sobaco.\nEsto había funcionado siempre, al principio con mis padres, y después con mis amigos. Silencio, que el Gordo está escribiendo. La excusa de la literatura, de su enorme sacrificio, me había salvado del esfuerzo real cientos de veces. Pero el mundo de don Marcos era otro mundo.\nNunca descubrió que yo no escribía, pero descubrió algo peor: supo que yo era un escritor pésimo. Cada noche, mientras yo dormía, revisaba la carpeta negra de los cuentos viejos y me los destrozaba. Usaba un lápiz rojo, grueso, de carpintero, y además de tachar párrafos completos hacía anotaciones en los márgenes. No eran críticas constructivas sino palabras sueltas en letra imprenta: INNECESARIO. INMORAL. ASQUEROSO. Algunas veces, muy pocas, una palabra de aliento: BIEN, o ESTA FRASE NO ESTÁ MAL. Una palmada cada quinientos coscorrones.\nNo eran épocas informáticas, se entiende, y por tanto cada original borroneado con saña era un cuento perdido que había que redactar otra vez desde cero. Y eso cuando solamente se le ocurría tachar, porque a veces era peor. Una vez leyó El Futuro del Chape, un cuento corto en el que un violador cuenta, en primera persona, los detalles más morbosos de su oficio, y me rompió las dos páginas en mil pedazos. Al día siguiente tuve que reescribirlo entero, de memoria, hundido en una impotencia que ya me resultaba insoportable.\nPero no era eso lo que más me molestaba, sino que por primera vez alguien discutía mi oficio con ferocidad. Y lo más alucinante es que, en lugar de rebelarme, yo empezaba a despertar de mi dejadez, a escribir de nuevo con fuerza, pero ya no para alardear sino para defenderme.\nDon Marcos era fanático de la familia occidental y cristiana, aunque no había hecho otra cosa en la vida más que desunir a la suya y olvidarse de Dios. Pero lo más peligroso era que lo había hecho sin mala intención, es decir: convencido de practicar el bien. Lo mismo hacía con mis cuentos.\n—La literatura tiene que ser moral —me decía después de leer algún otro cuento mío lleno de groserías o imágenes chanchas—, tiene que reflejar lo bueno que hay en los hombres, y lo que vos hacés es una mierda.\nSeis meses después, yo escribía desde que salía el sol y solamente dejaba mi habitación de las herramientas para bajar y discutir con él a los gritos. A veces las charlas duraban hasta muy entrada la noche. El hombre era cerrado como un laberinto y, supe entonces, compartía la teoría de la perfección de la raza. Odiaba a los judíos con ganas, casi tanto como a la mujer independiente. Las democracias le resultaban incómodas, pero tampoco suscribía a los regímenes fascistas de su tiempo.\nLos militares argentinos le resultaban tan ridículos como los dirigentes demócratas, y él parecía no estar parado en ninguna vereda. En todo ese año nunca pude entender con qué sistema de gobierno se hubiera sentido a gusto. Al final entendí que su mecanismo era llevar la contra siempre y postular que en todas las ideas posibles había una grieta, menos en la propia.\nDon Marcos jamás veía árboles, sino madera. Él podría haber sido carpintero, pero nunca guardabosques. No habría soportado ver crecer un tronco, ni observar la composición arbitraria de sus ramas, ni dejar brotar las hojas, ni más tarde verlas caer. Mi abuelo habría podado el tronco antes de tiempo, habría tallado su imagen con un cincel desesperado y le habría puesto su nombre a la obra. Don Marcos Carabajal. Eso intentaba hacer también conmigo, ahora que yo dependía de su comida y de su techo protector.\nFue un año larguísimo y pesado, del que seguramente todavía me quedan traumas. (Escribir esto es dejar atrás alguno.) Pero sólo entonces, sólo en ese territorio caótico aprendí a escribir con sacrificio y sin inspiración, y aprendí también que el ESTA FRASE NO ESTÁ MAL de un lector enemigo es mil veces mejor crítica que el GENIAL COMO SIEMPRE de un lector camarada.\nAl final de ese año fui a comprar cigarros y, al volver a la casa de San Isidro, mi abuelo me esperaba en el patio. Estaba muy preocupado de que no se lo notara ansioso.\n—¿Vos mandaste un cuento a Francia? —me preguntó, con el teléfono inalámbrico todavía en la mano.\nDije que sí con el corazón en la boca, porque sabía muy bien lo que estaba pasando.\n—Cuál cuento —quiso saber, con la cara de culo más grande del mundo.\n—Ropa sucia —dije—, el de la hermana que le hace la paja al hermano. El que rompiste la semana pasada.\n—Llamaron —dijo, señalando el teléfono—. Que ganaste no sé qué, no se entendía bien. Ahí te dejé el número arriba del aparador, capaz es un chiste de algún amigo tuyo...\nY se fue a dormir la siesta, enojadísimo.\nDos meses después, con la plata del premio en Francia me pagué el depósito para mi casita de Belgrano y me fui a vivir solo. Me compré una mesa y un colchón. Y un teléfono móvil de dos kilos. A ese móvil llamó Chichita para avisarme que mi abuelo se había muerto.\nMi último acto de rebeldía fue no ir al entierro de ese hombre que, en la infancia, me enseñó a tener curiosidad por lo prohibido, y cuando dejé la adolescencia, me mostró que la vocación no es una fiesta nocturna sino un esfuerzo complicado de asimilar.\nAhora, que me levanto a las ocho de la mañana para escribir mis cuentos, y que no siempre hay inspiración, ahora que me acuesto temprano y que mis historias nomás buscan entretener, suelo pensar en él.\nPero lo tengo más presente, a don Marcos, cuando descubro que el tiempo viaja en remolinos, y que Nina un buen día crecerá y me dará un nieto. Un nieto que —porqué no, si llevará mis genes— puede convertirse en el adolescente ausente que fui yo. Qué espanto más grande.\nEs posible que para ser un escritor no me baste con andar los caminos prohibidos y asumir el esfuerzo y la responsabilidad. Quizás escribir me funcione, únicamente, si levanto la vista una vez en la vida y le pido perdón a mis muertos, sin literatura.\nHernán Casciari\n19 febrero, 2008"
                ],
                [
                  "3",
                  "Los dos rulfos",
                  "3/26/08",
                  "A su regreso de México, mi amigo Comequechu nos contó una historia. Dice que va paseando, con su mujer y su hija, por las calles de Jalisco y entonces descubre, a dos pasos, la imponente Universidad de Guadalajara. En la puerta hay un cartelito con información para turistas, y lee que allí están los bustos de todos los ganadores del premio Juan Rulfo de literatura, que concede esa casa desde 1991. Sin dudarlo, arrastra a su familia por los pasillos. «Vamos a ver el monumento a Cayota», les dice.\nYa no me acuerdo desde cuándo, ni por qué, Comequechu me dice Cayota en lugar de Casciari. En realidad, nunca se dirigió a mí usando nombre y apellido reales. En su cabeza siempre fui Cayota, y también lo soy para su mujer y para su hija, que me llaman de ese modo con toda naturalidad. Por eso a ellas no les sonó extraño el segundo sustantivo de la frase, cayota, sino el primero: monumento. El malentendido, sin embargo, tenía una explicación.\nUn par de meses antes de su viaje a Norteamérica, Comequechu conoció la noticia de que yo había ganado un certamen literario llamado Juan Rulfo, pero nunca supo —no tenía por qué saberlo— que en el mundo hay dos premios con el mismo nombre. Uno bastante intrascendente que se otorga en Francia (el que gané aquel año) y otro importantísimo que se concede en México, y que no ganaré nunca. La diferencia entre ambas distinciones es abismal.\nEl galardón francés premia una obra puntual —un cuento, una novela corta— y ofrece una compensación económica discreta. El premio mexicano rinde homenaje a una trayectoria literaria, el cheque es suculento y, en efecto, cada ganador queda inmortalizado con un pequeño busto de bronce en el centro de exposiciones de la Universidad de Guadalajara, justo el sitio al que se dirigen ahora, con paso firme, Comequechu y sus dos mujeres.\nEn la sala principal del centro, sobre el mosaico ajedrezado y en medio de un gran silencio, los tres visitantes descubren por fin una breve fila de esculturas de metal, réplicas frías de escritores legendarios, y empiezan a buscar mi busto para sacarse, los tres, una foto conmigo.\nDan vueltas y vueltas alrededor de los bronces de Nicanor Parra, de Juan José Arreola, de Nélida Piñón, de Julio Ribeyro, pero no me encuentran por ninguna parte.\n—Papá, papá, ¿dónde está Cayota? —pregunta Libertad, que entonces tiene cuatro años.\nUn guardia de la Universidad, morocho y alto, que sigue al trío con la mirada desde el principio, se les acerca.\n—¿Les puedo ayudar en algo?\n—Disculpe —le dice Comequechu—, estamos buscando el monumento de Cayota, pero no está.\n—¿Perdón, señor?\n—Que estamos buscando el monumento de Cayota —repite Comequechu, más despacio—. ¿Todavía no lo construyeron?\nCuando Comequechu nos narra este diálogo, dos meses después de su viaje, el Chiri y yo nos desparramamos de la risa. Él todavía no conoce el error, y está convencido de que soy un mentiroso:\n—¡Vos no te sacaste ningún premio, Cayota! —me dice— El policía me llevó con el rector, y yo le dije que era amigo tuyo, y que vos te habías ganado el premio de Juan Rulfo de este año, y el rector se pensó que yo era amigo de Monte Hermoso.\n—Monterroso —corrige la mujer de Comequechu desde la cocina, y a nosotros nos duele la panza de la risa.\nAlgunas horas más tarde el Chiri y yo volvíamos en el 57 a la Capital, después de haber pasado el día en la quinta de Comequechu, y no nos podíamos sacar de la cabeza esas imágenes mexicanas, absurdas y hermosas. Yo estoy seguro que fue allí, de camino a Plaza Italia, cuando Chiri utilizó por primera vez las palabras «anécdota mejorada» para referirse a esa clase de obsequio.\n—¿Cómo habrá sido en realidad? —me preguntó.\n—Yo creo que pasó por la Universidad de Guadalajara —intuí—, pero que ni entró.\n—Pero entonces la historia se le tuvo que haber ocurrido ahí, los diálogos, todo.\n—¿Y vos pensás que sabe que hay dos premios?\n—¡Claro que sabe!\n—No puede ser tan gracioso, el hijo de puta.\nQuizá lo supiéramos desde antes, pero fue allí cuando le dimos verdadera dimensión a la honestidad que implica regalar una mentira donde es uno —el narrador— quien queda mal parado.\nLa mentira tiene mala prensa porque en general se utiliza con mezquindad: para sacar provecho, para vengarse de otros, para obtener crédito espurio, para fingir o alardear. Esa es la mala mentira. La buena mentira, en cambio, es generosa: ahí reside la única virtud de la mentira y de las mujeres feas. Ese pequeño detalle es lo que convierte a la mentira en arte, lo que le da categoría de ficción.\nLa mentira es un alimento nutritivo, pero debe ser emitida para salvar a otros del aburrimiento, no para salvarse uno de su realidad o su frustración. La historia de Pinocho no es verdad, pero Collodi no escribió esa mentira para ostentar, ni para dejar de pagar la cuota del coche, ni para que los demás lo creyeran musculoso. Urdió esa mentira para entretener a la gente, como Comequechu aquella tarde. Fue generoso y tuvo su recompensa: no le creció la nariz.\nVolvimos a nuestras casas —esa noche— pensando en cómo Comequechu había escrito aquella historia en su cabeza, palabra por palabra, en cómo había pulido los detalles en el aburrimiento del avión, y de qué forma maravillosa nos había emborrachado un poco para soltar el cuento en la sobremesa. Le admiramos los gestos, los giros (sacarse el premio, monte hermoso, o monumento en lugar de busto), la participación de su mujer desde la cocina, su enfado al creerme un embustero. Todos los detalles y los esfuerzos de una puesta en escena que, bien mirado, sólo tenía por objeto hacernos felices un rato, después de comer.\nAhora estoy seguro. Fue esa noche, en el 57, cuando entendí que debía aprender, con urgencia, a narrar igual que hablaba Comequechu. Que lo que a mí me interesaba contar no era la pura verdad, ni tampoco era el puro cuento. Hasta entonces yo escribía, sin darme cuenta, borradores insípidos, pero la verdad es agua que empieza a hervir, y la ficción es fideo seco, deshidratado. No eran ellas solas, sin palote de madera, una sopa caliente que alimentara a nadie. No a mí, por lo menos.\nAquel cuento mío que ganó el Juan Rulfo francés, por ejemplo, fue la última historia que escribí engañándome a mí mismo, sin ponerle pasión, sin involucrarme como Comequechu en las sobremesas. Y fue también el último texto que envié a un concurso literario. Aquel premio, de hecho, era una de esas típicas miradas francesas sobre el mundo latinoamericano. Si querías ganar tenías que presentar una historia de pobrezas dignas, donde por lo menos alguien volara, donde hubiera palabras sonoras que un jurado pudiese adivinar por el contexto. Realismo mágico, lánguidos llanos calurosos, cuánta mierda.\nEscribí aquel cuento sin nada mío, sin alegría. Puse todos los elementos que podían fascinar a un francés encantado de sí mismo: pestes, inundaciones, milagros, y más o menos setenta palabras que no existen en ningún país latinoamericano, pero que suenan bien: catinga, cueco, güiraina. Por supuesto, me dieron el premio. Nunca tuve en mis manos la edición impresa, en francés, de aquella antología de cuentos latinoamericanos en donde aparecía Ropa Sucia, mi última mentira literaria, pero me imagino que les habrá costado poner las notas al pie con los americanismos falsos.\nDos semanas después de que Chiri acuñase la frase anécdota mejorada yo ya había vuelto a San Isidro y sonó el teléfono. Eran los franceses, que habían editado el libro con los cuentos premiados y querían hacerme un reportaje para Radio France Internationale.\nLa primera pregunta de la periodista, por supuesto, fue si mi cuento era autobiográfico, si realmente mi familia había sobrevivido al tifus comiendo papalla tierna, si realmente mi hermanito el Jesús, muerto en la riada, había resucitado.\nEstuve a punto de decirle que no, que era ficción, que yo vivía en San Isidro, al lado del hipódromo, pero me vino a la cabeza el almuerzo en la quinta de Comequechu. Su generosidad oral, la magia de sus medias verdades.\n—En efecto —le contesté a la periodista, con un deje norteño— escribí el cuento después del tifus, como un desahogo... La peste había matado a mi padre y a dos hermanitos míos, y los pocos que quedábamos en casa nos fuimos acocochando, como zarugos alrededor de un fuego.\nDel otro lado del teléfono la francesita anotaba todo, palabra por palabra, encantada de la vida.\nHernán Casciari\n26 marzo, 2008"
                ],
                [
                  "4",
                  "La noticia no es el perro",
                  "4/15/08",
                  "De repente, un video de You Tube recibe un millón de visitas. Su autora, una gordita de Illinois, escribe con el culo en una pizarra. En casa de la gorda suena el teléfono sin parar. Llaman las radios, la televisión comarcal y tres diarios regionales. Es un día de locos. La madre de la gorda no entiende, pero comienza a sentirse orgullosa. Dos días más tarde la gordita saldrá al aire en el show más visto de la cadena NBC. Y después ya no ocurrirá más nada. Silencio. La gorda intentará grabar otras hazañas, pero su momento habrá pasado.\nEn realidad, Lorene Zarsky escribe con el culo en una pizarra desde los diez años. A esa edad tuvo mononucleosis y debió quedarse en casa dos meses enteros. Se aburría como una ostra. Una tarde se puso una tiza en el culo, la apretó con las nalgas y escribió su nombre, con mucho esfuerzo, en la pizarra que colgaba de la pared de su cuarto. Al mes siguiente ya dominaba la técnica como nadie.\nSin embargo, hasta los catorce años solamente mostró su habilidad a amigas íntimas, en pijama partys y campamentos de verano. Después vinieron el alcohol, los amores adolescentes, y entonces algunos chicos del instituto también pudieron disfrutar del espectáculo.\nLorene era rápida con la tiza, tenía buena letra y excelente ortografía. Le gustaba escribir pequeños aforismos adolescentes: «si lo amas, déjalo libre», o «me has dejado el corazón roto».\nUn día, ya cumplidos los diecisiete, Lorene se enamoró de Jim, un compañero de clases, y después de la segunda noche de manoseos le hizo conocer su habilidad. Jim quedó fascinado con la faceta literaria de su novia y no tardó en grabarla con su teléfono móvil. Desde entonces, Jim no vio la hora de romper con la gorda para poder subir el video a You Tube sin sentir culpa.\nLo hizo dos semanas más tarde.\nLo cierto es que el video estuvo disponible un mes entero sin demasiado éxito, y pudo haber pasado sin pena ni gloria por el mar revuelto de Internet, pero un día el webmaster de una página porno lo encontró por casualidad y lo recomendó en su blog. «My girlfriend write with the ass» fue el video más visto del día, y la transmisión viral resultó imparable.\nAl no ser un corto escandaloso —Lorene no está desnuda ni muestra nada— miles de páginas lo reprodujeron, y tardó doce horas en aparecer en la prensa seria. Y en la televisión comarcal. Todos querían saber quién era la gordita que escribía con el culo.\nAl segundo día Jim proporcionó el teléfono de la gorda a una agencia de noticias nacional, a cambio de quinientos veinte dólares. Pudo haber sacado mejor dinero, porque cuando la prensa no tiene nada para decir, las gordas que escriben con el culo en una pizarra son como la lluvia fresca.\nEllas o quien sea: el chico holandés que amasa una pequeña fortuna mientras duerme; la cerda que amamanta gatitos huérfanos; la azafata francesa que, en pleno vuelo, le muestra las tetas al piloto; el loro que resuelve el cubo mágico; el gordito siniestro que hace playback de una canción pegadiza; las chicas que revientan a golpes a la nueva compañera del colegio; la ardilla que baila el foxtrot; el adolescente italiano que le toca el culo a la profesora; la chica de bikini amarillo que hace campaña por Obama; el neozelandés que se destroza la cabeza con una patineta; las tres chicas japonesas que se arrancan las pestañas con los dientes; el desalmado que mete un sapo en el microondas; o una adolescente simpática de Illinois que escribe frases de amor con el culo.\nLorene ni siquiera sabía que sus intimidades literarias circulaban por Internet cuando, muy temprano, recibió el primero de una docena de llamados telefónicos. Casi todas las entrevistas provenían de programas radiales matutinos, en donde dos o tres tertulianos graciosos le hacían preguntas con doble sentido.\n—Dime Lorene, ¿nunca se te ha escapado una tiza? —y cosas por el estilo.\nLa gorda, que era extrovertida y sincera, contestaba a todos con gracia.\nLa presencia mediática (todavía muy acotada a la prensa de Chicago) generó que el video de Lorene lograra quinientas mil visitas por la tarde, y un millón esa misma madrugada. Y entonces sí, los teléfonos de la gorda empezaron a recibir llamados de todo el planeta. Porque la radio, la prensa y los telediarios del mundo miden la relevancia de sus noticias en millones de youtubes. Novecientos mil no es noticia, pero un millón sí. No les importa qué ha ocurrido, sólo tiene valor aquello que ha sido visto por un millón de descerebrados.\nLorene alcanzó la cumbre de su fama dos días más tarde. Escribió con el culo y en directo, en el late-show más visto de Norteamérica, unos versos de Yeats que le dictó el comediante Jay Leno.\nMuy lejos de allí, en Quebec, Canadá, Fran Billdeth estaba viendo el programa de televisión y se obsesionó con la gorda de la pizarra. Esa madrugada estuvo cuatro horas enteras, sin pausas, mirando una y otra vez el video en Internet. Y después buscó y buscó noticias en Google para escuchar las entrevistas, y ver fotos de Lorene.\nFran ahora tiene treinta años, pero hace dos se grabó cantando una canción y subió el video a internet. Fue tanto su éxito que una compañía discográfica lo contrató para hacer un disco. El videoclip profesional de su primer trabajo no convenció a nadie, la gente sólo quería verlo en su habitación haciendo el tonto. Al mundo le gustaba el Fran amateur; el Fran profesional resultaba patético.\nAhora Fran había malgastado todo el dinero de sus quince minutos de gloria, había adelgazado mucho y vivía en medio de una brutal depresión. La gordita del culo y la pizarra lo había devuelto a la vida o, al menos, le había proporcionado una obsesión para matar el aburrimiento.\nEntre Illinois y Quebec hay unos mil quinientos kilómetros que Fran recorrió en tres autobuses. Ni la prensa ni la policía saben nada sobre en qué parte del viaje compró la pistola automática, o si ya la tenía desde antes.\nFran llegó a Illinois sobre las siete treinta de la mañana de un miércoles, sólo cuatro días después de haber visto, por primera vez, a Lorene en la televisión nacional. No le costó dar con su casa.\nCuando la gordita abrió la puerta creyó que se trataba de un periodista y lo invitó a pasar. Fran se negó y se quedó estaqueado en la acera. Desde allí, pronunció una frase de cinco palabras que Lorene no comprendió:\n—La noticia no es el perro —fue lo que dijo.\nEnseguida sacó de su bolso la pistola automática y apuntó a la gorda. Fue cinematográfico e irreal. Lorene sólo tuvo tiempo de correr hasta la esquina. Fran Billdeth la siguió sin apuro, caminando, con un ojo cerrado y el dedo sobre el gatillo.\nDisparó sólo una vez, en medio del culo de la gorda, que cayó sin gritar. Varios vecinos socorrieron a Lorene y llamaron a la ambulancia, pero no tuvieron tiempo suficiente para detener al agresor, que logró huir. La frase de Fran antes de disparar —se supo más tarde— forma parte de un viejo axioma que imperó en el periodismo tradicional del siglo veinte. Un perro que muerde a un hombre no es noticia; un hombre que muerde a un perro sí lo es.\nLorene Zarsky tardó seis semanas en volver a caminar, pero sus médicos le prohibieron escribir con el culo, ni en pizarras ni tampoco en ningún otro soporte. Fran fue detenido dos días después, en la frontera con Canadá, cuando intentaba regresar a su casa. No se resistió al arresto y se declaró culpable del disparo.\nDurante el breve juicio, y tras ser preguntado sobre el móvil de la agresión a la menor, Billdeth fue otra vez hermético en su respuesta:\n—Hoy es noticia cualquier cosa que haga un perro. La noticia no es más el perro: es el número de imbéciles mirando al perro.\nLa información sobre la agresión a Lorene Zarsky sólo apareció en dos periódicos: el Chicago Tribune (página 47) y el Illinois Herald (un suelto sobre tecnología y tendencias).\nLa repercusión fue nula en el resto del planeta.\nHernán Casciari\n15 abril, 2008"
                ],
                [
                  "5",
                  "El milagro de los pueblos",
                  "4/22/08",
                  "Cuando nació la Nina no tuve ganas de escribir sobre otra cosa que no fuera el descubrimiento de la paternidad. Yo mismo notaba, en los ojos de todos, el cansancio de mi discurso baboso. En Orsai intenté controlarme, y prometí que sólo escribiría sobre el tema los días veinte de cada mes, y así lo hice durante el primer año. Después conseguí calmar el borbotón, al menos de puertas para afuera. La semana pasada Nina cumplió cuatro años, y hoy casi somos día veinte... Es un buen momento para volver sobre el asunto.\nNo es que ahora, de repente, tenga algo nuevo para decir. Todo sigue su curso con gran naturalidad. Se acabó la época de los pañales y del chupete, como le pasa a todo el mundo. Descubrimos, con alegría, que la nena no es un prodigio del ajedrez ni tiene otras virtudes tempranas. De hecho, lo que más le gusta es dormir. Tampoco voy a narrar pequeñas anécdotas habituales que sólo maravillan a los que están cerca, y que dejan al resto con una sonrisa falsa en la boca.\nLa miramos, y sospechamos que es feliz. Posiblemente sea lo único que nos importa en la vida.\nCuando estuvo a punto de cumplir tres años, es decir, cuando iba a empezar la escuela, decidimos irnos de Barcelona, que es una ciudad preciosa pero inmensa, para buscar un pueblo chiquito. Una casa con pasto, un lugar con animales cerca.\nYo siempre creí que una buena parte de mi felicidad infantil tuvo que ver con haber crecido en Mercedes, y probablemente con que mi abuelo Salvador haya vivido en una quinta. Y más tarde, en la juventud, con haber ido a un colegio con los mismos compañeros desde el principio.\nLe tengo un respeto irracional a la amistad temprana, a conocer a mis amigos desde la primera infancia. Con el Chiri tenemos recuerdos lúcidos, limpios, que tienen más de veinticinco años. Y a Guillermo, que viene a mi casa todos los sábados a jugar, le recuerdo la cara desde hace más de treinta.\nCon ellos no hay, no existe, la posibilidad del aburrimiento. Sólo claridad y placer. Llega un punto en que la serenidad es tan enorme, y la conversación tan fluida, que es complicado, más tarde, no confundir una charla común con un pensamiento en solitario.\nCuando cumplí dieciocho y me fui a Buenos Aires (una ciudad preciosa, pero inmensa) entendí que la amistad de las grandes capitales era menos antigua y más frágil. Quizás, porque los amigos infantiles se perdían en la maraña, y los amigos nuevos se habían conocido de grandes. Los chicos de las ciudades numerosas hacen el jardín en un barrio, la primaria en otro, el secundario más allá... Se pierden el rastro, cambian mucho de colectivo. El tango Tres amigos da fe de esta desgracia:\n¿Dónde andarás, Pancho Alsina?\n¿Dónde andarás, Balmaceda?\nYo los espero en la esquina\nDe Suárez y Necochea.\nHoy ninguno acude a mi cita.\nYa mi vida toma el desvío.\nLa guardia vieja me grita\n¿Quién ha dispersado aquel trío?\nPobre cantor de Buenos Aires: sus amigos también habían cambiado de colegio... Pero no les pasa a todos, claro. Algunos tienen la suerte de la perseverancia, o del anhelo, o de la casualidad, y entonces hay reencuentros felices. Pero son los menos. En general, el medio ambiente de las capitales no ayuda a la germinación de la amistad temprana y para siempre.\nY después está el asunto del pasto. Y el asunto del río. Y el asunto de los aromas. Crecer en los pueblos tiene algunas desventajas (la antena de Mercedes no sintonizaba Tevedós, por ejemplo) pero también produce un provecho lento que se descubre con los años. El olor de las lombrices cuando levantás la baldosa, los barriletes de caña, juntar huevos calientes mientras te mira la gallina madre, pisar hormigueros y sentirse un dios malvado. Sentirse sucio, sentirse lejos de casa, del otro lado de un río.\nO la multitud de madres y padres. Eso también. La cercanía de las casas de los amigos te convierte, también, en hijo de otra gente. Y te ayuda a querer a otros padres (que son otros mundos), a conocerlos en la intimidad y en la sobremesa. Alfredo y Mary son hoy, para mí, lo que Chichita y Roberto son para el Chiri. También Hugo y Gloria, los padres de Guillermo. Otros ojos que nos vieron crecer, y siguen allí siempre. Y otras habitaciones, y otros estofados.\nEntonces, hace casi un año, nos mudamos a Sant Celoni, un pueblito de quince mil habitantes en la montaña. Nuestra casa está justo al final del pueblo, en el punto exacto donde el asfalto se convierte en bosque. La Nina vuelve sucia del jardín. Su abuelo la lleva a buscar hongos. Sus amigos del cole tienen padres que son de acá, de toda la vida. Cuando llueve hay barro, cuando nieva hay silencio. Y también perejil en la ventana de la cocina.\nClaro que la ecuación no tiene por qué funcionar como una magia. Vivir en un pueblo no es la receta de ninguna felicidad, ni tampoco las ciudades escupen moldes de chicos tristes. Pero hay algo, en mis propios recuerdos de la infancia, que me lleva a repetir el idéntico camino de una esperanza. Es como plantar una semilla en tierras propicias. Hay egoísmo en todo esto, porque solamente puedo relacionarme profundamente con personas que han tenido una infancia feliz. Y eso no tiene nada que ver con la geografía. Solamente es suerte. Pero yo quiero ser amigo de la Nina, cuando seamos grandes.\nSupongo que los padres que han sido felices con la riqueza pretenden hijos que aprendan pronto a sumar y multiplicar. Y los que han sido felices con la música hacen lo posible por darles a los suyos un entorno lleno de pianolas. El amor funciona de ese modo. También la voluntad y el deseo. A mí me tocó ser feliz gracias a que conversé toda la vida con la misma gente. Todo lo bueno que me pasó y me pasa tiene que ver con ese destino no buscado.\nPor eso, cuando la Nina vuelve del cole todos los días a las cinco, la veo entrar a casa y le pregunto si jugó con los chicos, le pregunto cómo se llaman sus más mejores amigos, quiero saber si se divirtió como un chancho en el patio.\nLa pregunta es otra, por supuesto. La pregunta verdadera es:\n—¿Sembraste muchos chiris esta mañana, Nina? ¿Le pusiste agua a todos tus guillermitos?\nElla me dice que sí, por suerte. Siempre me dice que sí. Y yo cruzo los dedos para que sea verdad y entonces, un día, a ella también le ocurra el milagro.\nHernán Casciari\n22 abril, 2008"
                ],
                [
                  "6",
                  "Ropa sucia",
                  "5/6/08",
                  "Ya de entrada caí mal parado. Vine al mundo justo el año en que todos éramos más pobres que de costumbre, cuando hasta los ricos y los catinga estaban también con hambre. A esa época después la iban a bautizar como el tiempo del quita y pon. Nací justo el año que el Gobierno mantuvo a la gente ocupada con el azadón para evitar los alborotos. Todos hacían trabajo inútil: los cabeza de familia, sus mujeres, y los hijos de ocho en adelante. Yo no hacía esos trabajos porque estaba recién nacido.\nMi papá y mis hermanos grandes, junto con otra mucha gente, salían por la mañana a poner baldosones de pasto en la plaza: le pagaban a cada uno cien sanmartines la media jornada. Cien sanmartines era el pan del día, o quince bambú sin filtro. Por la tarde, las mujeres y los críos estaban empleados para quitar de la plaza el pasto que habían puesto los hombres; debían echarlos en los canastos, a cincuenta sanmartines por tarde. Eran los mismos terrones manoseados que la otra mitad del pueblo colocaría de nuevo desde el día siguiente. Así una y otra vez.\nEl hermano que venía antes que yo iba a llamarse Gracián Galíndez, porque ya estaba planeado que llegase un 12 de agosto, que es san Gracián; pero nació muerto. Entonces me pusieron a mí el nombre, aunque nací el 3 de noviembre del otro año, y debí de haberme llamado Galindo Galíndez, que es mucho más sonoro. De todas maneras, Gracián o Galindo, el destino ya quería que todos me conocieran como el Rengo, por el problema que tengo en el talón.\nEsa época de los terrones de pasto duró un año largo. El Gobierno no quería dar subsidios ni entregar los puros alimentos básicos porque temía que los más pobres, sin trabajo fijo ni actividad del cuerpo, se dieran al vino o a la insurrección. Por eso se crearon aquellos oficios de quita y pon, que así se llamaron, y que dieron que hablar mucho en la época que nací.\nMi mamá quiso que al menos dos de sus muchos hijos supieran leer y escribir, y ni el toto sabe los esfuerzos que hizo para mandarnos a clases, a la Eugenia y a mí. Su sacrificio no fue de dinero, puesto que la educación todavía era liberada, sino porque nosotros nos escondíamos para escaparle a la milonga de la escuela. Yo no sé por qué mi hermana fue tan retobada para ir a clases; mi desapego era a causa de las bromas de los otros. Eso de Rengo Galíndez me lo pusieron allí, y tuvieron que pasar muchos años, y una peste, para que me sonara afectuoso.\nA la Eugenia le llevé siempre un año de vida, pero en cambio nunca la alcancé de camino a la escuela. Un poco por mi tranco cachuzo, pero más que nada porque ella apuraba el trote para que no la vieran llegar conmigo de lastre. Era murraca, como todos nosotros, pero había salido bonita, de los ojos sobre todo. Mamá la mandaba a clases con aguanube en las trenzas, para que se levantaran las puntas. Para esas épocas nos llegaban del puerto las historietas extranjeras, y había unos dibujos de mujer que me hacían recordar lo larga y lo ligera que era la Eugenia, por lo menos hasta que se le formó el cuerpo y le maduraron las perubas; ahí fue cuando empezaron todas nuestras desgracias.\nPero antes de eso se nos vino encima el tifus. Como éramos muy cachorros y no respetábamos nada, al mal le empezamos a decir morir del barco, porque habíamos oído que la enfermedad había llegado desde la bodega de un carguero. No hubo clases durante muchos meses, ni agua limpia, ni sitio donde poner tantos muertos.\nUn día se temió que pudiéramos contagiar a otros pueblos con los vahos de los cadáveres que esperaban su entierro, y vino en tren un obispo con mascarilla a convencernos de que no era pecado, en esos casos, incinerar los cuerpos en lugar de darles sepultura cristiana; y donde había sido la plaza del quita y pon se construyeron las piras, que todavía están. Por eso es que a muchos nos queda el ademán de santiguarnos cuando pasamos frente al humo de las fábricas.\nLo del tifus fue largo y malo, pero no hubo escuela por mucho tiempo. El mal del barco menguó nuestra familia en poco más de un mes y cuando se fue el olor a cueco muerto éramos la mitad. Perdimos dos hermanos mayores, dos pequeños, la estufa a leña y al papá de todos nosotros. Cuando acabó la peste, casi que tuvimos un catre para cada quién, en casa. No sabíamos qué hacer con tanto espacio.\nA esas alturas yo quedé el mayor, al cuidado del Ulises y del Jesús. Mamá salió sana del cuerpo pero desvariando de dolor, y también hubo que asistirla. Lo hacíamos entre la Eugenia y yo, por lo menos hasta que el diablo se nos metió en el cuerpo y ya ni siquiera pensamos en nuestra madre. Pero lo del diablo fue más luego.\nDespués de que se fuera el mal del barco ocurrió también otra desgracia: abrieron la escuela. Intentábamos recuperar el ritmo del abecedario, pero en los ojos de todos todavía campeaba la muerte, y las piras de la plaza seguían echando humo. En el aula nos encontramos con mucho sitio de más y ya no me importaba ser el Rengo Galíndez, ni la Eugenia corría para despegarse de mí. El mal del barco nos había disminuido de número y de fuerzas, y los pocos que quedábamos en el pueblo nos fuimos acocochando como zarugos alrededor de un fuego.\nMuchos hijos acabaron solos y huérfanos, y los que aún conservaban techo y algo que comer decidieron quedarse cristianamente con algunos. Mamá fue una, y entonces vinieron a la casa dos muchachos de las edades del Ulises, que eran hijos de una familia que había muerto entera. Cuando llegaron los huérfanos, yo debí volver a compartir la manta con Eugenia para dejarles sitio a los adoptivos.\nLa primera noche supimos que el mal del barco y todas las muertes nos habían alterado la sangre, y anduvimos un mes como marmotas; nos dormíamos sentados, no prestábamos atención al maestro, y todo porque las madrugadas las pasábamos en vela, tocando el cuerpo del otro, sorbiendo el aire por la boca y moviéndonos de a cachito, para no despertar a mamá ni revolver la conciencia de estar pecando.\nPor temor a las secuelas del tifus nadie nos quiso comprar la cosecha, y comimos papalla hasta reventar. Los básicos, como el pan y la leche, fueron lujos que debimos dejar para el sustento de los más pequeños. Sabíamos que con el verano llegaría la desgracia anual de la inundación, pero esta vez las aguas traerían suerte. Nos habían dicho que la fuerza del río se llevaría los posibles rastros vivos de la peste, y que otra vez los pueblos cercanos nos comprarían la papalla. Y entonces nos sentamos a esperar la tragedia del agua con ilusión.\nEra broma frecuente en los pobladíos decir que era tanta nuestra mala estrella que, por única vez en setenta años, la inundación nos pasaría por al lado sin mojarnos. Pero el agua llegó, y recibimos la primera tormenta del verano como si fuera el Gobernador. Fue en enero, como siempre, y aprendimos a asar pringones venenosos y culebras. Todos los años nos preparábamos para la crecida pero esta vez, por culpa del mal del barco, no teníamos nada en las despensas. El Gobierno contrató unas capiraguas azules con altavoces para indicarnos cómo hervir y cocer lo que un año atrás nos enseñaban a fumigar y repeler. Daba un poco de risa, porque a las alimañas del río las llamaban alimentos emergentes. Fue el mes más duro de todos, en el pueblo, pero una mañana bajaron las aguas y volvimos a habitar la casa.\nDurante el temporal que precedió a la bajante habíamos perdido al Jesús y a uno de los huérfanos adoptados. Los cuerpos de las dos criaturas fueron encontrados en la cúpula de la parroquia. Después se supo que el Jesús, con sus seis años cumplidos, se había lanzado a la corriente para socorrer a su hermanastro. Nos lo dijo Venancio, que lo vio todo. Jesús pudo alcanzar al huérfano cerca del campanario y los dos quedaron trabados en las agujas del reloj, que se habían parado en las siete y diez. Entonces el agua subió todavía más y se ahogaron sin poder salir a la superficie. Cuando el río bajó, encontramos los dos cuerpos colgando de las agujas: mi hermano marcaba la hora y el huérfano los minutos. Como no había mucha madera seca, los enterramos a los dos juntos.\nCuando pudimos secarnos el agua y enterramos otra vez a nuestros muertos, en la casa ya sólo fuimos cinco, ahora sí con un catre para cada quién por primera vez en la vida. Pero la Eugenia y yo éramos dos imanes por las noches y seguíamos durmiendo juntos, conteniendo la respiración, calientes como dos caranchos y con el remordimiento en la piel.\nPor eso, porque no se nos enfriaba la sangre, una semana después visité la parroquia. Ya había pasado el peligro en el pueblo y me habitaban otra vez los malos pensamientos con mi hermana. Fui directo a hablar con el padre Suárez. Pensé que confesarme de todos mis actos impuros, aunque Dios no me los pudiera perdonar, sería suficiente para no caer la noche siguiente en la tentación de la carne.\nCuando llegué al templo supe que la inundación había sido buena sólo con algunas familias. Muchísima gente lo había perdido todo, incluida la casa, y un puñado no tenía dónde caerse muerto. Las personas con mejor fortuna estaban en una campaña para darle a los sin techo parte de lo que el agua y la peste les había quitado.\nVi a muchas mujeres como mi madre, y a muchos hijos como mi hermanito el Jesús, llorar abrazados y mirar el cielo, con miedo de que Dios les mandara otra vez la muerte o la crecida. Y entonces supe que mis penas eran nada al lado de las suyas, y en lugar de buscar al padre Suárez para limpiar mi espíritu, volví a la casa, cargué con mi colchón al hombro y se lo di a la parroquia. Si yo iba a seguir metiéndome de noche entre las cobijas de la Eugenia, que por lo menos mi pecado mortal le sirviese de bueno a alguno.\nDesde entonces ya no nos importaba tocarnos cerca de mamá. Para ella los golpes habían sido muchos. La pobrecita había quedado viuda y con cinco hijos menos, aunque la muerte del Jesús fue lo que le provocó el desvarío más fuerte. Igual que el reloj de la iglesia, ella se detuvo en un tiempo fijo y sus días dejaron de pasar. De pronto empezó a andar por la casa con el pelo desbandado y nos obligaba a cocinar y a poner la mesa para nueve, como en los tiempos en que todos estábamos vivos.\nLa siguiente cosecha fue la mejor en veinte años. Pero en el fondo del corazón seguíamos tristes. En esa época cumplí los dieciséis y el trabajo en la tierra, que me demandaba el esfuerzo de tres hombres, había moldeado mi cuerpo y parecía mayor. Pero seguía con un pie más corto que el otro, y eso muchas veces no me dejaba en paz.\nDejé la escuela para poder sembrar y cosechar papalla jornada completa, pero Eugenia me enseñaba lo fundamental de los libros cuando podía. Sin toda la carga de mis compañeros y sus burlas, aprendí más rápido que ellos y supe que no me faltaba el entendimiento. De noche mi hermana y yo dormíamos juntos como un matrimonio, amparados en el delirio de mi madre y en la inocencia de los más pequeños.\nEugenia nunca sintió culpa por lo que hacíamos, y yo debí cargar con los remordimientos de los dos. Ella también había crecido de golpe. Si antes su mejor rasgo eran los ojos, ahora en el pueblo nadie se los miraba. Ni yo tampoco. Con un año menos que yo, se había convertido en una mujer alta como mi padre, y bien formada como mamá en sus tiempos. Ya no usaba trenzas: una tarde llegó del río y se había cortado el pelo hasta los hombros. A mí aquello me gustó poco.\nFue una época feliz, pero corta. Tres meses antes del desastre final mamá dejó los desvaríos. Una tarde que llegué del campo, cansado como cualquier día, me encontré con que ella y la Eugenia estaban conversando cerca del yuco seco; me esperaban.\nMi hermana corrió hasta mí y me dijo que mamá había vuelto, que ya no decía cosas huecas, y que el milagro había sido gracias al Jesús, nuestro hermanito ahogado, que se le había aparecido en cuerpo y alma. Todo el pueblo conoció la noticia en pocas horas: el niño de seis años que se había sacrificado durante la inundación para salvar a otro, se había corporizado frente a los ojos de su madre enferma, devolviéndole la salud.\nMamá se cansó de contar la historia, y las mujeres llegaron a casa para rezar un rosario por el Jesús que duró toda esa noche. Al día siguiente hubo otro acontecimiento que terminó por convertir a mi hermano en santo: a alguien se le ocurrió trasladar su cuerpo a la parroquia, y cuando forzaron el cajón donde estaban sus restos juntos a los del otro niño ahogado, todos notamos que el Jesús estaba treinta veces mejor conservado que su hermanastro.\nTenían ya seis meses de muertos, y mientras que el más pequeño había sido invadido por gusanos y sólo quedaban sus huesos, la osamenta del Jesús parecía no tener más que dos horas de enterrada. A mí, que lo pude ver con estos ojos, me llamó la atención que solamente hubiera larvas en el costado del cajón donde descansaba el crío adoptado, como si el bichambre hubiese temido arrastrarse cerca del otro cuerpo. La luz del día nos trajo el aire fétido de la otra carne, pero nosotros estábamos viendo el milagro y nos arrodillamos frente a la grandeza de Dios.\nEntonces hubo nuevas cartas al obispo de la mascarilla para que los italianos convirtieran en santo a mi hermanito de seis años, y hasta un viaje personal del padre Suárez a la capital, pero nunca nadie nos trajo noticias. Igual, la voz se corrió y empezó a llegar al pueblo gente de todas partes para tocar los restos.\nAl principio vinieron grupos a pie, desde los pueblos vecinos, y después también aparecieron camiones con fieles mejor vestidos y más elegantes. Vimos por primera vez gente huicha, con la piel tan pálida como la del cerdo, con zapatos caros y máquinas para sacar fotografías. Ellos tomaban fotos del reloj, que seguía detenido en las siete y diez; del cajoncito con el Jesús adentro, que habíamos puesto en el sagrario de la parroquia; y también fotos de mi madre, de la Eugenia y de mí, porque éramos los parientes del santo.\nEntre tantos coches y buses, todas esas fotos y aquella gente extraña, nos empezamos a olvidar del Jesús como hermano nuestro que era, y les vendíamos a los turistas las ropas que quedaban de él en la casa por billetes recién salidos del banco. Cuando se acabaron los trapos del Jesús, vendimos también los del Ulises y los de los otros huerfanitos, incluso del que murió.\nPara entonces, mamá vivía en la parroquia, rezando, y no se enteraba de nada durante el día. La Eugenia y yo, desde la casa, comenzábamos a respirar el olor de los billetes. Una mañana le vendí a un matrimonio huicha, por mil sanmartines, la única fotografía que teníamos del Jesús.\nDesde que vimos el cuerpo de nuestro hermano intacto, Eugenia ya no quiso dormir conmigo y mi culpa se fue apagando. Una de sus razones era que mamá ya tenía otra vez los sentidos despiertos y la hubiéramos matado si nos descubría. Y el otro motivo era su temor a que el Jesús, desde el cielo, ya hubiera visto lo que hacíamos por la noche y no nos quisiera a su lado cuando nos llegara la hora.\nYo pensaba igual que ella, y compartía sus miedos, pero después de una semana de dormir en catres distintos supe que era tan grande el sosiego que Eugenia me había dado cada noche, desde hacía más de un año, que no tenerla me provocaba dolores del cuerpo y ganas de llorar. Pasaba las noches en vela, y me iba cerca del yuco seco a calmarme solo, pero no era lo mismo. Las noches eran frías sin la Eugenia, por eso de día le rogaba que volviera conmigo, y ella me decía que tampoco era fácil para su cuerpo, pero que debíamos ser fuertes y pedirle a Dios la voluntad.\nElla había dejado de momento la escuela para ayudarme a atender a los turistas huicha, que ya empezaban a ser diez veces más rentables que la papalla, y los dos pasábamos las tardes juntos, en la casa, vendiendo las cosas del Jesús con gotero, a cien sanmartines la gota.\nVolvía el calor; mi hermana se había convertido en una mujer de las que quitan el alma y a mí se me iba la mitad del tiempo mirándola con deseo, y la otra mitad viendo que los huicha, con sus zapatos blancos y sus ademanes, no se le pusieran muy cerca ni le quisieran tentar la sangre.\nMamá se internaba durante el día en la parroquia, rezando junto a los fieles que llegaban para ver al Jesús, y sólo volvía a la casa para dormir. Ya no le quedaban rastros de la demencia que había soportado hasta hacía un mes, pero de a poco comenzó a redoblar sus oraciones, al punto de no hacer otra cosa más que rezar. No respondía preguntas ni las hacía. No entablaba charla con nadie. Tanto estuviera sentada o caminando, llevaba en las manos un rosario para no perder el orden de sus plegarias.\nUna noche se quedó dormida cerca del sagrario de su hijo, a la mitad de un Ave María, y cuando se despertó en la mañana siguió rezándolo justo por donde lo había suspendido. Desde entonces ya no volvió a la casa. El padre Suárez vino a darnos la noticia, pero nosotros no hicimos nada para convencerla. Mi hermana prefería que mamá se quedara en la parroquia para vender las cosas del Jesús sin que nos viera, y yo supuse que sin ella en la casa Eugenia no tendría temor de volver conmigo de noche.\nCuando el último grupo de fieles se retiraba, volvíamos a la casa y cenábamos sin privarnos de nada. Después hacíamos dormir a los hermanos pequeños y entonces contábamos los billetes del día. Una vez acabada la tarea, Eugenia ponía el fajo enrollado y las monedas junto a los demás billetes, y contábamos el total.\nEn la casa había cada noche más dinero, pero también menos cosas. Después de vender la ropa de todos los críos, comenzamos a despachar platos y utensilios, diciéndoles a los turistas que cada cosa la había tocado el Jesús alguna vez. La mayor parte de las vasijas las habíamos comprado después de la muerte del santo, porque las que él usó en vida se las llevó la inundación, pero a nadie le importaba.\nComo no teníamos tiempo de ir al pueblo más que para traer los alimentos, la casa se fue desmantelando de objetos. Una tarde a la Eugenia se le ocurrió vender, de a pedacitos, el colchón donde dormía Jesús, y cuando nos quisimos acordar habíamos despedazado tres catres con todo y el relleno de pluma. Pero cuando otra vez estuvimos escasos de camas, ella prefirió dormir con alguno de los pequeños antes que caer de nuevo en pecado mortal conmigo.\nUna noche, cuando acabábamos de contar los sanmartines, y desparramamos sobre la mesa todos los billetes de un mes de trabajo, Eugenia me miró a los ojos: ya no somos pobres, Gracián, me dijo sonriendo, y se levantó y me besó en la boca, como hacía más de un mes que no pasaba.\nDurante la madrugada de esa noche me levanté de la cama y fui hasta el yuco seco. No podía dejar de pensar en ella, y me costaba dormir sabiendo que la Eugenia estaba echada a cinco pasos de mí. Sin darme cuenta, como cada vez, comencé a desahogar mis deseos, de espaldas a la casa, con una mano apoyada sobre la queracina. Mi hermana llegó sin ruido y se quedó detrás de mí, con mucha pena. No dijo una palabra, nada más recostó su cara contra mi espalda y lloró conmigo.\nDespués me rodeó con sus brazos, apretándose fuerte de mí, y con una de sus manos apartó la mía de donde estaba. Me tomó con cuidado, sintiendo cada vena hinchada de sangre, y comenzó a darme sosiego como si fuese mi mano, y no otra, la que estuviese trabajando; como si fuésemos una persona y no dos.\nElla sabía cuándo ir despacio y dónde aumentar el ritmo. Cuándo detenerse y en qué parte presionar. No me soltó hasta exprimirme por completo, y luego me dijo al oído: esto es menos pecado que acurrucarse, y se encerró otra vez en la casa.\nAl otro día fue cuando vendí en mil sanmartines la única foto que le habíamos sacado al Jesús cuando vivía. Y yo no sé si fue por esto o por aquello, pero el santo nos crucificó.\nEl día de la desgracia cayó un domingo, y hubo que levantarse temprano porque llegaban al pueblo más fieles que en día corriente. Desde que el Jesús era un santo, el padre Suárez llegaba a nuestra casa enseguida que cantaba el gallo y hacía sonar la bocina del Ford. Nos traía el cajoncito de vidrio y madera con el cuerpo conservado de mi hermano, para que los turistas huicha lo vieran al aire libre. El padre decía que en la parroquia no había suficiente sitio en domingo, pero nosotros sabíamos que estaba un poco celoso de nuestro Jesús, y que en el fondo prefería seguir adorando al suyo.\nEsta vez, junto al cuerpo, llegó también mamá, que se bajó del coche rezando y ni tuvo tiempo para saludar. Hicimos un altar pobre frente a la casa, y le prendimos velas. Pusimos una silla al lado, para que mamá rezara sin cansarse. Un rato después de las ocho vimos por el monte la polvareda del primer contingente, y antes de las diez ya había otros seis.\nCada uno de los autobuses traía más de cuarenta cristianos de distintas partes del mapa. Por suerte nos quedaba bastante colchón, y un mantel entero para repartir en cincuenta pedazos, a cien sanmartines cada pieza. También había cordones de zapatos, dos ajenfos sucios y un dibujo genuino del Jesús que la Eugenia había encontrado por casualidad, y que pensábamos cotizar tanto como la foto.\nTodo el comercio lo hacíamos en los propios ojos de mamá, pero eso ya no nos importaba, porque la vimos tan retraída en sus rezos que era difícil pensar que pudiera volver al mundo real y reprendernos. El Ulises y su hermanito adoptivo estaban tan contentos de ver otra vez a su madre que se le pegaron a la güiraina y no se movieron de su lado. El día era claro y ventoso, porque el verano estaba a punto de llegar y el río nos avisaba.\nFrente a la casa se llenó de huichas muy perfumados y blancos. Como cada domingo, pero aún más. Se formaba una larga fila de fieles detrás del altar del Jesús. Uno a uno, esperaban su turno para tocarlo, para pedirle cosas o para presentar ante él sus enfermedades. A la vez, otros grupos le sacaban fotos a la casa y a nosotros, y dejaban que la Eugenia o yo les ofreciéramos las pertenencias del santo.\nLos que ya habían visto lo que había para ver, hacían su día de campo alrededor de la casa o caminaban por el monte sin alejarse mucho de los buses. Casi todas las caras que veíamos eran nuevas, menos las de los guías y los choferes. Uno de ellos, que conducía un bus de larga distancia, al ver a la Eugenia la saludó de lejos como dos conocidos del pueblo, y le hizo una seña.\nYo dejé de hacer una venta y me detuve a espiarlos. Ella se acercó y le habló sin vergüenza. El chofer, que era un zambuco rubio y muy blanco, asintió y se metió en el coche. Estuve a punto de salir corriendo para detenerla, pero ella lo esperó fuera. Cuando el hombre salió, le entregó un paquete envuelto en papel madera y le dijo algo que a mi hermana debió agradarle, porque ella se puso en puntas de pie y lo besó en la mejilla. No pasó más que eso, pero yo no podía respirar de todo el asco que tenía dentro.\nEsperé el momento, y cuando la tuve sola a la Eugenia la aparté hasta la casa con mucho enfado. Cuando le pregunté sobre el paquete ella no pareció sorprendida, sino más bien triste. Me dijo que era un regalo para mí, y me trajo aquello que había recibido del rubio. Lo abrí a los tirones, y entre envoltorios de periódico encontré los zapatos. Entonces le pedí que me disculpara.\nMientras ella seguía vigilando a los fieles yo me quedé dentro inspeccionando mi obsequio. Desde pequeño, ni bien me enteré que existían, los había querido. Pero solamente los vendían en la capital, y eran tan caros como hacer el viaje hasta allí. Nunca tuvimos con qué comprarlos, y lo más parecido que yo tuve fue un engendro que una vez me hizo mi padre, con un pedazo de cedro en la suela de las alpargatas. Pero me resultaba incómodo, y también me hacía renquear.\nEstos, en cambio, eran de una ortopedia, y sacaban brillo. Tenían cordones negros, y eran de cuero, como los zapatos de los huichas que venían los domingos. El izquierdo era normal, y el otro llevaba el tacón más alto y de hierro. Pero lo bueno era que los dos pesaban lo mismo, y de lejos parecían iguales.\nTuve miedo de ponérmelos con los pies tan sucios, y entonces antes me lavé en el yuco. Después me calcé ahí mismo, sentado al borde de la queracina, y me até los cordones con dos vueltas. Cuando regresé a la casa lo hice un poco llorando, porque ahora yo caminaba igual que todo el mundo y nadie iba a decirme el Rengo nunca más.\nAl mediodía era la hora en que el santo descansaba y los turistas tomaban su almuerzo alrededor de la casa. A mamá y a los pequeños les llevamos lonchas de cabú y ellos, entre padrenuestros, se las iban comiendo. La Eugenia y yo nos pasamos la hora libre jugando carreras desde la casa hasta el yuco.\nElla me seguía ganando, pero ahora por poco. Yo pensaba que me faltaba acostumbrarme al peso del calzado, y que cuando lo lograra ya nadie me ganaría a hacer carreras. Los dos estábamos contentos con mi nueva forma de caminar, y a mí me habría gustado que mi papá no se hubiera muerto, y que mi mamá estuviera sana, así me hubieran podido ver.\nTan alegre estaba que cuando la Eugenia desapareció de mi vista a media tarde yo no me di cuenta. Supe que me faltaba cuando empecé a buscar al huicha rubio y tampoco lo encontré. Había llegado la hora de mostrar el dibujo genuino del Jesús, y en eso estaba cuando descubrí que mi hermana y el rubio habían desaparecido. Cuatro turistas me lo querían comprar, y todos ofrecían cada vez más plata. Yo no les hacía caso y miraba entre los grupos de gente, para ver si la veía a la Eugenia.\nLos turistas me ponían los billetes delante de los ojos, y entonces me aturdí. Despedacé el dibujo del Jesús y les pringué a todos la madre. Después tiré los papeles al suelo y corrí para el lado del monte. Los fieles no se preocuparon por mí, y se lanzaron al pasto para disputarse la pertenencia del santo. Los cuatro que iban a comprarlo empezaron la riña, pero también participaban los que no tenían más dinero, porque creyeron que si hacían fuerza se podrían llevar una parte del dibujo gratis.\nLos zapatos ya no me pesaban cuando corté campo hacia el monte. Me adentré porque la Eugenia y el rubio no podían estar más que allí. Los otros alrededores de la casa no eran más que llano hasta el río, y el pueblo quedaba lejos.\nEntré al monte jadeando, y cuando dejé de jadear los jadeos seguían. Me desesperé y cerré los ojos para escuchar mejor de dónde venía el sofoco. Me guié como cuando crío, que entraba al monte de noche y me sorprendía conocerlo tan bien en lo oscuro. Sin la vista pude acercarme mejor, y cuando abrí los ojos los tenía a los dos muy cerca, como a un tiro de piedra de mí.\nEl rubio le estaba haciendo a la Eugenia lo que ella ya no quería que le hiciera yo. Me temblaron las manos y me abracé a un tronco de maura. Los podía ver muy bien; ella estaba boca al cielo y tenía los ojos cerrados. Las piernas y los brazos los había abierto de par en par, y con los dedos de las manos arrancaba el pasto de la tierra floja.\nEl rubio estaba montado encima, y llevaba los pantalones hasta las rodillas. No se tocaban ni se besaban. El rubio parecía que estaba haciendo flexión, y eso me enfureció más que todo. Me acerqué pinchado por la rabia hasta que estuve tan cerca que podía patearle la cabeza. Entonces elegí el zapato derecho, porque me lo había traido él de la capital y era pesado y de hierro. Levanté la rodilla y le hundí el talón en el cráneo. La fuerza de la patada me hizo caer contra el pasto.\nEl rubio no hizo ningún ruido, solamente se desplomó sobre la Eugenia. Ella abrió los ojos y me vio a mí a su lado, que lloraba y la insultaba. No dijo nada, pero después, cuando le vio la sangre al rubio, me dijo que era un cabro bruto.\nLa ayudé a levantarse pero no la quise mirar cuando se acomodaba el vestido. Me preguntó que hacíamos con el cuerpo y yo le hice un gesto. No me importaba. Ella se quitó el pasto de la espalda y entre los dos lo arrastramos hasta el corazón del monte. Después veríamos qué hacer. Ahora lo que importaba era volver a la casa, porque sabíamos que no había sido bueno dejar a los turistas solos con el Jesús.\nAntes de salir del monte los gritos de los fieles nos enteraron de que las cosas no estaban bien. La tarde caía, y después de la loma pudimos ver la silueta de la casa recortada sobre el fondo del cielo. Nos quedamos quietos ante el cuadro. Había gente dentro de la casa y también arriba. Todos estaban fuera de sí, y se peleaban por la mesa, por la ropa de los pequeños y por el cajoncito del santo.\nHabían encendido antorchas, y algunos camiones y buses ya estaban en marcha. Otros se habían ido. Todavía quedaban muchos hombres sobre la casa, despedazando las vigas y llevándose de recuerdo pedazos de madera. Trabajaban con rapidez y a los gritos. Cuando uno conseguía algo, después tenía que defenderlo de los demás. De lejos, parecían la langosta.\nMi hermana y yo no nos movimos hasta que se fue el último cristiano. Cuando ya no escuchamos motores ni gritos empezamos a correr. Más nos acercábamos y mejor veíamos el detalle de la ruina. La casa se había convertido en un esqueleto de machimbre, y adentro no quedaba nada. Se habían llevado hasta la silla que le pusimos a mamá para que rezara en paz. Ella estaba en el suelo, con la ropa hecha jirones, y se aferraba al rosario. No se había dado cuenta de nada.\nA los pequeños les habían quitado la ropa, y estaban desnudos y rasguñados, abrazados a las piernas de mamá. Eugenia gritaba que los billetes había desaparecido, y solamente eso le preocupaba. Yo buscaba por todas partes, con la esperanza de encontrar el cuerpo conservado de mi hermanito el Jesús. Pero no nos habían dejado ni eso.\nLa noche se nos cayó encima de golpe. Lo primero que hice cuando supe que lo habíamos perdido todo, fue lavar en el yuco la sangre del rubio que tenía pegoteada en el zapato. Eugenia se había quedado en la casa y había prendido un fuego triste para que mi mamá y los hijos no pasaran frío. Desde la queracina me los quedé mirando a los cuatro, alrededor de la luz amarilla, como animales asustados.\nTambién me quedé viendo, de fondo, las vigas de madera que alguna vez había puesto mi padre para empezar a construir la casa, y que ahora parecían una osamenta. Aquella casa había estado allí antes de que yo naciera, antes de los oficios del quita y pon, de la peste del barco y de la crecida que nos mató al Jesús. De eso había pasado mucho tiempo, y ahora la vida estaba otra vez como al principio.\nHernán Casciari\n6 mayo, 2008"
                ],
                [
                  "7",
                  "La Última Gran Guerra del Hombre Chiquito",
                  "5/13/08",
                  "Años atrás mi tataranieto Woung comenzó a enviarme informes sobre el devenir del siglo XXI. Los lectores consecuentes de Orsai quizá recuerden ese primer texto, en donde mi pariente explica cómo sería la vida hasta el año 2026, cuando un chileno logra ganarle una partida de ajedrez a una computadora construida por un chimpancé. Y luego el segundo texto que va hasta 2046, fecha en que el ser humano descubre que el apéndice es un segundo pene. Hoy he recibido la tercera carta... El futuro es escalofriante.\n2047\nHan pasado ya tres años de la orgía colectiva del '44, en donde la raza humana descubrió que el apéndice era en realidad un segundo pene. El mundo está otra vez medianamente poblado y todo parece volver a la normalidad.\nRegresa, lentamente, la pornografía. Reabren algunas webs de internet y vuelven a funcionar tres o cuatro países de Europa de Este.\nLos japoneses confirman que el sushi fue un experimento secreto para confirmar si Occidente era tan estúpido como para comer pescado crudo.\n2048\nDespués de treinta años de reinado pacífico, muere el Papa Prince (el primer papa negro) y se teme que llegue el fin del mundo, como indica el Apocalipsis. Tras dos días de tensa espera, únicamente se produce el fin del pop psicodélico. Gran alivio.\nGenetistas de Corea del Sur alertan que los vástagos nacidos tras el apogeo sexual serán enanos. Como las criaturas todavía tienen dos años, no se puede comprobar la teoría.\nComienzan los Juegos Olímpicos de Luxemburgo, en donde por primera vez se excluyen las disciplinas de maratón (el país anfitrión no cuenta con 42 kilómetros de largo) y el lanzamiento de la jabalina (puesto que si alguien la tirase muy lejos podría acabar en Bélgica).\n2049\nExpectación en el Vaticano: asume en enero Josefa III, una monja española mediática que se convierte en el primer Sumo Pontífice de sexo femenino. La prensa duda si llamarla papa o papisa. Finalmente la prensa española la bautiza Pepa.\n«La Papa Pepa» se convierte en la frase más buscada en Google durante todo el año, y la más pronunciada por los católicos y los loros.\nDesaparece el Tibet tras un terremoto, pero China no reconoce la catástrofe y asegura que el territorio sigue siendo provincia. La ONU intenta mostrarle el agujero. China dice que eso no es un agujero, que es una provincia. La ONU se cansa y se va.\n2050\nDespués de cien años, Brasil vuelve a organizar un Mundial de Fútbol en su tierra, habitada ahora por japoneses desde la desaparición de los brasileños en la Guerra del 22. Gana otra vez Uruguay, con gol de Obdulio Varela, centrojás clonado para la ocasión.\nEn una Universidad de Estrasburgo logran hacer hablar a una cucaracha, tras largas sesiones de tortura. El insecto dice, textualmente, que no piensa delatar a sus jefes.\nTras un nuevo implante, las tetas de Maria Grazia Cucinotta son declaradas Parque Nacional.\n2051\nEl barrio de La Boca, en Argentina, se autoproclama República tras consulta popular. Absolutamente nadie, en todo el país sudamericano, anula el referéndum.\nGastrónomos mexicanos inventan un pan capaz de multiplicarse, al ser su miga estrictamente mayor que la dimensión topológica de su corteza. Lo llaman Pan Fractal y se convierte en la comida preferida de los geeks.\nSe produce la Guerra más corta de la Historia, entre Nicaragua y Filipinas. Dada la enorme distancia entre ambos ejércitos, el conflicto tiene lugar en un locutorio y dura 11 minutos. Gana Nicaragua; Filipinas debe pagar la llamada.\n2052\nTras un censo nacional, el Gobierno de Austria confirma que vive más gente encerrada en sótanos y garajes que a la luz del sol. Se decide, por fin, que los pocos austriacos que están en la superficie se encierren. Sólo quedan, en la superficie del país, algunos periodistas ingleses diciendo «monstruo, monstruo» en voz baja.\nLa papa Pepa (Josefa III) comienza a escribir un blog para captar nuevos fieles jóvenes al desgastado catolicismo. Ahora es la primera papa mujer y la primera papa blogger. Su primer post recibe seis comentarios, dos de ellos son spam.\nHallan un pozo de petróleo en Bolivia y el país se convierte en potencia mundial. La República de Santa Cruz de Cochabamba quiere volver a formar parte del territorio boliviano. No se lo permiten, e incluso le hacen burla desde la frontera.\n2053\nSe celebra en París la primera conferencia telepática entre jefes de Estado. El presidente de Suiza piensa cosas y el primer ministro inglés le adivina los pensamientos. El sistema funciona con tanta exactitud que ambos acaban a las trompadas.\nGoogle inventa G-sleep, un buscador de sueños en los que se pueden grabar y rastrear sueños propios por palabra exacta, por frase aproximada, por trauma de la infancia o por deseo homosexual reprimido.\nDespués de veinte años de ocurrido el último exterminio, vuelve a haber Mujeres Viejas (mayores de 45 años) en algunos países desarrollados. Alarma y tensión mundial. Dan Brown retoma sus escritos y se teme que regresen la moda de enviar correos con powerpoints.\n2054\nFayir Somoza, científico guatemalteco de madre iraní, patenta en Londres el primer prototipo artificial para viajar al pasado. El artefacto, todavía muy rudimentario, sólo es capaz de ir a los días jueves de la semana anterior.\nLos niños gestados en la orgía colectiva del '44 cumplen nueve años y se confirma la teoría coreana del enanismo: ninguno supera el metro de altura. Comienza a conocerse a esta raza como El Hombre Chiquito.\nChile y España llegan, por primera vez, a la final de un Mundial de Fútbol. Hay ataques de risa en todo el planeta y el partido se suspende tras el primer tiempo. Iban cero a cero.\n2055\nSe cumplen cien años de un montón de sucesos ocurridos en 1955. Como hay desabastecimiento mundial, se celebran todos los actos a la vez en un polideportivo de Kansas. A la salida, un sudanés que festejaba su independencia mata a dos peronistas.\nMeg Ryan y Tom Hanks filman la que será su última película juntos: My Love Affair with Geriatric Medicine. Ryan muere antes de la escena del beso, y debe ser suplantada por una muñeca inflable. Hanks descubre el truco meses más tarde, mirando los extras del DVD.\nPor primera vez en la historia durante el mes de noviembre de este año no ocurre nada.\n2056\nCumple diez años Ismael, un famoso niño chileno de madre virgen, del que se sospechan virtudes milagrosas. Para los católicos se trata de un nuevo enviado del Señor. Ismael da una conferencia de prensa en la que multiplica los micrófonos. Exaltación mundial.\nLa vigésimo tercera remake de Spiderman se convierte en la película más taquillera del año en los cines del mundo. La ven cerca de ciento doce personas. Hollywood decide acabar con la farsa y declara la quiebra.\nSurge un nuevo ritmo popular, llamado chacatrán bumbúm, que provoca la rotura de la cadera de quienes lo practican. Se crean discotecas con salas de traumatología en los reservados.\n2057\nEl 12 de enero el hombre llega por fin al planeta Marte. Se trata de la nave KONECT IV, que había despegado de la Tierra en 2009 y de la que no se tenían noticias desde hacía cuarenta años. Estados Unidos, uno de los países más pobres del mundo, vuelve a ser noticia.\nEl Banco Central de la República Argentina descongela los depósitos de los ahorristas después de 43 años (en el 14 había utilizando nitrato líquido para congelarlos). Se descubre entonces, gracias al cambio, que cada argentino es multimillonario.\nArgentina invade Inglaterra y obliga a los británicos a aceptar la devolución de las Islas Malvinas, que pertenecían al país sudamericano desde la Guerra Inversa del 19. Inglaterra declina la devolución, pero Chile acepta quedarse con la isla de la izquierda. La otra es dada en adopción a Australia.\n2058\nMundial de Argentina 58. Gana la final Argentina, tras vencer a la República de Boca Juniors 4 a 2. Tercero queda Santa Cruz de Cochabamba y cuarto, Antigua y Barbuda. (Es el penúltimo Mundial de la era contemporánea, pero nadie lo sabe.)\nLos gorilas provocan un Golpe de Estado en seis países de África Central, y convocan a elecciones para fundar una nueva Nación. Basan su legitimidad en que poseen un ADN 97% idéntico al humano. Expropian las multinacionales europeas de extracción de diamantes, amamantan a los niños y sólo dejan votar a las mujeres y los chimpancés mayores de doce años.\nEn noviembre, África se convierte (por primera vez en 1.650 años) en un territorio libre de hambre y productivo.\n2059\nUn informe asegura que los adolescentes de los países desarrollados duermen de quince a diecinueve horas al día. Científicos noruegos comienzan a investigar la posibilidad de que esa cifra aumente hasta las veinticuatro horas.\nIsmael, el niño chileno nacido de una virgen en 2046, alcanza el metro sesenta y cinco de estatura y no parece tener las malformaciones de sus contemporáneos. La papa Pepa lo santifica.\nEl Polo Norte se deshiela por completo y se descubre que debajo de Groenlandia había un sex-shop gigantesco al que acudían suecos, noruegos y finlandeses en el siglo XX.\n2060\nEl 18 de mayo, a las 17:45 (hora de EE.UU.) muere el último pez del planeta Tierra. Se trataba de un bagre de once años que estaba en un zoológico de Nueva York. El guardia de seguridad queda detenido mientras se limpia la boca.\nMatemáticos hindúes descubren que existe un número entre el cuatro y el cinco. Se llama dopi y su símbolo es σ. Uno, dos tres, cuatro, dopi, cinco, etcétera. Resulta tan complicado calcular todo otra vez, que deciden mantener la noticia en la clandestinidad durante ventidopi años más.\n2061\nDespués de años de investigación, se crea la primera impresora 3D autoreplicante, es decir, capaz de construir una máquina idéntica a ella misma sin la ayuda humana. La segunda impresora crea una tercera, ésta una cuarta, y la cuarta se queda sin tóner. Decepción.\nEl niño Ismael, que tiene ahora quince años y es líder espiritual de la nueva raza de Hombres Chiquitos, asegura en un mitin que los gorilas africanos no son animales de Dios, y propone un exterminio paulatino de estos mamíferos.\nÁfrica se declara atea. El precio de la banana se triplica. Un mandril secuestra un avión en Berlín y se estrella contra la torre Eiffel. Un chimpancé fuma marihuana en la televisión.\n2062\nMundial de España 62. A causa de la baja estatura de los nuevos futbolistas, se decide utilizar arcos de jockey y pelotas de voley. El espectáculo resulta mediocre. La FIFA decide acabar con los Mundiales, tras una final patética en la que senegaleses y peruanos son incapaces de patear un corner al área chica.\nTras la muerte natural de los humanos más viejos, la raza comienza a convertirse en enana, irremediablemente. Los gorilas subsaharianos y los Hombres Chiquitos desatan pequeñas guerras territoriales en el norte de África, donde los primeros vencen con facilidad, a veces sin pelear, sólo haciendo 'uh uh' y moviendo los brazos.\nSe descubre que la cópula entre gorila macho con enana humana produce un humano alto. Nace la esperanza.\nTambién se descubre que la cópula entre enano macho con gorila hembra produce la muerte instantánea del enano macho. Era previsible.\nSe triplica el precio del semen de mono. Un enano secuestra un avión en Johanesburgo y se estrella contra una palmera. Un chimpancé fuma marihuana en televisión otra vez, pero con mayor audiencia. La NBC convierte la protesta en una sit-com.\n2063\nKutu-Koongué, gorila espalda plateada presidente de Sudáfrica desde el 58, gana el premio Nobel de la Paz, a medias con un silenciador de bujías para motocicleta.\nComienza, oficialmente, la Gran Guerra del Hombre Chiquito, que será la última contienda bélica de la Humanidad (tal y como se la conoce). Los gorilas son más grandes, pero el número de enanos es mucho mayor. La contienda ocupa el norte africano, España, parte de Grecia y el centro de Sevilla.\n12 de diciembre. Un mono blanco albino asesina a Ismael, el hijo de Dios, durante el intervalo de un espectáculo de circo. Conmoción mundial.\n2064\nLos gorilas, los chimpancés, los mandriles, los orangutanes y los norteamericanos se constituyen en la Organización Monos del Nuevo Mundo. Tras el fin de la Guerra, el Hombre Chiquito comienza a servir a los nuevos dueños de la Tierra.\nLos humanos altos (hijos de gorila con enana) son llamados a la paz y la convivencia. Éstos aceptan, en tanto regresen al planeta los Mundiales de fútbol, el helado de banana con dulce de leche y la depilación vaginal de las hembras. Los monos aceptan.\nComienza una época dorada de paz y armonía entre las tres razas superiores: el mono sabio, el hombre chiquito y el humano alto.\n2065\nSe descubre que la Coca-Cola ha sido culpable de la paulatina estupidización humana que generó guerras y desgracias durante más de 150 años. Al hacerse pública la noticia, se triplican las ventas del refresco entre los humanos altos.\nGeorge Bush III, hijo de enana blanca y mono híbrido, se alza con la presidencia de Estados Unidos de América.\nPepsi va a la quiebra.\n2066\nLa calma bélica interna centra otra vez las investigaciones del mundo en el planeta Marte, conquistado nueve años antes. Una nave tripulada por dos monos, tres enanas y dos polacos viajan al espacio para encontrarse con la primera tripulación, y construir edificios y salas de bingo.\nEn Argentina (país sumamente rico desde la descongelación económica del 57) gana las elecciones el Partido Peronista. Los gorilas no ven con buenos ojos a este gobierno, por ser la única democracia enana del planeta. Es el comienzo de la mayor crisis moral de la que se tenga memoria, pero todavía nadie lo sabe.\nNacen once brasileños in vitro, bajo la técnica de electrocutar células muertas de portugueses y ponerles música de lambada en el tubo de ensayo. El futuro del fútbol tiene esperanza, pero, ¿dónde se jugará el próximo Mundial?\nEste es el tercer texto de una serie sobre el devenir del siglo XXI, que comenzó en mayo de 2006 con La Gran Guerra del 22 y otros sucesos, y continuó en mayo de 2007 con La persecución de las viejas y demás cuestiones.\nHernán Casciari\n13 mayo, 2008"
                ],
                [
                  "8",
                  "Instrucciones para crear mundos paralelos",
                  "5/20/08",
                  "Descubrimos el truco por casualidad, en nuestro propio edificio. Y como nos salió bien, empezamos a repetir la rutina en hogares ajenos, subidos a otros ascensores, con nuevas víctimas. Las bromas perfectas surgen de la nada, de un error o una impaciencia, y ésta fue una de las mejores. Tan original, y tan simple, que siempre nos pareció mentira que no existiera ya, que no fuese un clásico popular. Pero no lo era: lleva nuestra firma. De hecho, ésta será la primera vez que el truco tome estado público.\nOjalá muchos adolescentes lean estas instrucciones, porque sólo hay una época en la vida en que nos atrevemos a poner en práctica ciertos juegos inútiles, absurdos y maravillosos.\nYo, ahora mismo, con casi cuarenta años y esta panza, ya no podría. Sigo fumando idéntica hierba promotora, conservo en el corazón los mismos sueños, pero ya no estoy para andar corriendo de noche como un loco ni para pegar semejantes gritos de auxilio en la oscuridad. Me atraen los mundos paralelos igual que siempre, pero ahora prefiero concebirlos frente a un teclado, sentado tranquilamente en casa. Me convertí, no sé cuándo ni cómo, en un hijo de puta sedentario, en un mentiroso inmóvil.\nPero no hablemos de problemas propios que ya no tienen solución. Mejor usemos este rato en explicar de qué modo podemos crear un mundo paralelo en el cerebro de un amigo ingenuo. Papel y lápiz.\nIngredientes\nAmigo que viva solo en un departamento, 1\nCómplices, 3\nBanderín de club de fútbol, 1\nMarihuana, a gusto.\nPreparación\nEsperamos a que llegue la noche y nos presentamos a cenar, junto a dos cómplices, en el departamento de un amigo en común. Es fundamental que este amigo (al que llamaremos la Víctima) no resida en la planta baja ni en el primer piso del edificio.\nTocamos el timbre de abajo y aguardamos a que la Víctima nos abra. Una vez en el ascensor, deberemos observar sus características, a fin de individualizar dónde aparece la numeración de cada piso durante en ascenso.\nExisten tres variantes. Los ascensores antiguos tienen la numeración sobre las paredes que vamos dejando atrás: 1, 2, 3, etcétera. Los modernos, en un visor digital sobre la botonera. Ambas ubicaciones son perfectas para nuestros planes. Si el visor estuviera demasiado alto (encima de la puerta de salida) el trabajo podría complicarse.\nEn este ejemplo la Víctima reside en el 4ºB. Llegamos al piso en cuestión y, antes de que su morador nos haga entrar, utilizamos el rellano para saludarlo y —allí mismo— le hacemos entrega de un obsequio: el banderín de su club de fútbol preferido.\n—Mirá lo que te trajimos, Víctima —diremos con una sonrisa (es importante suplantar la palabra víctima por el nombre real).\nEl anfitrión nos agradecerá el regalo e intentará quedárselo, o guardarlo, pero nosotros fingiremos tener una idea mejor:\n—Ponélo acá, para que todo el mundo sepa que sos de Vélez —diremos, colgando el banderín en el picaporte exterior de la puerta.\nSólo un 6% de las víctimas se niega a colgar el banderín. En general, los más reticentes son los hinchas de Racing (por un tema relacionado con la vergüenza).\nPero la enorme mayoría acepta colgar el obsequio a la vista, sin sospechar que todo forma parte de un propósito siniestro.\nDurante las siguientes tres o cuatro horas actuaremos como cualquier grupo de amigotes que cena de noche en casa de alguien. Hablaremos de mujeres, de fútbol, de política y del sentido del universo. Jugaremos al póker, fumaremos marihuana, beberemos. Este paso es el más sencillo y, en términos técnicos, sólo busca alterar el sentido temporal de la Víctima.\nDurante los postres, el Cómplice Uno deberá individualizar las llaves del departamento. El manojo suele estar sobre un mueble, cerca de la puerta, o colgado. Cuando la sobremesa comience a decaer se iniciará la primera acción física importante, a la que denominamos El Éxodo. Para ello, y sin venir a cuento, el Cómplice Uno se levantará de la mesa y dirá:\n—Me pegó el bajón. Salgo un cacho a buscar alfajores —y se hará con las llaves del departamento, fingiendo el ademán de irse solo.\n—Buenísmo —dirá la Víctima—. Tenés un quiosco abierto sobre Scalabrini.\nEn ese momento el Cómplice Dos deberá interrumpir la acción con esta frase: «¿Por qué no salimos todos, che, así nos aireamos un poco?». En cuestión de segundos, los cuatro tendrán que estar ubicados en el pasillo, del lado de afuera y a punto de cerrar la puerta, de la que cuelga el banderín. En ese instante hará su parlamento el Cómplice Tres:\n—Uy, me estoy cagando —dirá, tocándose la panza—, yo me quedo. ¿Está todo bien si van ustedes?\n—Todo bien —accederá la Víctima.\nUn minuto después, la primera parte del plan ya estará encarrilado. ¿Qué hemos conseguido hasta ahora? Recapitulemos:\ntenemos a la Víctima en la calle, escoltada por dos de nosotros;\nlas llaves del departamento están en nuestro poder; y\nconseguimos que un tercer cómplice se quede dentro.\nLa noche nos sonríe.\nConsumación\nMientras el trío se dirige al quiosco, el Cómplice Tres se ha quedado recluido en solitario. Por supuesto, nuestro colaborador no tiene deseos de cagar. Está allí para algo mucho más importante.\nEn cuanto se sepa solo, el Cómplice Tres abrirá la puerta de entrada, quitará el banderín y, sin cerrar la puerta (porque no tiene llaves), deberá subir por las escaleras un piso más y colgar el banderín en el picaporte del 5ºB. Después, en silencio, deberá regresar al 4ºB y quedarse sentado a esperar el desenlace del truco.\nMientras tanto, el grupo estará regresando de la calle con los alfajores. Entrarán los tres al edificio y subirán al ascensor entre bromas y monerías. Éste es un momento de gran importancia y coordinación general, alerta máxima.\nEl Cómplice Uno será el encargado de apretar el botón del 5º piso (¡no del 4º!), mientras el Cómplice Dos se ubicará de tal modo que impida la vista numérica. La Víctima debe permanecer muy entretenida durante el viaje. En circunstancias normales, cualquier inquilino conoce, por costumbre, el tiempo exacto que tarda su elevador en llegar.\nAhí es donde la droga blanda hace su parte. El porro provoca, entre otras muchas virtudes, la distorsión temporal y el anacronismo del usuario. La gente drogada siempre piensa que los ascensores tardan demasiado.\nLa Víctima no sentirá el paso del tiempo, y llegará entonces al 5º piso con la certeza de que se encuentra en el 4º. Al apearse del ascensor observará también el banderín colgando de la puerta B, que creerá suya. Este dato quizá parezca nimio, pero es fundamental para que la Víctima reconozca una ambientación fidedigna.\nEl Cómplice Dos saldrá del ascensor con las llaves en la mano, dispuesto a abrir la puerta. Entonces el Cómplice Uno dirá:\n—¡Esperen, esperen! Bajemos al 3º piso que les quiero mostrar algo.\nLa Víctima, curiosa y en estado de gracia, bajará por las escaleras en compañía de los cómplices. Esto tiene que ocurrir entre las dos y las tres de la madrugada, en medio de un gran silencio.\nUna vez apostados en el verdadero 4º piso (la Víctima está convencida de que se trata del 3º), el Cómplice Uno se acercará al departamento B y, sin preámbulos, comenzará a golpear la puerta con los dos puños mientras gritará enloquecido:\n—¡Incendio! ¡Incendio! ¡Socorro! —en tanto, el Cómplice Dos festejará la gracia y se unirá a los golpes.\nLa reacción de la Víctima es inmediata y está rigurosamente testada: hemos hecho este truco más de una docena de veces y siempre ocurrió lo mismo.\nLa Víctima, señores, huye por las escaleras, para esconderse en el que sospecha su hogar. En el momento que la Víctima desaparece, el Cómplice Tres nos abre la puerta y entramos. Por supuesto, estábamos golpeando con los puños el 4ºB. Una vez los tres cómplices dentro, cerramos y seguimos gritando «¡Incendio, incendio!», etcétera.\nLa Víctima ya está en el 5º piso y ve que el banderín sigue colgado en la que cree su puerta. Se tantea los bolsillos y descubre que no tiene las llaves, pero es conocedor de que dentro ha quedado un amigo. Entonces le toca el timbre, con ansiedad, para que éste le abra.\nLa Víctima tocará el timbre una vez, dos veces, a veces gritará «abrime, abrime». No hará falta más. Cuando por fin se abra la puerta, aparecerá el vecino del 5ºB, en pijamas y enojadísimo. Se trata de un momento mágico e irrepetible. La creación real de un mundo paralelo en el cerebro de nuestro amigo.\n—Qué carajo te pasa, hijo de puta y la concha de tu hermana —suele ser, en siete de cada diez casos, la frase más utilizada entre los vecinos del 5ºB cuando son despertados a timbrazos en medio de la madrugada. Otros directamente estampan a la víctima contra la pared de una trompada, como nos ocurrió en dos oportunidades.\nEn varios casos aparecen también otros propietarios e inquilinos, alertados por los gritos iniciales de incendio y socorro. Cuando ocurre tal cosa, la turba comienza a rodear a la Víctima con intención de venganza. No sabemos en qué momento todo se desmadra y se convierte en un linchamiento. Pero ocurre, siempre, pasados los seis minutos.\nEse instante de descontrol vecinal es el momento indicado para la huída. Los tres cómplices llamarán al ascensor y egresarán del lugar en silencio, pero con gran velocidad. No antes, porque se perderían los sonidos de la paliza que está comenzando en el edificio. Y siempre es bueno oír el resultado de un buen truco.\nUna vez en la calle, es muy recomendable arrojar las llaves del departamento en una alcantarilla, imitando el final de un cuento muy famoso.\nNuestra experiencia indica que más del 80% de las Víctimas no nos hablará durante el resto de su vida. El otro 20% puede tardar de dos a cinco años en aceptar nuestro perdón (que siempre redactamos vía email una semana más tarde de los hechos).\nUna vez que no hay heridas abiertas, cuando pasó ya mucho tiempo, a veces hemos preguntado a antiguas Víctimas qué sintieron, exactamente, en el momento que se abría la puerta del que creían su hogar y aparecía un señor enojado y en pijamas.\n—Es un flash —nos confiesan—. De repente dejás de hacer pie en la realidad, empezás a preguntarte si no será todo un sueño, tu cabeza se hunde en un mundo parecido al real...\nNosotros nos quedamos en silencio y sonreímos para dentro. Y entonces las viejas víctimas suelen agregar:\n—De verdad... Es lo más impresionante que me pasó en la vida.\nY eso nos basta para sentir que, otra vez, hemos mejorado la existencia de unos pobres diablos.\nHernán Casciari\n20 mayo, 2008"
                ],
                [
                  "9",
                  "Una década flaca",
                  "5/27/08",
                  "Una tarde de 1990 fui a tomar la leche a la casa de un muchacho que se llamaba Diego Grillo Trubba. No me acuerdo bien por qué, pero en la reunión había otra gente y el asunto tenía que ver con la literatura. Fue la única vez que vi a ese chico en mi vida, y después pasaron casi veinte años. Hace unos meses reapareció su nombre en mi casilla de correos: el mismo muchacho, ya grande, me invitaba a participar de una antología de cuentos que hoy publica Mondadori (sólo en Argentina, creo) y que se llama «Uno a uno».\nEn ese libro hay 19 cuentos, sospecho que de gente que también fue, alguna vez, a tomar la leche a la casa de Grillo Trubba. En la tapa del libro se asegura que todos los que escribimos allí somos narradores jóvenes. Por mi parte eso es mentira porque tengo casi cuarenta años y me duele muchísimo todo el cuerpo. Pero yo creo que ahora se le dice «escritor joven» a casi todos los escritores viejos que tienen blog, así que está bien.\nPero volvamos al asunto. La veintena de autores hablamos, únicamente, de los años noventa. La idea de que todos escribamos sobre lo mismo es una idea rara y se le ocurrió a Grillo Trubba hace un par de años. Creo que vive de eso. Y como a mí me pareció un oficio de lo más original, le dije que sí.\nAsí que el libro salió. Ayer u hoy, no lo sé bien porque vivo afuera. Y a raíz de ese asunto la semana pasada me pidieron un texto los del Diario Crítica (a mí y a cinco más), sobre los noventa. Sobre lo que representan para mí esos años.\nY yo le contesté a los del diario que, para mí, los noventa llegaron un año antes, en el ochenta y nueve, justo en el momento que Spinetta cantaba No seas fanática en los jardines de ATC, y la transmisión en directo se interrumpió para emitir discurso del ministro de economía, Juan Carlos Pugliese. En ese momento, cuando se cortó una canción y empezó la otra, en casa dijimos:\n—Cagamos, los noventa.\nMe acuerdo patente. En mi casa vimos una especie de luz azul que entró por la claraboya y de repente mi hermana adolescente se quedó embarazada, yo empecé a tomar cocaína como un chancho, Roberto puso una cancha de paddle y Chichita se hizo los claritos.\nEn aquel tiempo yo era otro. En muchos sentidos. Era más joven, era más amable, era muchísimo más soltero y también más inteligente. Pero había una diferencia visible: fue la época que más flaco estuve en la vida, o mejor, el único tiempo en que estuve flaco de verdad. Yo estaba en los huesos en los noventa. Mis amigos de siempre me seguían apodando El Gordo por inercia, pero mis amigos temporales, los que me habían conocido flaco, no entendían por qué yo respondía al apodo histórico:\n—Flaco, ¿por qué tus amigos te dicen el Gordo?\nEntonces yo mostraba con orgullo mi documento de identidad, cuya fotografía era la de un gordo precioso y sonriente, y todo el mundo se sorprendía del que había sido en los ochenta. Fue una época en la que disfruté del sobresalto ajeno: todas las personas que pasaban por mi vida se inquietaban al comprobar el desdoblamiento. Los históricos ponían su cara de incredulidad al verme tan angosto en directo, y los temporales se asombraban al descubrirme tan ancho en diferido.\nPero la delgadez me había quitado muchas mañas —les explicaba yo a los del diario—; sobre todo la gracia. Mis rutinas físicas ya no eran tan bien recibidas como antes, mis caras no parecían de goma, y mi forma chistosa de caminar no le resultaba hilarante a nadie. Me había convertido en un sujeto normal, y el mundo parecía no aceptar que un tipo flaco hiciera monerías de gordo.\nLa delgadez también me había acercado algunas ventajas: agilidad, seguridad, ropa elegante. Aquella fue la única década de mi vida en que usé la camisa adentro del pantalón. Y también corbata, porque me dedicaba al periodismo económico en una revista de management. Creo que llegué a ser jefe de redacción, nunca estuvo claro.\nDurante esos años —flaco y elegante— descubrí unas cuantas técnicas que el gordo roñoso que soy ahora (y que había sido antes) no conocerá nunca. La más importante ocurrió una mañana, y fue sin querer. Había pasado la noche drogado y me amaneció el hambre en la cabeza. Un hambre voraz y primitivo. Como ya era de día me vestí para ir a la redacción y de camino pasé por una panadería de la avenida Santa Fe. Yo estaba de punta en blanco, hermoso. ¡Ah, qué bien me quedaban los trajes en los noventa! Pedí media docena de medialunas y una empleada joven las empezó a poner en una bandeja.\nCuando la chica me dio la espalda descubrí unas masas finas, bañadas de chocolate, sobre el mostrador alto de vidrio. Me comí una con rapidez, porque mis dedos de entonces eran dedos ágiles. Levanté la vista para tragar, y desde la otra punta del local una cajera vieja me observaba, muy seria. Cabeceé en forma de saludo y sonreí. Ella no. Entonces me comí otra masa fina, esta vez sin disimular, para dejarle en claro que la primera no había sido un error. Y ella no dijo nada.\nCreí entender lo que estaba pasando. Sospeché que a un flaco elegante nadie podía recriminarle nada, ni lo bueno ni lo malo. Para confirmar la teoría, me acerqué a la cajera vieja y, sin bajarle la vista, agarré dos sanguchitos de miga triples que había sobre el mostrador. Uno de atún y lechuga, y el otro de algo rosa con pedacitos de huevo duro. Los doblé, los aplasté y me los metí en la boca.\nMastiqué durante cuarenta segundos con la mirada en los ojos de la mujer. Me atraganté y la cara se me puso borravino. Respiré con la boca abierta para recuperar el aire y seguí masticando hasta tragar. La otra chica también me miraba.\n—¿Algo más? —me preguntó la empleada, con las medialunas en un paquetito.\nDije que no con la boca llena. La cajera seguía muy seria y me extendió el ticket. En el recibo no figuraban los tentempiés espontáneos, sólo las medialunas originales, el primer y único pedido formal. Pagué, esperé el vuelto y dije que muchas gracias.\nAntes de salir a la vereda, me paré en seco. Abrí una vitrina de fondo y me metí en el bolsillo del traje tres o cuatro cañoncitos de dulce de leche. Por las dudas, me volví para observarlos a todos, a ver si había sido claro. Y sí, todos me estaban viendo robar a la luz de la mañana, en pleno centro de Palermo. Me observaban sin chistar, maravillados. Salí a la calle y el sol me pegó en los ojos. Respiré todo el aire que pude por la nariz.\nY entonces yo les explicaba a los del diario que los noventa habían sido, para mí, esa mañana.\nMuchísima gente gorda y roñosa encerrada por un rato en cuerpos de involuntarios flacos elegantes, atracando una panadería de la calle Santa Fe. Un montón de tipos con la camisa adentro y olor a perfume caro que, sin embargo, siguieron manteniendo la costumbre de comer lo que no era suyo con la boca abierta.\nHernán Casciari\n27 mayo, 2008"
                ]
              ],
              "shape": {
                "columns": 3,
                "rows": 10
              }
            },
            "text/html": [
              "<div>\n",
              "<style scoped>\n",
              "    .dataframe tbody tr th:only-of-type {\n",
              "        vertical-align: middle;\n",
              "    }\n",
              "\n",
              "    .dataframe tbody tr th {\n",
              "        vertical-align: top;\n",
              "    }\n",
              "\n",
              "    .dataframe thead th {\n",
              "        text-align: right;\n",
              "    }\n",
              "</style>\n",
              "<table border=\"1\" class=\"dataframe\">\n",
              "  <thead>\n",
              "    <tr style=\"text-align: right;\">\n",
              "      <th></th>\n",
              "      <th>titulo</th>\n",
              "      <th>fecha</th>\n",
              "      <th>cuento</th>\n",
              "    </tr>\n",
              "  </thead>\n",
              "  <tbody>\n",
              "    <tr>\n",
              "      <th>0</th>\n",
              "      <td>El rincón blanco</td>\n",
              "      <td>1/11/08</td>\n",
              "      <td>De pronto yo estaba en el hogar donde pasé la ...</td>\n",
              "    </tr>\n",
              "    <tr>\n",
              "      <th>1</th>\n",
              "      <td>Mínimos avances en la cama</td>\n",
              "      <td>1/24/08</td>\n",
              "      <td>Menos la cama, todo ha mejorado en este mundo....</td>\n",
              "    </tr>\n",
              "    <tr>\n",
              "      <th>2</th>\n",
              "      <td>Don Marcos</td>\n",
              "      <td>2/19/08</td>\n",
              "      <td>Dos veces, y no una, mi abuelo materno me ayud...</td>\n",
              "    </tr>\n",
              "    <tr>\n",
              "      <th>3</th>\n",
              "      <td>Los dos rulfos</td>\n",
              "      <td>3/26/08</td>\n",
              "      <td>A su regreso de México, mi amigo Comequechu no...</td>\n",
              "    </tr>\n",
              "    <tr>\n",
              "      <th>4</th>\n",
              "      <td>La noticia no es el perro</td>\n",
              "      <td>4/15/08</td>\n",
              "      <td>De repente, un video de You Tube recibe un mil...</td>\n",
              "    </tr>\n",
              "    <tr>\n",
              "      <th>5</th>\n",
              "      <td>El milagro de los pueblos</td>\n",
              "      <td>4/22/08</td>\n",
              "      <td>Cuando nació la Nina no tuve ganas de escribir...</td>\n",
              "    </tr>\n",
              "    <tr>\n",
              "      <th>6</th>\n",
              "      <td>Ropa sucia</td>\n",
              "      <td>5/6/08</td>\n",
              "      <td>Ya de entrada caí mal parado. Vine al mundo ju...</td>\n",
              "    </tr>\n",
              "    <tr>\n",
              "      <th>7</th>\n",
              "      <td>La Última Gran Guerra del Hombre Chiquito</td>\n",
              "      <td>5/13/08</td>\n",
              "      <td>Años atrás mi tataranieto Woung comenzó a envi...</td>\n",
              "    </tr>\n",
              "    <tr>\n",
              "      <th>8</th>\n",
              "      <td>Instrucciones para crear mundos paralelos</td>\n",
              "      <td>5/20/08</td>\n",
              "      <td>Descubrimos el truco por casualidad, en nuestr...</td>\n",
              "    </tr>\n",
              "    <tr>\n",
              "      <th>9</th>\n",
              "      <td>Una década flaca</td>\n",
              "      <td>5/27/08</td>\n",
              "      <td>Una tarde de 1990 fui a tomar la leche a la ca...</td>\n",
              "    </tr>\n",
              "  </tbody>\n",
              "</table>\n",
              "</div>"
            ],
            "text/plain": [
              "                                      titulo    fecha  \\\n",
              "0                           El rincón blanco  1/11/08   \n",
              "1                 Mínimos avances en la cama  1/24/08   \n",
              "2                                 Don Marcos  2/19/08   \n",
              "3                             Los dos rulfos  3/26/08   \n",
              "4                  La noticia no es el perro  4/15/08   \n",
              "5                  El milagro de los pueblos  4/22/08   \n",
              "6                                 Ropa sucia   5/6/08   \n",
              "7  La Última Gran Guerra del Hombre Chiquito  5/13/08   \n",
              "8  Instrucciones para crear mundos paralelos  5/20/08   \n",
              "9                           Una década flaca  5/27/08   \n",
              "\n",
              "                                              cuento  \n",
              "0  De pronto yo estaba en el hogar donde pasé la ...  \n",
              "1  Menos la cama, todo ha mejorado en este mundo....  \n",
              "2  Dos veces, y no una, mi abuelo materno me ayud...  \n",
              "3  A su regreso de México, mi amigo Comequechu no...  \n",
              "4  De repente, un video de You Tube recibe un mil...  \n",
              "5  Cuando nació la Nina no tuve ganas de escribir...  \n",
              "6  Ya de entrada caí mal parado. Vine al mundo ju...  \n",
              "7  Años atrás mi tataranieto Woung comenzó a envi...  \n",
              "8  Descubrimos el truco por casualidad, en nuestr...  \n",
              "9  Una tarde de 1990 fui a tomar la leche a la ca...  "
            ]
          },
          "execution_count": 6,
          "metadata": {},
          "output_type": "execute_result"
        }
      ],
      "source": [
        "blog = pd.read_csv(url)\n",
        "blog.head(10)"
      ]
    },
    {
      "cell_type": "markdown",
      "id": "611a45ca",
      "metadata": {
        "id": "611a45ca"
      },
      "source": [
        "### 2. Homogenización de textos\n",
        "\n",
        "Para cumplir con el objetivo de generar recomendaciones en esta sección debe preparar los posts para poder ser utilizados en su sistema de recomendación. Para ello, \"limpie\" y \"tokenize\" cada uno de los cuentos, describiendo detalladamente los pasos que realizo y si transformó o eliminó ciertas palabras. Para asistirlo en la tarea he creado listas de *stopwords* que están disponibles en la carpeta `data`. En su procedimiento ilustre la limpieza con el cuento 'La venganza del metegol'. (En su limpieza recuerde que el objetivo es generar recomendaciones a partir de la similitud de las palabras o temas de los cuentos)"
      ]
    },
    {
      "cell_type": "markdown",
      "id": "309c2547",
      "metadata": {},
      "source": [
        "No hemos podido limpiar todo el DataFrame al tiempo. Proponemos dividirlo en 5 bloques de 104 observaciones cada uno y, así, limpiarlo"
      ]
    },
    {
      "cell_type": "code",
      "execution_count": 17,
      "id": "46adc72d",
      "metadata": {},
      "outputs": [],
      "source": [
        "num_bloques = 5\n",
        "tamano_bloque = 104\n",
        "\n",
        "lista_dfs = [blog[i * tamano_bloque:(i + 1) * tamano_bloque] for i in range(num_bloques)]"
      ]
    },
    {
      "cell_type": "code",
      "execution_count": 22,
      "id": "2b3f8c85",
      "metadata": {},
      "outputs": [],
      "source": [
        "# ruta actual\n",
        "base_dir = os.getcwd()\n",
        "\n",
        "# ruta a la carpeta \"data\"\n",
        "data_dir = os.path.join(base_dir, \"data\")\n",
        "\n",
        "# ruta final con subcarpeta \"datos\"\n",
        "output_dir = os.path.join(data_dir, \"datos\")\n",
        "\n",
        "# crear la carpeta si no existe\n",
        "os.makedirs(output_dir, exist_ok=True)\n",
        "\n",
        "for i, df in enumerate(lista_dfs):\n",
        "  nombre_archivo = f'datos/blog_bloque_{i + 1}.csv'\n",
        "  df.to_csv(os.path.join(data_dir, nombre_archivo), index=False)"
      ]
    },
    {
      "cell_type": "code",
      "execution_count": 7,
      "id": "f2baac50",
      "metadata": {
        "colab": {
          "base_uri": "https://localhost:8080/"
        },
        "id": "f2baac50",
        "outputId": "8e6aa3d0-5f05-4771-c65d-750091cb0623"
      },
      "outputs": [
        {
          "name": "stdout",
          "output_type": "stream",
          "text": [
            "<class 'pandas.core.frame.DataFrame'>\n",
            "RangeIndex: 520 entries, 0 to 519\n",
            "Data columns (total 3 columns):\n",
            " #   Column  Non-Null Count  Dtype \n",
            "---  ------  --------------  ----- \n",
            " 0   titulo  520 non-null    object\n",
            " 1   fecha   520 non-null    object\n",
            " 2   cuento  520 non-null    object\n",
            "dtypes: object(3)\n",
            "memory usage: 12.3+ KB\n"
          ]
        }
      ],
      "source": [
        "blog.info()\n",
        "# no tenemos problemas con missing alues"
      ]
    },
    {
      "cell_type": "code",
      "execution_count": 8,
      "id": "261e0de6",
      "metadata": {
        "id": "261e0de6"
      },
      "outputs": [],
      "source": [
        "spell = SpellChecker(language='es')\n",
        "\n",
        "import requests\n",
        "\n",
        "# Añadir palabras correctas al diccionario para evitar falsos positivos\n",
        "url = \"https://raw.githubusercontent.com/hermitdave/FrequencyWords/master/content/2018/es/es_50k.txt\"\n",
        "response = requests.get(url)\n",
        "with open(\"vocab.txt\", \"wb\") as f:\n",
        "    f.write(response.content)\n",
        "\n",
        "\n",
        "with open('vocab.txt', 'r', encoding='utf-8') as f:\n",
        "    palabras_externas = [line.strip().split()[0] for line in f]\n",
        "\n",
        "spell.word_frequency.load_words(palabras_externas)\n",
        "\n",
        "def corregir_texto(texto):\n",
        "    # Separar palabras y signos de puntuación\n",
        "    tokens = re.findall(r'\\w+|[^\\w\\s]', texto, re.UNICODE)\n",
        "\n",
        "    corregidas = []\n",
        "    for token in tokens:\n",
        "        if token.isalpha():\n",
        "            if token not in spell:\n",
        "                correccion = spell.correction(token)\n",
        "                corregidas.append(correccion if correccion is not None else token)\n",
        "            else:\n",
        "                corregidas.append(token)\n",
        "        else:\n",
        "            corregidas.append(token)  # Mantener puntuación tal cual\n",
        "\n",
        "    # Reconstruir el texto respetando espacios entre palabras y no entre signos\n",
        "    texto_corregido = ''\n",
        "    for i, token in enumerate(corregidas):\n",
        "        if i > 0 and token not in ',.!?':\n",
        "            texto_corregido += ' '\n",
        "        texto_corregido += token\n",
        "\n",
        "    return texto_corregido"
      ]
    },
    {
      "cell_type": "code",
      "execution_count": 9,
      "id": "70639473",
      "metadata": {
        "id": "70639473"
      },
      "outputs": [
        {
          "ename": "NameError",
          "evalue": "name 'spacy' is not defined",
          "output_type": "error",
          "traceback": [
            "\u001b[1;31m---------------------------------------------------------------------------\u001b[0m",
            "\u001b[1;31mNameError\u001b[0m                                 Traceback (most recent call last)",
            "Cell \u001b[1;32mIn[9], line 1\u001b[0m\n\u001b[1;32m----> 1\u001b[0m nlp \u001b[38;5;241m=\u001b[39m \u001b[43mspacy\u001b[49m\u001b[38;5;241m.\u001b[39mload(\u001b[38;5;124m\"\u001b[39m\u001b[38;5;124mes_core_news_sm\u001b[39m\u001b[38;5;124m\"\u001b[39m)\n\u001b[0;32m      3\u001b[0m \u001b[38;5;66;03m# Cargamos las stopwords extra\u001b[39;00m\n\u001b[0;32m      4\u001b[0m extra_stopwords \u001b[38;5;241m=\u001b[39m pd\u001b[38;5;241m.\u001b[39mread_csv(\u001b[38;5;124m'\u001b[39m\u001b[38;5;124mhttps://raw.githubusercontent.com/MECA4605-Aprendizaje-no-supervisado/S6_clase_sistemas_recomendacion_II/main/data/extra_stopwords.csv\u001b[39m\u001b[38;5;124m'\u001b[39m, sep\u001b[38;5;241m=\u001b[39m\u001b[38;5;124m'\u001b[39m\u001b[38;5;124m,\u001b[39m\u001b[38;5;124m'\u001b[39m,header\u001b[38;5;241m=\u001b[39m\u001b[38;5;28;01mNone\u001b[39;00m)\n",
            "\u001b[1;31mNameError\u001b[0m: name 'spacy' is not defined"
          ]
        }
      ],
      "source": [
        "nlp = spacy.load(\"es_core_news_sm\")\n",
        "\n",
        "# Cargamos las stopwords extra\n",
        "extra_stopwords = pd.read_csv('https://raw.githubusercontent.com/MECA4605-Aprendizaje-no-supervisado/S6_clase_sistemas_recomendacion_II/main/data/extra_stopwords.csv', sep=',',header=None)\n",
        "extra_stopwords.columns = ['stopwords']\n",
        "extra_stopwords=set(extra_stopwords['stopwords'].to_list())\n",
        "\n",
        "# Agregamos a nuestro modelo de SpaCy\n",
        "nlp.Defaults.stop_words |= extra_stopwords\n",
        "\n",
        "#print(nlp.Defaults.stop_words) # Mostrar la nueva lista de stopwords"
      ]
    },
    {
      "cell_type": "code",
      "execution_count": 10,
      "id": "oi140An6TrdS",
      "metadata": {
        "id": "oi140An6TrdS"
      },
      "outputs": [],
      "source": [
        "# Lista de stopwords en español\n",
        "stopwords_es = set(stopwords.words('spanish'))\n",
        "\n",
        "def limpieza_texto(texto, lista_palabras=[]):\n",
        "    # remover acentos\n",
        "    texto_sin_acentos = ''.join(c for c in unicodedata.normalize('NFD', texto)\n",
        "                              if unicodedata.category(c) != 'Mn')\n",
        "\n",
        "    # remover signos de puntuación y simbolos adicionales\n",
        "    texto_sin_puntuacion = re.sub(r'[^\\w\\s]', '', texto_sin_acentos)\n",
        "\n",
        "\n",
        "    texto = texto_sin_puntuacion.lower()\n",
        "    # remover numeros\n",
        "    texto = re.sub(r'\\d+', '', texto)\n",
        "\n",
        "    tokens = texto.split()\n",
        "    tokens_filtrados = [\n",
        "        t for t in tokens\n",
        "        if t not in stopwords_es and t not in lista_palabras\n",
        "    ]\n",
        "\n",
        "    return ' '.join(tokens_filtrados)"
      ]
    },
    {
      "cell_type": "code",
      "execution_count": 11,
      "id": "XydwbnToT7EZ",
      "metadata": {
        "colab": {
          "base_uri": "https://localhost:8080/"
        },
        "id": "XydwbnToT7EZ",
        "outputId": "7055375e-7791-4140-906d-f53c213e8508"
      },
      "outputs": [
        {
          "name": "stdout",
          "output_type": "stream",
          "text": [
            "nino preguntas dificiles pocas vienen cabeza traen respuesta incluida sol linterna grande luna balon quedado colgado noche lobo perro madre nino todas preguntas poesia entonces padres idiotas enviar escuela olvides sospechar pensar conviertes adolescente despojo mago telefono movil solo sabe preguntar estupideces sms poner vocales misterio vida grandes preguntas mueren adolescencia sexo ocupa toda memoria tambien futbol motos fundas telefonos perdi magia alli suerte mas tarde recupere precio sido enfermedad recuperar todas preguntas todas respuestas hace dano cabeza dano si hace quedas apelado suerte puedes disimular posible llegues cantador poeta arquitecto actor teatro bailarina si suerte mal dia matas padre encierran hospital consigues cargo politico agente inmobiliario embargo suerte dejas hacer preguntas nunca acabas buscar respuestas extrañas extrano ocupa casi mundo extrano motor da vida madre pario ir mas lejos senora extraña aqui hacia va humanidad venimos razon vida sido mas grandes preguntas tiempos pensadores dejaron pestana cuestiones nadie saco claro despues pensar pensar vano dedicar conquistar luna curar catarro mejorar coches habia disimular grandes cosas nunca serian descubiertas aqui espaldas mundo seguimos preocupados grandes cosas encerrados conocemos respuestas preguntas dificiles si conocemos inventamos aqui inventores vemos cosas nuevas invisibles gritamos horror descubrimos seguid viajando luna mejorando memoria ram ordenadores preocupes importante aqui trabajando ello herman cascar mayo\n"
          ]
        }
      ],
      "source": [
        "ejemplo = blog['cuento'][500]\n",
        "modificacion1 = limpieza_texto(ejemplo)\n",
        "modificacion2 = corregir_texto(modificacion1)\n",
        "print(modificacion2)"
      ]
    },
    {
      "cell_type": "code",
      "execution_count": null,
      "id": "4Tcoj7iCYEPZ",
      "metadata": {
        "id": "4Tcoj7iCYEPZ"
      },
      "outputs": [],
      "source": [
        "blog['cuento_limpio'] = blog['cuento'].apply(lambda x: corregir_texto(limpieza_texto(x)))"
      ]
    },
    {
      "cell_type": "markdown",
      "id": "96221879",
      "metadata": {
        "id": "96221879"
      },
      "source": [
        "### 3. Generando Recomendaciones\n",
        "\n",
        "En esta sección nos interesa generar recomendaciones de cuentos en el blog a un usuario que leyó 'La venganza del metegol'. Para ello vamos a utilizar distintas estrategias."
      ]
    },
    {
      "cell_type": "markdown",
      "id": "2981ddff",
      "metadata": {
        "id": "2981ddff"
      },
      "source": [
        "#### 3.1. Recomendaciones basadas en contenidos\n",
        "\n",
        "##### 3.1.1. Genere 5 recomendaciones de más recomendada (1) a menos recomendada (5) para el cuento 'La venganza del metegol' usando en la distancia de coseno donde el texto este vectorizado por `CountVectorizer`. Explique el procedimiento que realizó y como ordenó las recomendaciones."
      ]
    },
    {
      "cell_type": "code",
      "execution_count": null,
      "id": "019d927f",
      "metadata": {
        "id": "019d927f"
      },
      "outputs": [],
      "source": [
        "# Utilice este espacio para escribir el código."
      ]
    },
    {
      "cell_type": "markdown",
      "id": "9c093f22",
      "metadata": {
        "id": "9c093f22"
      },
      "source": [
        "(Utilice este espacio para describir el procedimiento, análisis, y conclusiones)"
      ]
    },
    {
      "cell_type": "markdown",
      "id": "c8fe107b",
      "metadata": {
        "id": "c8fe107b"
      },
      "source": [
        "##### 3.1.2. Genere 5 recomendaciones de más recomendada (1) a menos recomendada (5) para  el cuento 'La venganza del metegol' usando nuevamente la distancia de coseno, pero ahora vectorice el texto usando `TF-IDFVectorizer`. Explique el procedimiento que realizó y como ordenó las recomendaciones. Compare con los resultados del punto anterior y explique sus similitudes y/o diferencias."
      ]
    },
    {
      "cell_type": "code",
      "execution_count": null,
      "id": "fe5b4913",
      "metadata": {
        "id": "fe5b4913"
      },
      "outputs": [],
      "source": [
        "# Utilice este espacio para escribir el código."
      ]
    },
    {
      "cell_type": "markdown",
      "id": "23bc61de",
      "metadata": {
        "id": "23bc61de"
      },
      "source": [
        "(Utilice este espacio para describir el procedimiento, análisis, y conclusiones)"
      ]
    },
    {
      "cell_type": "markdown",
      "id": "d9575129",
      "metadata": {
        "id": "d9575129"
      },
      "source": [
        "##### 3.1.3. Genere 5 recomendaciones de más recomendada (1) a menos recomendada (5) para el cuento 'La venganza del metegol' usando el texto vectorizado por `TF-IDFVectorizer` y la correlación como medida de similitud. Explique el procedimiento que realizó y como ordenó las recomendaciones. Compare con los resultados de los puntos anteriores y explique sus similitudes y/o diferencias."
      ]
    },
    {
      "cell_type": "code",
      "execution_count": null,
      "id": "fa114ad8",
      "metadata": {
        "id": "fa114ad8"
      },
      "outputs": [],
      "source": [
        "# Utilice este espacio para escribir el código."
      ]
    },
    {
      "cell_type": "markdown",
      "id": "b9c3a79d",
      "metadata": {
        "id": "b9c3a79d"
      },
      "source": [
        "(Utilice este espacio para describir el procedimiento, análisis, y conclusiones)"
      ]
    },
    {
      "cell_type": "markdown",
      "id": "ee0915e5",
      "metadata": {
        "id": "ee0915e5"
      },
      "source": [
        "##### 3.2. Recomendaciones basadas en temas\n",
        "\n",
        "Usando modelado de temas con LDA, encuentre los temas subyacentes en el blog. Explique como eligió el numero óptimo de temas. Utilizando el tema asignado al cuento 'La venganza del metegol' y la probabilidad de pertenecer a este tema genere 5 recomendaciones de más recomendada (1) a menos recomendada (5) para este cuento. Explique el procedimiento que realizó. Compare con los resultados encontrados anteriormente y explique sus similitudes y/o diferencias. (Esto puede tomar mucho tiempo y requerir mucha capacidad computacional, puede aprovechar los recursos de [Google Colab](https://colab.research.google.com/))\n"
      ]
    },
    {
      "cell_type": "code",
      "execution_count": null,
      "id": "1a403266",
      "metadata": {
        "id": "1a403266"
      },
      "outputs": [],
      "source": [
        "# Utilice este espacio para escribir el código."
      ]
    },
    {
      "cell_type": "markdown",
      "id": "88c06ca5",
      "metadata": {
        "id": "88c06ca5"
      },
      "source": [
        "(Utilice este espacio para describir el procedimiento, análisis, y conclusiones)"
      ]
    },
    {
      "cell_type": "markdown",
      "id": "b324f78c",
      "metadata": {
        "id": "b324f78c"
      },
      "source": [
        "### 4 Recomendaciones generales\n",
        "\n",
        "De acuerdo con los resultados encontrados, en su opinión ¿qué procedimiento generó las mejores recomendaciones para la entrada elegida? ¿Cómo implementaría una evaluación objetiva de estas recomendaciones? Justifique su respuesta."
      ]
    },
    {
      "cell_type": "markdown",
      "id": "58a423c3",
      "metadata": {
        "id": "58a423c3"
      },
      "source": [
        "(Utilice este espacio para describir su procedimiento)"
      ]
    }
  ],
  "metadata": {
    "colab": {
      "provenance": []
    },
    "kernelspec": {
      "display_name": "Python 3",
      "language": "python",
      "name": "python3"
    },
    "language_info": {
      "codemirror_mode": {
        "name": "ipython",
        "version": 3
      },
      "file_extension": ".py",
      "mimetype": "text/x-python",
      "name": "python",
      "nbconvert_exporter": "python",
      "pygments_lexer": "ipython3",
      "version": "3.13.2"
    },
    "toc": {
      "base_numbering": 1,
      "nav_menu": {},
      "number_sections": true,
      "sideBar": true,
      "skip_h1_title": false,
      "title_cell": "Table of Contents",
      "title_sidebar": "Contents",
      "toc_cell": false,
      "toc_position": {},
      "toc_section_display": true,
      "toc_window_display": false
    }
  },
  "nbformat": 4,
  "nbformat_minor": 5
}
