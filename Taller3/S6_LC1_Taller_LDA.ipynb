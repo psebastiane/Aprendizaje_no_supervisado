{
  "cells": [
    {
      "cell_type": "markdown",
      "id": "da72de5f",
      "metadata": {
        "id": "da72de5f"
      },
      "source": [
        "![Clase aprendizaje no supervisado](https://raw.githubusercontent.com/MECA4605-Aprendizaje-no-supervisado/taller_3/main/figs/taller-meca-aprendizaje%20no%20supervisado_banner%201169%20x%20200%20px%20-05.png)"
      ]
    },
    {
      "cell_type": "markdown",
      "id": "2b151b20",
      "metadata": {
        "id": "2b151b20"
      },
      "source": [
        "# Caso-taller:  Recomendando el Blog de  Hernán Casciari\n",
        "\n",
        "\n",
        "[Hernán Casciari](https://hernancasciari.com/#bio), es un escritor argentino, que escribe blog posts con cuentos e historias  relacionadas con el futbol, su vida, infancia, y relaciones familiares con toques de ficción. Este [blog](https://hernancasciari.com/blog/) es  tan interesantes que en 2005 fue premiado como “El mejor blog del mundo” por Deutsche Welle de Alemania.\n",
        "\n",
        "El objetivo de este caso-taller es construir un sistema de recomendación basado en los contenidos de los posts utilizando similitud de las palabras usadas o temas de los cuentos."
      ]
    },
    {
      "cell_type": "markdown",
      "id": "892acd2b",
      "metadata": {
        "id": "892acd2b"
      },
      "source": [
        "## Instrucciones generales\n",
        "\n",
        "1. Para desarrollar el *cuaderno*, primero debe descargarlo.\n",
        "\n",
        "2. Para responder cada inciso deberá utilizar el espacio debidamente especificado.\n",
        "\n",
        "3. La actividad será calificada sólo si sube el *cuaderno* de jupyter notebook con extensión `.ipynb` en la actividad designada como \"entrega calificada por el personal\".\n",
        "\n",
        "4. El archivo entregado debe poder ser ejecutado localmente por el tutor. Sea cuidadoso con la especificación de la ubicación de los archivos de soporte, guarde la carpeta de datos en el mismo `path` de su cuaderno, por ejemplo: `data`."
      ]
    },
    {
      "cell_type": "markdown",
      "id": "014e89b0",
      "metadata": {
        "id": "014e89b0"
      },
      "source": [
        "## Desarrollo\n"
      ]
    },
    {
      "cell_type": "markdown",
      "id": "dcadd9e7",
      "metadata": {
        "id": "dcadd9e7"
      },
      "source": [
        "### 1. Carga de datos\n",
        "\n",
        "En la carpeta `data` se encuentran el archivo `blog_casciari.csv` con el título, la fecha de publicación, y el contenido de los cuentos publicados en el blog  de sr. Casciari. Cargue estos datos en su *cuaderno* y reporte brevemente el contenido de la base.\n",
        "   "
      ]
    },
    {
      "cell_type": "code",
      "execution_count": 4,
      "id": "C0R7tOSXS29m",
      "metadata": {
        "colab": {
          "base_uri": "https://localhost:8080/"
        },
        "id": "C0R7tOSXS29m",
        "outputId": "358f8e34-cd94-44b9-aeb5-fc0bc93989d2"
      },
      "outputs": [
        {
          "output_type": "stream",
          "name": "stdout",
          "text": [
            "\u001b[2K   \u001b[90m━━━━━━━━━━━━━━━━━━━━━━━━━━━━━━━━━━━━━━━━\u001b[0m \u001b[32m7.1/7.1 MB\u001b[0m \u001b[31m45.5 MB/s\u001b[0m eta \u001b[36m0:00:00\u001b[0m\n",
            "\u001b[?25h"
          ]
        }
      ],
      "source": [
        "pip install -q pyspellchecker"
      ]
    },
    {
      "cell_type": "code",
      "execution_count": 2,
      "id": "9faf1d1e",
      "metadata": {
        "id": "9faf1d1e",
        "outputId": "45afc050-0701-428a-c733-e171b6066934",
        "colab": {
          "base_uri": "https://localhost:8080/",
          "height": 1000
        }
      },
      "outputs": [
        {
          "output_type": "stream",
          "name": "stdout",
          "text": [
            "Requirement already satisfied: pip in /usr/local/lib/python3.11/dist-packages (24.1.2)\n",
            "Collecting pip\n",
            "  Downloading pip-25.1.1-py3-none-any.whl.metadata (3.6 kB)\n",
            "Requirement already satisfied: setuptools in /usr/local/lib/python3.11/dist-packages (75.2.0)\n",
            "Collecting setuptools\n",
            "  Downloading setuptools-80.4.0-py3-none-any.whl.metadata (6.5 kB)\n",
            "Requirement already satisfied: wheel in /usr/local/lib/python3.11/dist-packages (0.45.1)\n",
            "Downloading pip-25.1.1-py3-none-any.whl (1.8 MB)\n",
            "\u001b[2K   \u001b[90m━━━━━━━━━━━━━━━━━━━━━━━━━━━━━━━━━━━━━━━━\u001b[0m \u001b[32m1.8/1.8 MB\u001b[0m \u001b[31m18.2 MB/s\u001b[0m eta \u001b[36m0:00:00\u001b[0m\n",
            "\u001b[?25hDownloading setuptools-80.4.0-py3-none-any.whl (1.2 MB)\n",
            "\u001b[2K   \u001b[90m━━━━━━━━━━━━━━━━━━━━━━━━━━━━━━━━━━━━━━━━\u001b[0m \u001b[32m1.2/1.2 MB\u001b[0m \u001b[31m21.3 MB/s\u001b[0m eta \u001b[36m0:00:00\u001b[0m\n",
            "\u001b[?25hInstalling collected packages: setuptools, pip\n",
            "  Attempting uninstall: setuptools\n",
            "    Found existing installation: setuptools 75.2.0\n",
            "    Uninstalling setuptools-75.2.0:\n",
            "      Successfully uninstalled setuptools-75.2.0\n",
            "  Attempting uninstall: pip\n",
            "    Found existing installation: pip 24.1.2\n",
            "    Uninstalling pip-24.1.2:\n",
            "      Successfully uninstalled pip-24.1.2\n",
            "\u001b[31mERROR: pip's dependency resolver does not currently take into account all the packages that are installed. This behaviour is the source of the following dependency conflicts.\n",
            "ipython 7.34.0 requires jedi>=0.16, which is not installed.\u001b[0m\u001b[31m\n",
            "\u001b[0mSuccessfully installed pip-25.1.1 setuptools-80.4.0\n"
          ]
        },
        {
          "output_type": "display_data",
          "data": {
            "application/vnd.colab-display-data+json": {
              "pip_warning": {
                "packages": [
                  "_distutils_hack",
                  "pkg_resources"
                ]
              },
              "id": "0ef70a21a9ef4fb1b9612d6db2446ba7"
            }
          },
          "metadata": {}
        },
        {
          "output_type": "stream",
          "name": "stdout",
          "text": [
            "Requirement already satisfied: spacy in /usr/local/lib/python3.11/dist-packages (3.8.5)\n",
            "Requirement already satisfied: spacy-legacy<3.1.0,>=3.0.11 in /usr/local/lib/python3.11/dist-packages (from spacy) (3.0.12)\n",
            "Requirement already satisfied: spacy-loggers<2.0.0,>=1.0.0 in /usr/local/lib/python3.11/dist-packages (from spacy) (1.0.5)\n",
            "Requirement already satisfied: murmurhash<1.1.0,>=0.28.0 in /usr/local/lib/python3.11/dist-packages (from spacy) (1.0.12)\n",
            "Requirement already satisfied: cymem<2.1.0,>=2.0.2 in /usr/local/lib/python3.11/dist-packages (from spacy) (2.0.11)\n",
            "Requirement already satisfied: preshed<3.1.0,>=3.0.2 in /usr/local/lib/python3.11/dist-packages (from spacy) (3.0.9)\n",
            "Requirement already satisfied: thinc<8.4.0,>=8.3.4 in /usr/local/lib/python3.11/dist-packages (from spacy) (8.3.6)\n",
            "Requirement already satisfied: wasabi<1.2.0,>=0.9.1 in /usr/local/lib/python3.11/dist-packages (from spacy) (1.1.3)\n",
            "Requirement already satisfied: srsly<3.0.0,>=2.4.3 in /usr/local/lib/python3.11/dist-packages (from spacy) (2.5.1)\n",
            "Requirement already satisfied: catalogue<2.1.0,>=2.0.6 in /usr/local/lib/python3.11/dist-packages (from spacy) (2.0.10)\n",
            "Requirement already satisfied: weasel<0.5.0,>=0.1.0 in /usr/local/lib/python3.11/dist-packages (from spacy) (0.4.1)\n",
            "Requirement already satisfied: typer<1.0.0,>=0.3.0 in /usr/local/lib/python3.11/dist-packages (from spacy) (0.15.3)\n",
            "Requirement already satisfied: tqdm<5.0.0,>=4.38.0 in /usr/local/lib/python3.11/dist-packages (from spacy) (4.67.1)\n",
            "Requirement already satisfied: numpy>=1.19.0 in /usr/local/lib/python3.11/dist-packages (from spacy) (2.0.2)\n",
            "Requirement already satisfied: requests<3.0.0,>=2.13.0 in /usr/local/lib/python3.11/dist-packages (from spacy) (2.32.3)\n",
            "Requirement already satisfied: pydantic!=1.8,!=1.8.1,<3.0.0,>=1.7.4 in /usr/local/lib/python3.11/dist-packages (from spacy) (2.11.4)\n",
            "Requirement already satisfied: jinja2 in /usr/local/lib/python3.11/dist-packages (from spacy) (3.1.6)\n",
            "Requirement already satisfied: setuptools in /usr/local/lib/python3.11/dist-packages (from spacy) (80.4.0)\n",
            "Requirement already satisfied: packaging>=20.0 in /usr/local/lib/python3.11/dist-packages (from spacy) (24.2)\n",
            "Requirement already satisfied: langcodes<4.0.0,>=3.2.0 in /usr/local/lib/python3.11/dist-packages (from spacy) (3.5.0)\n",
            "Requirement already satisfied: language-data>=1.2 in /usr/local/lib/python3.11/dist-packages (from langcodes<4.0.0,>=3.2.0->spacy) (1.3.0)\n",
            "Requirement already satisfied: annotated-types>=0.6.0 in /usr/local/lib/python3.11/dist-packages (from pydantic!=1.8,!=1.8.1,<3.0.0,>=1.7.4->spacy) (0.7.0)\n",
            "Requirement already satisfied: pydantic-core==2.33.2 in /usr/local/lib/python3.11/dist-packages (from pydantic!=1.8,!=1.8.1,<3.0.0,>=1.7.4->spacy) (2.33.2)\n",
            "Requirement already satisfied: typing-extensions>=4.12.2 in /usr/local/lib/python3.11/dist-packages (from pydantic!=1.8,!=1.8.1,<3.0.0,>=1.7.4->spacy) (4.13.2)\n",
            "Requirement already satisfied: typing-inspection>=0.4.0 in /usr/local/lib/python3.11/dist-packages (from pydantic!=1.8,!=1.8.1,<3.0.0,>=1.7.4->spacy) (0.4.0)\n",
            "Requirement already satisfied: charset-normalizer<4,>=2 in /usr/local/lib/python3.11/dist-packages (from requests<3.0.0,>=2.13.0->spacy) (3.4.2)\n",
            "Requirement already satisfied: idna<4,>=2.5 in /usr/local/lib/python3.11/dist-packages (from requests<3.0.0,>=2.13.0->spacy) (3.10)\n",
            "Requirement already satisfied: urllib3<3,>=1.21.1 in /usr/local/lib/python3.11/dist-packages (from requests<3.0.0,>=2.13.0->spacy) (2.4.0)\n",
            "Requirement already satisfied: certifi>=2017.4.17 in /usr/local/lib/python3.11/dist-packages (from requests<3.0.0,>=2.13.0->spacy) (2025.4.26)\n",
            "Requirement already satisfied: blis<1.4.0,>=1.3.0 in /usr/local/lib/python3.11/dist-packages (from thinc<8.4.0,>=8.3.4->spacy) (1.3.0)\n",
            "Requirement already satisfied: confection<1.0.0,>=0.0.1 in /usr/local/lib/python3.11/dist-packages (from thinc<8.4.0,>=8.3.4->spacy) (0.1.5)\n",
            "Requirement already satisfied: click>=8.0.0 in /usr/local/lib/python3.11/dist-packages (from typer<1.0.0,>=0.3.0->spacy) (8.1.8)\n",
            "Requirement already satisfied: shellingham>=1.3.0 in /usr/local/lib/python3.11/dist-packages (from typer<1.0.0,>=0.3.0->spacy) (1.5.4)\n",
            "Requirement already satisfied: rich>=10.11.0 in /usr/local/lib/python3.11/dist-packages (from typer<1.0.0,>=0.3.0->spacy) (13.9.4)\n",
            "Requirement already satisfied: cloudpathlib<1.0.0,>=0.7.0 in /usr/local/lib/python3.11/dist-packages (from weasel<0.5.0,>=0.1.0->spacy) (0.21.0)\n",
            "Requirement already satisfied: smart-open<8.0.0,>=5.2.1 in /usr/local/lib/python3.11/dist-packages (from weasel<0.5.0,>=0.1.0->spacy) (7.1.0)\n",
            "Requirement already satisfied: wrapt in /usr/local/lib/python3.11/dist-packages (from smart-open<8.0.0,>=5.2.1->weasel<0.5.0,>=0.1.0->spacy) (1.17.2)\n",
            "Requirement already satisfied: marisa-trie>=1.1.0 in /usr/local/lib/python3.11/dist-packages (from language-data>=1.2->langcodes<4.0.0,>=3.2.0->spacy) (1.2.1)\n",
            "Requirement already satisfied: markdown-it-py>=2.2.0 in /usr/local/lib/python3.11/dist-packages (from rich>=10.11.0->typer<1.0.0,>=0.3.0->spacy) (3.0.0)\n",
            "Requirement already satisfied: pygments<3.0.0,>=2.13.0 in /usr/local/lib/python3.11/dist-packages (from rich>=10.11.0->typer<1.0.0,>=0.3.0->spacy) (2.19.1)\n",
            "Requirement already satisfied: mdurl~=0.1 in /usr/local/lib/python3.11/dist-packages (from markdown-it-py>=2.2.0->rich>=10.11.0->typer<1.0.0,>=0.3.0->spacy) (0.1.2)\n",
            "Requirement already satisfied: MarkupSafe>=2.0 in /usr/local/lib/python3.11/dist-packages (from jinja2->spacy) (3.0.2)\n"
          ]
        }
      ],
      "source": [
        "!pip install -U pip setuptools wheel\n",
        "!pip install spacy"
      ]
    },
    {
      "cell_type": "code",
      "execution_count": 2,
      "id": "uF19CIi1TZl3",
      "metadata": {
        "colab": {
          "base_uri": "https://localhost:8080/"
        },
        "id": "uF19CIi1TZl3",
        "outputId": "26ddc6a6-cbda-46ab-ef3d-b4157c773356"
      },
      "outputs": [
        {
          "output_type": "stream",
          "name": "stdout",
          "text": [
            "Collecting es-core-news-sm==3.8.0\n",
            "  Downloading https://github.com/explosion/spacy-models/releases/download/es_core_news_sm-3.8.0/es_core_news_sm-3.8.0-py3-none-any.whl (12.9 MB)\n",
            "\u001b[2K     \u001b[90m━━━━━━━━━━━━━━━━━━━━━━━━━━━━━━━━━━━━━━━━\u001b[0m \u001b[32m12.9/12.9 MB\u001b[0m \u001b[31m97.4 MB/s\u001b[0m eta \u001b[36m0:00:00\u001b[0m\n",
            "\u001b[?25hInstalling collected packages: es-core-news-sm\n",
            "Successfully installed es-core-news-sm-3.8.0\n",
            "\u001b[38;5;2m✔ Download and installation successful\u001b[0m\n",
            "You can now load the package via spacy.load('es_core_news_sm')\n",
            "\u001b[38;5;3m⚠ Restart to reload dependencies\u001b[0m\n",
            "If you are in a Jupyter or Colab notebook, you may need to restart Python in\n",
            "order to load all the package's dependencies. You can do this by selecting the\n",
            "'Restart kernel' or 'Restart runtime' option.\n"
          ]
        }
      ],
      "source": [
        "!python -m spacy download es_core_news_sm"
      ]
    },
    {
      "cell_type": "code",
      "execution_count": 5,
      "id": "92f34e45",
      "metadata": {
        "colab": {
          "base_uri": "https://localhost:8080/"
        },
        "id": "92f34e45",
        "outputId": "50e6081b-0b1e-42cd-cbcf-4f45c9b76530"
      },
      "outputs": [
        {
          "output_type": "stream",
          "name": "stderr",
          "text": [
            "[nltk_data] Downloading package stopwords to /root/nltk_data...\n",
            "[nltk_data]   Unzipping corpora/stopwords.zip.\n"
          ]
        }
      ],
      "source": [
        "# cargamos librerias\n",
        "import pandas as pd\n",
        "import numpy as np\n",
        "import os\n",
        "\n",
        "import re\n",
        "from spellchecker import SpellChecker\n",
        "import unicodedata\n",
        "\n",
        "import spacy\n",
        "from spacy.language import Language\n",
        "\n",
        "import string\n",
        "import nltk\n",
        "nltk.download('stopwords')\n",
        "from nltk.corpus import stopwords"
      ]
    },
    {
      "cell_type": "code",
      "execution_count": 6,
      "id": "bd2d85a4",
      "metadata": {
        "id": "bd2d85a4"
      },
      "outputs": [],
      "source": [
        "url = 'https://raw.githubusercontent.com/sebastian23escobar/Aprendizaje_no_supervisado/refs/heads/main/Taller3/data/blog_casciari.csv'"
      ]
    },
    {
      "cell_type": "code",
      "execution_count": 7,
      "id": "6a80e443",
      "metadata": {
        "colab": {
          "base_uri": "https://localhost:8080/",
          "height": 363
        },
        "id": "6a80e443",
        "outputId": "4a4986bd-76db-485e-a77d-ca3c1abfb8dd"
      },
      "outputs": [
        {
          "output_type": "execute_result",
          "data": {
            "text/plain": [
              "                                      titulo    fecha  \\\n",
              "0                           El rincón blanco  1/11/08   \n",
              "1                 Mínimos avances en la cama  1/24/08   \n",
              "2                                 Don Marcos  2/19/08   \n",
              "3                             Los dos rulfos  3/26/08   \n",
              "4                  La noticia no es el perro  4/15/08   \n",
              "5                  El milagro de los pueblos  4/22/08   \n",
              "6                                 Ropa sucia   5/6/08   \n",
              "7  La Última Gran Guerra del Hombre Chiquito  5/13/08   \n",
              "8  Instrucciones para crear mundos paralelos  5/20/08   \n",
              "9                           Una década flaca  5/27/08   \n",
              "\n",
              "                                              cuento  \n",
              "0  De pronto yo estaba en el hogar donde pasé la ...  \n",
              "1  Menos la cama, todo ha mejorado en este mundo....  \n",
              "2  Dos veces, y no una, mi abuelo materno me ayud...  \n",
              "3  A su regreso de México, mi amigo Comequechu no...  \n",
              "4  De repente, un video de You Tube recibe un mil...  \n",
              "5  Cuando nació la Nina no tuve ganas de escribir...  \n",
              "6  Ya de entrada caí mal parado. Vine al mundo ju...  \n",
              "7  Años atrás mi tataranieto Woung comenzó a envi...  \n",
              "8  Descubrimos el truco por casualidad, en nuestr...  \n",
              "9  Una tarde de 1990 fui a tomar la leche a la ca...  "
            ],
            "text/html": [
              "\n",
              "  <div id=\"df-d99aa1e8-575e-4ba0-bc9e-7e14e6576595\" class=\"colab-df-container\">\n",
              "    <div>\n",
              "<style scoped>\n",
              "    .dataframe tbody tr th:only-of-type {\n",
              "        vertical-align: middle;\n",
              "    }\n",
              "\n",
              "    .dataframe tbody tr th {\n",
              "        vertical-align: top;\n",
              "    }\n",
              "\n",
              "    .dataframe thead th {\n",
              "        text-align: right;\n",
              "    }\n",
              "</style>\n",
              "<table border=\"1\" class=\"dataframe\">\n",
              "  <thead>\n",
              "    <tr style=\"text-align: right;\">\n",
              "      <th></th>\n",
              "      <th>titulo</th>\n",
              "      <th>fecha</th>\n",
              "      <th>cuento</th>\n",
              "    </tr>\n",
              "  </thead>\n",
              "  <tbody>\n",
              "    <tr>\n",
              "      <th>0</th>\n",
              "      <td>El rincón blanco</td>\n",
              "      <td>1/11/08</td>\n",
              "      <td>De pronto yo estaba en el hogar donde pasé la ...</td>\n",
              "    </tr>\n",
              "    <tr>\n",
              "      <th>1</th>\n",
              "      <td>Mínimos avances en la cama</td>\n",
              "      <td>1/24/08</td>\n",
              "      <td>Menos la cama, todo ha mejorado en este mundo....</td>\n",
              "    </tr>\n",
              "    <tr>\n",
              "      <th>2</th>\n",
              "      <td>Don Marcos</td>\n",
              "      <td>2/19/08</td>\n",
              "      <td>Dos veces, y no una, mi abuelo materno me ayud...</td>\n",
              "    </tr>\n",
              "    <tr>\n",
              "      <th>3</th>\n",
              "      <td>Los dos rulfos</td>\n",
              "      <td>3/26/08</td>\n",
              "      <td>A su regreso de México, mi amigo Comequechu no...</td>\n",
              "    </tr>\n",
              "    <tr>\n",
              "      <th>4</th>\n",
              "      <td>La noticia no es el perro</td>\n",
              "      <td>4/15/08</td>\n",
              "      <td>De repente, un video de You Tube recibe un mil...</td>\n",
              "    </tr>\n",
              "    <tr>\n",
              "      <th>5</th>\n",
              "      <td>El milagro de los pueblos</td>\n",
              "      <td>4/22/08</td>\n",
              "      <td>Cuando nació la Nina no tuve ganas de escribir...</td>\n",
              "    </tr>\n",
              "    <tr>\n",
              "      <th>6</th>\n",
              "      <td>Ropa sucia</td>\n",
              "      <td>5/6/08</td>\n",
              "      <td>Ya de entrada caí mal parado. Vine al mundo ju...</td>\n",
              "    </tr>\n",
              "    <tr>\n",
              "      <th>7</th>\n",
              "      <td>La Última Gran Guerra del Hombre Chiquito</td>\n",
              "      <td>5/13/08</td>\n",
              "      <td>Años atrás mi tataranieto Woung comenzó a envi...</td>\n",
              "    </tr>\n",
              "    <tr>\n",
              "      <th>8</th>\n",
              "      <td>Instrucciones para crear mundos paralelos</td>\n",
              "      <td>5/20/08</td>\n",
              "      <td>Descubrimos el truco por casualidad, en nuestr...</td>\n",
              "    </tr>\n",
              "    <tr>\n",
              "      <th>9</th>\n",
              "      <td>Una década flaca</td>\n",
              "      <td>5/27/08</td>\n",
              "      <td>Una tarde de 1990 fui a tomar la leche a la ca...</td>\n",
              "    </tr>\n",
              "  </tbody>\n",
              "</table>\n",
              "</div>\n",
              "    <div class=\"colab-df-buttons\">\n",
              "\n",
              "  <div class=\"colab-df-container\">\n",
              "    <button class=\"colab-df-convert\" onclick=\"convertToInteractive('df-d99aa1e8-575e-4ba0-bc9e-7e14e6576595')\"\n",
              "            title=\"Convert this dataframe to an interactive table.\"\n",
              "            style=\"display:none;\">\n",
              "\n",
              "  <svg xmlns=\"http://www.w3.org/2000/svg\" height=\"24px\" viewBox=\"0 -960 960 960\">\n",
              "    <path d=\"M120-120v-720h720v720H120Zm60-500h600v-160H180v160Zm220 220h160v-160H400v160Zm0 220h160v-160H400v160ZM180-400h160v-160H180v160Zm440 0h160v-160H620v160ZM180-180h160v-160H180v160Zm440 0h160v-160H620v160Z\"/>\n",
              "  </svg>\n",
              "    </button>\n",
              "\n",
              "  <style>\n",
              "    .colab-df-container {\n",
              "      display:flex;\n",
              "      gap: 12px;\n",
              "    }\n",
              "\n",
              "    .colab-df-convert {\n",
              "      background-color: #E8F0FE;\n",
              "      border: none;\n",
              "      border-radius: 50%;\n",
              "      cursor: pointer;\n",
              "      display: none;\n",
              "      fill: #1967D2;\n",
              "      height: 32px;\n",
              "      padding: 0 0 0 0;\n",
              "      width: 32px;\n",
              "    }\n",
              "\n",
              "    .colab-df-convert:hover {\n",
              "      background-color: #E2EBFA;\n",
              "      box-shadow: 0px 1px 2px rgba(60, 64, 67, 0.3), 0px 1px 3px 1px rgba(60, 64, 67, 0.15);\n",
              "      fill: #174EA6;\n",
              "    }\n",
              "\n",
              "    .colab-df-buttons div {\n",
              "      margin-bottom: 4px;\n",
              "    }\n",
              "\n",
              "    [theme=dark] .colab-df-convert {\n",
              "      background-color: #3B4455;\n",
              "      fill: #D2E3FC;\n",
              "    }\n",
              "\n",
              "    [theme=dark] .colab-df-convert:hover {\n",
              "      background-color: #434B5C;\n",
              "      box-shadow: 0px 1px 3px 1px rgba(0, 0, 0, 0.15);\n",
              "      filter: drop-shadow(0px 1px 2px rgba(0, 0, 0, 0.3));\n",
              "      fill: #FFFFFF;\n",
              "    }\n",
              "  </style>\n",
              "\n",
              "    <script>\n",
              "      const buttonEl =\n",
              "        document.querySelector('#df-d99aa1e8-575e-4ba0-bc9e-7e14e6576595 button.colab-df-convert');\n",
              "      buttonEl.style.display =\n",
              "        google.colab.kernel.accessAllowed ? 'block' : 'none';\n",
              "\n",
              "      async function convertToInteractive(key) {\n",
              "        const element = document.querySelector('#df-d99aa1e8-575e-4ba0-bc9e-7e14e6576595');\n",
              "        const dataTable =\n",
              "          await google.colab.kernel.invokeFunction('convertToInteractive',\n",
              "                                                    [key], {});\n",
              "        if (!dataTable) return;\n",
              "\n",
              "        const docLinkHtml = 'Like what you see? Visit the ' +\n",
              "          '<a target=\"_blank\" href=https://colab.research.google.com/notebooks/data_table.ipynb>data table notebook</a>'\n",
              "          + ' to learn more about interactive tables.';\n",
              "        element.innerHTML = '';\n",
              "        dataTable['output_type'] = 'display_data';\n",
              "        await google.colab.output.renderOutput(dataTable, element);\n",
              "        const docLink = document.createElement('div');\n",
              "        docLink.innerHTML = docLinkHtml;\n",
              "        element.appendChild(docLink);\n",
              "      }\n",
              "    </script>\n",
              "  </div>\n",
              "\n",
              "\n",
              "    <div id=\"df-1e301cbe-c973-4482-b270-1f02a20719be\">\n",
              "      <button class=\"colab-df-quickchart\" onclick=\"quickchart('df-1e301cbe-c973-4482-b270-1f02a20719be')\"\n",
              "                title=\"Suggest charts\"\n",
              "                style=\"display:none;\">\n",
              "\n",
              "<svg xmlns=\"http://www.w3.org/2000/svg\" height=\"24px\"viewBox=\"0 0 24 24\"\n",
              "     width=\"24px\">\n",
              "    <g>\n",
              "        <path d=\"M19 3H5c-1.1 0-2 .9-2 2v14c0 1.1.9 2 2 2h14c1.1 0 2-.9 2-2V5c0-1.1-.9-2-2-2zM9 17H7v-7h2v7zm4 0h-2V7h2v10zm4 0h-2v-4h2v4z\"/>\n",
              "    </g>\n",
              "</svg>\n",
              "      </button>\n",
              "\n",
              "<style>\n",
              "  .colab-df-quickchart {\n",
              "      --bg-color: #E8F0FE;\n",
              "      --fill-color: #1967D2;\n",
              "      --hover-bg-color: #E2EBFA;\n",
              "      --hover-fill-color: #174EA6;\n",
              "      --disabled-fill-color: #AAA;\n",
              "      --disabled-bg-color: #DDD;\n",
              "  }\n",
              "\n",
              "  [theme=dark] .colab-df-quickchart {\n",
              "      --bg-color: #3B4455;\n",
              "      --fill-color: #D2E3FC;\n",
              "      --hover-bg-color: #434B5C;\n",
              "      --hover-fill-color: #FFFFFF;\n",
              "      --disabled-bg-color: #3B4455;\n",
              "      --disabled-fill-color: #666;\n",
              "  }\n",
              "\n",
              "  .colab-df-quickchart {\n",
              "    background-color: var(--bg-color);\n",
              "    border: none;\n",
              "    border-radius: 50%;\n",
              "    cursor: pointer;\n",
              "    display: none;\n",
              "    fill: var(--fill-color);\n",
              "    height: 32px;\n",
              "    padding: 0;\n",
              "    width: 32px;\n",
              "  }\n",
              "\n",
              "  .colab-df-quickchart:hover {\n",
              "    background-color: var(--hover-bg-color);\n",
              "    box-shadow: 0 1px 2px rgba(60, 64, 67, 0.3), 0 1px 3px 1px rgba(60, 64, 67, 0.15);\n",
              "    fill: var(--button-hover-fill-color);\n",
              "  }\n",
              "\n",
              "  .colab-df-quickchart-complete:disabled,\n",
              "  .colab-df-quickchart-complete:disabled:hover {\n",
              "    background-color: var(--disabled-bg-color);\n",
              "    fill: var(--disabled-fill-color);\n",
              "    box-shadow: none;\n",
              "  }\n",
              "\n",
              "  .colab-df-spinner {\n",
              "    border: 2px solid var(--fill-color);\n",
              "    border-color: transparent;\n",
              "    border-bottom-color: var(--fill-color);\n",
              "    animation:\n",
              "      spin 1s steps(1) infinite;\n",
              "  }\n",
              "\n",
              "  @keyframes spin {\n",
              "    0% {\n",
              "      border-color: transparent;\n",
              "      border-bottom-color: var(--fill-color);\n",
              "      border-left-color: var(--fill-color);\n",
              "    }\n",
              "    20% {\n",
              "      border-color: transparent;\n",
              "      border-left-color: var(--fill-color);\n",
              "      border-top-color: var(--fill-color);\n",
              "    }\n",
              "    30% {\n",
              "      border-color: transparent;\n",
              "      border-left-color: var(--fill-color);\n",
              "      border-top-color: var(--fill-color);\n",
              "      border-right-color: var(--fill-color);\n",
              "    }\n",
              "    40% {\n",
              "      border-color: transparent;\n",
              "      border-right-color: var(--fill-color);\n",
              "      border-top-color: var(--fill-color);\n",
              "    }\n",
              "    60% {\n",
              "      border-color: transparent;\n",
              "      border-right-color: var(--fill-color);\n",
              "    }\n",
              "    80% {\n",
              "      border-color: transparent;\n",
              "      border-right-color: var(--fill-color);\n",
              "      border-bottom-color: var(--fill-color);\n",
              "    }\n",
              "    90% {\n",
              "      border-color: transparent;\n",
              "      border-bottom-color: var(--fill-color);\n",
              "    }\n",
              "  }\n",
              "</style>\n",
              "\n",
              "      <script>\n",
              "        async function quickchart(key) {\n",
              "          const quickchartButtonEl =\n",
              "            document.querySelector('#' + key + ' button');\n",
              "          quickchartButtonEl.disabled = true;  // To prevent multiple clicks.\n",
              "          quickchartButtonEl.classList.add('colab-df-spinner');\n",
              "          try {\n",
              "            const charts = await google.colab.kernel.invokeFunction(\n",
              "                'suggestCharts', [key], {});\n",
              "          } catch (error) {\n",
              "            console.error('Error during call to suggestCharts:', error);\n",
              "          }\n",
              "          quickchartButtonEl.classList.remove('colab-df-spinner');\n",
              "          quickchartButtonEl.classList.add('colab-df-quickchart-complete');\n",
              "        }\n",
              "        (() => {\n",
              "          let quickchartButtonEl =\n",
              "            document.querySelector('#df-1e301cbe-c973-4482-b270-1f02a20719be button');\n",
              "          quickchartButtonEl.style.display =\n",
              "            google.colab.kernel.accessAllowed ? 'block' : 'none';\n",
              "        })();\n",
              "      </script>\n",
              "    </div>\n",
              "\n",
              "    </div>\n",
              "  </div>\n"
            ],
            "application/vnd.google.colaboratory.intrinsic+json": {
              "type": "dataframe",
              "variable_name": "blog",
              "summary": "{\n  \"name\": \"blog\",\n  \"rows\": 520,\n  \"fields\": [\n    {\n      \"column\": \"titulo\",\n      \"properties\": {\n        \"dtype\": \"string\",\n        \"num_unique_values\": 520,\n        \"samples\": [\n          \"Vacaciones y luna de miel\",\n          \"La guerra para los ni\\u00f1os\",\n          \"Ropa sucia\"\n        ],\n        \"semantic_type\": \"\",\n        \"description\": \"\"\n      }\n    },\n    {\n      \"column\": \"fecha\",\n      \"properties\": {\n        \"dtype\": \"object\",\n        \"num_unique_values\": 499,\n        \"samples\": [\n          \"3/23/07\",\n          \"10/18/09\",\n          \"1/12/04\"\n        ],\n        \"semantic_type\": \"\",\n        \"description\": \"\"\n      }\n    },\n    {\n      \"column\": \"cuento\",\n      \"properties\": {\n        \"dtype\": \"string\",\n        \"num_unique_values\": 520,\n        \"samples\": [\n          \"Ayer en la sobremesa el Nacho y la Luch\\u00eda nos dijeron que no pensaban casarse, que no les hac\\u00eda falta, y yo me sorprend\\u00ed de m\\u00ed misma cuando les dije \\u00abme parece bien\\u00bb. Siempre sospech\\u00e9 que estaba en contra de que la gente se junte, sin papeles, pero a esta altura de la vida me importa un pepino, mientras el nene sea feliz.\\n\\u2014La \\u00fanica desventaja de no casarse \\u2014dijo la Luch\\u00eda\\u2014 es que nos perdemos la luna de miel.\\nY creo que as\\u00ed sali\\u00f3 el tema. La Sofi me pregunt\\u00f3 entonces ad\\u00f3nde nos hab\\u00edamos ido nosotros, el Zacar\\u00edas y yo, de luna de miel. El Caio tambi\\u00e9n quiso saberlo. Y el Nacho nos miraba con curiosidad.\\n\\u2014A ninguna parte \\u2014dije yo, avergonzada\\u2014. En esa \\u00e9poca junt\\u00e1bamos pesito por pesito para comprar la casa vieja.\\nMe da no s\\u00e9 qu\\u00e9 hablar del tema, porque el Zacar\\u00edas siempre se sinti\\u00f3 culpable de no haberme podido llevar de luna de miel. El Caio, sin querer, puso el dedo en la llaga:\\n\\u2014Qu\\u00e9 raro vos, viejo \\u2014ironiz\\u00f3\\u2014, con lo que te gusta darle los gustos a mam\\u00e1.\\nEl Zacar\\u00edas tiene esa fama en casa, pobre. Fama de marido poco atento. Generalmente no se acuerda de los aniversarios, ni de mi cumplea\\u00f1os, ni de casi nada que tenga que ver conmigo. Yo s\\u00e9 que en el fondo es t\\u00edmido, y que se siente medio maric\\u00f3n cuando tiene que demostrar sus sentimientos. Pero se gan\\u00f3 la fama, y lo sabe.\\n\\u2014La luna de miel en esa \\u00e9poca era cosa de ricos \\u2014se defendi\\u00f3 Zacar\\u00edas\\u2014, y adem\\u00e1s la Mirta estuvo de acuerdo.\\nEl tema cambi\\u00f3 enseguida, empezamos a hablar de otras cosas y un poco m\\u00e1s tarde nos fuimos a hacer la siesta. Pero yo creo que todo empez\\u00f3 ah\\u00ed, en esa conversaci\\u00f3n. Hace un rato, antes de acostarnos, el Zaca me dice:\\n\\u2014Si quer\\u00e9s vamos.\\n\\u2014\\u00bfAd\\u00f3nde? \\u2014le digo, sorprendida de verlo ruborizado.\\n\\u2014A la luna de miel esa \\u2014me dice, sin mirarme a los ojos\\u2014. Te la debo.\\nCasi me desmayo; casi lloro.\\nEs la primera vez en muchos a\\u00f1os que este hombre me propone algo que tiene que ver con una actividad conjunta. Pero en vez de desmayarme o llorar, sonre\\u00ed:\\n\\u2014\\u00bfEst\\u00e1s borracho vos? \\u2014le digo\\u2014. \\u00bfO est\\u00e1s hablando en serio? Mir\\u00e1 que agarro viaje y no te pod\\u00e9s volver atr\\u00e1s...\\n\\u2014Te digo en serio... Si quer\\u00e9s, les pedimos la combi a los chicos y nos vamos. Adonde vos quieras. \\u00bfCu\\u00e1nto hace que no estamos solos: veinte a\\u00f1os? \\u2014y despu\\u00e9s de tomar aire, va y me insiste\\u2014: \\u00bfQu\\u00e9 dec\\u00eds, gorda?\\n\\u2014\\u00a1Que vamos digo, claro que vamos! \\u2014y lo abrazo fuerte\\u2014. Te hace bien el aire del Sur a vos.\\n\\u2014Una sola condici\\u00f3n \\u2014me dice, muy serio, levantando el dedito\\u2014. Vos y yo, nada m\\u00e1s.\\n\\u2014\\u00a1Claro! No vamos a llevar a tu pap\\u00e1, me imagino.\\n\\u2014Vos y yo quiere decir otra cosa \\u2014me dice\\u2014. Quiero decir solos, sin que tengas que salir disparando una vez por d\\u00eda a escribirle a todo el mundo si te tiraste un pedo. \\u00bfMe entend\\u00e9s?\\nAhora la que se queda seria soy yo.\\n\\u2014\\u00bfSin mi cuadernito?\\n\\u2014Si nos vamos de luna de miel, quiero irme con vos, no con un personaje gracioso. Vos no te das cuenta, gorda, pero hace cinco meses que cada vez que abro la boca tengo miedo de salir en tu cuadernito y que un mont\\u00f3n de gente que no conozco se r\\u00eda de m\\u00ed.\\nSerio me hablaba. Muy serio. Y yo asent\\u00eda.\\n\\u2014Si vos quer\\u00e9s \\u2014me dice, agarr\\u00e1ndome de la mano\\u2014, nos olvidamos un tiempo de los chicos, de la pizzer\\u00eda y de todo. Y estamos vos y yo, en alguna parte, desconectados. \\u00bfVos sos capaz de desconectarte unos d\\u00edas por m\\u00ed?\\nEmocionada como una adolescente, le di la respuesta al Zacar\\u00edas sin dudarlo ni un segundo.\\nHern\\u00e1n Casciari\\n26 febrero, 2004\",\n          \"A ra\\u00edz de una espantosa confusi\\u00f3n (que involucra un casete de chistes verdes de Jorge Corona colocado en el sitio incorrecto) mi hija de cinco a\\u00f1os cree que el vocablo \\u00abguerra\\u00bb es una mala palabra. \\nDesde entonces se interesa mucho por el asunto, crey\\u00e9ndolo clandestino. Cuando se siente rebelde, va por la calle gritando caca, culo, guerra, pis, etc\\u00e9tera, y, por supuesto, pone atenci\\u00f3n a los noticieros cuando enfocan Medio Oriente. Si me pregunta sobre la guerra, yo le explico lo b\\u00e1sico: que es una pelea entre pueblos, que se llega a ese punto cuando es inevitable otra soluci\\u00f3n, que nadie gana, que mueren muchos inocentes, y otro mont\\u00f3n de t\\u00f3picos que se me ocurren en el momento. Es complicad\\u00edsimo explicarle esas cuestiones a una criatura: preferir\\u00eda mil veces que se interesara por el sexo o los logaritmos, que son otros dos asuntos de los que entiendo poco. Pero no: mi hija siente curiosidad por la guerra. Esta semana result\\u00f3 especialmente ardua porque Estados Unidos y Rusia firmaron un tratado de paz en Praga; la noticia apareci\\u00f3 en la televisi\\u00f3n todo el d\\u00eda y me dej\\u00f3 sin argumentos para mi hija. Ella, como es l\\u00f3gico, me hizo muchas preguntas al respecto. Y no supe responder ninguna con certeza. Le dije que Estados Unidos prometi\\u00f3 a varios pa\\u00edses peligrosos que, si se deshacen de su armamento nuclear, les ofrece una oferta incre\\u00edble. La oferta es la siguiente: si un d\\u00eda estos pa\\u00edses peligrosos atacan a Estados Unidos con armas convencionales, ellos, Estados Unidos, responder\\u00e1n el ataque con armas convencionales. Entendi\\u00f3 poco mi hija. La verdad, yo tambi\\u00e9n. \\u00bfNo es la guerra un conflicto en el que, a causa de la ira, vale todo? \\u00bfNo es la guerra, en realidad, el s\\u00edntoma final de la iracundia, de la exasperaci\\u00f3n y de la necedad? Me resulta extra\\u00f1o que dos potenciales combatientes (dos ideas irreconciliables, dos mundos distintos) se sienten a definir el estatuto futuro de la barbarie. Un presidente le estira una birome a otro presidente y le dice: \\u00abSi ustedes eliminan las armas nucleares y despu\\u00e9s nos atacan con armas qu\\u00edmicas, nosotros prometemos responder solamente con ojivas teledirigidas\\u00bb. Y el otro firma el papel, se dan la mano, y sale cada uno para su pa\\u00eds, a festejar la firma del nuevo reglamento. Y despu\\u00e9s los periodistas informan que se ha efectuado un tratado de paz, o una componenda sobre el desarme. \\u00a1Es complicado explicarle eso a una hija peque\\u00f1a, sobre todo cuando antes se le ha dicho que la guerra es un instante de desenfreno y de calentura! \\u00bfD\\u00f3nde est\\u00e1 la incontinencia, si los protagonistas del conflicto pactan el n\\u00famero l\\u00edmite de ojivas que pueden poner en sus fronteras? \\u00bfD\\u00f3nde la desesperaci\\u00f3n, si los actores de la guerra usan frases como \\u00aben caso de violarse ese balance en detrimento de un pa\\u00eds, este estar\\u00e1 en el derecho de abandonar el proceso de desarme\\u00bb? \\u00a1Parece una tarjeta del TEG, parece que estuvieran jugando! No. No s\\u00e9 explicarle la guerra a mi hija. Pero encontr\\u00e9, esta semana, un modo de explicarle la paz. Ojal\\u00e1 a ustedes les sirva tambi\\u00e9n para sus hijos peque\\u00f1os. Es as\\u00ed: \\u2018Paz\\u2019, femenino, d\\u00edcese de los quince minutos de descanso en donde los enemigos ajustan los detalles para el pr\\u00f3ximo conflicto. \\nHern\\u00e1n Casciari\\n11 abril, 2010\",\n          \"Ya de entrada ca\\u00ed mal parado. Vine al mundo justo el a\\u00f1o en que todos \\u00e9ramos m\\u00e1s pobres que de costumbre, cuando hasta los ricos y los catinga estaban tambi\\u00e9n con hambre. A esa \\u00e9poca despu\\u00e9s la iban a bautizar como el tiempo del quita y pon. Nac\\u00ed justo el a\\u00f1o que el Gobierno mantuvo a la gente ocupada con el azad\\u00f3n para evitar los alborotos. Todos hac\\u00edan trabajo in\\u00fatil: los cabeza de familia, sus mujeres, y los hijos de ocho en adelante. Yo no hac\\u00eda esos trabajos porque estaba reci\\u00e9n nacido.\\nMi pap\\u00e1 y mis hermanos grandes, junto con otra mucha gente, sal\\u00edan por la ma\\u00f1ana a poner baldosones de pasto en la plaza: le pagaban a cada uno cien sanmartines la media jornada. Cien sanmartines era el pan del d\\u00eda, o quince bamb\\u00fa sin filtro. Por la tarde, las mujeres y los cr\\u00edos estaban empleados para quitar de la plaza el pasto que hab\\u00edan puesto los hombres; deb\\u00edan echarlos en los canastos, a cincuenta sanmartines por tarde. Eran los mismos terrones manoseados que la otra mitad del pueblo colocar\\u00eda de nuevo desde el d\\u00eda siguiente. As\\u00ed una y otra vez.\\nEl hermano que ven\\u00eda antes que yo iba a llamarse Graci\\u00e1n Gal\\u00edndez, porque ya estaba planeado que llegase un 12 de agosto, que es san Graci\\u00e1n; pero naci\\u00f3 muerto. Entonces me pusieron a m\\u00ed el nombre, aunque nac\\u00ed el 3 de noviembre del otro a\\u00f1o, y deb\\u00ed de haberme llamado Galindo Gal\\u00edndez, que es mucho m\\u00e1s sonoro. De todas maneras, Graci\\u00e1n o Galindo, el destino ya quer\\u00eda que todos me conocieran como el Rengo, por el problema que tengo en el tal\\u00f3n.\\nEsa \\u00e9poca de los terrones de pasto dur\\u00f3 un a\\u00f1o largo. El Gobierno no quer\\u00eda dar subsidios ni entregar los puros alimentos b\\u00e1sicos porque tem\\u00eda que los m\\u00e1s pobres, sin trabajo fijo ni actividad del cuerpo, se dieran al vino o a la insurrecci\\u00f3n. Por eso se crearon aquellos oficios de quita y pon, que as\\u00ed se llamaron, y que dieron que hablar mucho en la \\u00e9poca que nac\\u00ed.\\nMi mam\\u00e1 quiso que al menos dos de sus muchos hijos supieran leer y escribir, y ni el toto sabe los esfuerzos que hizo para mandarnos a clases, a la Eugenia y a m\\u00ed. Su sacrificio no fue de dinero, puesto que la educaci\\u00f3n todav\\u00eda era liberada, sino porque nosotros nos escond\\u00edamos para escaparle a la milonga de la escuela. Yo no s\\u00e9 por qu\\u00e9 mi hermana fue tan retobada para ir a clases; mi desapego era a causa de las bromas de los otros. Eso de Rengo Gal\\u00edndez me lo pusieron all\\u00ed, y tuvieron que pasar muchos a\\u00f1os, y una peste, para que me sonara afectuoso.\\nA la Eugenia le llev\\u00e9 siempre un a\\u00f1o de vida, pero en cambio nunca la alcanc\\u00e9 de camino a la escuela. Un poco por mi tranco cachuzo, pero m\\u00e1s que nada porque ella apuraba el trote para que no la vieran llegar conmigo de lastre. Era murraca, como todos nosotros, pero hab\\u00eda salido bonita, de los ojos sobre todo. Mam\\u00e1 la mandaba a clases con aguanube en las trenzas, para que se levantaran las puntas. Para esas \\u00e9pocas nos llegaban del puerto las historietas extranjeras, y hab\\u00eda unos dibujos de mujer que me hac\\u00edan recordar lo larga y lo ligera que era la Eugenia, por lo menos hasta que se le form\\u00f3 el cuerpo y le maduraron las perubas; ah\\u00ed fue cuando empezaron todas nuestras desgracias.\\nPero antes de eso se nos vino encima el tifus. Como \\u00e9ramos muy cachorros y no respet\\u00e1bamos nada, al mal le empezamos a decir morir del barco, porque hab\\u00edamos o\\u00eddo que la enfermedad hab\\u00eda llegado desde la bodega de un carguero. No hubo clases durante muchos meses, ni agua limpia, ni sitio donde poner tantos muertos.\\nUn d\\u00eda se temi\\u00f3 que pudi\\u00e9ramos contagiar a otros pueblos con los vahos de los cad\\u00e1veres que esperaban su entierro, y vino en tren un obispo con mascarilla a convencernos de que no era pecado, en esos casos, incinerar los cuerpos en lugar de darles sepultura cristiana; y donde hab\\u00eda sido la plaza del quita y pon se construyeron las piras, que todav\\u00eda est\\u00e1n. Por eso es que a muchos nos queda el adem\\u00e1n de santiguarnos cuando pasamos frente al humo de las f\\u00e1bricas.\\nLo del tifus fue largo y malo, pero no hubo escuela por mucho tiempo. El mal del barco mengu\\u00f3 nuestra familia en poco m\\u00e1s de un mes y cuando se fue el olor a cueco muerto \\u00e9ramos la mitad. Perdimos dos hermanos mayores, dos peque\\u00f1os, la estufa a le\\u00f1a y al pap\\u00e1 de todos nosotros. Cuando acab\\u00f3 la peste, casi que tuvimos un catre para cada qui\\u00e9n, en casa. No sab\\u00edamos qu\\u00e9 hacer con tanto espacio.\\nA esas alturas yo qued\\u00e9 el mayor, al cuidado del Ulises y del Jes\\u00fas. Mam\\u00e1 sali\\u00f3 sana del cuerpo pero desvariando de dolor, y tambi\\u00e9n hubo que asistirla. Lo hac\\u00edamos entre la Eugenia y yo, por lo menos hasta que el diablo se nos meti\\u00f3 en el cuerpo y ya ni siquiera pensamos en nuestra madre. Pero lo del diablo fue m\\u00e1s luego.\\nDespu\\u00e9s de que se fuera el mal del barco ocurri\\u00f3 tambi\\u00e9n otra desgracia: abrieron la escuela. Intent\\u00e1bamos recuperar el ritmo del abecedario, pero en los ojos de todos todav\\u00eda campeaba la muerte, y las piras de la plaza segu\\u00edan echando humo. En el aula nos encontramos con mucho sitio de m\\u00e1s y ya no me importaba ser el Rengo Gal\\u00edndez, ni la Eugenia corr\\u00eda para despegarse de m\\u00ed. El mal del barco nos hab\\u00eda disminuido de n\\u00famero y de fuerzas, y los pocos que qued\\u00e1bamos en el pueblo nos fuimos acocochando como zarugos alrededor de un fuego.\\nMuchos hijos acabaron solos y hu\\u00e9rfanos, y los que a\\u00fan conservaban techo y algo que comer decidieron quedarse cristianamente con algunos. Mam\\u00e1 fue una, y entonces vinieron a la casa dos muchachos de las edades del Ulises, que eran hijos de una familia que hab\\u00eda muerto entera. Cuando llegaron los hu\\u00e9rfanos, yo deb\\u00ed volver a compartir la manta con Eugenia para dejarles sitio a los adoptivos.\\nLa primera noche supimos que el mal del barco y todas las muertes nos hab\\u00edan alterado la sangre, y anduvimos un mes como marmotas; nos dorm\\u00edamos sentados, no prest\\u00e1bamos atenci\\u00f3n al maestro, y todo porque las madrugadas las pas\\u00e1bamos en vela, tocando el cuerpo del otro, sorbiendo el aire por la boca y movi\\u00e9ndonos de a cachito, para no despertar a mam\\u00e1 ni revolver la conciencia de estar pecando.\\nPor temor a las secuelas del tifus nadie nos quiso comprar la cosecha, y comimos papalla hasta reventar. Los b\\u00e1sicos, como el pan y la leche, fueron lujos que debimos dejar para el sustento de los m\\u00e1s peque\\u00f1os. Sab\\u00edamos que con el verano llegar\\u00eda la desgracia anual de la inundaci\\u00f3n, pero esta vez las aguas traer\\u00edan suerte. Nos hab\\u00edan dicho que la fuerza del r\\u00edo se llevar\\u00eda los posibles rastros vivos de la peste, y que otra vez los pueblos cercanos nos comprar\\u00edan la papalla. Y entonces nos sentamos a esperar la tragedia del agua con ilusi\\u00f3n.\\nEra broma frecuente en los poblad\\u00edos decir que era tanta nuestra mala estrella que, por \\u00fanica vez en setenta a\\u00f1os, la inundaci\\u00f3n nos pasar\\u00eda por al lado sin mojarnos. Pero el agua lleg\\u00f3, y recibimos la primera tormenta del verano como si fuera el Gobernador. Fue en enero, como siempre, y aprendimos a asar pringones venenosos y culebras. Todos los a\\u00f1os nos prepar\\u00e1bamos para la crecida pero esta vez, por culpa del mal del barco, no ten\\u00edamos nada en las despensas. El Gobierno contrat\\u00f3 unas capiraguas azules con altavoces para indicarnos c\\u00f3mo hervir y cocer lo que un a\\u00f1o atr\\u00e1s nos ense\\u00f1aban a fumigar y repeler. Daba un poco de risa, porque a las alima\\u00f1as del r\\u00edo las llamaban alimentos emergentes. Fue el mes m\\u00e1s duro de todos, en el pueblo, pero una ma\\u00f1ana bajaron las aguas y volvimos a habitar la casa.\\nDurante el temporal que precedi\\u00f3 a la bajante hab\\u00edamos perdido al Jes\\u00fas y a uno de los hu\\u00e9rfanos adoptados. Los cuerpos de las dos criaturas fueron encontrados en la c\\u00fapula de la parroquia. Despu\\u00e9s se supo que el Jes\\u00fas, con sus seis a\\u00f1os cumplidos, se hab\\u00eda lanzado a la corriente para socorrer a su hermanastro. Nos lo dijo Venancio, que lo vio todo. Jes\\u00fas pudo alcanzar al hu\\u00e9rfano cerca del campanario y los dos quedaron trabados en las agujas del reloj, que se hab\\u00edan parado en las siete y diez. Entonces el agua subi\\u00f3 todav\\u00eda m\\u00e1s y se ahogaron sin poder salir a la superficie. Cuando el r\\u00edo baj\\u00f3, encontramos los dos cuerpos colgando de las agujas: mi hermano marcaba la hora y el hu\\u00e9rfano los minutos. Como no hab\\u00eda mucha madera seca, los enterramos a los dos juntos.\\nCuando pudimos secarnos el agua y enterramos otra vez a nuestros muertos, en la casa ya s\\u00f3lo fuimos cinco, ahora s\\u00ed con un catre para cada qui\\u00e9n por primera vez en la vida. Pero la Eugenia y yo \\u00e9ramos dos imanes por las noches y segu\\u00edamos durmiendo juntos, conteniendo la respiraci\\u00f3n, calientes como dos caranchos y con el remordimiento en la piel.\\nPor eso, porque no se nos enfriaba la sangre, una semana despu\\u00e9s visit\\u00e9 la parroquia. Ya hab\\u00eda pasado el peligro en el pueblo y me habitaban otra vez los malos pensamientos con mi hermana. Fui directo a hablar con el padre Su\\u00e1rez. Pens\\u00e9 que confesarme de todos mis actos impuros, aunque Dios no me los pudiera perdonar, ser\\u00eda suficiente para no caer la noche siguiente en la tentaci\\u00f3n de la carne.\\nCuando llegu\\u00e9 al templo supe que la inundaci\\u00f3n hab\\u00eda sido buena s\\u00f3lo con algunas familias. Much\\u00edsima gente lo hab\\u00eda perdido todo, incluida la casa, y un pu\\u00f1ado no ten\\u00eda d\\u00f3nde caerse muerto. Las personas con mejor fortuna estaban en una campa\\u00f1a para darle a los sin techo parte de lo que el agua y la peste les hab\\u00eda quitado.\\nVi a muchas mujeres como mi madre, y a muchos hijos como mi hermanito el Jes\\u00fas, llorar abrazados y mirar el cielo, con miedo de que Dios les mandara otra vez la muerte o la crecida. Y entonces supe que mis penas eran nada al lado de las suyas, y en lugar de buscar al padre Su\\u00e1rez para limpiar mi esp\\u00edritu, volv\\u00ed a la casa, cargu\\u00e9 con mi colch\\u00f3n al hombro y se lo di a la parroquia. Si yo iba a seguir meti\\u00e9ndome de noche entre las cobijas de la Eugenia, que por lo menos mi pecado mortal le sirviese de bueno a alguno.\\nDesde entonces ya no nos importaba tocarnos cerca de mam\\u00e1. Para ella los golpes hab\\u00edan sido muchos. La pobrecita hab\\u00eda quedado viuda y con cinco hijos menos, aunque la muerte del Jes\\u00fas fue lo que le provoc\\u00f3 el desvar\\u00edo m\\u00e1s fuerte. Igual que el reloj de la iglesia, ella se detuvo en un tiempo fijo y sus d\\u00edas dejaron de pasar. De pronto empez\\u00f3 a andar por la casa con el pelo desbandado y nos obligaba a cocinar y a poner la mesa para nueve, como en los tiempos en que todos est\\u00e1bamos vivos.\\nLa siguiente cosecha fue la mejor en veinte a\\u00f1os. Pero en el fondo del coraz\\u00f3n segu\\u00edamos tristes. En esa \\u00e9poca cumpl\\u00ed los diecis\\u00e9is y el trabajo en la tierra, que me demandaba el esfuerzo de tres hombres, hab\\u00eda moldeado mi cuerpo y parec\\u00eda mayor. Pero segu\\u00eda con un pie m\\u00e1s corto que el otro, y eso muchas veces no me dejaba en paz.\\nDej\\u00e9 la escuela para poder sembrar y cosechar papalla jornada completa, pero Eugenia me ense\\u00f1aba lo fundamental de los libros cuando pod\\u00eda. Sin toda la carga de mis compa\\u00f1eros y sus burlas, aprend\\u00ed m\\u00e1s r\\u00e1pido que ellos y supe que no me faltaba el entendimiento. De noche mi hermana y yo dorm\\u00edamos juntos como un matrimonio, amparados en el delirio de mi madre y en la inocencia de los m\\u00e1s peque\\u00f1os.\\nEugenia nunca sinti\\u00f3 culpa por lo que hac\\u00edamos, y yo deb\\u00ed cargar con los remordimientos de los dos. Ella tambi\\u00e9n hab\\u00eda crecido de golpe. Si antes su mejor rasgo eran los ojos, ahora en el pueblo nadie se los miraba. Ni yo tampoco. Con un a\\u00f1o menos que yo, se hab\\u00eda convertido en una mujer alta como mi padre, y bien formada como mam\\u00e1 en sus tiempos. Ya no usaba trenzas: una tarde lleg\\u00f3 del r\\u00edo y se hab\\u00eda cortado el pelo hasta los hombros. A m\\u00ed aquello me gust\\u00f3 poco.\\nFue una \\u00e9poca feliz, pero corta. Tres meses antes del desastre final mam\\u00e1 dej\\u00f3 los desvar\\u00edos. Una tarde que llegu\\u00e9 del campo, cansado como cualquier d\\u00eda, me encontr\\u00e9 con que ella y la Eugenia estaban conversando cerca del yuco seco; me esperaban.\\nMi hermana corri\\u00f3 hasta m\\u00ed y me dijo que mam\\u00e1 hab\\u00eda vuelto, que ya no dec\\u00eda cosas huecas, y que el milagro hab\\u00eda sido gracias al Jes\\u00fas, nuestro hermanito ahogado, que se le hab\\u00eda aparecido en cuerpo y alma. Todo el pueblo conoci\\u00f3 la noticia en pocas horas: el ni\\u00f1o de seis a\\u00f1os que se hab\\u00eda sacrificado durante la inundaci\\u00f3n para salvar a otro, se hab\\u00eda corporizado frente a los ojos de su madre enferma, devolvi\\u00e9ndole la salud.\\nMam\\u00e1 se cans\\u00f3 de contar la historia, y las mujeres llegaron a casa para rezar un rosario por el Jes\\u00fas que dur\\u00f3 toda esa noche. Al d\\u00eda siguiente hubo otro acontecimiento que termin\\u00f3 por convertir a mi hermano en santo: a alguien se le ocurri\\u00f3 trasladar su cuerpo a la parroquia, y cuando forzaron el caj\\u00f3n donde estaban sus restos juntos a los del otro ni\\u00f1o ahogado, todos notamos que el Jes\\u00fas estaba treinta veces mejor conservado que su hermanastro.\\nTen\\u00edan ya seis meses de muertos, y mientras que el m\\u00e1s peque\\u00f1o hab\\u00eda sido invadido por gusanos y s\\u00f3lo quedaban sus huesos, la osamenta del Jes\\u00fas parec\\u00eda no tener m\\u00e1s que dos horas de enterrada. A m\\u00ed, que lo pude ver con estos ojos, me llam\\u00f3 la atenci\\u00f3n que solamente hubiera larvas en el costado del caj\\u00f3n donde descansaba el cr\\u00edo adoptado, como si el bichambre hubiese temido arrastrarse cerca del otro cuerpo. La luz del d\\u00eda nos trajo el aire f\\u00e9tido de la otra carne, pero nosotros est\\u00e1bamos viendo el milagro y nos arrodillamos frente a la grandeza de Dios.\\nEntonces hubo nuevas cartas al obispo de la mascarilla para que los italianos convirtieran en santo a mi hermanito de seis a\\u00f1os, y hasta un viaje personal del padre Su\\u00e1rez a la capital, pero nunca nadie nos trajo noticias. Igual, la voz se corri\\u00f3 y empez\\u00f3 a llegar al pueblo gente de todas partes para tocar los restos.\\nAl principio vinieron grupos a pie, desde los pueblos vecinos, y despu\\u00e9s tambi\\u00e9n aparecieron camiones con fieles mejor vestidos y m\\u00e1s elegantes. Vimos por primera vez gente huicha, con la piel tan p\\u00e1lida como la del cerdo, con zapatos caros y m\\u00e1quinas para sacar fotograf\\u00edas. Ellos tomaban fotos del reloj, que segu\\u00eda detenido en las siete y diez; del cajoncito con el Jes\\u00fas adentro, que hab\\u00edamos puesto en el sagrario de la parroquia; y tambi\\u00e9n fotos de mi madre, de la Eugenia y de m\\u00ed, porque \\u00e9ramos los parientes del santo.\\nEntre tantos coches y buses, todas esas fotos y aquella gente extra\\u00f1a, nos empezamos a olvidar del Jes\\u00fas como hermano nuestro que era, y les vend\\u00edamos a los turistas las ropas que quedaban de \\u00e9l en la casa por billetes reci\\u00e9n salidos del banco. Cuando se acabaron los trapos del Jes\\u00fas, vendimos tambi\\u00e9n los del Ulises y los de los otros huerfanitos, incluso del que muri\\u00f3.\\nPara entonces, mam\\u00e1 viv\\u00eda en la parroquia, rezando, y no se enteraba de nada durante el d\\u00eda. La Eugenia y yo, desde la casa, comenz\\u00e1bamos a respirar el olor de los billetes. Una ma\\u00f1ana le vend\\u00ed a un matrimonio huicha, por mil sanmartines, la \\u00fanica fotograf\\u00eda que ten\\u00edamos del Jes\\u00fas.\\nDesde que vimos el cuerpo de nuestro hermano intacto, Eugenia ya no quiso dormir conmigo y mi culpa se fue apagando. Una de sus razones era que mam\\u00e1 ya ten\\u00eda otra vez los sentidos despiertos y la hubi\\u00e9ramos matado si nos descubr\\u00eda. Y el otro motivo era su temor a que el Jes\\u00fas, desde el cielo, ya hubiera visto lo que hac\\u00edamos por la noche y no nos quisiera a su lado cuando nos llegara la hora.\\nYo pensaba igual que ella, y compart\\u00eda sus miedos, pero despu\\u00e9s de una semana de dormir en catres distintos supe que era tan grande el sosiego que Eugenia me hab\\u00eda dado cada noche, desde hac\\u00eda m\\u00e1s de un a\\u00f1o, que no tenerla me provocaba dolores del cuerpo y ganas de llorar. Pasaba las noches en vela, y me iba cerca del yuco seco a calmarme solo, pero no era lo mismo. Las noches eran fr\\u00edas sin la Eugenia, por eso de d\\u00eda le rogaba que volviera conmigo, y ella me dec\\u00eda que tampoco era f\\u00e1cil para su cuerpo, pero que deb\\u00edamos ser fuertes y pedirle a Dios la voluntad.\\nElla hab\\u00eda dejado de momento la escuela para ayudarme a atender a los turistas huicha, que ya empezaban a ser diez veces m\\u00e1s rentables que la papalla, y los dos pas\\u00e1bamos las tardes juntos, en la casa, vendiendo las cosas del Jes\\u00fas con gotero, a cien sanmartines la gota.\\nVolv\\u00eda el calor; mi hermana se hab\\u00eda convertido en una mujer de las que quitan el alma y a m\\u00ed se me iba la mitad del tiempo mir\\u00e1ndola con deseo, y la otra mitad viendo que los huicha, con sus zapatos blancos y sus ademanes, no se le pusieran muy cerca ni le quisieran tentar la sangre.\\nMam\\u00e1 se internaba durante el d\\u00eda en la parroquia, rezando junto a los fieles que llegaban para ver al Jes\\u00fas, y s\\u00f3lo volv\\u00eda a la casa para dormir. Ya no le quedaban rastros de la demencia que hab\\u00eda soportado hasta hac\\u00eda un mes, pero de a poco comenz\\u00f3 a redoblar sus oraciones, al punto de no hacer otra cosa m\\u00e1s que rezar. No respond\\u00eda preguntas ni las hac\\u00eda. No entablaba charla con nadie. Tanto estuviera sentada o caminando, llevaba en las manos un rosario para no perder el orden de sus plegarias.\\nUna noche se qued\\u00f3 dormida cerca del sagrario de su hijo, a la mitad de un Ave Mar\\u00eda, y cuando se despert\\u00f3 en la ma\\u00f1ana sigui\\u00f3 rez\\u00e1ndolo justo por donde lo hab\\u00eda suspendido. Desde entonces ya no volvi\\u00f3 a la casa. El padre Su\\u00e1rez vino a darnos la noticia, pero nosotros no hicimos nada para convencerla. Mi hermana prefer\\u00eda que mam\\u00e1 se quedara en la parroquia para vender las cosas del Jes\\u00fas sin que nos viera, y yo supuse que sin ella en la casa Eugenia no tendr\\u00eda temor de volver conmigo de noche.\\nCuando el \\u00faltimo grupo de fieles se retiraba, volv\\u00edamos a la casa y cen\\u00e1bamos sin privarnos de nada. Despu\\u00e9s hac\\u00edamos dormir a los hermanos peque\\u00f1os y entonces cont\\u00e1bamos los billetes del d\\u00eda. Una vez acabada la tarea, Eugenia pon\\u00eda el fajo enrollado y las monedas junto a los dem\\u00e1s billetes, y cont\\u00e1bamos el total.\\nEn la casa hab\\u00eda cada noche m\\u00e1s dinero, pero tambi\\u00e9n menos cosas. Despu\\u00e9s de vender la ropa de todos los cr\\u00edos, comenzamos a despachar platos y utensilios, dici\\u00e9ndoles a los turistas que cada cosa la hab\\u00eda tocado el Jes\\u00fas alguna vez. La mayor parte de las vasijas las hab\\u00edamos comprado despu\\u00e9s de la muerte del santo, porque las que \\u00e9l us\\u00f3 en vida se las llev\\u00f3 la inundaci\\u00f3n, pero a nadie le importaba.\\nComo no ten\\u00edamos tiempo de ir al pueblo m\\u00e1s que para traer los alimentos, la casa se fue desmantelando de objetos. Una tarde a la Eugenia se le ocurri\\u00f3 vender, de a pedacitos, el colch\\u00f3n donde dorm\\u00eda Jes\\u00fas, y cuando nos quisimos acordar hab\\u00edamos despedazado tres catres con todo y el relleno de pluma. Pero cuando otra vez estuvimos escasos de camas, ella prefiri\\u00f3 dormir con alguno de los peque\\u00f1os antes que caer de nuevo en pecado mortal conmigo.\\nUna noche, cuando acab\\u00e1bamos de contar los sanmartines, y desparramamos sobre la mesa todos los billetes de un mes de trabajo, Eugenia me mir\\u00f3 a los ojos: ya no somos pobres, Graci\\u00e1n, me dijo sonriendo, y se levant\\u00f3 y me bes\\u00f3 en la boca, como hac\\u00eda m\\u00e1s de un mes que no pasaba.\\nDurante la madrugada de esa noche me levant\\u00e9 de la cama y fui hasta el yuco seco. No pod\\u00eda dejar de pensar en ella, y me costaba dormir sabiendo que la Eugenia estaba echada a cinco pasos de m\\u00ed. Sin darme cuenta, como cada vez, comenc\\u00e9 a desahogar mis deseos, de espaldas a la casa, con una mano apoyada sobre la queracina. Mi hermana lleg\\u00f3 sin ruido y se qued\\u00f3 detr\\u00e1s de m\\u00ed, con mucha pena. No dijo una palabra, nada m\\u00e1s recost\\u00f3 su cara contra mi espalda y llor\\u00f3 conmigo.\\nDespu\\u00e9s me rode\\u00f3 con sus brazos, apret\\u00e1ndose fuerte de m\\u00ed, y con una de sus manos apart\\u00f3 la m\\u00eda de donde estaba. Me tom\\u00f3 con cuidado, sintiendo cada vena hinchada de sangre, y comenz\\u00f3 a darme sosiego como si fuese mi mano, y no otra, la que estuviese trabajando; como si fu\\u00e9semos una persona y no dos.\\nElla sab\\u00eda cu\\u00e1ndo ir despacio y d\\u00f3nde aumentar el ritmo. Cu\\u00e1ndo detenerse y en qu\\u00e9 parte presionar. No me solt\\u00f3 hasta exprimirme por completo, y luego me dijo al o\\u00eddo: esto es menos pecado que acurrucarse, y se encerr\\u00f3 otra vez en la casa.\\nAl otro d\\u00eda fue cuando vend\\u00ed en mil sanmartines la \\u00fanica foto que le hab\\u00edamos sacado al Jes\\u00fas cuando viv\\u00eda. Y yo no s\\u00e9 si fue por esto o por aquello, pero el santo nos crucific\\u00f3.\\nEl d\\u00eda de la desgracia cay\\u00f3 un domingo, y hubo que levantarse temprano porque llegaban al pueblo m\\u00e1s fieles que en d\\u00eda corriente. Desde que el Jes\\u00fas era un santo, el padre Su\\u00e1rez llegaba a nuestra casa enseguida que cantaba el gallo y hac\\u00eda sonar la bocina del Ford. Nos tra\\u00eda el cajoncito de vidrio y madera con el cuerpo conservado de mi hermano, para que los turistas huicha lo vieran al aire libre. El padre dec\\u00eda que en la parroquia no hab\\u00eda suficiente sitio en domingo, pero nosotros sab\\u00edamos que estaba un poco celoso de nuestro Jes\\u00fas, y que en el fondo prefer\\u00eda seguir adorando al suyo.\\nEsta vez, junto al cuerpo, lleg\\u00f3 tambi\\u00e9n mam\\u00e1, que se baj\\u00f3 del coche rezando y ni tuvo tiempo para saludar. Hicimos un altar pobre frente a la casa, y le prendimos velas. Pusimos una silla al lado, para que mam\\u00e1 rezara sin cansarse. Un rato despu\\u00e9s de las ocho vimos por el monte la polvareda del primer contingente, y antes de las diez ya hab\\u00eda otros seis.\\nCada uno de los autobuses tra\\u00eda m\\u00e1s de cuarenta cristianos de distintas partes del mapa. Por suerte nos quedaba bastante colch\\u00f3n, y un mantel entero para repartir en cincuenta pedazos, a cien sanmartines cada pieza. Tambi\\u00e9n hab\\u00eda cordones de zapatos, dos ajenfos sucios y un dibujo genuino del Jes\\u00fas que la Eugenia hab\\u00eda encontrado por casualidad, y que pens\\u00e1bamos cotizar tanto como la foto.\\nTodo el comercio lo hac\\u00edamos en los propios ojos de mam\\u00e1, pero eso ya no nos importaba, porque la vimos tan retra\\u00edda en sus rezos que era dif\\u00edcil pensar que pudiera volver al mundo real y reprendernos. El Ulises y su hermanito adoptivo estaban tan contentos de ver otra vez a su madre que se le pegaron a la g\\u00fciraina y no se movieron de su lado. El d\\u00eda era claro y ventoso, porque el verano estaba a punto de llegar y el r\\u00edo nos avisaba.\\nFrente a la casa se llen\\u00f3 de huichas muy perfumados y blancos. Como cada domingo, pero a\\u00fan m\\u00e1s. Se formaba una larga fila de fieles detr\\u00e1s del altar del Jes\\u00fas. Uno a uno, esperaban su turno para tocarlo, para pedirle cosas o para presentar ante \\u00e9l sus enfermedades. A la vez, otros grupos le sacaban fotos a la casa y a nosotros, y dejaban que la Eugenia o yo les ofreci\\u00e9ramos las pertenencias del santo.\\nLos que ya hab\\u00edan visto lo que hab\\u00eda para ver, hac\\u00edan su d\\u00eda de campo alrededor de la casa o caminaban por el monte sin alejarse mucho de los buses. Casi todas las caras que ve\\u00edamos eran nuevas, menos las de los gu\\u00edas y los choferes. Uno de ellos, que conduc\\u00eda un bus de larga distancia, al ver a la Eugenia la salud\\u00f3 de lejos como dos conocidos del pueblo, y le hizo una se\\u00f1a.\\nYo dej\\u00e9 de hacer una venta y me detuve a espiarlos. Ella se acerc\\u00f3 y le habl\\u00f3 sin verg\\u00fcenza. El chofer, que era un zambuco rubio y muy blanco, asinti\\u00f3 y se meti\\u00f3 en el coche. Estuve a punto de salir corriendo para detenerla, pero ella lo esper\\u00f3 fuera. Cuando el hombre sali\\u00f3, le entreg\\u00f3 un paquete envuelto en papel madera y le dijo algo que a mi hermana debi\\u00f3 agradarle, porque ella se puso en puntas de pie y lo bes\\u00f3 en la mejilla. No pas\\u00f3 m\\u00e1s que eso, pero yo no pod\\u00eda respirar de todo el asco que ten\\u00eda dentro.\\nEsper\\u00e9 el momento, y cuando la tuve sola a la Eugenia la apart\\u00e9 hasta la casa con mucho enfado. Cuando le pregunt\\u00e9 sobre el paquete ella no pareci\\u00f3 sorprendida, sino m\\u00e1s bien triste. Me dijo que era un regalo para m\\u00ed, y me trajo aquello que hab\\u00eda recibido del rubio. Lo abr\\u00ed a los tirones, y entre envoltorios de peri\\u00f3dico encontr\\u00e9 los zapatos. Entonces le ped\\u00ed que me disculpara.\\nMientras ella segu\\u00eda vigilando a los fieles yo me qued\\u00e9 dentro inspeccionando mi obsequio. Desde peque\\u00f1o, ni bien me enter\\u00e9 que exist\\u00edan, los hab\\u00eda querido. Pero solamente los vend\\u00edan en la capital, y eran tan caros como hacer el viaje hasta all\\u00ed. Nunca tuvimos con qu\\u00e9 comprarlos, y lo m\\u00e1s parecido que yo tuve fue un engendro que una vez me hizo mi padre, con un pedazo de cedro en la suela de las alpargatas. Pero me resultaba inc\\u00f3modo, y tambi\\u00e9n me hac\\u00eda renquear.\\nEstos, en cambio, eran de una ortopedia, y sacaban brillo. Ten\\u00edan cordones negros, y eran de cuero, como los zapatos de los huichas que ven\\u00edan los domingos. El izquierdo era normal, y el otro llevaba el tac\\u00f3n m\\u00e1s alto y de hierro. Pero lo bueno era que los dos pesaban lo mismo, y de lejos parec\\u00edan iguales.\\nTuve miedo de pon\\u00e9rmelos con los pies tan sucios, y entonces antes me lav\\u00e9 en el yuco. Despu\\u00e9s me calc\\u00e9 ah\\u00ed mismo, sentado al borde de la queracina, y me at\\u00e9 los cordones con dos vueltas. Cuando regres\\u00e9 a la casa lo hice un poco llorando, porque ahora yo caminaba igual que todo el mundo y nadie iba a decirme el Rengo nunca m\\u00e1s.\\nAl mediod\\u00eda era la hora en que el santo descansaba y los turistas tomaban su almuerzo alrededor de la casa. A mam\\u00e1 y a los peque\\u00f1os les llevamos lonchas de cab\\u00fa y ellos, entre padrenuestros, se las iban comiendo. La Eugenia y yo nos pasamos la hora libre jugando carreras desde la casa hasta el yuco.\\nElla me segu\\u00eda ganando, pero ahora por poco. Yo pensaba que me faltaba acostumbrarme al peso del calzado, y que cuando lo lograra ya nadie me ganar\\u00eda a hacer carreras. Los dos est\\u00e1bamos contentos con mi nueva forma de caminar, y a m\\u00ed me habr\\u00eda gustado que mi pap\\u00e1 no se hubiera muerto, y que mi mam\\u00e1 estuviera sana, as\\u00ed me hubieran podido ver.\\nTan alegre estaba que cuando la Eugenia desapareci\\u00f3 de mi vista a media tarde yo no me di cuenta. Supe que me faltaba cuando empec\\u00e9 a buscar al huicha rubio y tampoco lo encontr\\u00e9. Hab\\u00eda llegado la hora de mostrar el dibujo genuino del Jes\\u00fas, y en eso estaba cuando descubr\\u00ed que mi hermana y el rubio hab\\u00edan desaparecido. Cuatro turistas me lo quer\\u00edan comprar, y todos ofrec\\u00edan cada vez m\\u00e1s plata. Yo no les hac\\u00eda caso y miraba entre los grupos de gente, para ver si la ve\\u00eda a la Eugenia.\\nLos turistas me pon\\u00edan los billetes delante de los ojos, y entonces me aturd\\u00ed. Despedac\\u00e9 el dibujo del Jes\\u00fas y les pringu\\u00e9 a todos la madre. Despu\\u00e9s tir\\u00e9 los papeles al suelo y corr\\u00ed para el lado del monte. Los fieles no se preocuparon por m\\u00ed, y se lanzaron al pasto para disputarse la pertenencia del santo. Los cuatro que iban a comprarlo empezaron la ri\\u00f1a, pero tambi\\u00e9n participaban los que no ten\\u00edan m\\u00e1s dinero, porque creyeron que si hac\\u00edan fuerza se podr\\u00edan llevar una parte del dibujo gratis.\\nLos zapatos ya no me pesaban cuando cort\\u00e9 campo hacia el monte. Me adentr\\u00e9 porque la Eugenia y el rubio no pod\\u00edan estar m\\u00e1s que all\\u00ed. Los otros alrededores de la casa no eran m\\u00e1s que llano hasta el r\\u00edo, y el pueblo quedaba lejos.\\nEntr\\u00e9 al monte jadeando, y cuando dej\\u00e9 de jadear los jadeos segu\\u00edan. Me desesper\\u00e9 y cerr\\u00e9 los ojos para escuchar mejor de d\\u00f3nde ven\\u00eda el sofoco. Me gui\\u00e9 como cuando cr\\u00edo, que entraba al monte de noche y me sorprend\\u00eda conocerlo tan bien en lo oscuro. Sin la vista pude acercarme mejor, y cuando abr\\u00ed los ojos los ten\\u00eda a los dos muy cerca, como a un tiro de piedra de m\\u00ed.\\nEl rubio le estaba haciendo a la Eugenia lo que ella ya no quer\\u00eda que le hiciera yo. Me temblaron las manos y me abrac\\u00e9 a un tronco de maura. Los pod\\u00eda ver muy bien; ella estaba boca al cielo y ten\\u00eda los ojos cerrados. Las piernas y los brazos los hab\\u00eda abierto de par en par, y con los dedos de las manos arrancaba el pasto de la tierra floja.\\nEl rubio estaba montado encima, y llevaba los pantalones hasta las rodillas. No se tocaban ni se besaban. El rubio parec\\u00eda que estaba haciendo flexi\\u00f3n, y eso me enfureci\\u00f3 m\\u00e1s que todo. Me acerqu\\u00e9 pinchado por la rabia hasta que estuve tan cerca que pod\\u00eda patearle la cabeza. Entonces eleg\\u00ed el zapato derecho, porque me lo hab\\u00eda traido \\u00e9l de la capital y era pesado y de hierro. Levant\\u00e9 la rodilla y le hund\\u00ed el tal\\u00f3n en el cr\\u00e1neo. La fuerza de la patada me hizo caer contra el pasto.\\nEl rubio no hizo ning\\u00fan ruido, solamente se desplom\\u00f3 sobre la Eugenia. Ella abri\\u00f3 los ojos y me vio a m\\u00ed a su lado, que lloraba y la insultaba. No dijo nada, pero despu\\u00e9s, cuando le vio la sangre al rubio, me dijo que era un cabro bruto.\\nLa ayud\\u00e9 a levantarse pero no la quise mirar cuando se acomodaba el vestido. Me pregunt\\u00f3 que hac\\u00edamos con el cuerpo y yo le hice un gesto. No me importaba. Ella se quit\\u00f3 el pasto de la espalda y entre los dos lo arrastramos hasta el coraz\\u00f3n del monte. Despu\\u00e9s ver\\u00edamos qu\\u00e9 hacer. Ahora lo que importaba era volver a la casa, porque sab\\u00edamos que no hab\\u00eda sido bueno dejar a los turistas solos con el Jes\\u00fas.\\nAntes de salir del monte los gritos de los fieles nos enteraron de que las cosas no estaban bien. La tarde ca\\u00eda, y despu\\u00e9s de la loma pudimos ver la silueta de la casa recortada sobre el fondo del cielo. Nos quedamos quietos ante el cuadro. Hab\\u00eda gente dentro de la casa y tambi\\u00e9n arriba. Todos estaban fuera de s\\u00ed, y se peleaban por la mesa, por la ropa de los peque\\u00f1os y por el cajoncito del santo.\\nHab\\u00edan encendido antorchas, y algunos camiones y buses ya estaban en marcha. Otros se hab\\u00edan ido. Todav\\u00eda quedaban muchos hombres sobre la casa, despedazando las vigas y llev\\u00e1ndose de recuerdo pedazos de madera. Trabajaban con rapidez y a los gritos. Cuando uno consegu\\u00eda algo, despu\\u00e9s ten\\u00eda que defenderlo de los dem\\u00e1s. De lejos, parec\\u00edan la langosta.\\nMi hermana y yo no nos movimos hasta que se fue el \\u00faltimo cristiano. Cuando ya no escuchamos motores ni gritos empezamos a correr. M\\u00e1s nos acerc\\u00e1bamos y mejor ve\\u00edamos el detalle de la ruina. La casa se hab\\u00eda convertido en un esqueleto de machimbre, y adentro no quedaba nada. Se hab\\u00edan llevado hasta la silla que le pusimos a mam\\u00e1 para que rezara en paz. Ella estaba en el suelo, con la ropa hecha jirones, y se aferraba al rosario. No se hab\\u00eda dado cuenta de nada.\\nA los peque\\u00f1os les hab\\u00edan quitado la ropa, y estaban desnudos y rasgu\\u00f1ados, abrazados a las piernas de mam\\u00e1. Eugenia gritaba que los billetes hab\\u00eda desaparecido, y solamente eso le preocupaba. Yo buscaba por todas partes, con la esperanza de encontrar el cuerpo conservado de mi hermanito el Jes\\u00fas. Pero no nos hab\\u00edan dejado ni eso.\\nLa noche se nos cay\\u00f3 encima de golpe. Lo primero que hice cuando supe que lo hab\\u00edamos perdido todo, fue lavar en el yuco la sangre del rubio que ten\\u00eda pegoteada en el zapato. Eugenia se hab\\u00eda quedado en la casa y hab\\u00eda prendido un fuego triste para que mi mam\\u00e1 y los hijos no pasaran fr\\u00edo. Desde la queracina me los qued\\u00e9 mirando a los cuatro, alrededor de la luz amarilla, como animales asustados.\\nTambi\\u00e9n me qued\\u00e9 viendo, de fondo, las vigas de madera que alguna vez hab\\u00eda puesto mi padre para empezar a construir la casa, y que ahora parec\\u00edan una osamenta. Aquella casa hab\\u00eda estado all\\u00ed antes de que yo naciera, antes de los oficios del quita y pon, de la peste del barco y de la crecida que nos mat\\u00f3 al Jes\\u00fas. De eso hab\\u00eda pasado mucho tiempo, y ahora la vida estaba otra vez como al principio.\\nHern\\u00e1n Casciari\\n6 mayo, 2008\"\n        ],\n        \"semantic_type\": \"\",\n        \"description\": \"\"\n      }\n    }\n  ]\n}"
            }
          },
          "metadata": {},
          "execution_count": 7
        }
      ],
      "source": [
        "blog = pd.read_csv(url)\n",
        "blog.head(10)"
      ]
    },
    {
      "cell_type": "markdown",
      "id": "611a45ca",
      "metadata": {
        "id": "611a45ca"
      },
      "source": [
        "### 2. Homogenización de textos\n",
        "\n",
        "Para cumplir con el objetivo de generar recomendaciones en esta sección debe preparar los posts para poder ser utilizados en su sistema de recomendación. Para ello, \"limpie\" y \"tokenize\" cada uno de los cuentos, describiendo detalladamente los pasos que realizo y si transformó o eliminó ciertas palabras. Para asistirlo en la tarea he creado listas de *stopwords* que están disponibles en la carpeta `data`. En su procedimiento ilustre la limpieza con el cuento 'La venganza del metegol'. (En su limpieza recuerde que el objetivo es generar recomendaciones a partir de la similitud de las palabras o temas de los cuentos)"
      ]
    },
    {
      "cell_type": "markdown",
      "id": "309c2547",
      "metadata": {
        "id": "309c2547"
      },
      "source": [
        "No hemos podido limpiar todo el DataFrame al tiempo. Proponemos dividirlo en 5 bloques de 104 observaciones cada uno y, así, limpiarlo"
      ]
    },
    {
      "cell_type": "code",
      "execution_count": 4,
      "id": "46adc72d",
      "metadata": {
        "id": "46adc72d"
      },
      "outputs": [],
      "source": [
        "num_bloques = 5\n",
        "tamano_bloque = 104\n",
        "\n",
        "lista_dfs = [blog[i * tamano_bloque:(i + 1) * tamano_bloque] for i in range(num_bloques)]"
      ]
    },
    {
      "cell_type": "code",
      "execution_count": null,
      "id": "2b3f8c85",
      "metadata": {
        "id": "2b3f8c85"
      },
      "outputs": [],
      "source": [
        "# ruta actual\n",
        "base_dir = os.getcwd()\n",
        "\n",
        "# ruta a la carpeta \"data\"\n",
        "data_dir = os.path.join(base_dir, \"data\")\n",
        "\n",
        "# ruta final con subcarpeta \"datos\"\n",
        "output_dir = os.path.join(data_dir, \"datos\")\n",
        "\n",
        "# crear la carpeta si no existe\n",
        "os.makedirs(output_dir, exist_ok=True)\n",
        "\n",
        "for i, df in enumerate(lista_dfs):\n",
        "  nombre_archivo = f'datos/blog_bloque_{i + 1}.csv'\n",
        "  df.to_csv(os.path.join(data_dir, nombre_archivo), index=False)"
      ]
    },
    {
      "cell_type": "code",
      "execution_count": 5,
      "id": "f2baac50",
      "metadata": {
        "colab": {
          "base_uri": "https://localhost:8080/"
        },
        "id": "f2baac50",
        "outputId": "dcfa4011-c866-4c5b-e708-3ce57c361166"
      },
      "outputs": [
        {
          "output_type": "stream",
          "name": "stdout",
          "text": [
            "<class 'pandas.core.frame.DataFrame'>\n",
            "RangeIndex: 520 entries, 0 to 519\n",
            "Data columns (total 3 columns):\n",
            " #   Column  Non-Null Count  Dtype \n",
            "---  ------  --------------  ----- \n",
            " 0   titulo  520 non-null    object\n",
            " 1   fecha   520 non-null    object\n",
            " 2   cuento  520 non-null    object\n",
            "dtypes: object(3)\n",
            "memory usage: 12.3+ KB\n"
          ]
        }
      ],
      "source": [
        "blog.info()\n",
        "# no tenemos problemas con missing alues"
      ]
    },
    {
      "cell_type": "code",
      "execution_count": 8,
      "id": "261e0de6",
      "metadata": {
        "id": "261e0de6"
      },
      "outputs": [],
      "source": [
        "spell = SpellChecker(language='es')\n",
        "\n",
        "import requests\n",
        "\n",
        "# Añadir palabras correctas al diccionario para evitar falsos positivos\n",
        "url = \"https://raw.githubusercontent.com/hermitdave/FrequencyWords/master/content/2018/es/es_50k.txt\"\n",
        "response = requests.get(url)\n",
        "with open(\"vocab.txt\", \"wb\") as f:\n",
        "    f.write(response.content)\n",
        "\n",
        "\n",
        "with open('vocab.txt', 'r', encoding='utf-8') as f:\n",
        "    palabras_externas = [line.strip().split()[0] for line in f]\n",
        "\n",
        "spell.word_frequency.load_words(palabras_externas)\n",
        "\n",
        "def corregir_texto(texto):\n",
        "    # Separar palabras y signos de puntuación\n",
        "    tokens = re.findall(r'\\w+|[^\\w\\s]', texto, re.UNICODE)\n",
        "\n",
        "    corregidas = []\n",
        "    for token in tokens:\n",
        "        if token.isalpha():\n",
        "            if token not in spell:\n",
        "                correccion = spell.correction(token)\n",
        "                corregidas.append(correccion if correccion is not None else token)\n",
        "            else:\n",
        "                corregidas.append(token)\n",
        "        else:\n",
        "            corregidas.append(token)  # Mantener puntuación tal cual\n",
        "\n",
        "    # Reconstruir el texto respetando espacios entre palabras y no entre signos\n",
        "    texto_corregido = ''\n",
        "    for i, token in enumerate(corregidas):\n",
        "        if i > 0 and token not in ',.!?':\n",
        "            texto_corregido += ' '\n",
        "        texto_corregido += token\n",
        "\n",
        "    return texto_corregido"
      ]
    },
    {
      "cell_type": "code",
      "execution_count": 9,
      "id": "70639473",
      "metadata": {
        "id": "70639473"
      },
      "outputs": [],
      "source": [
        "nlp = spacy.load(\"es_core_news_sm\")\n",
        "\n",
        "# Cargamos las stopwords extra\n",
        "extra_stopwords = pd.read_csv('https://raw.githubusercontent.com/MECA4605-Aprendizaje-no-supervisado/S6_clase_sistemas_recomendacion_II/main/data/extra_stopwords.csv', sep=',',header=None)\n",
        "extra_stopwords.columns = ['stopwords']\n",
        "extra_stopwords=set(extra_stopwords['stopwords'].to_list())\n",
        "\n",
        "# Agregamos a nuestro modelo de SpaCy\n",
        "nlp.Defaults.stop_words |= extra_stopwords\n",
        "\n",
        "#print(nlp.Defaults.stop_words) # Mostrar la nueva lista de stopwords"
      ]
    },
    {
      "cell_type": "code",
      "execution_count": 19,
      "id": "oi140An6TrdS",
      "metadata": {
        "id": "oi140An6TrdS"
      },
      "outputs": [],
      "source": [
        "# Lista de stopwords en español\n",
        "stopwords_es = set(stopwords.words('spanish'))\n",
        "\n",
        "def limpieza_texto(texto, lista_palabras=[]):\n",
        "    # remover acentos\n",
        "    texto = ''.join(c for c in unicodedata.normalize('NFD', texto)\n",
        "                              if unicodedata.category(c) != 'Mn')\n",
        "\n",
        "    # remover signos de puntuación y simbolos adicionales\n",
        "    texto = re.sub(r'[^\\w\\s]', '', texto)\n",
        "\n",
        "\n",
        "    texto = texto.lower()\n",
        "    # remover numeros\n",
        "    texto = re.sub(r'\\d+', '', texto)\n",
        "    # remover saltos\n",
        "    texto = re.sub(r'\\n', ' ', texto)\n",
        "    # remover espacios dobles\n",
        "    texto = re.sub(r'\\s+', ' ', texto)\n",
        "\n",
        "    tokens = texto.split()\n",
        "    tokens_filtrados = [\n",
        "        t for t in tokens\n",
        "        if t not in stopwords_es and t not in lista_palabras\n",
        "    ]\n",
        "\n",
        "    return ' '.join(tokens_filtrados)"
      ]
    },
    {
      "cell_type": "code",
      "execution_count": 21,
      "id": "XydwbnToT7EZ",
      "metadata": {
        "colab": {
          "base_uri": "https://localhost:8080/"
        },
        "id": "XydwbnToT7EZ",
        "outputId": "4bd3986c-fdbf-4ae4-de4b-7588fdb25b76"
      },
      "outputs": [
        {
          "output_type": "stream",
          "name": "stdout",
          "text": [
            "regreso mexico amigo comequechu conto historia dice va paseando mujer hija calles falisco entonces descubre dos pasos imponente universidad guadalajara puerta carmelita informacion turistas lee alli estan busto ganadores premio juan rulo literatura concede casa dudarlo arrastra familia pasillos vamos ver monumento cayota dice acuerdo comequechu dice cayota lugar cascar realidad nunca dirigir usando nombre apellido reales cabeza siempre cayota tambien mujer hija llaman modo toda naturalidad sono extrano segundo sustantivo frase cayota sino primero monumento malentendido embargo tenia explicacion par meses viaje norteamérica comequechu conocio noticia habia ganado certamen literario llamado juan rulo nunca supo tenia saberlo mundo dos premios mismo nombre bastante trascendente otorga francia gane aquel ano importantísimo concede mexico ganar nunca diferencia ambas distinciones abismal galardón frances premia obra puntual cuento novela corta ofrece compensación económica discreta premio mexicano rinde homenaje trayectoria literaria cheque suculento efecto cada ganador queda inmortalidad pequeno busto bronce centro exposiciones universidad guadalajara justo sitio dirigen ahora paso firme comequechu dos mujeres sala principal centro mosaico ajedrezado medio gran silencio tres visitantes descubren fin breve fila esculturas metal replicar frisa escritores legendarios empiezan buscar busto sacarse tres foto conmigo dan vueltas vueltas alrededor bronce picador parra juan jose aureola belida pino julio ribero encuentran ninguna parte papa papa cayota pregunta libertad entonces cuatro anos guardia universidad morocho alto sigue trio mirada principio acerca puedo ayudar disculpe dice comequechu buscando monumento cayota perdon senor buscando monumento cayota repite comequechu mas despacio todavia construyeron comequechu narra dialogo dos meses despues viaje chira desparramado risa todavia conoce error convencido mentiroso vos sacaste ningun premio cayota dice policia llevo rector dije amigo vos habias ganado premio juan rulo ano rector penso amigo monte hermoso monterroso corrige mujer comequechu cocina duele panza risa horas mas tarde chira volvamos capital despues haber pasado dia quinta comequechu podiamos sacar cabeza imagenes mexicanas absurdas hermosas seguro alli camino plaza italia chira utilizo primera vez palabras anécdota mejorada referirse clase obsequio habra sido realidad pregunto creo paso universidad guadalajara intuir entro entonces historia haber ocurrido ahi dialogo vos pensas sabe dos premios claro sabe puede ser tan gracioso hijo puta quiza superamos alli dimos verdadera dimension honestidad implica regalar mentira narrador queda mal parado mentira mala prensa general utiliza mezquindad sacar provecho vengarse obtener credito espurio fingir alardear mala mentira buena mentira cambio generosa ahi reside unica virtud mentira mujeres feas pequeno detalle convierte mentira arte da categoría ficción mentira alimento nutritivo debe ser emitida salvar aburrimiento salvarse realidad frustración historia pinocho verdad collada escribio mentira ostentar dejar pagar cuota coche demas creyeran musculoso urdir mentira entretener gente comequechu aquella tarde generoso recompensa precio nariz volvimos casas noche pensando comequechu habia escrito aquella historia cabeza palabra palabra habia pulido detalles aburrimiento avion forma maravillosa habia emborrachado soltar cuento sobremesa admiramos gestos giros sacarse premio monte hermoso monumento lugar busto participación mujer cocina enfado creerme embustero detalles esfuerzos puesta escena bien mirado solo tenia objeto hacernos felices rato despues comer ahora seguro noche entendi debia aprender urgencia narrar igual hablaba comequechu interesaba contar pura verdad tampoco puro cuento entonces escribir darme cuenta borradores insípido verdad agua empieza hervir ficción fideo seco deshidratado solas palote madera sopa caliente alimentar nadie menos aquel cuento mio gano juan rulo frances ejemplo ultima historia escribi engañándome mismo ponerle pasion involucrarme comequechu sobremesa tambien ultimo texto envie concurso literario aquel premio hecho típicas miradas francesas mundo latinoamericano si querias ganar tenias presentar historia pobreza dignas menos alguien volara palabras sonoras jurado pudiese adivinar contexto realismo magico languidez llano caluroso cuanta mierda escribi aquel cuento mio alegria puse elementos podian fascinar frances encantado si mismo pestes inundaciones milagros mas menos setenta palabras existen ningun pais latinoamericano suenan bien catinga cuero guiraina supuesto dieron premio nunca manos edición impresa frances aquella antología cuentos latinoamericanos aparencia ropa sucia ultima mentira literaria imagino habra costado poner notas pie americanismo falsos dos semanas despues chira acuse frase anécdota mejorada habia vuelto san isidro sono telefono franceses habian editado libro cuentos premiador querian hacerme reportaje radio france international primera pregunta periodista supuesto si cuento autobiográfico si realmente familia habia sobrevivido tifus comiendo papilla tierna si realmente hermanito jesus muerto riada habia resucitado punto decirle ficción vivia san isidro lado hipódromo vino cabeza almuerzo quinta comequechu generosidad oral magia medias verdades efecto conteste periodista deje norteño escribi cuento despues tifus desahogo peste habia matado padre dos hermanito mios pocos quedábamos casa acocochando tarugo alrededor fuego lado telefono francesa notaba palabra palabra encantada vida herman cascar marzo\n"
          ]
        }
      ],
      "source": [
        "ejemplo = blog['cuento'][3]\n",
        "modificacion1 = limpieza_texto(ejemplo)\n",
        "modificacion2 = corregir_texto(modificacion1)\n",
        "print(modificacion2)"
      ]
    },
    {
      "cell_type": "markdown",
      "source": [
        "Limpieza de datos por bloques\n"
      ],
      "metadata": {
        "id": "8wwFAx7iqkSm"
      },
      "id": "8wwFAx7iqkSm"
    },
    {
      "cell_type": "code",
      "source": [
        "bloque1 = pd.read_csv('https://raw.githubusercontent.com/sebastian23escobar/Aprendizaje_no_supervisado/refs/heads/main/Taller3/data/datos/blog_bloque_1.csv')"
      ],
      "metadata": {
        "id": "Dqqc0lxGfwLp"
      },
      "id": "Dqqc0lxGfwLp",
      "execution_count": 22,
      "outputs": []
    },
    {
      "cell_type": "code",
      "source": [
        "bloque2 = pd.read_csv('https://raw.githubusercontent.com/sebastian23escobar/Aprendizaje_no_supervisado/refs/heads/main/Taller3/data/datos/blog_bloque_2.csv')"
      ],
      "metadata": {
        "id": "s0_T78QPfyFv"
      },
      "id": "s0_T78QPfyFv",
      "execution_count": 23,
      "outputs": []
    },
    {
      "cell_type": "code",
      "source": [
        "bloque3 = pd.read_csv('https://raw.githubusercontent.com/sebastian23escobar/Aprendizaje_no_supervisado/refs/heads/main/Taller3/data/datos/blog_bloque_3.csv')"
      ],
      "metadata": {
        "id": "w8P8HI6nfzka"
      },
      "id": "w8P8HI6nfzka",
      "execution_count": 24,
      "outputs": []
    },
    {
      "cell_type": "code",
      "source": [
        "bloque4 = pd.read_csv('https://raw.githubusercontent.com/sebastian23escobar/Aprendizaje_no_supervisado/refs/heads/main/Taller3/data/datos/blog_bloque_4.csv')"
      ],
      "metadata": {
        "id": "MhF9jkxIf1K3"
      },
      "id": "MhF9jkxIf1K3",
      "execution_count": null,
      "outputs": []
    },
    {
      "cell_type": "code",
      "source": [
        "bloque5 = pd.read_csv('https://raw.githubusercontent.com/sebastian23escobar/Aprendizaje_no_supervisado/refs/heads/main/Taller3/data/datos/blog_bloque_5.csv')"
      ],
      "metadata": {
        "id": "fADmcsMaqnGA"
      },
      "id": "fADmcsMaqnGA",
      "execution_count": 11,
      "outputs": []
    },
    {
      "cell_type": "code",
      "source": [
        "bloque1['cuento_limpio'] = bloque1['cuento'].apply(lambda x: corregir_texto(limpieza_texto(x)))\n",
        "\n",
        "# guardar datos limpios del bloque 1\n",
        "bloque1.to_csv('blog_bloque_1_limpio.csv', index=False)"
      ],
      "metadata": {
        "id": "tZp24YZ4fmx8"
      },
      "id": "tZp24YZ4fmx8",
      "execution_count": null,
      "outputs": []
    },
    {
      "cell_type": "code",
      "source": [
        "bloque2['cuento_limpio'] = bloque2['cuento'].apply(lambda x: corregir_texto(limpieza_texto(x)))\n",
        "\n",
        "# guardar datos limpios del bloque 2\n",
        "bloque2.to_csv('blog_bloque_2_limpio.csv', index=False)"
      ],
      "metadata": {
        "id": "B7_1IMYAfoZ-"
      },
      "id": "B7_1IMYAfoZ-",
      "execution_count": null,
      "outputs": []
    },
    {
      "cell_type": "code",
      "source": [
        "bloque3['cuento_limpio'] = bloque3['cuento'].apply(lambda x: corregir_texto(limpieza_texto(x)))\n",
        "\n",
        "# guardar datos limpios del bloque 3\n",
        "bloque3.to_csv('blog_bloque_3_limpio.csv', index=False)"
      ],
      "metadata": {
        "id": "bQLXkkUAfqng"
      },
      "id": "bQLXkkUAfqng",
      "execution_count": null,
      "outputs": []
    },
    {
      "cell_type": "code",
      "source": [
        "bloque4['cuento_limpio'] = bloque4['cuento'].apply(lambda x: corregir_texto(limpieza_texto(x)))\n",
        "\n",
        "# guardar datos limpios del bloque 4\n",
        "bloque4.to_csv('blog_bloque_4_limpio.csv', index=False)"
      ],
      "metadata": {
        "id": "tj_jyM59frwC"
      },
      "id": "tj_jyM59frwC",
      "execution_count": null,
      "outputs": []
    },
    {
      "cell_type": "code",
      "execution_count": 12,
      "id": "4Tcoj7iCYEPZ",
      "metadata": {
        "id": "4Tcoj7iCYEPZ"
      },
      "outputs": [],
      "source": [
        "bloque5['cuento_limpio'] = bloque5['cuento'].apply(lambda x: corregir_texto(limpieza_texto(x)))\n",
        "\n",
        "# guardar datos limpios del bloque 5\n",
        "bloque5.to_csv('blog_bloque_5_limpio.csv', index=False)"
      ]
    },
    {
      "cell_type": "markdown",
      "id": "96221879",
      "metadata": {
        "id": "96221879"
      },
      "source": [
        "### 3. Generando Recomendaciones\n",
        "\n",
        "En esta sección nos interesa generar recomendaciones de cuentos en el blog a un usuario que leyó 'La venganza del metegol'. Para ello vamos a utilizar distintas estrategias."
      ]
    },
    {
      "cell_type": "markdown",
      "id": "2981ddff",
      "metadata": {
        "id": "2981ddff"
      },
      "source": [
        "#### 3.1. Recomendaciones basadas en contenidos\n",
        "\n",
        "##### 3.1.1. Genere 5 recomendaciones de más recomendada (1) a menos recomendada (5) para el cuento 'La venganza del metegol' usando en la distancia de coseno donde el texto este vectorizado por `CountVectorizer`. Explique el procedimiento que realizó y como ordenó las recomendaciones."
      ]
    },
    {
      "cell_type": "code",
      "execution_count": null,
      "id": "019d927f",
      "metadata": {
        "id": "019d927f"
      },
      "outputs": [],
      "source": [
        "# Utilice este espacio para escribir el código."
      ]
    },
    {
      "cell_type": "markdown",
      "id": "9c093f22",
      "metadata": {
        "id": "9c093f22"
      },
      "source": [
        "(Utilice este espacio para describir el procedimiento, análisis, y conclusiones)"
      ]
    },
    {
      "cell_type": "markdown",
      "id": "c8fe107b",
      "metadata": {
        "id": "c8fe107b"
      },
      "source": [
        "##### 3.1.2. Genere 5 recomendaciones de más recomendada (1) a menos recomendada (5) para  el cuento 'La venganza del metegol' usando nuevamente la distancia de coseno, pero ahora vectorice el texto usando `TF-IDFVectorizer`. Explique el procedimiento que realizó y como ordenó las recomendaciones. Compare con los resultados del punto anterior y explique sus similitudes y/o diferencias."
      ]
    },
    {
      "cell_type": "code",
      "execution_count": null,
      "id": "fe5b4913",
      "metadata": {
        "id": "fe5b4913"
      },
      "outputs": [],
      "source": [
        "# Utilice este espacio para escribir el código."
      ]
    },
    {
      "cell_type": "markdown",
      "id": "23bc61de",
      "metadata": {
        "id": "23bc61de"
      },
      "source": [
        "(Utilice este espacio para describir el procedimiento, análisis, y conclusiones)"
      ]
    },
    {
      "cell_type": "markdown",
      "id": "d9575129",
      "metadata": {
        "id": "d9575129"
      },
      "source": [
        "##### 3.1.3. Genere 5 recomendaciones de más recomendada (1) a menos recomendada (5) para el cuento 'La venganza del metegol' usando el texto vectorizado por `TF-IDFVectorizer` y la correlación como medida de similitud. Explique el procedimiento que realizó y como ordenó las recomendaciones. Compare con los resultados de los puntos anteriores y explique sus similitudes y/o diferencias."
      ]
    },
    {
      "cell_type": "code",
      "execution_count": null,
      "id": "fa114ad8",
      "metadata": {
        "id": "fa114ad8"
      },
      "outputs": [],
      "source": [
        "# Utilice este espacio para escribir el código."
      ]
    },
    {
      "cell_type": "markdown",
      "id": "b9c3a79d",
      "metadata": {
        "id": "b9c3a79d"
      },
      "source": [
        "(Utilice este espacio para describir el procedimiento, análisis, y conclusiones)"
      ]
    },
    {
      "cell_type": "markdown",
      "id": "ee0915e5",
      "metadata": {
        "id": "ee0915e5"
      },
      "source": [
        "##### 3.2. Recomendaciones basadas en temas\n",
        "\n",
        "Usando modelado de temas con LDA, encuentre los temas subyacentes en el blog. Explique como eligió el numero óptimo de temas. Utilizando el tema asignado al cuento 'La venganza del metegol' y la probabilidad de pertenecer a este tema genere 5 recomendaciones de más recomendada (1) a menos recomendada (5) para este cuento. Explique el procedimiento que realizó. Compare con los resultados encontrados anteriormente y explique sus similitudes y/o diferencias. (Esto puede tomar mucho tiempo y requerir mucha capacidad computacional, puede aprovechar los recursos de [Google Colab](https://colab.research.google.com/))\n"
      ]
    },
    {
      "cell_type": "code",
      "execution_count": null,
      "id": "1a403266",
      "metadata": {
        "id": "1a403266"
      },
      "outputs": [],
      "source": [
        "# Utilice este espacio para escribir el código."
      ]
    },
    {
      "cell_type": "markdown",
      "id": "88c06ca5",
      "metadata": {
        "id": "88c06ca5"
      },
      "source": [
        "(Utilice este espacio para describir el procedimiento, análisis, y conclusiones)"
      ]
    },
    {
      "cell_type": "markdown",
      "id": "b324f78c",
      "metadata": {
        "id": "b324f78c"
      },
      "source": [
        "### 4 Recomendaciones generales\n",
        "\n",
        "De acuerdo con los resultados encontrados, en su opinión ¿qué procedimiento generó las mejores recomendaciones para la entrada elegida? ¿Cómo implementaría una evaluación objetiva de estas recomendaciones? Justifique su respuesta."
      ]
    },
    {
      "cell_type": "markdown",
      "id": "58a423c3",
      "metadata": {
        "id": "58a423c3"
      },
      "source": [
        "(Utilice este espacio para describir su procedimiento)"
      ]
    }
  ],
  "metadata": {
    "colab": {
      "provenance": []
    },
    "kernelspec": {
      "display_name": "Python 3",
      "language": "python",
      "name": "python3"
    },
    "language_info": {
      "codemirror_mode": {
        "name": "ipython",
        "version": 3
      },
      "file_extension": ".py",
      "mimetype": "text/x-python",
      "name": "python",
      "nbconvert_exporter": "python",
      "pygments_lexer": "ipython3",
      "version": "3.13.2"
    },
    "toc": {
      "base_numbering": 1,
      "nav_menu": {},
      "number_sections": true,
      "sideBar": true,
      "skip_h1_title": false,
      "title_cell": "Table of Contents",
      "title_sidebar": "Contents",
      "toc_cell": false,
      "toc_position": {},
      "toc_section_display": true,
      "toc_window_display": false
    }
  },
  "nbformat": 4,
  "nbformat_minor": 5
}