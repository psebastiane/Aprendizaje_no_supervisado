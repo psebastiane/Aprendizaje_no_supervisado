{
 "cells": [
  {
   "cell_type": "markdown",
   "id": "25ffd137",
   "metadata": {
    "id": "25ffd137"
   },
   "source": [
    "![Clase aprendizaje no supervisado](https://raw.githubusercontent.com/MECA4605-Aprendizaje-no-supervisado/taller_2/main/figs/taller-meca-aprendizaje%20no%20supervisado_banner%201169%20x%20200%20px%20-05.png)"
   ]
  },
  {
   "cell_type": "markdown",
   "id": "d6dc68fa",
   "metadata": {
    "id": "d6dc68fa"
   },
   "source": [
    "# Caso-taller:  Segmentación de Clientes con Clustering Jerárquico y DBSCAN"
   ]
  },
  {
   "cell_type": "markdown",
   "id": "416947e9",
   "metadata": {
    "id": "416947e9"
   },
   "source": [
    "El objetivo de este caso-taller es analizar una base de datos ficticia sobre clientes de una tienda y buscar encontrar grupos de clientes que permitan generar estrategias de marketing focalizadas. La base se encuentra en los `Archivos de Laboratorio` en la carpeta `data` y cuenta con 200 observaciones y 5 variables:\n",
    "\n",
    "- `Id_Cliente`: identificador de cliente.\n",
    "- `Genero`: género del cliente: Mujer, Hombre\n",
    "- `Edad`: edad en años\n",
    "- `Ingreso`: ingresos anuales\n",
    "- `Puntaje_Gasto`: es una variable que mide cuán a menudo un cliente compra en la tienda, siendo 100 el puntaje más alto.\n"
   ]
  },
  {
   "cell_type": "markdown",
   "id": "f0b18289",
   "metadata": {
    "id": "f0b18289"
   },
   "source": [
    "## Instrucciones generales\n",
    "\n",
    "1. Para desarrollar el *cuaderno* primero debe descargarlo.\n",
    "\n",
    "2. Para responder cada inciso deberá utilizar el espacio debidamente especificado.\n",
    "\n",
    "3. La actividad será calificada sólo si sube el *cuaderno* de jupyter notebook con extensión `.ipynb` en la actividad designada como \"entrega calificada por el personal\".\n",
    "\n",
    "4. El archivo entregado debe poder ser ejecutado localmente por el tutor. Sea cuidadoso con la especificación de la ubicación de los archivos de soporte, guarde la carpeta de datos en el mismo `path` de su cuaderno, por ejemplo: `data`."
   ]
  },
  {
   "cell_type": "markdown",
   "id": "fcdc340a",
   "metadata": {
    "id": "fcdc340a"
   },
   "source": [
    "## Desarrollo\n"
   ]
  },
  {
   "cell_type": "markdown",
   "id": "74c08b0d",
   "metadata": {
    "id": "74c08b0d"
   },
   "source": [
    "### 1.Carga de datos\n",
    "\n",
    "En la carpeta `data` se encuentra el archivo `datos_clientes.csv` cargue estos datos en su *cuaderno*."
   ]
  },
  {
   "cell_type": "code",
   "execution_count": 260,
   "id": "200fc95c",
   "metadata": {},
   "outputs": [],
   "source": [
    "import pandas as pd\n",
    "import numpy as np\n",
    "import matplotlib.pyplot as plt\n",
    "import statsmodels.api as sm\n",
    "\n",
    "from sklearn.linear_model import LinearRegression\n",
    "from sklearn.preprocessing import OneHotEncoder\n",
    "from sklearn.compose import ColumnTransformer\n",
    "from sklearn.pipeline import Pipeline\n"
   ]
  },
  {
   "cell_type": "code",
   "execution_count": 261,
   "id": "6412d5ec",
   "metadata": {
    "id": "6412d5ec",
    "noteable": {
     "cell_type": "code"
    }
   },
   "outputs": [
    {
     "data": {
      "application/vnd.microsoft.datawrangler.viewer.v0+json": {
       "columns": [
        {
         "name": "index",
         "rawType": "int64",
         "type": "integer"
        },
        {
         "name": "Id_Cliente",
         "rawType": "int64",
         "type": "integer"
        },
        {
         "name": "Genero",
         "rawType": "object",
         "type": "string"
        },
        {
         "name": "Edad",
         "rawType": "int64",
         "type": "integer"
        },
        {
         "name": "Ingreso",
         "rawType": "float64",
         "type": "float"
        },
        {
         "name": "Puntaje_Gasto",
         "rawType": "int64",
         "type": "integer"
        }
       ],
       "conversionMethod": "pd.DataFrame",
       "ref": "1c9c2dd7-47fd-48dd-87ed-a8897cf7f4d6",
       "rows": [
        [
         "0",
         "1",
         "Mujer",
         "41",
         "98115.05",
         "39"
        ],
        [
         "1",
         "2",
         "Mujer",
         "20",
         "35458.14",
         "75"
        ],
        [
         "2",
         "3",
         "Mujer",
         "68",
         "59872.08",
         "55"
        ],
        [
         "3",
         "4",
         "Hombre",
         "63",
         "48508.93",
         "51"
        ],
        [
         "4",
         "5",
         "Mujer",
         "31",
         "44431.11",
         "54"
        ]
       ],
       "shape": {
        "columns": 5,
        "rows": 5
       }
      },
      "text/html": [
       "<div>\n",
       "<style scoped>\n",
       "    .dataframe tbody tr th:only-of-type {\n",
       "        vertical-align: middle;\n",
       "    }\n",
       "\n",
       "    .dataframe tbody tr th {\n",
       "        vertical-align: top;\n",
       "    }\n",
       "\n",
       "    .dataframe thead th {\n",
       "        text-align: right;\n",
       "    }\n",
       "</style>\n",
       "<table border=\"1\" class=\"dataframe\">\n",
       "  <thead>\n",
       "    <tr style=\"text-align: right;\">\n",
       "      <th></th>\n",
       "      <th>Id_Cliente</th>\n",
       "      <th>Genero</th>\n",
       "      <th>Edad</th>\n",
       "      <th>Ingreso</th>\n",
       "      <th>Puntaje_Gasto</th>\n",
       "    </tr>\n",
       "  </thead>\n",
       "  <tbody>\n",
       "    <tr>\n",
       "      <th>0</th>\n",
       "      <td>1</td>\n",
       "      <td>Mujer</td>\n",
       "      <td>41</td>\n",
       "      <td>98115.05</td>\n",
       "      <td>39</td>\n",
       "    </tr>\n",
       "    <tr>\n",
       "      <th>1</th>\n",
       "      <td>2</td>\n",
       "      <td>Mujer</td>\n",
       "      <td>20</td>\n",
       "      <td>35458.14</td>\n",
       "      <td>75</td>\n",
       "    </tr>\n",
       "    <tr>\n",
       "      <th>2</th>\n",
       "      <td>3</td>\n",
       "      <td>Mujer</td>\n",
       "      <td>68</td>\n",
       "      <td>59872.08</td>\n",
       "      <td>55</td>\n",
       "    </tr>\n",
       "    <tr>\n",
       "      <th>3</th>\n",
       "      <td>4</td>\n",
       "      <td>Hombre</td>\n",
       "      <td>63</td>\n",
       "      <td>48508.93</td>\n",
       "      <td>51</td>\n",
       "    </tr>\n",
       "    <tr>\n",
       "      <th>4</th>\n",
       "      <td>5</td>\n",
       "      <td>Mujer</td>\n",
       "      <td>31</td>\n",
       "      <td>44431.11</td>\n",
       "      <td>54</td>\n",
       "    </tr>\n",
       "  </tbody>\n",
       "</table>\n",
       "</div>"
      ],
      "text/plain": [
       "   Id_Cliente  Genero  Edad   Ingreso  Puntaje_Gasto\n",
       "0           1   Mujer    41  98115.05             39\n",
       "1           2   Mujer    20  35458.14             75\n",
       "2           3   Mujer    68  59872.08             55\n",
       "3           4  Hombre    63  48508.93             51\n",
       "4           5   Mujer    31  44431.11             54"
      ]
     },
     "execution_count": 261,
     "metadata": {},
     "output_type": "execute_result"
    }
   ],
   "source": [
    "df = pd.read_csv('https://raw.githubusercontent.com/MECA4605-Aprendizaje-no-supervisado/taller_2/refs/heads/main/data/datos_clientes.csv')\n",
    "df.head()"
   ]
  },
  {
   "cell_type": "markdown",
   "id": "410a10be",
   "metadata": {
    "id": "410a10be"
   },
   "source": [
    "Se cargan los datos del csv por medio de la URL de Github, adicionalmente, se cargan dentro de un dataframe"
   ]
  },
  {
   "cell_type": "markdown",
   "id": "fe899b4b",
   "metadata": {
    "id": "fe899b4b"
   },
   "source": [
    "### 2. Análisis preliminar.\n",
    "\n",
    "Antes de comenzar el análisis de segmentación utilice estadísticas descriptivas para explorar la variables que se encuentran en los datos. En su análisis mencione si hay patrones que surgen del examen descriptivo de los datos; entre ellos si hay diferencias en los ingresos y los puntajes de gastos para mujeres y hombres, por grupos etarios (18-24, 25-34, 35-44, 45-54, 55-64, y 65+), y por grupos etarios y género. Discuta además si estas diferencias son estadísticamente significativas."
   ]
  },
  {
   "cell_type": "code",
   "execution_count": 262,
   "id": "3ff19286",
   "metadata": {
    "ExecuteTime": {
     "end_time": "2023-07-16T16:19:08.201705+00:00",
     "start_time": "2023-07-16T16:19:07.615452+00:00"
    },
    "id": "3ff19286",
    "noteable": {
     "cell_type": "code",
     "output_collection_id": "2d7c325e-81c4-49e5-85aa-89d213c37c09"
    }
   },
   "outputs": [],
   "source": [
    "# Definir la función de clasificación de edades por grupos etarios\n",
    "def clasificar_edad(edad):\n",
    "    if edad <= 24:\n",
    "        return \"18-24\"\n",
    "    elif edad > 24 and edad <= 34:\n",
    "        return \"25-34\"\n",
    "    elif edad > 34 and edad <= 44:\n",
    "        return \"35-44\"\n",
    "    elif edad > 44 and edad <= 54:\n",
    "        return \"45-54\"\n",
    "    elif edad > 54 and edad <= 64:\n",
    "        return \"55-64\"\n",
    "    else:\n",
    "        return \"65+\"\n",
    "\n",
    "# Crear la nueva columna categórica para grupos etarios\n",
    "df['GruposEtarios'] = df['Edad'].apply(clasificar_edad)\n",
    "df = df.drop('Edad', axis = 1)"
   ]
  },
  {
   "cell_type": "markdown",
   "id": "49bfc46b",
   "metadata": {},
   "source": [
    "#### Estadisticas descriptivas por grupos\n",
    "\n",
    "##### Por Genero"
   ]
  },
  {
   "cell_type": "code",
   "execution_count": 263,
   "id": "ff8e218d",
   "metadata": {},
   "outputs": [
    {
     "data": {
      "application/vnd.microsoft.datawrangler.viewer.v0+json": {
       "columns": [
        {
         "name": "Genero",
         "rawType": "object",
         "type": "string"
        },
        {
         "name": "('Ingreso', 'count')",
         "rawType": "float64",
         "type": "float"
        },
        {
         "name": "('Ingreso', 'mean')",
         "rawType": "float64",
         "type": "float"
        },
        {
         "name": "('Ingreso', 'std')",
         "rawType": "float64",
         "type": "float"
        },
        {
         "name": "('Ingreso', 'min')",
         "rawType": "float64",
         "type": "float"
        },
        {
         "name": "('Ingreso', '25%')",
         "rawType": "float64",
         "type": "float"
        },
        {
         "name": "('Ingreso', '50%')",
         "rawType": "float64",
         "type": "float"
        },
        {
         "name": "('Ingreso', '75%')",
         "rawType": "float64",
         "type": "float"
        },
        {
         "name": "('Ingreso', 'max')",
         "rawType": "float64",
         "type": "float"
        }
       ],
       "conversionMethod": "pd.DataFrame",
       "ref": "a1cb5999-b8ab-4536-9688-41fe4e63f0a7",
       "rows": [
        [
         "Hombre",
         "88.0",
         "62126.66",
         "26765.49",
         "13458.02",
         "45003.08",
         "61706.56",
         "77731.3",
         "138584.52"
        ],
        [
         "Mujer",
         "112.0",
         "59444.14",
         "25920.46",
         "15766.84",
         "40013.41",
         "59355.3",
         "76788.39",
         "126685.78"
        ]
       ],
       "shape": {
        "columns": 8,
        "rows": 2
       }
      },
      "text/html": [
       "<div>\n",
       "<style scoped>\n",
       "    .dataframe tbody tr th:only-of-type {\n",
       "        vertical-align: middle;\n",
       "    }\n",
       "\n",
       "    .dataframe tbody tr th {\n",
       "        vertical-align: top;\n",
       "    }\n",
       "\n",
       "    .dataframe thead tr th {\n",
       "        text-align: left;\n",
       "    }\n",
       "\n",
       "    .dataframe thead tr:last-of-type th {\n",
       "        text-align: right;\n",
       "    }\n",
       "</style>\n",
       "<table border=\"1\" class=\"dataframe\">\n",
       "  <thead>\n",
       "    <tr>\n",
       "      <th></th>\n",
       "      <th colspan=\"8\" halign=\"left\">Ingreso</th>\n",
       "    </tr>\n",
       "    <tr>\n",
       "      <th></th>\n",
       "      <th>count</th>\n",
       "      <th>mean</th>\n",
       "      <th>std</th>\n",
       "      <th>min</th>\n",
       "      <th>25%</th>\n",
       "      <th>50%</th>\n",
       "      <th>75%</th>\n",
       "      <th>max</th>\n",
       "    </tr>\n",
       "    <tr>\n",
       "      <th>Genero</th>\n",
       "      <th></th>\n",
       "      <th></th>\n",
       "      <th></th>\n",
       "      <th></th>\n",
       "      <th></th>\n",
       "      <th></th>\n",
       "      <th></th>\n",
       "      <th></th>\n",
       "    </tr>\n",
       "  </thead>\n",
       "  <tbody>\n",
       "    <tr>\n",
       "      <th>Hombre</th>\n",
       "      <td>88.0</td>\n",
       "      <td>62126.66</td>\n",
       "      <td>26765.49</td>\n",
       "      <td>13458.02</td>\n",
       "      <td>45003.08</td>\n",
       "      <td>61706.56</td>\n",
       "      <td>77731.30</td>\n",
       "      <td>138584.52</td>\n",
       "    </tr>\n",
       "    <tr>\n",
       "      <th>Mujer</th>\n",
       "      <td>112.0</td>\n",
       "      <td>59444.14</td>\n",
       "      <td>25920.46</td>\n",
       "      <td>15766.84</td>\n",
       "      <td>40013.41</td>\n",
       "      <td>59355.30</td>\n",
       "      <td>76788.39</td>\n",
       "      <td>126685.78</td>\n",
       "    </tr>\n",
       "  </tbody>\n",
       "</table>\n",
       "</div>"
      ],
      "text/plain": [
       "       Ingreso                                                              \\\n",
       "         count      mean       std       min       25%       50%       75%   \n",
       "Genero                                                                       \n",
       "Hombre    88.0  62126.66  26765.49  13458.02  45003.08  61706.56  77731.30   \n",
       "Mujer    112.0  59444.14  25920.46  15766.84  40013.41  59355.30  76788.39   \n",
       "\n",
       "                   \n",
       "              max  \n",
       "Genero             \n",
       "Hombre  138584.52  \n",
       "Mujer   126685.78  "
      ]
     },
     "execution_count": 263,
     "metadata": {},
     "output_type": "execute_result"
    }
   ],
   "source": [
    "# Agrupar por la variable categórica y calcular estadísticas descriptivas\n",
    "estadisticas_por_categoria = df.groupby('Genero').describe()\n",
    "\n",
    "# Mostrar las estadísticas descriptivas por categoría\n",
    "round(estadisticas_por_categoria[['Ingreso']],2)"
   ]
  },
  {
   "cell_type": "code",
   "execution_count": 264,
   "id": "0f009308",
   "metadata": {},
   "outputs": [
    {
     "data": {
      "application/vnd.microsoft.datawrangler.viewer.v0+json": {
       "columns": [
        {
         "name": "Genero",
         "rawType": "object",
         "type": "string"
        },
        {
         "name": "('Puntaje_Gasto', 'count')",
         "rawType": "float64",
         "type": "float"
        },
        {
         "name": "('Puntaje_Gasto', 'mean')",
         "rawType": "float64",
         "type": "float"
        },
        {
         "name": "('Puntaje_Gasto', 'std')",
         "rawType": "float64",
         "type": "float"
        },
        {
         "name": "('Puntaje_Gasto', 'min')",
         "rawType": "float64",
         "type": "float"
        },
        {
         "name": "('Puntaje_Gasto', '25%')",
         "rawType": "float64",
         "type": "float"
        },
        {
         "name": "('Puntaje_Gasto', '50%')",
         "rawType": "float64",
         "type": "float"
        },
        {
         "name": "('Puntaje_Gasto', '75%')",
         "rawType": "float64",
         "type": "float"
        },
        {
         "name": "('Puntaje_Gasto', 'max')",
         "rawType": "float64",
         "type": "float"
        }
       ],
       "conversionMethod": "pd.DataFrame",
       "ref": "458325eb-4780-4182-86b5-989ecf7d7bf9",
       "rows": [
        [
         "Hombre",
         "88.0",
         "48.51",
         "27.9",
         "1.0",
         "24.5",
         "50.0",
         "70.0",
         "97.0"
        ],
        [
         "Mujer",
         "112.0",
         "51.53",
         "24.11",
         "5.0",
         "35.0",
         "50.0",
         "73.0",
         "99.0"
        ]
       ],
       "shape": {
        "columns": 8,
        "rows": 2
       }
      },
      "text/html": [
       "<div>\n",
       "<style scoped>\n",
       "    .dataframe tbody tr th:only-of-type {\n",
       "        vertical-align: middle;\n",
       "    }\n",
       "\n",
       "    .dataframe tbody tr th {\n",
       "        vertical-align: top;\n",
       "    }\n",
       "\n",
       "    .dataframe thead tr th {\n",
       "        text-align: left;\n",
       "    }\n",
       "\n",
       "    .dataframe thead tr:last-of-type th {\n",
       "        text-align: right;\n",
       "    }\n",
       "</style>\n",
       "<table border=\"1\" class=\"dataframe\">\n",
       "  <thead>\n",
       "    <tr>\n",
       "      <th></th>\n",
       "      <th colspan=\"8\" halign=\"left\">Puntaje_Gasto</th>\n",
       "    </tr>\n",
       "    <tr>\n",
       "      <th></th>\n",
       "      <th>count</th>\n",
       "      <th>mean</th>\n",
       "      <th>std</th>\n",
       "      <th>min</th>\n",
       "      <th>25%</th>\n",
       "      <th>50%</th>\n",
       "      <th>75%</th>\n",
       "      <th>max</th>\n",
       "    </tr>\n",
       "    <tr>\n",
       "      <th>Genero</th>\n",
       "      <th></th>\n",
       "      <th></th>\n",
       "      <th></th>\n",
       "      <th></th>\n",
       "      <th></th>\n",
       "      <th></th>\n",
       "      <th></th>\n",
       "      <th></th>\n",
       "    </tr>\n",
       "  </thead>\n",
       "  <tbody>\n",
       "    <tr>\n",
       "      <th>Hombre</th>\n",
       "      <td>88.0</td>\n",
       "      <td>48.51</td>\n",
       "      <td>27.90</td>\n",
       "      <td>1.0</td>\n",
       "      <td>24.5</td>\n",
       "      <td>50.0</td>\n",
       "      <td>70.0</td>\n",
       "      <td>97.0</td>\n",
       "    </tr>\n",
       "    <tr>\n",
       "      <th>Mujer</th>\n",
       "      <td>112.0</td>\n",
       "      <td>51.53</td>\n",
       "      <td>24.11</td>\n",
       "      <td>5.0</td>\n",
       "      <td>35.0</td>\n",
       "      <td>50.0</td>\n",
       "      <td>73.0</td>\n",
       "      <td>99.0</td>\n",
       "    </tr>\n",
       "  </tbody>\n",
       "</table>\n",
       "</div>"
      ],
      "text/plain": [
       "       Puntaje_Gasto                                           \n",
       "               count   mean    std  min   25%   50%   75%   max\n",
       "Genero                                                         \n",
       "Hombre          88.0  48.51  27.90  1.0  24.5  50.0  70.0  97.0\n",
       "Mujer          112.0  51.53  24.11  5.0  35.0  50.0  73.0  99.0"
      ]
     },
     "execution_count": 264,
     "metadata": {},
     "output_type": "execute_result"
    }
   ],
   "source": [
    "# Mostrar las estadísticas descriptivas por categoría\n",
    "round(estadisticas_por_categoria[['Puntaje_Gasto']],2)"
   ]
  },
  {
   "cell_type": "markdown",
   "id": "b1ba6aba",
   "metadata": {},
   "source": [
    "Como podemos apreciar, en promedio, las mujeres tienen un menor ingreso que los hombres, mientras que son los hombres los que en promedio gastan menos que las mujeres. Es importante destacar que las diferencias de los promedios realmente no están muy alejadas para ambos grupos; por otro lado, es de señalar que la muestra está desbalanceada siendo mujeres la mayoría de individuos, por lo que pueden presentarse sesgos en los datos.\n",
    "\n",
    "Para ambos grupos, los percentiles 25 y 75 parecen ser simétricos para ingresos, caso diferente del Puntaje de Gasto.\n",
    "\n",
    "#### Por Grupos Etarios"
   ]
  },
  {
   "cell_type": "code",
   "execution_count": 265,
   "id": "e44d6b5c",
   "metadata": {},
   "outputs": [
    {
     "data": {
      "application/vnd.microsoft.datawrangler.viewer.v0+json": {
       "columns": [
        {
         "name": "GruposEtarios",
         "rawType": "object",
         "type": "string"
        },
        {
         "name": "('Ingreso', 'count')",
         "rawType": "float64",
         "type": "float"
        },
        {
         "name": "('Ingreso', 'mean')",
         "rawType": "float64",
         "type": "float"
        },
        {
         "name": "('Ingreso', 'std')",
         "rawType": "float64",
         "type": "float"
        },
        {
         "name": "('Ingreso', 'min')",
         "rawType": "float64",
         "type": "float"
        },
        {
         "name": "('Ingreso', '25%')",
         "rawType": "float64",
         "type": "float"
        },
        {
         "name": "('Ingreso', '50%')",
         "rawType": "float64",
         "type": "float"
        },
        {
         "name": "('Ingreso', '75%')",
         "rawType": "float64",
         "type": "float"
        },
        {
         "name": "('Ingreso', 'max')",
         "rawType": "float64",
         "type": "float"
        }
       ],
       "conversionMethod": "pd.DataFrame",
       "ref": "34027c4d-5fb0-4189-9706-22e37a47e0cf",
       "rows": [
        [
         "18-24",
         "35.0",
         "44454.8",
         "20378.21",
         "13458.02",
         "24465.32",
         "46455.34",
         "61564.36",
         "80360.65"
        ],
        [
         "25-34",
         "54.0",
         "71157.33",
         "27885.79",
         "19003.52",
         "50141.66",
         "75824.91",
         "85872.94",
         "138584.52"
        ],
        [
         "35-44",
         "42.0",
         "66957.1",
         "27722.05",
         "18797.16",
         "50771.22",
         "71638.86",
         "86762.78",
         "119534.68"
        ],
        [
         "45-54",
         "39.0",
         "58786.49",
         "24276.27",
         "24402.32",
         "42447.56",
         "55041.39",
         "67337.1",
         "126685.78"
        ],
        [
         "55-64",
         "16.0",
         "56357.09",
         "22351.83",
         "18434.74",
         "46947.21",
         "54718.18",
         "72384.28",
         "94049.49"
        ],
        [
         "65+",
         "14.0",
         "51420.79",
         "12686.44",
         "18437.21",
         "45659.18",
         "51546.64",
         "61858.47",
         "64156.37"
        ]
       ],
       "shape": {
        "columns": 8,
        "rows": 6
       }
      },
      "text/html": [
       "<div>\n",
       "<style scoped>\n",
       "    .dataframe tbody tr th:only-of-type {\n",
       "        vertical-align: middle;\n",
       "    }\n",
       "\n",
       "    .dataframe tbody tr th {\n",
       "        vertical-align: top;\n",
       "    }\n",
       "\n",
       "    .dataframe thead tr th {\n",
       "        text-align: left;\n",
       "    }\n",
       "\n",
       "    .dataframe thead tr:last-of-type th {\n",
       "        text-align: right;\n",
       "    }\n",
       "</style>\n",
       "<table border=\"1\" class=\"dataframe\">\n",
       "  <thead>\n",
       "    <tr>\n",
       "      <th></th>\n",
       "      <th colspan=\"8\" halign=\"left\">Ingreso</th>\n",
       "    </tr>\n",
       "    <tr>\n",
       "      <th></th>\n",
       "      <th>count</th>\n",
       "      <th>mean</th>\n",
       "      <th>std</th>\n",
       "      <th>min</th>\n",
       "      <th>25%</th>\n",
       "      <th>50%</th>\n",
       "      <th>75%</th>\n",
       "      <th>max</th>\n",
       "    </tr>\n",
       "    <tr>\n",
       "      <th>GruposEtarios</th>\n",
       "      <th></th>\n",
       "      <th></th>\n",
       "      <th></th>\n",
       "      <th></th>\n",
       "      <th></th>\n",
       "      <th></th>\n",
       "      <th></th>\n",
       "      <th></th>\n",
       "    </tr>\n",
       "  </thead>\n",
       "  <tbody>\n",
       "    <tr>\n",
       "      <th>18-24</th>\n",
       "      <td>35.0</td>\n",
       "      <td>44454.80</td>\n",
       "      <td>20378.21</td>\n",
       "      <td>13458.02</td>\n",
       "      <td>24465.32</td>\n",
       "      <td>46455.34</td>\n",
       "      <td>61564.36</td>\n",
       "      <td>80360.65</td>\n",
       "    </tr>\n",
       "    <tr>\n",
       "      <th>25-34</th>\n",
       "      <td>54.0</td>\n",
       "      <td>71157.33</td>\n",
       "      <td>27885.79</td>\n",
       "      <td>19003.52</td>\n",
       "      <td>50141.66</td>\n",
       "      <td>75824.91</td>\n",
       "      <td>85872.94</td>\n",
       "      <td>138584.52</td>\n",
       "    </tr>\n",
       "    <tr>\n",
       "      <th>35-44</th>\n",
       "      <td>42.0</td>\n",
       "      <td>66957.10</td>\n",
       "      <td>27722.05</td>\n",
       "      <td>18797.16</td>\n",
       "      <td>50771.22</td>\n",
       "      <td>71638.86</td>\n",
       "      <td>86762.78</td>\n",
       "      <td>119534.68</td>\n",
       "    </tr>\n",
       "    <tr>\n",
       "      <th>45-54</th>\n",
       "      <td>39.0</td>\n",
       "      <td>58786.49</td>\n",
       "      <td>24276.27</td>\n",
       "      <td>24402.32</td>\n",
       "      <td>42447.56</td>\n",
       "      <td>55041.39</td>\n",
       "      <td>67337.10</td>\n",
       "      <td>126685.78</td>\n",
       "    </tr>\n",
       "    <tr>\n",
       "      <th>55-64</th>\n",
       "      <td>16.0</td>\n",
       "      <td>56357.09</td>\n",
       "      <td>22351.83</td>\n",
       "      <td>18434.74</td>\n",
       "      <td>46947.21</td>\n",
       "      <td>54718.18</td>\n",
       "      <td>72384.28</td>\n",
       "      <td>94049.49</td>\n",
       "    </tr>\n",
       "    <tr>\n",
       "      <th>65+</th>\n",
       "      <td>14.0</td>\n",
       "      <td>51420.79</td>\n",
       "      <td>12686.44</td>\n",
       "      <td>18437.21</td>\n",
       "      <td>45659.18</td>\n",
       "      <td>51546.64</td>\n",
       "      <td>61858.47</td>\n",
       "      <td>64156.37</td>\n",
       "    </tr>\n",
       "  </tbody>\n",
       "</table>\n",
       "</div>"
      ],
      "text/plain": [
       "              Ingreso                                                    \\\n",
       "                count      mean       std       min       25%       50%   \n",
       "GruposEtarios                                                             \n",
       "18-24            35.0  44454.80  20378.21  13458.02  24465.32  46455.34   \n",
       "25-34            54.0  71157.33  27885.79  19003.52  50141.66  75824.91   \n",
       "35-44            42.0  66957.10  27722.05  18797.16  50771.22  71638.86   \n",
       "45-54            39.0  58786.49  24276.27  24402.32  42447.56  55041.39   \n",
       "55-64            16.0  56357.09  22351.83  18434.74  46947.21  54718.18   \n",
       "65+              14.0  51420.79  12686.44  18437.21  45659.18  51546.64   \n",
       "\n",
       "                                    \n",
       "                    75%        max  \n",
       "GruposEtarios                       \n",
       "18-24          61564.36   80360.65  \n",
       "25-34          85872.94  138584.52  \n",
       "35-44          86762.78  119534.68  \n",
       "45-54          67337.10  126685.78  \n",
       "55-64          72384.28   94049.49  \n",
       "65+            61858.47   64156.37  "
      ]
     },
     "execution_count": 265,
     "metadata": {},
     "output_type": "execute_result"
    }
   ],
   "source": [
    "# Agrupar por la variable categórica y calcular estadísticas descriptivas\n",
    "estadisticas_por_categoria = df.groupby('GruposEtarios').describe()\n",
    "\n",
    "# Mostrar las estadísticas descriptivas por categoría\n",
    "round(estadisticas_por_categoria[['Ingreso']],2)\n"
   ]
  },
  {
   "cell_type": "code",
   "execution_count": 266,
   "id": "cbc5490c",
   "metadata": {},
   "outputs": [
    {
     "data": {
      "application/vnd.microsoft.datawrangler.viewer.v0+json": {
       "columns": [
        {
         "name": "GruposEtarios",
         "rawType": "object",
         "type": "string"
        },
        {
         "name": "('Puntaje_Gasto', 'count')",
         "rawType": "float64",
         "type": "float"
        },
        {
         "name": "('Puntaje_Gasto', 'mean')",
         "rawType": "float64",
         "type": "float"
        },
        {
         "name": "('Puntaje_Gasto', 'std')",
         "rawType": "float64",
         "type": "float"
        },
        {
         "name": "('Puntaje_Gasto', 'min')",
         "rawType": "float64",
         "type": "float"
        },
        {
         "name": "('Puntaje_Gasto', '25%')",
         "rawType": "float64",
         "type": "float"
        },
        {
         "name": "('Puntaje_Gasto', '50%')",
         "rawType": "float64",
         "type": "float"
        },
        {
         "name": "('Puntaje_Gasto', '75%')",
         "rawType": "float64",
         "type": "float"
        },
        {
         "name": "('Puntaje_Gasto', 'max')",
         "rawType": "float64",
         "type": "float"
        }
       ],
       "conversionMethod": "pd.DataFrame",
       "ref": "cfc06c0c-48f1-402b-a9e9-3c8afdda09fb",
       "rows": [
        [
         "18-24",
         "35.0",
         "56.26",
         "24.66",
         "5.0",
         "44.0",
         "55.0",
         "76.5",
         "94.0"
        ],
        [
         "25-34",
         "54.0",
         "63.17",
         "24.28",
         "1.0",
         "47.75",
         "70.0",
         "82.75",
         "97.0"
        ],
        [
         "35-44",
         "42.0",
         "49.43",
         "30.7",
         "1.0",
         "21.5",
         "41.0",
         "75.75",
         "99.0"
        ],
        [
         "45-54",
         "39.0",
         "36.23",
         "16.26",
         "4.0",
         "25.0",
         "42.0",
         "47.5",
         "59.0"
        ],
        [
         "55-64",
         "16.0",
         "32.31",
         "21.75",
         "3.0",
         "13.25",
         "39.0",
         "51.0",
         "60.0"
        ],
        [
         "65+",
         "14.0",
         "46.71",
         "11.43",
         "14.0",
         "43.75",
         "49.0",
         "54.25",
         "59.0"
        ]
       ],
       "shape": {
        "columns": 8,
        "rows": 6
       }
      },
      "text/html": [
       "<div>\n",
       "<style scoped>\n",
       "    .dataframe tbody tr th:only-of-type {\n",
       "        vertical-align: middle;\n",
       "    }\n",
       "\n",
       "    .dataframe tbody tr th {\n",
       "        vertical-align: top;\n",
       "    }\n",
       "\n",
       "    .dataframe thead tr th {\n",
       "        text-align: left;\n",
       "    }\n",
       "\n",
       "    .dataframe thead tr:last-of-type th {\n",
       "        text-align: right;\n",
       "    }\n",
       "</style>\n",
       "<table border=\"1\" class=\"dataframe\">\n",
       "  <thead>\n",
       "    <tr>\n",
       "      <th></th>\n",
       "      <th colspan=\"8\" halign=\"left\">Puntaje_Gasto</th>\n",
       "    </tr>\n",
       "    <tr>\n",
       "      <th></th>\n",
       "      <th>count</th>\n",
       "      <th>mean</th>\n",
       "      <th>std</th>\n",
       "      <th>min</th>\n",
       "      <th>25%</th>\n",
       "      <th>50%</th>\n",
       "      <th>75%</th>\n",
       "      <th>max</th>\n",
       "    </tr>\n",
       "    <tr>\n",
       "      <th>GruposEtarios</th>\n",
       "      <th></th>\n",
       "      <th></th>\n",
       "      <th></th>\n",
       "      <th></th>\n",
       "      <th></th>\n",
       "      <th></th>\n",
       "      <th></th>\n",
       "      <th></th>\n",
       "    </tr>\n",
       "  </thead>\n",
       "  <tbody>\n",
       "    <tr>\n",
       "      <th>18-24</th>\n",
       "      <td>35.0</td>\n",
       "      <td>56.26</td>\n",
       "      <td>24.66</td>\n",
       "      <td>5.0</td>\n",
       "      <td>44.00</td>\n",
       "      <td>55.0</td>\n",
       "      <td>76.50</td>\n",
       "      <td>94.0</td>\n",
       "    </tr>\n",
       "    <tr>\n",
       "      <th>25-34</th>\n",
       "      <td>54.0</td>\n",
       "      <td>63.17</td>\n",
       "      <td>24.28</td>\n",
       "      <td>1.0</td>\n",
       "      <td>47.75</td>\n",
       "      <td>70.0</td>\n",
       "      <td>82.75</td>\n",
       "      <td>97.0</td>\n",
       "    </tr>\n",
       "    <tr>\n",
       "      <th>35-44</th>\n",
       "      <td>42.0</td>\n",
       "      <td>49.43</td>\n",
       "      <td>30.70</td>\n",
       "      <td>1.0</td>\n",
       "      <td>21.50</td>\n",
       "      <td>41.0</td>\n",
       "      <td>75.75</td>\n",
       "      <td>99.0</td>\n",
       "    </tr>\n",
       "    <tr>\n",
       "      <th>45-54</th>\n",
       "      <td>39.0</td>\n",
       "      <td>36.23</td>\n",
       "      <td>16.26</td>\n",
       "      <td>4.0</td>\n",
       "      <td>25.00</td>\n",
       "      <td>42.0</td>\n",
       "      <td>47.50</td>\n",
       "      <td>59.0</td>\n",
       "    </tr>\n",
       "    <tr>\n",
       "      <th>55-64</th>\n",
       "      <td>16.0</td>\n",
       "      <td>32.31</td>\n",
       "      <td>21.75</td>\n",
       "      <td>3.0</td>\n",
       "      <td>13.25</td>\n",
       "      <td>39.0</td>\n",
       "      <td>51.00</td>\n",
       "      <td>60.0</td>\n",
       "    </tr>\n",
       "    <tr>\n",
       "      <th>65+</th>\n",
       "      <td>14.0</td>\n",
       "      <td>46.71</td>\n",
       "      <td>11.43</td>\n",
       "      <td>14.0</td>\n",
       "      <td>43.75</td>\n",
       "      <td>49.0</td>\n",
       "      <td>54.25</td>\n",
       "      <td>59.0</td>\n",
       "    </tr>\n",
       "  </tbody>\n",
       "</table>\n",
       "</div>"
      ],
      "text/plain": [
       "              Puntaje_Gasto                                              \n",
       "                      count   mean    std   min    25%   50%    75%   max\n",
       "GruposEtarios                                                            \n",
       "18-24                  35.0  56.26  24.66   5.0  44.00  55.0  76.50  94.0\n",
       "25-34                  54.0  63.17  24.28   1.0  47.75  70.0  82.75  97.0\n",
       "35-44                  42.0  49.43  30.70   1.0  21.50  41.0  75.75  99.0\n",
       "45-54                  39.0  36.23  16.26   4.0  25.00  42.0  47.50  59.0\n",
       "55-64                  16.0  32.31  21.75   3.0  13.25  39.0  51.00  60.0\n",
       "65+                    14.0  46.71  11.43  14.0  43.75  49.0  54.25  59.0"
      ]
     },
     "execution_count": 266,
     "metadata": {},
     "output_type": "execute_result"
    }
   ],
   "source": [
    "round(estadisticas_por_categoria[['Puntaje_Gasto']],2)"
   ]
  },
  {
   "cell_type": "markdown",
   "id": "9f23c613",
   "metadata": {},
   "source": [
    "Como podemos apreciar, son los individuos entre 25-34 años los que en promedio tienen mayores ingresos y Puntaje de Gasto; por otro lado, los individuos entre 18-24 son los que perciben menores ingresos en promedio, mientras los que menos Puntaje de Gasto tienen son los individuos entre 55-64. Una vez mas la muestra está desbalanceada, siendo la mayoría de individuos los que tienen entre 35-44 años, mientras que la minoría son los mayores a 65.\n",
    "\n",
    "##### Por Genero y Grupo Etario"
   ]
  },
  {
   "cell_type": "code",
   "execution_count": 267,
   "id": "db4795cf",
   "metadata": {},
   "outputs": [
    {
     "data": {
      "application/vnd.microsoft.datawrangler.viewer.v0+json": {
       "columns": [
        {
         "name": "('GruposEtarios', 'Genero')",
         "rawType": "object",
         "type": "unknown"
        },
        {
         "name": "('Ingreso', 'count')",
         "rawType": "float64",
         "type": "float"
        },
        {
         "name": "('Ingreso', 'mean')",
         "rawType": "float64",
         "type": "float"
        },
        {
         "name": "('Ingreso', 'std')",
         "rawType": "float64",
         "type": "float"
        },
        {
         "name": "('Ingreso', 'min')",
         "rawType": "float64",
         "type": "float"
        },
        {
         "name": "('Ingreso', '25%')",
         "rawType": "float64",
         "type": "float"
        },
        {
         "name": "('Ingreso', '50%')",
         "rawType": "float64",
         "type": "float"
        },
        {
         "name": "('Ingreso', '75%')",
         "rawType": "float64",
         "type": "float"
        },
        {
         "name": "('Ingreso', 'max')",
         "rawType": "float64",
         "type": "float"
        }
       ],
       "conversionMethod": "pd.DataFrame",
       "ref": "ba79b86f-3adf-4a3d-9d86-ce695d446056",
       "rows": [
        [
         "('18-24', 'Hombre')",
         "16.0",
         "46748.48",
         "21515.09",
         "13458.02",
         "29984.65",
         "47652.49",
         "60447.45",
         "80360.65"
        ],
        [
         "('18-24', 'Mujer')",
         "19.0",
         "42523.27",
         "19749.37",
         "15766.84",
         "23830.82",
         "38599.28",
         "61699.16",
         "71427.64"
        ],
        [
         "('25-34', 'Hombre')",
         "22.0",
         "78927.43",
         "32734.45",
         "22531.85",
         "61793.42",
         "77390.98",
         "96065.52",
         "138584.52"
        ],
        [
         "('25-34', 'Mujer')",
         "32.0",
         "65815.38",
         "23049.65",
         "19003.52",
         "46428.23",
         "72515.76",
         "78621.06",
         "103654.79"
        ],
        [
         "('35-44', 'Hombre')",
         "18.0",
         "67001.99",
         "22499.53",
         "18797.16",
         "58063.71",
         "71638.86",
         "83590.71",
         "91426.18"
        ],
        [
         "('35-44', 'Mujer')",
         "24.0",
         "66923.43",
         "31556.05",
         "19281.75",
         "37553.35",
         "72184.82",
         "89797.32",
         "119534.68"
        ],
        [
         "('45-54', 'Hombre')",
         "14.0",
         "58029.13",
         "20522.77",
         "24993.78",
         "43724.24",
         "60761.56",
         "69593.59",
         "97525.8"
        ],
        [
         "('45-54', 'Mujer')",
         "25.0",
         "59210.61",
         "26541.55",
         "24402.32",
         "41739.84",
         "54827.74",
         "67219.48",
         "126685.78"
        ],
        [
         "('55-64', 'Hombre')",
         "9.0",
         "55780.23",
         "25094.51",
         "18434.74",
         "42262.04",
         "54475.76",
         "71651.08",
         "94049.49"
        ],
        [
         "('55-64', 'Mujer')",
         "7.0",
         "57098.78",
         "20204.55",
         "19617.67",
         "49946.06",
         "58838.53",
         "70389.06",
         "80565.01"
        ],
        [
         "('65+', 'Hombre')",
         "9.0",
         "51366.81",
         "14577.26",
         "18437.21",
         "45222.06",
         "52200.84",
         "61969.15",
         "64156.37"
        ],
        [
         "('65+', 'Mujer')",
         "5.0",
         "51517.96",
         "9902.63",
         "37926.15",
         "46970.54",
         "50529.76",
         "59872.08",
         "62291.26"
        ]
       ],
       "shape": {
        "columns": 8,
        "rows": 12
       }
      },
      "text/html": [
       "<div>\n",
       "<style scoped>\n",
       "    .dataframe tbody tr th:only-of-type {\n",
       "        vertical-align: middle;\n",
       "    }\n",
       "\n",
       "    .dataframe tbody tr th {\n",
       "        vertical-align: top;\n",
       "    }\n",
       "\n",
       "    .dataframe thead tr th {\n",
       "        text-align: left;\n",
       "    }\n",
       "\n",
       "    .dataframe thead tr:last-of-type th {\n",
       "        text-align: right;\n",
       "    }\n",
       "</style>\n",
       "<table border=\"1\" class=\"dataframe\">\n",
       "  <thead>\n",
       "    <tr>\n",
       "      <th></th>\n",
       "      <th></th>\n",
       "      <th colspan=\"8\" halign=\"left\">Ingreso</th>\n",
       "    </tr>\n",
       "    <tr>\n",
       "      <th></th>\n",
       "      <th></th>\n",
       "      <th>count</th>\n",
       "      <th>mean</th>\n",
       "      <th>std</th>\n",
       "      <th>min</th>\n",
       "      <th>25%</th>\n",
       "      <th>50%</th>\n",
       "      <th>75%</th>\n",
       "      <th>max</th>\n",
       "    </tr>\n",
       "    <tr>\n",
       "      <th>GruposEtarios</th>\n",
       "      <th>Genero</th>\n",
       "      <th></th>\n",
       "      <th></th>\n",
       "      <th></th>\n",
       "      <th></th>\n",
       "      <th></th>\n",
       "      <th></th>\n",
       "      <th></th>\n",
       "      <th></th>\n",
       "    </tr>\n",
       "  </thead>\n",
       "  <tbody>\n",
       "    <tr>\n",
       "      <th rowspan=\"2\" valign=\"top\">18-24</th>\n",
       "      <th>Hombre</th>\n",
       "      <td>16.0</td>\n",
       "      <td>46748.48</td>\n",
       "      <td>21515.09</td>\n",
       "      <td>13458.02</td>\n",
       "      <td>29984.65</td>\n",
       "      <td>47652.49</td>\n",
       "      <td>60447.45</td>\n",
       "      <td>80360.65</td>\n",
       "    </tr>\n",
       "    <tr>\n",
       "      <th>Mujer</th>\n",
       "      <td>19.0</td>\n",
       "      <td>42523.27</td>\n",
       "      <td>19749.37</td>\n",
       "      <td>15766.84</td>\n",
       "      <td>23830.82</td>\n",
       "      <td>38599.28</td>\n",
       "      <td>61699.16</td>\n",
       "      <td>71427.64</td>\n",
       "    </tr>\n",
       "    <tr>\n",
       "      <th rowspan=\"2\" valign=\"top\">25-34</th>\n",
       "      <th>Hombre</th>\n",
       "      <td>22.0</td>\n",
       "      <td>78927.43</td>\n",
       "      <td>32734.45</td>\n",
       "      <td>22531.85</td>\n",
       "      <td>61793.42</td>\n",
       "      <td>77390.98</td>\n",
       "      <td>96065.52</td>\n",
       "      <td>138584.52</td>\n",
       "    </tr>\n",
       "    <tr>\n",
       "      <th>Mujer</th>\n",
       "      <td>32.0</td>\n",
       "      <td>65815.38</td>\n",
       "      <td>23049.65</td>\n",
       "      <td>19003.52</td>\n",
       "      <td>46428.23</td>\n",
       "      <td>72515.76</td>\n",
       "      <td>78621.06</td>\n",
       "      <td>103654.79</td>\n",
       "    </tr>\n",
       "    <tr>\n",
       "      <th rowspan=\"2\" valign=\"top\">35-44</th>\n",
       "      <th>Hombre</th>\n",
       "      <td>18.0</td>\n",
       "      <td>67001.99</td>\n",
       "      <td>22499.53</td>\n",
       "      <td>18797.16</td>\n",
       "      <td>58063.71</td>\n",
       "      <td>71638.86</td>\n",
       "      <td>83590.71</td>\n",
       "      <td>91426.18</td>\n",
       "    </tr>\n",
       "    <tr>\n",
       "      <th>Mujer</th>\n",
       "      <td>24.0</td>\n",
       "      <td>66923.43</td>\n",
       "      <td>31556.05</td>\n",
       "      <td>19281.75</td>\n",
       "      <td>37553.35</td>\n",
       "      <td>72184.82</td>\n",
       "      <td>89797.32</td>\n",
       "      <td>119534.68</td>\n",
       "    </tr>\n",
       "    <tr>\n",
       "      <th rowspan=\"2\" valign=\"top\">45-54</th>\n",
       "      <th>Hombre</th>\n",
       "      <td>14.0</td>\n",
       "      <td>58029.13</td>\n",
       "      <td>20522.77</td>\n",
       "      <td>24993.78</td>\n",
       "      <td>43724.24</td>\n",
       "      <td>60761.56</td>\n",
       "      <td>69593.59</td>\n",
       "      <td>97525.80</td>\n",
       "    </tr>\n",
       "    <tr>\n",
       "      <th>Mujer</th>\n",
       "      <td>25.0</td>\n",
       "      <td>59210.61</td>\n",
       "      <td>26541.55</td>\n",
       "      <td>24402.32</td>\n",
       "      <td>41739.84</td>\n",
       "      <td>54827.74</td>\n",
       "      <td>67219.48</td>\n",
       "      <td>126685.78</td>\n",
       "    </tr>\n",
       "    <tr>\n",
       "      <th rowspan=\"2\" valign=\"top\">55-64</th>\n",
       "      <th>Hombre</th>\n",
       "      <td>9.0</td>\n",
       "      <td>55780.23</td>\n",
       "      <td>25094.51</td>\n",
       "      <td>18434.74</td>\n",
       "      <td>42262.04</td>\n",
       "      <td>54475.76</td>\n",
       "      <td>71651.08</td>\n",
       "      <td>94049.49</td>\n",
       "    </tr>\n",
       "    <tr>\n",
       "      <th>Mujer</th>\n",
       "      <td>7.0</td>\n",
       "      <td>57098.78</td>\n",
       "      <td>20204.55</td>\n",
       "      <td>19617.67</td>\n",
       "      <td>49946.06</td>\n",
       "      <td>58838.53</td>\n",
       "      <td>70389.06</td>\n",
       "      <td>80565.01</td>\n",
       "    </tr>\n",
       "    <tr>\n",
       "      <th rowspan=\"2\" valign=\"top\">65+</th>\n",
       "      <th>Hombre</th>\n",
       "      <td>9.0</td>\n",
       "      <td>51366.81</td>\n",
       "      <td>14577.26</td>\n",
       "      <td>18437.21</td>\n",
       "      <td>45222.06</td>\n",
       "      <td>52200.84</td>\n",
       "      <td>61969.15</td>\n",
       "      <td>64156.37</td>\n",
       "    </tr>\n",
       "    <tr>\n",
       "      <th>Mujer</th>\n",
       "      <td>5.0</td>\n",
       "      <td>51517.96</td>\n",
       "      <td>9902.63</td>\n",
       "      <td>37926.15</td>\n",
       "      <td>46970.54</td>\n",
       "      <td>50529.76</td>\n",
       "      <td>59872.08</td>\n",
       "      <td>62291.26</td>\n",
       "    </tr>\n",
       "  </tbody>\n",
       "</table>\n",
       "</div>"
      ],
      "text/plain": [
       "                     Ingreso                                          \\\n",
       "                       count      mean       std       min       25%   \n",
       "GruposEtarios Genero                                                   \n",
       "18-24         Hombre    16.0  46748.48  21515.09  13458.02  29984.65   \n",
       "              Mujer     19.0  42523.27  19749.37  15766.84  23830.82   \n",
       "25-34         Hombre    22.0  78927.43  32734.45  22531.85  61793.42   \n",
       "              Mujer     32.0  65815.38  23049.65  19003.52  46428.23   \n",
       "35-44         Hombre    18.0  67001.99  22499.53  18797.16  58063.71   \n",
       "              Mujer     24.0  66923.43  31556.05  19281.75  37553.35   \n",
       "45-54         Hombre    14.0  58029.13  20522.77  24993.78  43724.24   \n",
       "              Mujer     25.0  59210.61  26541.55  24402.32  41739.84   \n",
       "55-64         Hombre     9.0  55780.23  25094.51  18434.74  42262.04   \n",
       "              Mujer      7.0  57098.78  20204.55  19617.67  49946.06   \n",
       "65+           Hombre     9.0  51366.81  14577.26  18437.21  45222.06   \n",
       "              Mujer      5.0  51517.96   9902.63  37926.15  46970.54   \n",
       "\n",
       "                                                     \n",
       "                           50%       75%        max  \n",
       "GruposEtarios Genero                                 \n",
       "18-24         Hombre  47652.49  60447.45   80360.65  \n",
       "              Mujer   38599.28  61699.16   71427.64  \n",
       "25-34         Hombre  77390.98  96065.52  138584.52  \n",
       "              Mujer   72515.76  78621.06  103654.79  \n",
       "35-44         Hombre  71638.86  83590.71   91426.18  \n",
       "              Mujer   72184.82  89797.32  119534.68  \n",
       "45-54         Hombre  60761.56  69593.59   97525.80  \n",
       "              Mujer   54827.74  67219.48  126685.78  \n",
       "55-64         Hombre  54475.76  71651.08   94049.49  \n",
       "              Mujer   58838.53  70389.06   80565.01  \n",
       "65+           Hombre  52200.84  61969.15   64156.37  \n",
       "              Mujer   50529.76  59872.08   62291.26  "
      ]
     },
     "execution_count": 267,
     "metadata": {},
     "output_type": "execute_result"
    }
   ],
   "source": [
    "# Agrupar por las variables categóricas \"Grupo Etario\" y \"Genero\", luego calcular estadísticas descriptivas\n",
    "estadisticas_por_categoria = df.groupby(['GruposEtarios', 'Genero']).describe()\n",
    "\n",
    "# Mostrar las estadísticas descriptivas por categorías\n",
    "round(estadisticas_por_categoria[['Ingreso']],2)"
   ]
  },
  {
   "cell_type": "code",
   "execution_count": 268,
   "id": "fcb6865b",
   "metadata": {},
   "outputs": [
    {
     "data": {
      "application/vnd.microsoft.datawrangler.viewer.v0+json": {
       "columns": [
        {
         "name": "('GruposEtarios', 'Genero')",
         "rawType": "object",
         "type": "unknown"
        },
        {
         "name": "('Puntaje_Gasto', 'count')",
         "rawType": "float64",
         "type": "float"
        },
        {
         "name": "('Puntaje_Gasto', 'mean')",
         "rawType": "float64",
         "type": "float"
        },
        {
         "name": "('Puntaje_Gasto', 'std')",
         "rawType": "float64",
         "type": "float"
        },
        {
         "name": "('Puntaje_Gasto', 'min')",
         "rawType": "float64",
         "type": "float"
        },
        {
         "name": "('Puntaje_Gasto', '25%')",
         "rawType": "float64",
         "type": "float"
        },
        {
         "name": "('Puntaje_Gasto', '50%')",
         "rawType": "float64",
         "type": "float"
        },
        {
         "name": "('Puntaje_Gasto', '75%')",
         "rawType": "float64",
         "type": "float"
        },
        {
         "name": "('Puntaje_Gasto', 'max')",
         "rawType": "float64",
         "type": "float"
        }
       ],
       "conversionMethod": "pd.DataFrame",
       "ref": "476710fb-d701-4aa6-8dc9-4741e0759b15",
       "rows": [
        [
         "('18-24', 'Hombre')",
         "16.0",
         "51.88",
         "27.8",
         "5.0",
         "40.5",
         "53.5",
         "69.25",
         "92.0"
        ],
        [
         "('18-24', 'Mujer')",
         "19.0",
         "59.95",
         "21.75",
         "6.0",
         "49.0",
         "57.0",
         "76.5",
         "94.0"
        ],
        [
         "('25-34', 'Hombre')",
         "22.0",
         "62.45",
         "28.47",
         "1.0",
         "55.25",
         "71.0",
         "80.25",
         "97.0"
        ],
        [
         "('25-34', 'Mujer')",
         "32.0",
         "63.66",
         "21.41",
         "22.0",
         "45.75",
         "70.0",
         "83.75",
         "95.0"
        ],
        [
         "('35-44', 'Hombre')",
         "18.0",
         "50.78",
         "33.5",
         "1.0",
         "17.75",
         "51.5",
         "84.75",
         "95.0"
        ],
        [
         "('35-44', 'Mujer')",
         "24.0",
         "48.42",
         "29.12",
         "6.0",
         "26.75",
         "40.0",
         "75.25",
         "99.0"
        ],
        [
         "('45-54', 'Hombre')",
         "14.0",
         "34.36",
         "15.78",
         "4.0",
         "26.75",
         "38.5",
         "46.0",
         "56.0"
        ],
        [
         "('45-54', 'Mujer')",
         "25.0",
         "37.28",
         "16.75",
         "5.0",
         "24.0",
         "43.0",
         "50.0",
         "59.0"
        ],
        [
         "('55-64', 'Hombre')",
         "9.0",
         "28.44",
         "23.17",
         "3.0",
         "11.0",
         "15.0",
         "51.0",
         "60.0"
        ],
        [
         "('55-64', 'Mujer')",
         "7.0",
         "37.29",
         "20.39",
         "5.0",
         "25.0",
         "43.0",
         "52.5",
         "58.0"
        ],
        [
         "('65+', 'Hombre')",
         "9.0",
         "46.0",
         "13.45",
         "14.0",
         "43.0",
         "48.0",
         "55.0",
         "59.0"
        ],
        [
         "('65+', 'Mujer')",
         "5.0",
         "48.0",
         "7.71",
         "35.0",
         "48.0",
         "50.0",
         "52.0",
         "55.0"
        ]
       ],
       "shape": {
        "columns": 8,
        "rows": 12
       }
      },
      "text/html": [
       "<div>\n",
       "<style scoped>\n",
       "    .dataframe tbody tr th:only-of-type {\n",
       "        vertical-align: middle;\n",
       "    }\n",
       "\n",
       "    .dataframe tbody tr th {\n",
       "        vertical-align: top;\n",
       "    }\n",
       "\n",
       "    .dataframe thead tr th {\n",
       "        text-align: left;\n",
       "    }\n",
       "\n",
       "    .dataframe thead tr:last-of-type th {\n",
       "        text-align: right;\n",
       "    }\n",
       "</style>\n",
       "<table border=\"1\" class=\"dataframe\">\n",
       "  <thead>\n",
       "    <tr>\n",
       "      <th></th>\n",
       "      <th></th>\n",
       "      <th colspan=\"8\" halign=\"left\">Puntaje_Gasto</th>\n",
       "    </tr>\n",
       "    <tr>\n",
       "      <th></th>\n",
       "      <th></th>\n",
       "      <th>count</th>\n",
       "      <th>mean</th>\n",
       "      <th>std</th>\n",
       "      <th>min</th>\n",
       "      <th>25%</th>\n",
       "      <th>50%</th>\n",
       "      <th>75%</th>\n",
       "      <th>max</th>\n",
       "    </tr>\n",
       "    <tr>\n",
       "      <th>GruposEtarios</th>\n",
       "      <th>Genero</th>\n",
       "      <th></th>\n",
       "      <th></th>\n",
       "      <th></th>\n",
       "      <th></th>\n",
       "      <th></th>\n",
       "      <th></th>\n",
       "      <th></th>\n",
       "      <th></th>\n",
       "    </tr>\n",
       "  </thead>\n",
       "  <tbody>\n",
       "    <tr>\n",
       "      <th rowspan=\"2\" valign=\"top\">18-24</th>\n",
       "      <th>Hombre</th>\n",
       "      <td>16.0</td>\n",
       "      <td>51.88</td>\n",
       "      <td>27.80</td>\n",
       "      <td>5.0</td>\n",
       "      <td>40.50</td>\n",
       "      <td>53.5</td>\n",
       "      <td>69.25</td>\n",
       "      <td>92.0</td>\n",
       "    </tr>\n",
       "    <tr>\n",
       "      <th>Mujer</th>\n",
       "      <td>19.0</td>\n",
       "      <td>59.95</td>\n",
       "      <td>21.75</td>\n",
       "      <td>6.0</td>\n",
       "      <td>49.00</td>\n",
       "      <td>57.0</td>\n",
       "      <td>76.50</td>\n",
       "      <td>94.0</td>\n",
       "    </tr>\n",
       "    <tr>\n",
       "      <th rowspan=\"2\" valign=\"top\">25-34</th>\n",
       "      <th>Hombre</th>\n",
       "      <td>22.0</td>\n",
       "      <td>62.45</td>\n",
       "      <td>28.47</td>\n",
       "      <td>1.0</td>\n",
       "      <td>55.25</td>\n",
       "      <td>71.0</td>\n",
       "      <td>80.25</td>\n",
       "      <td>97.0</td>\n",
       "    </tr>\n",
       "    <tr>\n",
       "      <th>Mujer</th>\n",
       "      <td>32.0</td>\n",
       "      <td>63.66</td>\n",
       "      <td>21.41</td>\n",
       "      <td>22.0</td>\n",
       "      <td>45.75</td>\n",
       "      <td>70.0</td>\n",
       "      <td>83.75</td>\n",
       "      <td>95.0</td>\n",
       "    </tr>\n",
       "    <tr>\n",
       "      <th rowspan=\"2\" valign=\"top\">35-44</th>\n",
       "      <th>Hombre</th>\n",
       "      <td>18.0</td>\n",
       "      <td>50.78</td>\n",
       "      <td>33.50</td>\n",
       "      <td>1.0</td>\n",
       "      <td>17.75</td>\n",
       "      <td>51.5</td>\n",
       "      <td>84.75</td>\n",
       "      <td>95.0</td>\n",
       "    </tr>\n",
       "    <tr>\n",
       "      <th>Mujer</th>\n",
       "      <td>24.0</td>\n",
       "      <td>48.42</td>\n",
       "      <td>29.12</td>\n",
       "      <td>6.0</td>\n",
       "      <td>26.75</td>\n",
       "      <td>40.0</td>\n",
       "      <td>75.25</td>\n",
       "      <td>99.0</td>\n",
       "    </tr>\n",
       "    <tr>\n",
       "      <th rowspan=\"2\" valign=\"top\">45-54</th>\n",
       "      <th>Hombre</th>\n",
       "      <td>14.0</td>\n",
       "      <td>34.36</td>\n",
       "      <td>15.78</td>\n",
       "      <td>4.0</td>\n",
       "      <td>26.75</td>\n",
       "      <td>38.5</td>\n",
       "      <td>46.00</td>\n",
       "      <td>56.0</td>\n",
       "    </tr>\n",
       "    <tr>\n",
       "      <th>Mujer</th>\n",
       "      <td>25.0</td>\n",
       "      <td>37.28</td>\n",
       "      <td>16.75</td>\n",
       "      <td>5.0</td>\n",
       "      <td>24.00</td>\n",
       "      <td>43.0</td>\n",
       "      <td>50.00</td>\n",
       "      <td>59.0</td>\n",
       "    </tr>\n",
       "    <tr>\n",
       "      <th rowspan=\"2\" valign=\"top\">55-64</th>\n",
       "      <th>Hombre</th>\n",
       "      <td>9.0</td>\n",
       "      <td>28.44</td>\n",
       "      <td>23.17</td>\n",
       "      <td>3.0</td>\n",
       "      <td>11.00</td>\n",
       "      <td>15.0</td>\n",
       "      <td>51.00</td>\n",
       "      <td>60.0</td>\n",
       "    </tr>\n",
       "    <tr>\n",
       "      <th>Mujer</th>\n",
       "      <td>7.0</td>\n",
       "      <td>37.29</td>\n",
       "      <td>20.39</td>\n",
       "      <td>5.0</td>\n",
       "      <td>25.00</td>\n",
       "      <td>43.0</td>\n",
       "      <td>52.50</td>\n",
       "      <td>58.0</td>\n",
       "    </tr>\n",
       "    <tr>\n",
       "      <th rowspan=\"2\" valign=\"top\">65+</th>\n",
       "      <th>Hombre</th>\n",
       "      <td>9.0</td>\n",
       "      <td>46.00</td>\n",
       "      <td>13.45</td>\n",
       "      <td>14.0</td>\n",
       "      <td>43.00</td>\n",
       "      <td>48.0</td>\n",
       "      <td>55.00</td>\n",
       "      <td>59.0</td>\n",
       "    </tr>\n",
       "    <tr>\n",
       "      <th>Mujer</th>\n",
       "      <td>5.0</td>\n",
       "      <td>48.00</td>\n",
       "      <td>7.71</td>\n",
       "      <td>35.0</td>\n",
       "      <td>48.00</td>\n",
       "      <td>50.0</td>\n",
       "      <td>52.00</td>\n",
       "      <td>55.0</td>\n",
       "    </tr>\n",
       "  </tbody>\n",
       "</table>\n",
       "</div>"
      ],
      "text/plain": [
       "                     Puntaje_Gasto                                          \\\n",
       "                             count   mean    std   min    25%   50%    75%   \n",
       "GruposEtarios Genero                                                         \n",
       "18-24         Hombre          16.0  51.88  27.80   5.0  40.50  53.5  69.25   \n",
       "              Mujer           19.0  59.95  21.75   6.0  49.00  57.0  76.50   \n",
       "25-34         Hombre          22.0  62.45  28.47   1.0  55.25  71.0  80.25   \n",
       "              Mujer           32.0  63.66  21.41  22.0  45.75  70.0  83.75   \n",
       "35-44         Hombre          18.0  50.78  33.50   1.0  17.75  51.5  84.75   \n",
       "              Mujer           24.0  48.42  29.12   6.0  26.75  40.0  75.25   \n",
       "45-54         Hombre          14.0  34.36  15.78   4.0  26.75  38.5  46.00   \n",
       "              Mujer           25.0  37.28  16.75   5.0  24.00  43.0  50.00   \n",
       "55-64         Hombre           9.0  28.44  23.17   3.0  11.00  15.0  51.00   \n",
       "              Mujer            7.0  37.29  20.39   5.0  25.00  43.0  52.50   \n",
       "65+           Hombre           9.0  46.00  13.45  14.0  43.00  48.0  55.00   \n",
       "              Mujer            5.0  48.00   7.71  35.0  48.00  50.0  52.00   \n",
       "\n",
       "                            \n",
       "                       max  \n",
       "GruposEtarios Genero        \n",
       "18-24         Hombre  92.0  \n",
       "              Mujer   94.0  \n",
       "25-34         Hombre  97.0  \n",
       "              Mujer   95.0  \n",
       "35-44         Hombre  95.0  \n",
       "              Mujer   99.0  \n",
       "45-54         Hombre  56.0  \n",
       "              Mujer   59.0  \n",
       "55-64         Hombre  60.0  \n",
       "              Mujer   58.0  \n",
       "65+           Hombre  59.0  \n",
       "              Mujer   55.0  "
      ]
     },
     "execution_count": 268,
     "metadata": {},
     "output_type": "execute_result"
    }
   ],
   "source": [
    "# Mostrar las estadísticas descriptivas por categorías\n",
    "round(estadisticas_por_categoria[['Puntaje_Gasto']],2)"
   ]
  },
  {
   "cell_type": "code",
   "execution_count": 269,
   "id": "fb112139",
   "metadata": {},
   "outputs": [
    {
     "data": {
      "image/png": "[encoded data removed]",
      "text/plain": [
       "<Figure size 640x480 with 1 Axes>"
      ]
     },
     "metadata": {},
     "output_type": "display_data"
    }
   ],
   "source": [
    "# Crearemos un Scatterplot de las medias de los ingresos vs medias de los Puntajes de Gasto para cada Genero y Grupo Etario.\n",
    "\n",
    "# Crear el scatter plot\n",
    "fig, ax = plt.subplots()\n",
    "\n",
    "# Usar un bucle para graficar cada categoría con un color diferente\n",
    "categorias = estadisticas_por_categoria.index.unique()\n",
    "marcadores = ['.', '.', '^', '^', 's', 's', 'D', 'D', 'x', 'x', '*', '*']\n",
    "Colores = ['blue', 'red','blue', 'red','blue', 'red','blue', 'red','blue', 'red','blue', 'red']\n",
    "\n",
    "marcont = 0\n",
    "\n",
    "for categoria in categorias:\n",
    "    subset = estadisticas_por_categoria[estadisticas_por_categoria.index == categoria]\n",
    "    ax.scatter(subset['Puntaje_Gasto']['mean'], subset['Ingreso']['mean'], label=categoria, marker=marcadores[marcont], color=Colores[marcont])\n",
    "    marcont = marcont + 1\n",
    "\n",
    "# Añadir leyenda y etiquetas\n",
    "ax.legend(title='Categoría', loc='center left', bbox_to_anchor=(1, 0.5))\n",
    "ax.set_xlabel('Puntaje de Gasto')\n",
    "ax.set_ylabel('Ingreso')\n",
    "ax.set_title('Scatter Plot - Ingreso vs Puntaje de Gasto por Categorías')\n",
    "\n",
    "# Mostrar el gráfico\n",
    "plt.show()"
   ]
  },
  {
   "cell_type": "markdown",
   "id": "40359273",
   "metadata": {
    "id": "40359273"
   },
   "source": [
    "Como se aprecia en las estadisticas y gráficos, los ingresos promedio tanto para hombres como para mujeres parece estar muy parejo por Grupo Etario salvo para las edades entre 35-34 años; en cuanto al puntaje de gasto, en la mayoría de Grupos Etarios, las mujeres tienen mayor puntaje de gasto que los hombres, este comportamiento es más pronunciados en los grupos etarios de 65+ y 18-24, solo en el grupo de 35-44 los hombres tienen en promedio mayor Puntaje de gasto que las mujeres.\n",
    "\n",
    "##### Significancia estadística\n",
    "\n",
    "Procedemos a hacer la regresión lineal discriminando los individuos por Grupo Etario y Genero."
   ]
  },
  {
   "cell_type": "code",
   "execution_count": 270,
   "id": "da11295d",
   "metadata": {},
   "outputs": [
    {
     "data": {
      "application/vnd.microsoft.datawrangler.viewer.v0+json": {
       "columns": [
        {
         "name": "index",
         "rawType": "int64",
         "type": "integer"
        },
        {
         "name": "Ingreso",
         "rawType": "int64",
         "type": "integer"
        },
        {
         "name": "Puntaje_Gasto",
         "rawType": "int64",
         "type": "integer"
        },
        {
         "name": "GruposEtarios_Mujer",
         "rawType": "int64",
         "type": "integer"
        },
        {
         "name": "GruposEtarios_25-34",
         "rawType": "int64",
         "type": "integer"
        },
        {
         "name": "GruposEtarios_35-44",
         "rawType": "int64",
         "type": "integer"
        },
        {
         "name": "GruposEtarios_45-54",
         "rawType": "int64",
         "type": "integer"
        },
        {
         "name": "GruposEtarios_55-64",
         "rawType": "int64",
         "type": "integer"
        },
        {
         "name": "GruposEtarios_65+",
         "rawType": "int64",
         "type": "integer"
        },
        {
         "name": "Mujer_25-34",
         "rawType": "int64",
         "type": "integer"
        },
        {
         "name": "Mujer_35-44",
         "rawType": "int64",
         "type": "integer"
        },
        {
         "name": "Mujer_45-54",
         "rawType": "int64",
         "type": "integer"
        },
        {
         "name": "Mujer_55-64",
         "rawType": "int64",
         "type": "integer"
        },
        {
         "name": "Mujer_65+",
         "rawType": "int64",
         "type": "integer"
        },
        {
         "name": "Intercepto",
         "rawType": "int64",
         "type": "integer"
        }
       ],
       "conversionMethod": "pd.DataFrame",
       "ref": "87402460-257b-407e-abcd-f7ee9d06dfe6",
       "rows": [
        [
         "0",
         "98115",
         "39",
         "1",
         "0",
         "1",
         "0",
         "0",
         "0",
         "0",
         "1",
         "0",
         "0",
         "0",
         "1"
        ],
        [
         "1",
         "35458",
         "75",
         "1",
         "0",
         "0",
         "0",
         "0",
         "0",
         "0",
         "0",
         "0",
         "0",
         "0",
         "1"
        ],
        [
         "2",
         "59872",
         "55",
         "1",
         "0",
         "0",
         "0",
         "0",
         "1",
         "0",
         "0",
         "0",
         "0",
         "1",
         "1"
        ],
        [
         "3",
         "48508",
         "51",
         "0",
         "0",
         "0",
         "0",
         "1",
         "0",
         "0",
         "0",
         "0",
         "0",
         "0",
         "1"
        ],
        [
         "4",
         "44431",
         "54",
         "1",
         "1",
         "0",
         "0",
         "0",
         "0",
         "1",
         "0",
         "0",
         "0",
         "0",
         "1"
        ],
        [
         "5",
         "24905",
         "73",
         "0",
         "1",
         "0",
         "0",
         "0",
         "0",
         "0",
         "0",
         "0",
         "0",
         "0",
         "1"
        ],
        [
         "6",
         "76984",
         "74",
         "1",
         "1",
         "0",
         "0",
         "0",
         "0",
         "1",
         "0",
         "0",
         "0",
         "0",
         "1"
        ],
        [
         "7",
         "46278",
         "59",
         "0",
         "0",
         "0",
         "0",
         "0",
         "0",
         "0",
         "0",
         "0",
         "0",
         "0",
         "1"
        ],
        [
         "8",
         "102348",
         "68",
         "0",
         "1",
         "0",
         "0",
         "0",
         "0",
         "0",
         "0",
         "0",
         "0",
         "0",
         "1"
        ],
        [
         "9",
         "19720",
         "77",
         "1",
         "0",
         "0",
         "0",
         "0",
         "0",
         "0",
         "0",
         "0",
         "0",
         "0",
         "1"
        ],
        [
         "10",
         "77701",
         "20",
         "1",
         "0",
         "1",
         "0",
         "0",
         "0",
         "0",
         "1",
         "0",
         "0",
         "0",
         "1"
        ],
        [
         "11",
         "22531",
         "73",
         "0",
         "1",
         "0",
         "0",
         "0",
         "0",
         "0",
         "0",
         "0",
         "0",
         "0",
         "1"
        ],
        [
         "12",
         "52200",
         "41",
         "0",
         "0",
         "0",
         "0",
         "0",
         "1",
         "0",
         "0",
         "0",
         "0",
         "0",
         "1"
        ],
        [
         "13",
         "80575",
         "22",
         "1",
         "1",
         "0",
         "0",
         "0",
         "0",
         "1",
         "0",
         "0",
         "0",
         "0",
         "1"
        ],
        [
         "14",
         "77067",
         "97",
         "0",
         "1",
         "0",
         "0",
         "0",
         "0",
         "0",
         "0",
         "0",
         "0",
         "0",
         "1"
        ],
        [
         "15",
         "28813",
         "61",
         "0",
         "0",
         "1",
         "0",
         "0",
         "0",
         "0",
         "0",
         "0",
         "0",
         "0",
         "1"
        ],
        [
         "16",
         "71651",
         "11",
         "0",
         "0",
         "0",
         "0",
         "1",
         "0",
         "0",
         "0",
         "0",
         "0",
         "0",
         "1"
        ],
        [
         "17",
         "103654",
         "69",
         "1",
         "1",
         "0",
         "0",
         "0",
         "0",
         "1",
         "0",
         "0",
         "0",
         "0",
         "1"
        ],
        [
         "18",
         "87736",
         "15",
         "0",
         "0",
         "0",
         "0",
         "1",
         "0",
         "0",
         "0",
         "0",
         "0",
         "0",
         "1"
        ],
        [
         "19",
         "70469",
         "58",
         "1",
         "0",
         "1",
         "0",
         "0",
         "0",
         "0",
         "1",
         "0",
         "0",
         "0",
         "1"
        ],
        [
         "20",
         "58810",
         "40",
         "1",
         "0",
         "1",
         "0",
         "0",
         "0",
         "0",
         "1",
         "0",
         "0",
         "0",
         "1"
        ],
        [
         "21",
         "29740",
         "31",
         "1",
         "0",
         "1",
         "0",
         "0",
         "0",
         "0",
         "1",
         "0",
         "0",
         "0",
         "1"
        ],
        [
         "22",
         "62156",
         "41",
         "1",
         "0",
         "0",
         "0",
         "0",
         "0",
         "0",
         "0",
         "0",
         "0",
         "0",
         "1"
        ],
        [
         "23",
         "77780",
         "1",
         "0",
         "1",
         "0",
         "0",
         "0",
         "0",
         "0",
         "0",
         "0",
         "0",
         "0",
         "1"
        ],
        [
         "24",
         "66633",
         "40",
         "1",
         "0",
         "1",
         "0",
         "0",
         "0",
         "0",
         "1",
         "0",
         "0",
         "0",
         "1"
        ],
        [
         "25",
         "52636",
         "46",
         "0",
         "0",
         "0",
         "1",
         "0",
         "0",
         "0",
         "0",
         "0",
         "0",
         "0",
         "1"
        ],
        [
         "26",
         "63084",
         "48",
         "1",
         "0",
         "0",
         "0",
         "0",
         "0",
         "0",
         "0",
         "0",
         "0",
         "0",
         "1"
        ],
        [
         "27",
         "94049",
         "14",
         "0",
         "0",
         "0",
         "0",
         "1",
         "0",
         "0",
         "0",
         "0",
         "0",
         "0",
         "1"
        ],
        [
         "28",
         "71752",
         "75",
         "0",
         "0",
         "1",
         "0",
         "0",
         "0",
         "0",
         "0",
         "0",
         "0",
         "0",
         "1"
        ],
        [
         "29",
         "27835",
         "32",
         "1",
         "0",
         "0",
         "1",
         "0",
         "0",
         "0",
         "0",
         "1",
         "0",
         "0",
         "1"
        ],
        [
         "30",
         "41739",
         "52",
         "1",
         "0",
         "0",
         "1",
         "0",
         "0",
         "0",
         "0",
         "1",
         "0",
         "0",
         "1"
        ],
        [
         "31",
         "61526",
         "59",
         "0",
         "0",
         "0",
         "0",
         "0",
         "1",
         "0",
         "0",
         "0",
         "0",
         "0",
         "1"
        ],
        [
         "32",
         "98037",
         "88",
         "1",
         "1",
         "0",
         "0",
         "0",
         "0",
         "1",
         "0",
         "0",
         "0",
         "0",
         "1"
        ],
        [
         "33",
         "48849",
         "59",
         "0",
         "0",
         "0",
         "0",
         "0",
         "0",
         "0",
         "0",
         "0",
         "0",
         "0",
         "1"
        ],
        [
         "34",
         "55041",
         "53",
         "1",
         "0",
         "0",
         "1",
         "0",
         "0",
         "0",
         "0",
         "1",
         "0",
         "0",
         "1"
        ],
        [
         "35",
         "64927",
         "50",
         "1",
         "0",
         "0",
         "0",
         "0",
         "0",
         "0",
         "0",
         "0",
         "0",
         "0",
         "1"
        ],
        [
         "36",
         "13458",
         "39",
         "0",
         "0",
         "0",
         "0",
         "0",
         "0",
         "0",
         "0",
         "0",
         "0",
         "0",
         "1"
        ],
        [
         "37",
         "75943",
         "12",
         "0",
         "1",
         "0",
         "0",
         "0",
         "0",
         "0",
         "0",
         "0",
         "0",
         "0",
         "1"
        ],
        [
         "38",
         "71427",
         "29",
         "1",
         "0",
         "0",
         "0",
         "0",
         "0",
         "0",
         "0",
         "0",
         "0",
         "0",
         "1"
        ],
        [
         "39",
         "57901",
         "46",
         "1",
         "0",
         "0",
         "1",
         "0",
         "0",
         "0",
         "0",
         "1",
         "0",
         "0",
         "1"
        ],
        [
         "40",
         "39397",
         "42",
         "1",
         "1",
         "0",
         "0",
         "0",
         "0",
         "1",
         "0",
         "0",
         "0",
         "0",
         "1"
        ],
        [
         "41",
         "120420",
         "16",
         "1",
         "0",
         "0",
         "1",
         "0",
         "0",
         "0",
         "0",
         "1",
         "0",
         "0",
         "1"
        ],
        [
         "42",
         "40247",
         "28",
         "1",
         "0",
         "0",
         "1",
         "0",
         "0",
         "0",
         "0",
         "1",
         "0",
         "0",
         "1"
        ],
        [
         "43",
         "77996",
         "83",
         "1",
         "1",
         "0",
         "0",
         "0",
         "0",
         "1",
         "0",
         "0",
         "0",
         "0",
         "1"
        ],
        [
         "44",
         "18284",
         "6",
         "1",
         "0",
         "0",
         "0",
         "0",
         "0",
         "0",
         "0",
         "0",
         "0",
         "0",
         "1"
        ],
        [
         "45",
         "66476",
         "43",
         "1",
         "0",
         "0",
         "1",
         "0",
         "0",
         "0",
         "0",
         "1",
         "0",
         "0",
         "1"
        ],
        [
         "46",
         "87518",
         "27",
         "1",
         "0",
         "1",
         "0",
         "0",
         "0",
         "0",
         "1",
         "0",
         "0",
         "0",
         "1"
        ],
        [
         "47",
         "57444",
         "55",
         "1",
         "0",
         "0",
         "0",
         "0",
         "0",
         "0",
         "0",
         "0",
         "0",
         "0",
         "1"
        ],
        [
         "48",
         "70888",
         "34",
         "1",
         "1",
         "0",
         "0",
         "0",
         "0",
         "1",
         "0",
         "0",
         "0",
         "0",
         "1"
        ],
        [
         "49",
         "73885",
         "88",
         "1",
         "1",
         "0",
         "0",
         "0",
         "0",
         "1",
         "0",
         "0",
         "0",
         "0",
         "1"
        ]
       ],
       "shape": {
        "columns": 14,
        "rows": 200
       }
      },
      "text/html": [
       "<div>\n",
       "<style scoped>\n",
       "    .dataframe tbody tr th:only-of-type {\n",
       "        vertical-align: middle;\n",
       "    }\n",
       "\n",
       "    .dataframe tbody tr th {\n",
       "        vertical-align: top;\n",
       "    }\n",
       "\n",
       "    .dataframe thead th {\n",
       "        text-align: right;\n",
       "    }\n",
       "</style>\n",
       "<table border=\"1\" class=\"dataframe\">\n",
       "  <thead>\n",
       "    <tr style=\"text-align: right;\">\n",
       "      <th></th>\n",
       "      <th>Ingreso</th>\n",
       "      <th>Puntaje_Gasto</th>\n",
       "      <th>GruposEtarios_Mujer</th>\n",
       "      <th>GruposEtarios_25-34</th>\n",
       "      <th>GruposEtarios_35-44</th>\n",
       "      <th>GruposEtarios_45-54</th>\n",
       "      <th>GruposEtarios_55-64</th>\n",
       "      <th>GruposEtarios_65+</th>\n",
       "      <th>Mujer_25-34</th>\n",
       "      <th>Mujer_35-44</th>\n",
       "      <th>Mujer_45-54</th>\n",
       "      <th>Mujer_55-64</th>\n",
       "      <th>Mujer_65+</th>\n",
       "      <th>Intercepto</th>\n",
       "    </tr>\n",
       "  </thead>\n",
       "  <tbody>\n",
       "    <tr>\n",
       "      <th>0</th>\n",
       "      <td>98115</td>\n",
       "      <td>39</td>\n",
       "      <td>1</td>\n",
       "      <td>0</td>\n",
       "      <td>1</td>\n",
       "      <td>0</td>\n",
       "      <td>0</td>\n",
       "      <td>0</td>\n",
       "      <td>0</td>\n",
       "      <td>1</td>\n",
       "      <td>0</td>\n",
       "      <td>0</td>\n",
       "      <td>0</td>\n",
       "      <td>1</td>\n",
       "    </tr>\n",
       "    <tr>\n",
       "      <th>1</th>\n",
       "      <td>35458</td>\n",
       "      <td>75</td>\n",
       "      <td>1</td>\n",
       "      <td>0</td>\n",
       "      <td>0</td>\n",
       "      <td>0</td>\n",
       "      <td>0</td>\n",
       "      <td>0</td>\n",
       "      <td>0</td>\n",
       "      <td>0</td>\n",
       "      <td>0</td>\n",
       "      <td>0</td>\n",
       "      <td>0</td>\n",
       "      <td>1</td>\n",
       "    </tr>\n",
       "    <tr>\n",
       "      <th>2</th>\n",
       "      <td>59872</td>\n",
       "      <td>55</td>\n",
       "      <td>1</td>\n",
       "      <td>0</td>\n",
       "      <td>0</td>\n",
       "      <td>0</td>\n",
       "      <td>0</td>\n",
       "      <td>1</td>\n",
       "      <td>0</td>\n",
       "      <td>0</td>\n",
       "      <td>0</td>\n",
       "      <td>0</td>\n",
       "      <td>1</td>\n",
       "      <td>1</td>\n",
       "    </tr>\n",
       "    <tr>\n",
       "      <th>3</th>\n",
       "      <td>48508</td>\n",
       "      <td>51</td>\n",
       "      <td>0</td>\n",
       "      <td>0</td>\n",
       "      <td>0</td>\n",
       "      <td>0</td>\n",
       "      <td>1</td>\n",
       "      <td>0</td>\n",
       "      <td>0</td>\n",
       "      <td>0</td>\n",
       "      <td>0</td>\n",
       "      <td>0</td>\n",
       "      <td>0</td>\n",
       "      <td>1</td>\n",
       "    </tr>\n",
       "    <tr>\n",
       "      <th>4</th>\n",
       "      <td>44431</td>\n",
       "      <td>54</td>\n",
       "      <td>1</td>\n",
       "      <td>1</td>\n",
       "      <td>0</td>\n",
       "      <td>0</td>\n",
       "      <td>0</td>\n",
       "      <td>0</td>\n",
       "      <td>1</td>\n",
       "      <td>0</td>\n",
       "      <td>0</td>\n",
       "      <td>0</td>\n",
       "      <td>0</td>\n",
       "      <td>1</td>\n",
       "    </tr>\n",
       "    <tr>\n",
       "      <th>...</th>\n",
       "      <td>...</td>\n",
       "      <td>...</td>\n",
       "      <td>...</td>\n",
       "      <td>...</td>\n",
       "      <td>...</td>\n",
       "      <td>...</td>\n",
       "      <td>...</td>\n",
       "      <td>...</td>\n",
       "      <td>...</td>\n",
       "      <td>...</td>\n",
       "      <td>...</td>\n",
       "      <td>...</td>\n",
       "      <td>...</td>\n",
       "      <td>...</td>\n",
       "    </tr>\n",
       "    <tr>\n",
       "      <th>195</th>\n",
       "      <td>19322</td>\n",
       "      <td>72</td>\n",
       "      <td>1</td>\n",
       "      <td>1</td>\n",
       "      <td>0</td>\n",
       "      <td>0</td>\n",
       "      <td>0</td>\n",
       "      <td>0</td>\n",
       "      <td>1</td>\n",
       "      <td>0</td>\n",
       "      <td>0</td>\n",
       "      <td>0</td>\n",
       "      <td>0</td>\n",
       "      <td>1</td>\n",
       "    </tr>\n",
       "    <tr>\n",
       "      <th>196</th>\n",
       "      <td>43486</td>\n",
       "      <td>45</td>\n",
       "      <td>1</td>\n",
       "      <td>0</td>\n",
       "      <td>0</td>\n",
       "      <td>1</td>\n",
       "      <td>0</td>\n",
       "      <td>0</td>\n",
       "      <td>0</td>\n",
       "      <td>0</td>\n",
       "      <td>1</td>\n",
       "      <td>0</td>\n",
       "      <td>0</td>\n",
       "      <td>1</td>\n",
       "    </tr>\n",
       "    <tr>\n",
       "      <th>197</th>\n",
       "      <td>24086</td>\n",
       "      <td>35</td>\n",
       "      <td>0</td>\n",
       "      <td>0</td>\n",
       "      <td>1</td>\n",
       "      <td>0</td>\n",
       "      <td>0</td>\n",
       "      <td>0</td>\n",
       "      <td>0</td>\n",
       "      <td>0</td>\n",
       "      <td>0</td>\n",
       "      <td>0</td>\n",
       "      <td>0</td>\n",
       "      <td>1</td>\n",
       "    </tr>\n",
       "    <tr>\n",
       "      <th>198</th>\n",
       "      <td>38599</td>\n",
       "      <td>65</td>\n",
       "      <td>1</td>\n",
       "      <td>0</td>\n",
       "      <td>0</td>\n",
       "      <td>0</td>\n",
       "      <td>0</td>\n",
       "      <td>0</td>\n",
       "      <td>0</td>\n",
       "      <td>0</td>\n",
       "      <td>0</td>\n",
       "      <td>0</td>\n",
       "      <td>0</td>\n",
       "      <td>1</td>\n",
       "    </tr>\n",
       "    <tr>\n",
       "      <th>199</th>\n",
       "      <td>86546</td>\n",
       "      <td>75</td>\n",
       "      <td>1</td>\n",
       "      <td>0</td>\n",
       "      <td>1</td>\n",
       "      <td>0</td>\n",
       "      <td>0</td>\n",
       "      <td>0</td>\n",
       "      <td>0</td>\n",
       "      <td>1</td>\n",
       "      <td>0</td>\n",
       "      <td>0</td>\n",
       "      <td>0</td>\n",
       "      <td>1</td>\n",
       "    </tr>\n",
       "  </tbody>\n",
       "</table>\n",
       "<p>200 rows × 14 columns</p>\n",
       "</div>"
      ],
      "text/plain": [
       "     Ingreso  Puntaje_Gasto  GruposEtarios_Mujer  GruposEtarios_25-34  \\\n",
       "0      98115             39                    1                    0   \n",
       "1      35458             75                    1                    0   \n",
       "2      59872             55                    1                    0   \n",
       "3      48508             51                    0                    0   \n",
       "4      44431             54                    1                    1   \n",
       "..       ...            ...                  ...                  ...   \n",
       "195    19322             72                    1                    1   \n",
       "196    43486             45                    1                    0   \n",
       "197    24086             35                    0                    0   \n",
       "198    38599             65                    1                    0   \n",
       "199    86546             75                    1                    0   \n",
       "\n",
       "     GruposEtarios_35-44  GruposEtarios_45-54  GruposEtarios_55-64  \\\n",
       "0                      1                    0                    0   \n",
       "1                      0                    0                    0   \n",
       "2                      0                    0                    0   \n",
       "3                      0                    0                    1   \n",
       "4                      0                    0                    0   \n",
       "..                   ...                  ...                  ...   \n",
       "195                    0                    0                    0   \n",
       "196                    0                    1                    0   \n",
       "197                    1                    0                    0   \n",
       "198                    0                    0                    0   \n",
       "199                    1                    0                    0   \n",
       "\n",
       "     GruposEtarios_65+  Mujer_25-34  Mujer_35-44  Mujer_45-54  Mujer_55-64  \\\n",
       "0                    0            0            1            0            0   \n",
       "1                    0            0            0            0            0   \n",
       "2                    1            0            0            0            0   \n",
       "3                    0            0            0            0            0   \n",
       "4                    0            1            0            0            0   \n",
       "..                 ...          ...          ...          ...          ...   \n",
       "195                  0            1            0            0            0   \n",
       "196                  0            0            0            1            0   \n",
       "197                  0            0            0            0            0   \n",
       "198                  0            0            0            0            0   \n",
       "199                  0            0            1            0            0   \n",
       "\n",
       "     Mujer_65+  Intercepto  \n",
       "0            0           1  \n",
       "1            0           1  \n",
       "2            1           1  \n",
       "3            0           1  \n",
       "4            0           1  \n",
       "..         ...         ...  \n",
       "195          0           1  \n",
       "196          0           1  \n",
       "197          0           1  \n",
       "198          0           1  \n",
       "199          0           1  \n",
       "\n",
       "[200 rows x 14 columns]"
      ]
     },
     "execution_count": 270,
     "metadata": {},
     "output_type": "execute_result"
    }
   ],
   "source": [
    "#Creamos el dataframe con las variables dummy categoricas y sus respectivas combinaciones\n",
    "dfreg = df\n",
    "dfreg = dfreg.drop('Id_Cliente', axis = 1)\n",
    "dfreg = pd.get_dummies(dfreg, 'GruposEtarios', drop_first= True)\n",
    "dfreg = pd.get_dummies(dfreg, 'Genero', drop_first= True)\n",
    "dfreg = dfreg.astype(int)\n",
    "dfreg['Mujer_25-34'] = dfreg['GruposEtarios_Mujer'] * dfreg['GruposEtarios_25-34']\n",
    "dfreg['Mujer_35-44'] = dfreg['GruposEtarios_Mujer'] * dfreg['GruposEtarios_35-44']\n",
    "dfreg['Mujer_45-54'] = dfreg['GruposEtarios_Mujer'] * dfreg['GruposEtarios_45-54']\n",
    "dfreg['Mujer_55-64'] = dfreg['GruposEtarios_Mujer'] * dfreg['GruposEtarios_55-64']\n",
    "dfreg['Mujer_65+'] = dfreg['GruposEtarios_Mujer'] * dfreg['GruposEtarios_65+']\n",
    "dfreg['Intercepto'] = 1\n",
    "dfreg"
   ]
  },
  {
   "cell_type": "code",
   "execution_count": 271,
   "id": "925386b4",
   "metadata": {},
   "outputs": [],
   "source": [
    "X = dfreg[['GruposEtarios_Mujer',\n",
    "       'GruposEtarios_25-34', 'GruposEtarios_35-44', 'GruposEtarios_45-54',\n",
    "       'GruposEtarios_55-64', 'GruposEtarios_65+', 'Mujer_25-34',\n",
    "       'Mujer_35-44', 'Mujer_45-54', 'Mujer_55-64', 'Mujer_65+', 'Intercepto']]\n",
    "\n",
    "Y = dfreg[['Ingreso']]"
   ]
  },
  {
   "cell_type": "code",
   "execution_count": 272,
   "id": "575baacc",
   "metadata": {},
   "outputs": [
    {
     "name": "stdout",
     "output_type": "stream",
     "text": [
      "                            OLS Regression Results                            \n",
      "==============================================================================\n",
      "Dep. Variable:                Ingreso   R-squared:                       0.152\n",
      "Model:                            OLS   Adj. R-squared:                  0.102\n",
      "Method:                 Least Squares   F-statistic:                     3.061\n",
      "Date:              sáb., 26 abr. 2025   Prob (F-statistic):           0.000851\n",
      "Time:                        23:28:27   Log-Likelihood:                -2302.0\n",
      "No. Observations:                 200   AIC:                             4628.\n",
      "Df Residuals:                     188   BIC:                             4668.\n",
      "Df Model:                          11                                         \n",
      "Covariance Type:            nonrobust                                         \n",
      "=======================================================================================\n",
      "                          coef    std err          t      P>|t|      [0.025      0.975]\n",
      "---------------------------------------------------------------------------------------\n",
      "GruposEtarios_Mujer -4225.0230   8443.220     -0.500      0.617   -2.09e+04    1.24e+04\n",
      "GruposEtarios_25-34  3.218e+04   8175.821      3.936      0.000    1.61e+04    4.83e+04\n",
      "GruposEtarios_35-44  2.025e+04   8549.764      2.369      0.019    3387.943    3.71e+04\n",
      "GruposEtarios_45-54  1.128e+04   9106.417      1.239      0.217   -6683.058    2.92e+04\n",
      "GruposEtarios_55-64  9031.8542   1.04e+04      0.871      0.385   -1.14e+04    2.95e+04\n",
      "GruposEtarios_65+    4618.6319   1.04e+04      0.445      0.656   -1.58e+04    2.51e+04\n",
      "Mujer_25-34         -8886.9202   1.09e+04     -0.815      0.416   -3.04e+04    1.26e+04\n",
      "Mujer_35-44          4146.3425   1.15e+04      0.362      0.718   -1.85e+04    2.68e+04\n",
      "Mujer_45-54          5406.5002   1.18e+04      0.456      0.649    -1.8e+04    2.88e+04\n",
      "Mujer_55-64          5543.6421   1.51e+04      0.367      0.714   -2.43e+04    3.54e+04\n",
      "Mujer_65+            4376.1786   1.62e+04      0.269      0.788   -2.77e+04    3.64e+04\n",
      "Intercepto           4.675e+04   6220.867      7.515      0.000    3.45e+04     5.9e+04\n",
      "==============================================================================\n",
      "Omnibus:                        0.029   Durbin-Watson:                   1.967\n",
      "Prob(Omnibus):                  0.985   Jarque-Bera (JB):                0.105\n",
      "Skew:                           0.026   Prob(JB):                        0.949\n",
      "Kurtosis:                       2.900   Cond. No.                         19.3\n",
      "==============================================================================\n",
      "\n",
      "Notes:\n",
      "[1] Standard Errors assume that the covariance matrix of the errors is correctly specified.\n"
     ]
    }
   ],
   "source": [
    "modelo = sm.OLS(Y, X).fit()\n",
    "print(modelo.summary())"
   ]
  },
  {
   "cell_type": "markdown",
   "id": "20f89af6",
   "metadata": {},
   "source": [
    "Como podemos apreciar en los resultados de la regresión de ingresos, solo las variables Intercepto (Dummy Mujer=0 y 18-24= 0; es decir Hombre de 18-25), GruposEtarios_25-34 (Dummy Mujer=0 y 18-24= 0; es decir Hombre de 25-34) y GruposEtarios_35-44 (Dummy Mujer=0 y 18-24= 0; es decir Hombre de 35-44) son estadisticamente significativas al 5%, por lo menos para el modelo líneal."
   ]
  },
  {
   "cell_type": "code",
   "execution_count": 273,
   "id": "4ba2e93f",
   "metadata": {},
   "outputs": [
    {
     "name": "stdout",
     "output_type": "stream",
     "text": [
      "                            OLS Regression Results                            \n",
      "==============================================================================\n",
      "Dep. Variable:          Puntaje_Gasto   R-squared:                       0.183\n",
      "Model:                            OLS   Adj. R-squared:                  0.136\n",
      "Method:                 Least Squares   F-statistic:                     3.836\n",
      "Date:              sáb., 26 abr. 2025   Prob (F-statistic):           5.37e-05\n",
      "Time:                        23:28:30   Log-Likelihood:                -913.29\n",
      "No. Observations:                 200   AIC:                             1851.\n",
      "Df Residuals:                     188   BIC:                             1890.\n",
      "Df Model:                          11                                         \n",
      "Covariance Type:            nonrobust                                         \n",
      "=======================================================================================\n",
      "                          coef    std err          t      P>|t|      [0.025      0.975]\n",
      "---------------------------------------------------------------------------------------\n",
      "GruposEtarios_Mujer     8.0724      8.147      0.991      0.323      -7.998      24.143\n",
      "GruposEtarios_25-34    10.5795      7.889      1.341      0.182      -4.982      26.141\n",
      "GruposEtarios_35-44    -1.0972      8.250     -0.133      0.894     -17.371      15.176\n",
      "GruposEtarios_45-54   -17.5179      8.787     -1.994      0.048     -34.851      -0.185\n",
      "GruposEtarios_55-64   -23.4306     10.004     -2.342      0.020     -43.165      -3.696\n",
      "GruposEtarios_65+      -5.8750     10.004     -0.587      0.558     -25.610      13.860\n",
      "Mujer_25-34            -6.8707     10.516     -0.653      0.514     -27.615      13.874\n",
      "Mujer_35-44           -10.4335     11.064     -0.943      0.347     -32.259      11.392\n",
      "Mujer_45-54            -5.1495     11.428     -0.451      0.653     -27.694      17.395\n",
      "Mujer_55-64             0.7689     14.587      0.053      0.958     -28.006      29.544\n",
      "Mujer_65+              -6.0724     15.675     -0.387      0.699     -36.994      24.850\n",
      "Intercepto             51.8750      6.002      8.642      0.000      40.034      63.716\n",
      "==============================================================================\n",
      "Omnibus:                        4.607   Durbin-Watson:                   1.808\n",
      "Prob(Omnibus):                  0.100   Jarque-Bera (JB):                4.136\n",
      "Skew:                          -0.278   Prob(JB):                        0.126\n",
      "Kurtosis:                       2.568   Cond. No.                         19.3\n",
      "==============================================================================\n",
      "\n",
      "Notes:\n",
      "[1] Standard Errors assume that the covariance matrix of the errors is correctly specified.\n"
     ]
    }
   ],
   "source": [
    "Y = dfreg[['Puntaje_Gasto']]\n",
    "modelo = sm.OLS(Y, X).fit()\n",
    "print(modelo.summary())"
   ]
  },
  {
   "cell_type": "markdown",
   "id": "fe82c426",
   "metadata": {},
   "source": [
    "Como podemos apreciar en los resultados de la regresión de Puntaje de Gasto, solo las variables Intercepto (Dummy Mujer=0 y 18-24= 0; es decir Hombre de 18-25) y GruposEtarios_55-64 (Dummy Mujer=0 y 55-64= 0; es decir Hombre de 25-34) son estadisticamente significativas al 5%, por lo menos para el modelo líneal."
   ]
  },
  {
   "cell_type": "markdown",
   "id": "549a6000",
   "metadata": {},
   "source": [
    "La conclusión final es que, según las estadisticas descriptivas, gráficas y regresiones, no todos los grupos tienes variaciones discriminatorios importantes en ingreso o en Puntaje de Gasto."
   ]
  },
  {
   "cell_type": "markdown",
   "id": "db016871",
   "metadata": {
    "id": "db016871"
   },
   "source": [
    "### 3. Clustering Jerárquico\n",
    "\n",
    "#### 3.1. Dendrogramas\n",
    "\n",
    "Agrupe a los clientes utilizando sólo dos variables: su ingreso y el puntaje de gastos. Para ello retenga estas dos variables, estandarízelas, construya y grafique un dendograma. Para la construcción del dendrograma utilice el enlace 'ward' y la distancia euclidiana. Explique la importancia de estandarizar los datos."
   ]
  },
  {
   "cell_type": "code",
   "execution_count": 274,
   "id": "d771eece",
   "metadata": {
    "ExecuteTime": {
     "end_time": "2023-07-16T16:29:24.649171+00:00",
     "start_time": "2023-07-16T16:29:21.788267+00:00"
    },
    "id": "d771eece",
    "noteable": {
     "cell_type": "code",
     "output_collection_id": "3ac79bd2-4963-40c4-a4e8-784bcb39bea0"
    }
   },
   "outputs": [],
   "source": [
    "# Cargamos dendograma desde Scipy\n",
    "from scipy.spatial.distance import pdist\n",
    "from scipy.cluster.hierarchy import linkage\n",
    "from scipy.cluster.hierarchy import dendrogram"
   ]
  },
  {
   "cell_type": "code",
   "execution_count": 275,
   "id": "8d8897fe",
   "metadata": {},
   "outputs": [],
   "source": [
    "# Estandarizamos los datos\n",
    "dfest = df\n",
    "dfest = dfest.drop(['Id_Cliente', 'Genero', 'GruposEtarios'], axis = 1)\n",
    "\n",
    "# Estandarizamos los ingreso\n",
    "mean_ingresos = np.mean(dfest['Ingreso'])\n",
    "std_ingresos = np.std(dfest['Ingreso'])\n",
    "(dfest['Ingreso']) = ((dfest['Ingreso']) - mean_ingresos) / std_ingresos\n",
    "\n",
    "# Estandarizamos los Puntaje de Gasto\n",
    "mean_PG = np.mean(dfest['Puntaje_Gasto'])\n",
    "std_PG = np.std(dfest['Puntaje_Gasto'])\n",
    "(dfest['Puntaje_Gasto']) = ((dfest['Puntaje_Gasto']) - mean_PG) / std_PG"
   ]
  },
  {
   "cell_type": "code",
   "execution_count": 276,
   "id": "96459ca3",
   "metadata": {},
   "outputs": [],
   "source": [
    "# 1. Calculamos la matriz de enlace (linkage matrix) y la de distancia\n",
    "dist = pdist(dfest, metric='euclidean')\n",
    "Z = linkage(dist, method='ward')"
   ]
  },
  {
   "cell_type": "code",
   "execution_count": 277,
   "id": "91c657b3",
   "metadata": {},
   "outputs": [
    {
     "data": {
      "image/png": "[encoded data removed]",
      "text/plain": [
       "<Figure size 1200x800 with 1 Axes>"
      ]
     },
     "metadata": {},
     "output_type": "display_data"
    }
   ],
   "source": [
    "fig, ax = plt.subplots(figsize=(12, 8))\n",
    "d = dendrogram(Z, show_leaf_counts=True, leaf_font_size=14, ax=ax)\n",
    "ax.set_xlabel('Observaciones', fontsize=14)\n",
    "ax.set_yticks(np.arange(0, 20, 1))\n",
    "ax.set_ylabel('Distancia', fontsize=14)\n",
    "plt.show()"
   ]
  },
  {
   "cell_type": "markdown",
   "id": "c1dab838",
   "metadata": {
    "id": "c1dab838"
   },
   "source": [
    "Los datos si o si deben ser estandarizados para que sus magnitudes no afecten las distancias de las observaciones y por ende la clusterización. Si mantuvieramos las variables sin estandarizar, dadas las grandes mágnitudes de la variable Ingresos respecto a Puntaje de Gasto, sería la variable Ingresos la que más generaría influencia en las distancias restandole importancia a la variable Puntaje de Gastos"
   ]
  },
  {
   "cell_type": "markdown",
   "id": "12343c6a",
   "metadata": {
    "id": "12343c6a"
   },
   "source": [
    "#### 3.2. Número de clusters\n",
    "\n",
    "Retenga el número de clusters que se obtengan luego de fijar la distancia en 6."
   ]
  },
  {
   "cell_type": "code",
   "execution_count": 278,
   "id": "e28102d9",
   "metadata": {},
   "outputs": [
    {
     "data": {
      "text/plain": [
       "<matplotlib.lines.Line2D at 0x19188ad3610>"
      ]
     },
     "execution_count": 278,
     "metadata": {},
     "output_type": "execute_result"
    },
    {
     "data": {
      "image/png": "[encoded data removed]",
      "text/plain": [
       "<Figure size 1200x800 with 1 Axes>"
      ]
     },
     "metadata": {},
     "output_type": "display_data"
    }
   ],
   "source": [
    "fig, ax = plt.subplots(figsize=(12, 8))\n",
    "d = dendrogram(Z, show_leaf_counts=True, leaf_font_size=14, ax=ax)\n",
    "ax.set_xlabel('Observaciones', fontsize=14)\n",
    "ax.set_yticks(np.arange(0, 20, 1))\n",
    "ax.set_ylabel('Distancia', fontsize=14)\n",
    "\n",
    "# Agregamos la línea horizontal en y=6\n",
    "ax.axhline(y=6, color='red', linestyle='--', linewidth=2)"
   ]
  },
  {
   "cell_type": "markdown",
   "id": "b0b1d51c",
   "metadata": {},
   "source": [
    "**Respuesta**: Según el dendograma graficado, para una distancia de 6 habrán un total de 5 clusters, en el siguiente punto, proceremos a realizar la clusterización."
   ]
  },
  {
   "cell_type": "markdown",
   "id": "cbf60bd1",
   "metadata": {
    "id": "cbf60bd1"
   },
   "source": [
    "#### 3.3. Algoritmo Jerárquico Aglomerativo\n",
    "\n",
    "Utilizando el número de clusters encontrados en el paso anterior, aplique el algoritmo jerárquico aglomerativo, utilizando el enlace 'ward' y la distancia euclidiana. Describa los grupos encontrados, en que grupo o grupos concentraría su estrategia de marketing y por qué?"
   ]
  },
  {
   "cell_type": "code",
   "execution_count": 279,
   "id": "d38317e3",
   "metadata": {
    "ExecuteTime": {
     "end_time": "2023-07-16T16:31:07.364446+00:00",
     "start_time": "2023-07-16T16:31:07.047668+00:00"
    },
    "datalink": {
     "cb4d41c2-7468-4179-b3af-463accbe29a6": {
      "applied_filters": [],
      "dataframe_info": {
       "default_index_used": true,
       "orig_num_cols": 8,
       "orig_num_rows": 5,
       "orig_size_bytes": 525,
       "truncated_num_cols": 8,
       "truncated_num_rows": 5,
       "truncated_size_bytes": 525,
       "truncated_string_columns": []
      },
      "display_id": "cb4d41c2-7468-4179-b3af-463accbe29a6",
      "dx_settings": {
       "ALLOW_NOTEABLE_ATTRS": true,
       "COLUMN_SAMPLING_METHOD": "outer",
       "DB_LOCATION": ":memory:",
       "DEV_MODE": false,
       "DISPLAY_MAX_COLUMNS": 100,
       "DISPLAY_MAX_ROWS": 50000,
       "DISPLAY_MODE": "simple",
       "ENABLE_ASSIGNMENT": true,
       "ENABLE_DATALINK": true,
       "FLATTEN_COLUMN_VALUES": true,
       "FLATTEN_INDEX_VALUES": false,
       "GENERATE_DEX_METADATA": false,
       "HTML_TABLE_SCHEMA": false,
       "LOG_LEVEL": 30,
       "MAX_RENDER_SIZE_BYTES": 104857600,
       "MAX_STRING_LENGTH": 250,
       "NUM_PAST_SAMPLES_TRACKED": 3,
       "RANDOM_STATE": 12648430,
       "RESET_INDEX_VALUES": false,
       "ROW_SAMPLING_METHOD": "random",
       "SAMPLING_FACTOR": 0.1,
       "SAMPLING_METHOD": "random",
       "STRINGIFY_COLUMN_VALUES": true,
       "STRINGIFY_INDEX_VALUES": false
      },
      "sample_history": [],
      "sampling_time": "2023-07-16T16:31:07.204488",
      "user_variable_name": null,
      "variable_name": "unk_dataframe_9913f7676cc043a4a00b184116fd4b2c"
     }
    },
    "id": "d38317e3",
    "noteable": {
     "cell_type": "code",
     "output_collection_id": "a8fca9be-97b0-456e-92df-a88e7598e581"
    }
   },
   "outputs": [
    {
     "data": {
      "image/png": "[encoded data removed]",
      "text/plain": [
       "<Figure size 640x480 with 1 Axes>"
      ]
     },
     "metadata": {},
     "output_type": "display_data"
    }
   ],
   "source": [
    "from sklearn.cluster import AgglomerativeClustering\n",
    "\n",
    "cluster_sk = AgglomerativeClustering(n_clusters=5, metric='euclidean', linkage='ward')\n",
    "cluster_sk =cluster_sk.fit_predict(dfest)\n",
    "\n",
    "plt.scatter(dfest['Ingreso'], dfest['Puntaje_Gasto'], c=cluster_sk, cmap='tab20b')\n",
    "plt.show()"
   ]
  },
  {
   "cell_type": "markdown",
   "id": "541ab9cf",
   "metadata": {
    "id": "541ab9cf"
   },
   "source": [
    "Mediante la librería sklearn clusterizamos (5 clusteres), para esto definimos las distancias con el metodo euclidiano y usamos ward para los enlaces. A continuación haremos nuevamente un diagrama de dispersión con los grupos etarios y generos de la muestra."
   ]
  },
  {
   "cell_type": "code",
   "execution_count": 280,
   "id": "aabeef62",
   "metadata": {},
   "outputs": [
    {
     "data": {
      "image/png": "[encoded data removed]",
      "text/plain": [
       "<Figure size 640x480 with 1 Axes>"
      ]
     },
     "metadata": {},
     "output_type": "display_data"
    }
   ],
   "source": [
    "# Crearemos un Scatterplot de las medias de los ingresos vs medias de los Puntajes de Gasto para cada Genero y Grupo Etario.\n",
    "\n",
    "# Crear el scatter plot\n",
    "fig, ax = plt.subplots()\n",
    "\n",
    "# Usar un bucle para graficar cada categoría con un color diferente\n",
    "categorias = estadisticas_por_categoria.index.unique()\n",
    "marcadores = ['.', '.', '^', '^', 's', 's', 'D', 'D', 'x', 'x', '*', '*']\n",
    "Colores = ['blue', 'red','blue', 'red','blue', 'red','blue', 'red','blue', 'red','blue', 'red']\n",
    "\n",
    "marcont = 0\n",
    "\n",
    "for categoria in categorias:\n",
    "    subset = estadisticas_por_categoria[estadisticas_por_categoria.index == categoria]\n",
    "    ax.scatter(subset['Puntaje_Gasto']['mean'], subset['Ingreso']['mean'], label=categoria, marker=marcadores[marcont], color=Colores[marcont])\n",
    "    marcont = marcont + 1\n",
    "\n",
    "# Añadir leyenda y etiquetas\n",
    "ax.legend(title='Categoría', loc='center left', bbox_to_anchor=(1, 0.5))\n",
    "ax.set_xlabel('Puntaje de Gasto')\n",
    "ax.set_ylabel('Ingreso')\n",
    "ax.set_title('Scatter Plot - Ingreso vs Puntaje de Gasto por Categorías')\n",
    "\n",
    "# Mostrar el gráfico\n",
    "plt.show()"
   ]
  },
  {
   "cell_type": "markdown",
   "id": "1a42f1fb",
   "metadata": {},
   "source": [
    "Como podemos apreciar en el diagrama de cluzterización, el cluster más atractivo es el de color amarillo, pues son los individuos que poseen mayores ingresos y adicionalmente tienen mayores gastos, estos individuos son hombres y mujeres de 25-34 años y de 35-44 años, por ende, nuestro producto debe ser exclusivo para personas de esas edades sin importar el género."
   ]
  },
  {
   "cell_type": "markdown",
   "id": "05409138",
   "metadata": {
    "id": "05409138"
   },
   "source": [
    "### 4. DBSCAN\n",
    "\n",
    "Implemente DBSCAN, al igual que el punto anterior sólo dos variables: su ingreso y el puntaje de gastos. Al implementar  justifique su elección de `min_samples` y `eps`. ¿Cuántos grupos o clusters encuentra? ¿Cuáles son su características? ¿Cambiaría su estrategia de marketing respecto al punto anterior? Justifique su respuesta."
   ]
  },
  {
   "cell_type": "code",
   "execution_count": null,
   "id": "34b7ab8e",
   "metadata": {
    "id": "34b7ab8e"
   },
   "outputs": [],
   "source": [
    "# Utilice este espacio para escribir el código."
   ]
  },
  {
   "cell_type": "markdown",
   "id": "2e5089d3",
   "metadata": {
    "id": "2e5089d3"
   },
   "source": [
    "(Utilice este espacio para describir su procedimiento)"
   ]
  },
  {
   "cell_type": "markdown",
   "id": "9c8ba942",
   "metadata": {
    "id": "9c8ba942"
   },
   "source": [
    "### 5. Incorporando más dimensiones\n",
    "\n",
    "Hasta este momento hemos utilizado solo dos variables para nuestro análisis, sin embargo, la base cuenta con otras variables más: género y edad. Usando las categorías de edad creadas anteriormente incorpore género y grupo etario a su análisis. Genere los grupos utilizando DBSCAN y la distancia de Gower, justificando su elección de `min_samples` y `eps`   ¿Incorporar estas variables, ayuda a la focalización de la estrategia de marketing?"
   ]
  },
  {
   "cell_type": "code",
   "execution_count": null,
   "id": "2543e63d",
   "metadata": {
    "ExecuteTime": {
     "end_time": "2023-07-16T16:42:28.364508+00:00",
     "start_time": "2023-07-16T16:42:22.935059+00:00"
    },
    "id": "2543e63d",
    "jupyter": {
     "outputs_hidden": false,
     "source_hidden": false
    },
    "noteable": {
     "cell_type": "code",
     "output_collection_id": "2b6bd871-3b9e-4474-a898-ee13670b61c3"
    }
   },
   "outputs": [],
   "source": [
    "# Utilice este espacio para escribir el código."
   ]
  },
  {
   "cell_type": "markdown",
   "id": "32482dca",
   "metadata": {
    "id": "32482dca"
   },
   "source": [
    "(Utilice este espacio para describir su procedimiento)"
   ]
  }
 ],
 "metadata": {
  "colab": {
   "provenance": []
  },
  "kernelspec": {
   "display_name": "myenvironment",
   "language": "python",
   "name": "python3"
  },
  "language_info": {
   "codemirror_mode": {
    "name": "ipython",
    "version": 3
   },
   "file_extension": ".py",
   "mimetype": "text/x-python",
   "name": "python",
   "nbconvert_exporter": "python",
   "pygments_lexer": "ipython3",
   "version": "3.13.1"
  },
  "noteable": {
   "last_transaction_id": "981dee18-307a-4ad4-a85c-724d5132feaa"
  },
  "selected_hardware_size": "small",
  "toc": {
   "base_numbering": 1,
   "nav_menu": {},
   "number_sections": true,
   "sideBar": true,
   "skip_h1_title": false,
   "title_cell": "Table of Contents",
   "title_sidebar": "Contents",
   "toc_cell": false,
   "toc_position": {},
   "toc_section_display": true,
   "toc_window_display": false
  }
 },
 "nbformat": 4,
 "nbformat_minor": 5
}
