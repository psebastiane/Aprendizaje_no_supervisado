{
 "cells": [
  {
   "cell_type": "markdown",
   "id": "25ffd137",
   "metadata": {
    "id": "25ffd137"
   },
   "source": [
    "![Clase aprendizaje no supervisado](https://raw.githubusercontent.com/MECA4605-Aprendizaje-no-supervisado/taller_2/main/figs/taller-meca-aprendizaje%20no%20supervisado_banner%201169%20x%20200%20px%20-05.png)"
   ]
  },
  {
   "cell_type": "markdown",
   "id": "d6dc68fa",
   "metadata": {
    "id": "d6dc68fa"
   },
   "source": [
    "# Caso-taller:  Segmentación de Clientes con Clustering Jerárquico y DBSCAN"
   ]
  },
  {
   "cell_type": "markdown",
   "id": "416947e9",
   "metadata": {
    "id": "416947e9"
   },
   "source": [
    "El objetivo de este caso-taller es analizar una base de datos ficticia sobre clientes de una tienda y buscar encontrar grupos de clientes que permitan generar estrategias de marketing focalizadas. La base se encuentra en los `Archivos de Laboratorio` en la carpeta `data` y cuenta con 200 observaciones y 5 variables:\n",
    "\n",
    "- `Id_Cliente`: identificador de cliente.\n",
    "- `Genero`: género del cliente: Mujer, Hombre\n",
    "- `Edad`: edad en años\n",
    "- `Ingreso`: ingresos anuales\n",
    "- `Puntaje_Gasto`: es una variable que mide cuán a menudo un cliente compra en la tienda, siendo 100 el puntaje más alto.\n"
   ]
  },
  {
   "cell_type": "markdown",
   "id": "f0b18289",
   "metadata": {
    "id": "f0b18289"
   },
   "source": [
    "## Instrucciones generales\n",
    "\n",
    "1. Para desarrollar el *cuaderno* primero debe descargarlo.\n",
    "\n",
    "2. Para responder cada inciso deberá utilizar el espacio debidamente especificado.\n",
    "\n",
    "3. La actividad será calificada sólo si sube el *cuaderno* de jupyter notebook con extensión `.ipynb` en la actividad designada como \"entrega calificada por el personal\".\n",
    "\n",
    "4. El archivo entregado debe poder ser ejecutado localmente por el tutor. Sea cuidadoso con la especificación de la ubicación de los archivos de soporte, guarde la carpeta de datos en el mismo `path` de su cuaderno, por ejemplo: `data`."
   ]
  },
  {
   "cell_type": "markdown",
   "id": "fcdc340a",
   "metadata": {
    "id": "fcdc340a"
   },
   "source": [
    "## Desarrollo\n"
   ]
  },
  {
   "cell_type": "markdown",
   "id": "74c08b0d",
   "metadata": {
    "id": "74c08b0d"
   },
   "source": [
    "### 1.Carga de datos\n",
    "\n",
    "En la carpeta `data` se encuentra el archivo `datos_clientes.csv` cargue estos datos en su *cuaderno*."
   ]
  },
  {
   "cell_type": "code",
   "execution_count": 48,
   "id": "200fc95c",
   "metadata": {},
   "outputs": [],
   "source": [
    "import pandas as pd\n",
    "import numpy as np\n",
    "import matplotlib.pyplot as plt"
   ]
  },
  {
   "cell_type": "code",
   "execution_count": 39,
   "id": "6412d5ec",
   "metadata": {
    "id": "6412d5ec",
    "noteable": {
     "cell_type": "code"
    }
   },
   "outputs": [
    {
     "data": {
      "application/vnd.microsoft.datawrangler.viewer.v0+json": {
       "columns": [
        {
         "name": "index",
         "rawType": "int64",
         "type": "integer"
        },
        {
         "name": "Id_Cliente",
         "rawType": "int64",
         "type": "integer"
        },
        {
         "name": "Genero",
         "rawType": "object",
         "type": "string"
        },
        {
         "name": "Edad",
         "rawType": "int64",
         "type": "integer"
        },
        {
         "name": "Ingreso",
         "rawType": "float64",
         "type": "float"
        },
        {
         "name": "Puntaje_Gasto",
         "rawType": "int64",
         "type": "integer"
        }
       ],
       "conversionMethod": "pd.DataFrame",
       "ref": "0251fc5e-4bf6-4649-8127-7ecc36ebe0e2",
       "rows": [
        [
         "0",
         "1",
         "Mujer",
         "41",
         "98115.05",
         "39"
        ],
        [
         "1",
         "2",
         "Mujer",
         "20",
         "35458.14",
         "75"
        ],
        [
         "2",
         "3",
         "Mujer",
         "68",
         "59872.08",
         "55"
        ],
        [
         "3",
         "4",
         "Hombre",
         "63",
         "48508.93",
         "51"
        ],
        [
         "4",
         "5",
         "Mujer",
         "31",
         "44431.11",
         "54"
        ]
       ],
       "shape": {
        "columns": 5,
        "rows": 5
       }
      },
      "text/html": [
       "<div>\n",
       "<style scoped>\n",
       "    .dataframe tbody tr th:only-of-type {\n",
       "        vertical-align: middle;\n",
       "    }\n",
       "\n",
       "    .dataframe tbody tr th {\n",
       "        vertical-align: top;\n",
       "    }\n",
       "\n",
       "    .dataframe thead th {\n",
       "        text-align: right;\n",
       "    }\n",
       "</style>\n",
       "<table border=\"1\" class=\"dataframe\">\n",
       "  <thead>\n",
       "    <tr style=\"text-align: right;\">\n",
       "      <th></th>\n",
       "      <th>Id_Cliente</th>\n",
       "      <th>Genero</th>\n",
       "      <th>Edad</th>\n",
       "      <th>Ingreso</th>\n",
       "      <th>Puntaje_Gasto</th>\n",
       "    </tr>\n",
       "  </thead>\n",
       "  <tbody>\n",
       "    <tr>\n",
       "      <th>0</th>\n",
       "      <td>1</td>\n",
       "      <td>Mujer</td>\n",
       "      <td>41</td>\n",
       "      <td>98115.05</td>\n",
       "      <td>39</td>\n",
       "    </tr>\n",
       "    <tr>\n",
       "      <th>1</th>\n",
       "      <td>2</td>\n",
       "      <td>Mujer</td>\n",
       "      <td>20</td>\n",
       "      <td>35458.14</td>\n",
       "      <td>75</td>\n",
       "    </tr>\n",
       "    <tr>\n",
       "      <th>2</th>\n",
       "      <td>3</td>\n",
       "      <td>Mujer</td>\n",
       "      <td>68</td>\n",
       "      <td>59872.08</td>\n",
       "      <td>55</td>\n",
       "    </tr>\n",
       "    <tr>\n",
       "      <th>3</th>\n",
       "      <td>4</td>\n",
       "      <td>Hombre</td>\n",
       "      <td>63</td>\n",
       "      <td>48508.93</td>\n",
       "      <td>51</td>\n",
       "    </tr>\n",
       "    <tr>\n",
       "      <th>4</th>\n",
       "      <td>5</td>\n",
       "      <td>Mujer</td>\n",
       "      <td>31</td>\n",
       "      <td>44431.11</td>\n",
       "      <td>54</td>\n",
       "    </tr>\n",
       "  </tbody>\n",
       "</table>\n",
       "</div>"
      ],
      "text/plain": [
       "   Id_Cliente  Genero  Edad   Ingreso  Puntaje_Gasto\n",
       "0           1   Mujer    41  98115.05             39\n",
       "1           2   Mujer    20  35458.14             75\n",
       "2           3   Mujer    68  59872.08             55\n",
       "3           4  Hombre    63  48508.93             51\n",
       "4           5   Mujer    31  44431.11             54"
      ]
     },
     "execution_count": 39,
     "metadata": {},
     "output_type": "execute_result"
    }
   ],
   "source": [
    "df = pd.read_csv('https://raw.githubusercontent.com/MECA4605-Aprendizaje-no-supervisado/taller_2/refs/heads/main/data/datos_clientes.csv')\n",
    "df.head()"
   ]
  },
  {
   "cell_type": "markdown",
   "id": "410a10be",
   "metadata": {
    "id": "410a10be"
   },
   "source": [
    "Se cargan los datos del csv por medio de la URL de Github, adicionalmente, se cargan dentro de un dataframe"
   ]
  },
  {
   "cell_type": "markdown",
   "id": "fe899b4b",
   "metadata": {
    "id": "fe899b4b"
   },
   "source": [
    "### 2. Análisis preliminar.\n",
    "\n",
    "Antes de comenzar el análisis de segmentación utilice estadísticas descriptivas para explorar la variables que se encuentran en los datos. En su análisis mencione si hay patrones que surgen del examen descriptivo de los datos; entre ellos si hay diferencias en los ingresos y los puntajes de gastos para mujeres y hombres, por grupos etarios (18-24, 25-34, 35-44, 45-54, 55-64, y 65+), y por grupos etarios y género. Discuta además si estas diferencias son estadísticamente significativas."
   ]
  },
  {
   "cell_type": "code",
   "execution_count": 62,
   "id": "3ff19286",
   "metadata": {
    "ExecuteTime": {
     "end_time": "2023-07-16T16:19:08.201705+00:00",
     "start_time": "2023-07-16T16:19:07.615452+00:00"
    },
    "id": "3ff19286",
    "noteable": {
     "cell_type": "code",
     "output_collection_id": "2d7c325e-81c4-49e5-85aa-89d213c37c09"
    }
   },
   "outputs": [
    {
     "data": {
      "application/vnd.microsoft.datawrangler.viewer.v0+json": {
       "columns": [
        {
         "name": "index",
         "rawType": "int64",
         "type": "integer"
        },
        {
         "name": "Id_Cliente",
         "rawType": "int64",
         "type": "integer"
        },
        {
         "name": "Genero",
         "rawType": "object",
         "type": "string"
        },
        {
         "name": "Edad",
         "rawType": "int64",
         "type": "integer"
        },
        {
         "name": "Ingreso",
         "rawType": "float64",
         "type": "float"
        },
        {
         "name": "Puntaje_Gasto",
         "rawType": "int64",
         "type": "integer"
        },
        {
         "name": "GruposEtarios",
         "rawType": "object",
         "type": "string"
        }
       ],
       "conversionMethod": "pd.DataFrame",
       "ref": "66824004-dc67-4d10-9ecf-f19bf16b3d68",
       "rows": [
        [
         "0",
         "1",
         "Mujer",
         "41",
         "98115.05",
         "39",
         "35-44"
        ],
        [
         "1",
         "2",
         "Mujer",
         "20",
         "35458.14",
         "75",
         "18-24"
        ],
        [
         "2",
         "3",
         "Mujer",
         "68",
         "59872.08",
         "55",
         "65+"
        ],
        [
         "3",
         "4",
         "Hombre",
         "63",
         "48508.93",
         "51",
         "55-64"
        ],
        [
         "4",
         "5",
         "Mujer",
         "31",
         "44431.11",
         "54",
         "25-34"
        ],
        [
         "5",
         "6",
         "Hombre",
         "31",
         "24905.79",
         "73",
         "25-34"
        ],
        [
         "6",
         "7",
         "Mujer",
         "32",
         "76984.43",
         "74",
         "25-34"
        ],
        [
         "7",
         "8",
         "Hombre",
         "19",
         "46278.66",
         "59",
         "18-24"
        ],
        [
         "8",
         "9",
         "Hombre",
         "28",
         "102348.09",
         "68",
         "25-34"
        ],
        [
         "9",
         "10",
         "Mujer",
         "24",
         "19720.65",
         "77",
         "18-24"
        ],
        [
         "10",
         "11",
         "Mujer",
         "44",
         "77701.57",
         "20",
         "35-44"
        ],
        [
         "11",
         "12",
         "Hombre",
         "25",
         "22531.85",
         "73",
         "25-34"
        ],
        [
         "12",
         "13",
         "Hombre",
         "67",
         "52200.84",
         "41",
         "65+"
        ],
        [
         "13",
         "14",
         "Mujer",
         "34",
         "80575.78",
         "22",
         "25-34"
        ],
        [
         "14",
         "15",
         "Hombre",
         "28",
         "77067.19",
         "97",
         "25-34"
        ],
        [
         "15",
         "16",
         "Hombre",
         "35",
         "28813.45",
         "61",
         "35-44"
        ],
        [
         "16",
         "17",
         "Hombre",
         "59",
         "71651.08",
         "11",
         "55-64"
        ],
        [
         "17",
         "18",
         "Mujer",
         "32",
         "103654.79",
         "69",
         "25-34"
        ],
        [
         "18",
         "19",
         "Hombre",
         "58",
         "87736.61",
         "15",
         "55-64"
        ],
        [
         "19",
         "20",
         "Mujer",
         "40",
         "70469.66",
         "58",
         "35-44"
        ],
        [
         "20",
         "21",
         "Mujer",
         "40",
         "58810.62",
         "40",
         "35-44"
        ],
        [
         "21",
         "22",
         "Mujer",
         "40",
         "29740.62",
         "31",
         "35-44"
        ],
        [
         "22",
         "23",
         "Mujer",
         "23",
         "62156.31",
         "41",
         "18-24"
        ],
        [
         "23",
         "24",
         "Hombre",
         "34",
         "77780.87",
         "1",
         "25-34"
        ],
        [
         "24",
         "25",
         "Mujer",
         "38",
         "66633.81",
         "40",
         "35-44"
        ],
        [
         "25",
         "26",
         "Hombre",
         "48",
         "52636.91",
         "46",
         "45-54"
        ],
        [
         "26",
         "27",
         "Mujer",
         "18",
         "63084.8",
         "48",
         "18-24"
        ],
        [
         "27",
         "28",
         "Hombre",
         "59",
         "94049.49",
         "14",
         "55-64"
        ],
        [
         "28",
         "29",
         "Hombre",
         "38",
         "71752.69",
         "75",
         "35-44"
        ],
        [
         "29",
         "30",
         "Mujer",
         "45",
         "27835.26",
         "32",
         "45-54"
        ],
        [
         "30",
         "31",
         "Mujer",
         "49",
         "41739.84",
         "52",
         "45-54"
        ],
        [
         "31",
         "32",
         "Hombre",
         "67",
         "61526.42",
         "59",
         "65+"
        ],
        [
         "32",
         "33",
         "Mujer",
         "29",
         "98037.92",
         "88",
         "25-34"
        ],
        [
         "33",
         "34",
         "Hombre",
         "18",
         "48849.64",
         "59",
         "18-24"
        ],
        [
         "34",
         "35",
         "Mujer",
         "45",
         "55041.39",
         "53",
         "45-54"
        ],
        [
         "35",
         "36",
         "Mujer",
         "19",
         "64927.42",
         "50",
         "18-24"
        ],
        [
         "36",
         "37",
         "Hombre",
         "19",
         "13458.02",
         "39",
         "18-24"
        ],
        [
         "37",
         "38",
         "Hombre",
         "25",
         "75943.71",
         "12",
         "25-34"
        ],
        [
         "38",
         "39",
         "Mujer",
         "23",
         "71427.64",
         "29",
         "18-24"
        ],
        [
         "39",
         "40",
         "Mujer",
         "50",
         "57901.26",
         "46",
         "45-54"
        ],
        [
         "40",
         "41",
         "Mujer",
         "29",
         "39397.61",
         "42",
         "25-34"
        ],
        [
         "41",
         "42",
         "Mujer",
         "47",
         "120420.3",
         "16",
         "45-54"
        ],
        [
         "42",
         "43",
         "Mujer",
         "49",
         "40247.19",
         "28",
         "45-54"
        ],
        [
         "43",
         "44",
         "Mujer",
         "29",
         "77996.3",
         "83",
         "25-34"
        ],
        [
         "44",
         "45",
         "Mujer",
         "20",
         "18284.38",
         "6",
         "18-24"
        ],
        [
         "45",
         "46",
         "Mujer",
         "51",
         "66476.37",
         "43",
         "45-54"
        ],
        [
         "46",
         "47",
         "Mujer",
         "36",
         "87518.11",
         "27",
         "35-44"
        ],
        [
         "47",
         "48",
         "Mujer",
         "22",
         "57444.83",
         "55",
         "18-24"
        ],
        [
         "48",
         "49",
         "Mujer",
         "25",
         "70888.72",
         "34",
         "25-34"
        ],
        [
         "49",
         "50",
         "Mujer",
         "29",
         "73885.82",
         "88",
         "25-34"
        ]
       ],
       "shape": {
        "columns": 6,
        "rows": 200
       }
      },
      "text/html": [
       "<div>\n",
       "<style scoped>\n",
       "    .dataframe tbody tr th:only-of-type {\n",
       "        vertical-align: middle;\n",
       "    }\n",
       "\n",
       "    .dataframe tbody tr th {\n",
       "        vertical-align: top;\n",
       "    }\n",
       "\n",
       "    .dataframe thead th {\n",
       "        text-align: right;\n",
       "    }\n",
       "</style>\n",
       "<table border=\"1\" class=\"dataframe\">\n",
       "  <thead>\n",
       "    <tr style=\"text-align: right;\">\n",
       "      <th></th>\n",
       "      <th>Id_Cliente</th>\n",
       "      <th>Genero</th>\n",
       "      <th>Edad</th>\n",
       "      <th>Ingreso</th>\n",
       "      <th>Puntaje_Gasto</th>\n",
       "      <th>GruposEtarios</th>\n",
       "    </tr>\n",
       "  </thead>\n",
       "  <tbody>\n",
       "    <tr>\n",
       "      <th>0</th>\n",
       "      <td>1</td>\n",
       "      <td>Mujer</td>\n",
       "      <td>41</td>\n",
       "      <td>98115.05</td>\n",
       "      <td>39</td>\n",
       "      <td>35-44</td>\n",
       "    </tr>\n",
       "    <tr>\n",
       "      <th>1</th>\n",
       "      <td>2</td>\n",
       "      <td>Mujer</td>\n",
       "      <td>20</td>\n",
       "      <td>35458.14</td>\n",
       "      <td>75</td>\n",
       "      <td>18-24</td>\n",
       "    </tr>\n",
       "    <tr>\n",
       "      <th>2</th>\n",
       "      <td>3</td>\n",
       "      <td>Mujer</td>\n",
       "      <td>68</td>\n",
       "      <td>59872.08</td>\n",
       "      <td>55</td>\n",
       "      <td>65+</td>\n",
       "    </tr>\n",
       "    <tr>\n",
       "      <th>3</th>\n",
       "      <td>4</td>\n",
       "      <td>Hombre</td>\n",
       "      <td>63</td>\n",
       "      <td>48508.93</td>\n",
       "      <td>51</td>\n",
       "      <td>55-64</td>\n",
       "    </tr>\n",
       "    <tr>\n",
       "      <th>4</th>\n",
       "      <td>5</td>\n",
       "      <td>Mujer</td>\n",
       "      <td>31</td>\n",
       "      <td>44431.11</td>\n",
       "      <td>54</td>\n",
       "      <td>25-34</td>\n",
       "    </tr>\n",
       "    <tr>\n",
       "      <th>...</th>\n",
       "      <td>...</td>\n",
       "      <td>...</td>\n",
       "      <td>...</td>\n",
       "      <td>...</td>\n",
       "      <td>...</td>\n",
       "      <td>...</td>\n",
       "    </tr>\n",
       "    <tr>\n",
       "      <th>195</th>\n",
       "      <td>196</td>\n",
       "      <td>Mujer</td>\n",
       "      <td>30</td>\n",
       "      <td>19322.17</td>\n",
       "      <td>72</td>\n",
       "      <td>25-34</td>\n",
       "    </tr>\n",
       "    <tr>\n",
       "      <th>196</th>\n",
       "      <td>197</td>\n",
       "      <td>Mujer</td>\n",
       "      <td>50</td>\n",
       "      <td>43486.37</td>\n",
       "      <td>45</td>\n",
       "      <td>45-54</td>\n",
       "    </tr>\n",
       "    <tr>\n",
       "      <th>197</th>\n",
       "      <td>198</td>\n",
       "      <td>Hombre</td>\n",
       "      <td>35</td>\n",
       "      <td>24086.95</td>\n",
       "      <td>35</td>\n",
       "      <td>35-44</td>\n",
       "    </tr>\n",
       "    <tr>\n",
       "      <th>198</th>\n",
       "      <td>199</td>\n",
       "      <td>Mujer</td>\n",
       "      <td>24</td>\n",
       "      <td>38599.28</td>\n",
       "      <td>65</td>\n",
       "      <td>18-24</td>\n",
       "    </tr>\n",
       "    <tr>\n",
       "      <th>199</th>\n",
       "      <td>200</td>\n",
       "      <td>Mujer</td>\n",
       "      <td>36</td>\n",
       "      <td>86546.01</td>\n",
       "      <td>75</td>\n",
       "      <td>35-44</td>\n",
       "    </tr>\n",
       "  </tbody>\n",
       "</table>\n",
       "<p>200 rows × 6 columns</p>\n",
       "</div>"
      ],
      "text/plain": [
       "     Id_Cliente  Genero  Edad   Ingreso  Puntaje_Gasto GruposEtarios\n",
       "0             1   Mujer    41  98115.05             39         35-44\n",
       "1             2   Mujer    20  35458.14             75         18-24\n",
       "2             3   Mujer    68  59872.08             55           65+\n",
       "3             4  Hombre    63  48508.93             51         55-64\n",
       "4             5   Mujer    31  44431.11             54         25-34\n",
       "..          ...     ...   ...       ...            ...           ...\n",
       "195         196   Mujer    30  19322.17             72         25-34\n",
       "196         197   Mujer    50  43486.37             45         45-54\n",
       "197         198  Hombre    35  24086.95             35         35-44\n",
       "198         199   Mujer    24  38599.28             65         18-24\n",
       "199         200   Mujer    36  86546.01             75         35-44\n",
       "\n",
       "[200 rows x 6 columns]"
      ]
     },
     "execution_count": 62,
     "metadata": {},
     "output_type": "execute_result"
    }
   ],
   "source": [
    "# Definir la función de clasificación de edades por grupos etarios\n",
    "def clasificar_edad(edad):\n",
    "    if edad <= 24:\n",
    "        return \"18-24\"\n",
    "    elif edad > 24 and edad <= 34:\n",
    "        return \"25-34\"\n",
    "    elif edad > 34 and edad <= 44:\n",
    "        return \"35-44\"\n",
    "    elif edad > 44 and edad <= 54:\n",
    "        return \"45-54\"\n",
    "    elif edad > 54 and edad <= 64:\n",
    "        return \"55-64\"\n",
    "    else:\n",
    "        return \"65+\"\n",
    "\n",
    "# Crear la nueva columna categórica para grupos etarios\n",
    "df['GruposEtarios'] = df['Edad'].apply(clasificar_edad)\n",
    "\n",
    "# Mostrar el DataFrame resultante\n",
    "df\n"
   ]
  },
  {
   "cell_type": "code",
   "execution_count": null,
   "id": "6d3d5180",
   "metadata": {},
   "outputs": [
    {
     "data": {
      "image/png": "[encoded data removed]",
      "text/plain": [
       "<Figure size 640x480 with 1 Axes>"
      ]
     },
     "metadata": {},
     "output_type": "display_data"
    }
   ],
   "source": [
    "# Crear el scatter plot\n",
    "fig, ax = plt.subplots()\n",
    "\n",
    "# Usar un bucle para graficar cada categoría con un color diferente\n",
    "categorias = df['GruposEtarios'].unique()\n",
    "categorias2 = df['Genero'].unique()\n",
    "\n",
    "for categoria in categorias:\n",
    "    subset = df[df['GruposEtarios'] == categoria]\n",
    "    ax.scatter(subset['Ingreso'], subset['Puntaje_Gasto'], label=categoria)\n",
    "\n",
    "# Añadir leyenda y etiquetas\n",
    "ax.legend(title='Categoría')\n",
    "ax.set_xlabel('Ingreso')\n",
    "ax.set_ylabel('Puntaje_Gasto')\n",
    "ax.set_title('Scatter Plot con GruposEtarios')\n",
    "\n",
    "# Mostrar el gráfico\n",
    "plt.show()\n"
   ]
  },
  {
   "cell_type": "code",
   "execution_count": null,
   "id": "3d2c408d",
   "metadata": {},
   "outputs": [],
   "source": [
    "# Crear el scatter plot\n",
    "fig, ax = plt.subplots()\n",
    "\n",
    "# Usar un bucle para graficar cada categoría con un color diferente\n",
    "categorias = df['GruposEtarios'].unique()\n",
    "categorias2 = df['Genero'].unique()\n",
    "\n",
    "for categoria in categorias:\n",
    "    subset = df[df['GruposEtarios'] == categoria]\n",
    "    ax.scatter(subset['Ingreso'], subset['Puntaje_Gasto'], label=categoria)\n",
    "\n",
    "# Añadir leyenda y etiquetas\n",
    "ax.legend(title='Categoría')\n",
    "ax.set_xlabel('Ingreso')\n",
    "ax.set_ylabel('Puntaje_Gasto')\n",
    "ax.set_title('Scatter Plot con GruposEtarios')\n",
    "\n",
    "# Mostrar el gráfico\n",
    "plt.show()\n"
   ]
  },
  {
   "cell_type": "code",
   "execution_count": 60,
   "id": "ff8e218d",
   "metadata": {},
   "outputs": [
    {
     "data": {
      "application/vnd.microsoft.datawrangler.viewer.v0+json": {
       "columns": [
        {
         "name": "Genero",
         "rawType": "object",
         "type": "string"
        },
        {
         "name": "('Ingreso', 'count')",
         "rawType": "float64",
         "type": "float"
        },
        {
         "name": "('Ingreso', 'mean')",
         "rawType": "float64",
         "type": "float"
        },
        {
         "name": "('Ingreso', 'std')",
         "rawType": "float64",
         "type": "float"
        },
        {
         "name": "('Ingreso', 'min')",
         "rawType": "float64",
         "type": "float"
        },
        {
         "name": "('Ingreso', '25%')",
         "rawType": "float64",
         "type": "float"
        },
        {
         "name": "('Ingreso', '50%')",
         "rawType": "float64",
         "type": "float"
        },
        {
         "name": "('Ingreso', '75%')",
         "rawType": "float64",
         "type": "float"
        },
        {
         "name": "('Ingreso', 'max')",
         "rawType": "float64",
         "type": "float"
        },
        {
         "name": "('Puntaje_Gasto', 'count')",
         "rawType": "float64",
         "type": "float"
        },
        {
         "name": "('Puntaje_Gasto', 'mean')",
         "rawType": "float64",
         "type": "float"
        },
        {
         "name": "('Puntaje_Gasto', 'std')",
         "rawType": "float64",
         "type": "float"
        },
        {
         "name": "('Puntaje_Gasto', 'min')",
         "rawType": "float64",
         "type": "float"
        },
        {
         "name": "('Puntaje_Gasto', '25%')",
         "rawType": "float64",
         "type": "float"
        },
        {
         "name": "('Puntaje_Gasto', '50%')",
         "rawType": "float64",
         "type": "float"
        },
        {
         "name": "('Puntaje_Gasto', '75%')",
         "rawType": "float64",
         "type": "float"
        },
        {
         "name": "('Puntaje_Gasto', 'max')",
         "rawType": "float64",
         "type": "float"
        }
       ],
       "conversionMethod": "pd.DataFrame",
       "ref": "2a970ff7-3068-46f0-b351-6e113d86dfd8",
       "rows": [
        [
         "Hombre",
         "88.0",
         "62126.66",
         "26765.49",
         "13458.02",
         "45003.08",
         "61706.56",
         "77731.3",
         "138584.52",
         "88.0",
         "48.51",
         "27.9",
         "1.0",
         "24.5",
         "50.0",
         "70.0",
         "97.0"
        ],
        [
         "Mujer",
         "112.0",
         "59444.14",
         "25920.46",
         "15766.84",
         "40013.41",
         "59355.3",
         "76788.39",
         "126685.78",
         "112.0",
         "51.53",
         "24.11",
         "5.0",
         "35.0",
         "50.0",
         "73.0",
         "99.0"
        ]
       ],
       "shape": {
        "columns": 16,
        "rows": 2
       }
      },
      "text/html": [
       "<div>\n",
       "<style scoped>\n",
       "    .dataframe tbody tr th:only-of-type {\n",
       "        vertical-align: middle;\n",
       "    }\n",
       "\n",
       "    .dataframe tbody tr th {\n",
       "        vertical-align: top;\n",
       "    }\n",
       "\n",
       "    .dataframe thead tr th {\n",
       "        text-align: left;\n",
       "    }\n",
       "\n",
       "    .dataframe thead tr:last-of-type th {\n",
       "        text-align: right;\n",
       "    }\n",
       "</style>\n",
       "<table border=\"1\" class=\"dataframe\">\n",
       "  <thead>\n",
       "    <tr>\n",
       "      <th></th>\n",
       "      <th colspan=\"8\" halign=\"left\">Ingreso</th>\n",
       "      <th colspan=\"8\" halign=\"left\">Puntaje_Gasto</th>\n",
       "    </tr>\n",
       "    <tr>\n",
       "      <th></th>\n",
       "      <th>count</th>\n",
       "      <th>mean</th>\n",
       "      <th>std</th>\n",
       "      <th>min</th>\n",
       "      <th>25%</th>\n",
       "      <th>50%</th>\n",
       "      <th>75%</th>\n",
       "      <th>max</th>\n",
       "      <th>count</th>\n",
       "      <th>mean</th>\n",
       "      <th>std</th>\n",
       "      <th>min</th>\n",
       "      <th>25%</th>\n",
       "      <th>50%</th>\n",
       "      <th>75%</th>\n",
       "      <th>max</th>\n",
       "    </tr>\n",
       "    <tr>\n",
       "      <th>Genero</th>\n",
       "      <th></th>\n",
       "      <th></th>\n",
       "      <th></th>\n",
       "      <th></th>\n",
       "      <th></th>\n",
       "      <th></th>\n",
       "      <th></th>\n",
       "      <th></th>\n",
       "      <th></th>\n",
       "      <th></th>\n",
       "      <th></th>\n",
       "      <th></th>\n",
       "      <th></th>\n",
       "      <th></th>\n",
       "      <th></th>\n",
       "      <th></th>\n",
       "    </tr>\n",
       "  </thead>\n",
       "  <tbody>\n",
       "    <tr>\n",
       "      <th>Hombre</th>\n",
       "      <td>88.0</td>\n",
       "      <td>62126.66</td>\n",
       "      <td>26765.49</td>\n",
       "      <td>13458.02</td>\n",
       "      <td>45003.08</td>\n",
       "      <td>61706.56</td>\n",
       "      <td>77731.30</td>\n",
       "      <td>138584.52</td>\n",
       "      <td>88.0</td>\n",
       "      <td>48.51</td>\n",
       "      <td>27.90</td>\n",
       "      <td>1.0</td>\n",
       "      <td>24.5</td>\n",
       "      <td>50.0</td>\n",
       "      <td>70.0</td>\n",
       "      <td>97.0</td>\n",
       "    </tr>\n",
       "    <tr>\n",
       "      <th>Mujer</th>\n",
       "      <td>112.0</td>\n",
       "      <td>59444.14</td>\n",
       "      <td>25920.46</td>\n",
       "      <td>15766.84</td>\n",
       "      <td>40013.41</td>\n",
       "      <td>59355.30</td>\n",
       "      <td>76788.39</td>\n",
       "      <td>126685.78</td>\n",
       "      <td>112.0</td>\n",
       "      <td>51.53</td>\n",
       "      <td>24.11</td>\n",
       "      <td>5.0</td>\n",
       "      <td>35.0</td>\n",
       "      <td>50.0</td>\n",
       "      <td>73.0</td>\n",
       "      <td>99.0</td>\n",
       "    </tr>\n",
       "  </tbody>\n",
       "</table>\n",
       "</div>"
      ],
      "text/plain": [
       "       Ingreso                                                              \\\n",
       "         count      mean       std       min       25%       50%       75%   \n",
       "Genero                                                                       \n",
       "Hombre    88.0  62126.66  26765.49  13458.02  45003.08  61706.56  77731.30   \n",
       "Mujer    112.0  59444.14  25920.46  15766.84  40013.41  59355.30  76788.39   \n",
       "\n",
       "                  Puntaje_Gasto                                             \n",
       "              max         count   mean    std  min   25%   50%   75%   max  \n",
       "Genero                                                                      \n",
       "Hombre  138584.52          88.0  48.51  27.90  1.0  24.5  50.0  70.0  97.0  \n",
       "Mujer   126685.78         112.0  51.53  24.11  5.0  35.0  50.0  73.0  99.0  "
      ]
     },
     "execution_count": 60,
     "metadata": {},
     "output_type": "execute_result"
    }
   ],
   "source": [
    "\n",
    "# Agrupar por la variable categórica y calcular estadísticas descriptivas\n",
    "estadisticas_por_categoria = df.groupby('Genero').describe()\n",
    "\n",
    "# Mostrar las estadísticas descriptivas por categoría\n",
    "round(estadisticas_por_categoria[['Ingreso', 'Puntaje_Gasto']],2)\n"
   ]
  },
  {
   "cell_type": "markdown",
   "id": "40359273",
   "metadata": {
    "id": "40359273"
   },
   "source": [
    "(Utilice este espacio para describir su procedimiento)"
   ]
  },
  {
   "cell_type": "markdown",
   "id": "db016871",
   "metadata": {
    "id": "db016871"
   },
   "source": [
    "### 3. Clustering Jerárquico\n",
    "\n",
    "#### 3.1. Dendrogramas\n",
    "\n",
    "Agrupe a los clientes utilizando sólo dos variables: su ingreso y el puntaje de gastos. Para ello retenga estas dos variables, estandarízelas, construya y grafique un dendograma. Para la construcción del dendrograma utilice el enlace 'ward' y la distancia euclidiana. Explique la importnacia de estandarizar los datos."
   ]
  },
  {
   "cell_type": "code",
   "execution_count": null,
   "id": "d771eece",
   "metadata": {
    "ExecuteTime": {
     "end_time": "2023-07-16T16:29:24.649171+00:00",
     "start_time": "2023-07-16T16:29:21.788267+00:00"
    },
    "id": "d771eece",
    "noteable": {
     "cell_type": "code",
     "output_collection_id": "3ac79bd2-4963-40c4-a4e8-784bcb39bea0"
    }
   },
   "outputs": [],
   "source": [
    "# Utilice este espacio para escribir el código."
   ]
  },
  {
   "cell_type": "markdown",
   "id": "c1dab838",
   "metadata": {
    "id": "c1dab838"
   },
   "source": [
    "(Utilice este espacio para describir su procedimiento)"
   ]
  },
  {
   "cell_type": "markdown",
   "id": "12343c6a",
   "metadata": {
    "id": "12343c6a"
   },
   "source": [
    "#### 3.2. Número de clusters\n",
    "\n",
    "Retenga el número de clusters que se obtengan luego de fijar la distancia en 6."
   ]
  },
  {
   "cell_type": "code",
   "execution_count": null,
   "id": "b35f8080",
   "metadata": {
    "ExecuteTime": {
     "end_time": "2023-07-16T16:30:33.403710+00:00",
     "start_time": "2023-07-16T16:30:33.241077+00:00"
    },
    "id": "b35f8080",
    "noteable": {
     "cell_type": "code",
     "output_collection_id": "254eb5c1-b7d7-48c0-a13c-f5073e06273b"
    }
   },
   "outputs": [],
   "source": [
    "# Utilice este espacio para escribir el código."
   ]
  },
  {
   "cell_type": "markdown",
   "id": "7c1ad33c",
   "metadata": {
    "id": "7c1ad33c"
   },
   "source": [
    "(Utilice este espacio para describir su procedimiento)"
   ]
  },
  {
   "cell_type": "markdown",
   "id": "cbf60bd1",
   "metadata": {
    "id": "cbf60bd1"
   },
   "source": [
    "#### 3.3. Algoritmo Jerárquico Aglomerativo\n",
    "\n",
    "Utilizando el número de clusters encontrados en el paso anterior, aplique el algoritmo jerárquico aglomerativo, utilizando el enlace 'ward' y la distancia euclidiana. Describa los grupos encontrados, en que grupo o grupos concentraría su estrategia de marketing y por qué?"
   ]
  },
  {
   "cell_type": "code",
   "execution_count": null,
   "id": "d38317e3",
   "metadata": {
    "ExecuteTime": {
     "end_time": "2023-07-16T16:31:07.364446+00:00",
     "start_time": "2023-07-16T16:31:07.047668+00:00"
    },
    "datalink": {
     "cb4d41c2-7468-4179-b3af-463accbe29a6": {
      "applied_filters": [],
      "dataframe_info": {
       "default_index_used": true,
       "orig_num_cols": 8,
       "orig_num_rows": 5,
       "orig_size_bytes": 525,
       "truncated_num_cols": 8,
       "truncated_num_rows": 5,
       "truncated_size_bytes": 525,
       "truncated_string_columns": []
      },
      "display_id": "cb4d41c2-7468-4179-b3af-463accbe29a6",
      "dx_settings": {
       "ALLOW_NOTEABLE_ATTRS": true,
       "COLUMN_SAMPLING_METHOD": "outer",
       "DB_LOCATION": ":memory:",
       "DEV_MODE": false,
       "DISPLAY_MAX_COLUMNS": 100,
       "DISPLAY_MAX_ROWS": 50000,
       "DISPLAY_MODE": "simple",
       "ENABLE_ASSIGNMENT": true,
       "ENABLE_DATALINK": true,
       "FLATTEN_COLUMN_VALUES": true,
       "FLATTEN_INDEX_VALUES": false,
       "GENERATE_DEX_METADATA": false,
       "HTML_TABLE_SCHEMA": false,
       "LOG_LEVEL": 30,
       "MAX_RENDER_SIZE_BYTES": 104857600,
       "MAX_STRING_LENGTH": 250,
       "NUM_PAST_SAMPLES_TRACKED": 3,
       "RANDOM_STATE": 12648430,
       "RESET_INDEX_VALUES": false,
       "ROW_SAMPLING_METHOD": "random",
       "SAMPLING_FACTOR": 0.1,
       "SAMPLING_METHOD": "random",
       "STRINGIFY_COLUMN_VALUES": true,
       "STRINGIFY_INDEX_VALUES": false
      },
      "sample_history": [],
      "sampling_time": "2023-07-16T16:31:07.204488",
      "user_variable_name": null,
      "variable_name": "unk_dataframe_9913f7676cc043a4a00b184116fd4b2c"
     }
    },
    "id": "d38317e3",
    "noteable": {
     "cell_type": "code",
     "output_collection_id": "a8fca9be-97b0-456e-92df-a88e7598e581"
    }
   },
   "outputs": [],
   "source": [
    "# Utilice este espacio para escribir el código."
   ]
  },
  {
   "cell_type": "markdown",
   "id": "541ab9cf",
   "metadata": {
    "id": "541ab9cf"
   },
   "source": [
    "(Utilice este espacio para describir su procedimiento)"
   ]
  },
  {
   "cell_type": "markdown",
   "id": "05409138",
   "metadata": {
    "id": "05409138"
   },
   "source": [
    "### 4. DBSCAN\n",
    "\n",
    "Implemente DBSCAN, al igual que el punto anterior sólo dos variables: su ingreso y el puntaje de gastos. Al implementar  justifique su elección de `min_samples` y `eps`. ¿Cuántos grupos o clusters encuentra? ¿Cuáles son su características? ¿Cambiaría su estrategia de marketing respecto al punto anterior? Justifique su respuesta."
   ]
  },
  {
   "cell_type": "code",
   "execution_count": null,
   "id": "34b7ab8e",
   "metadata": {
    "id": "34b7ab8e"
   },
   "outputs": [],
   "source": [
    "# Utilice este espacio para escribir el código."
   ]
  },
  {
   "cell_type": "markdown",
   "id": "2e5089d3",
   "metadata": {
    "id": "2e5089d3"
   },
   "source": [
    "(Utilice este espacio para describir su procedimiento)"
   ]
  },
  {
   "cell_type": "markdown",
   "id": "9c8ba942",
   "metadata": {
    "id": "9c8ba942"
   },
   "source": [
    "### 5. Incorporando más dimensiones\n",
    "\n",
    "Hasta este momento hemos utilizado solo dos variables para nuestro análisis, sin embargo, la base cuenta con otras variables más: género y edad. Usando las categorías de edad creadas anteriormente incorpore género y grupo etario a su análisis. Genere los grupos utilizando DBSCAN y la distancia de Gower, justificando su elección de `min_samples` y `eps`   ¿Incorporar estas variables, ayuda a la focalización de la estrategia de marketing?"
   ]
  },
  {
   "cell_type": "code",
   "execution_count": null,
   "id": "2543e63d",
   "metadata": {
    "ExecuteTime": {
     "end_time": "2023-07-16T16:42:28.364508+00:00",
     "start_time": "2023-07-16T16:42:22.935059+00:00"
    },
    "id": "2543e63d",
    "jupyter": {
     "outputs_hidden": false,
     "source_hidden": false
    },
    "noteable": {
     "cell_type": "code",
     "output_collection_id": "2b6bd871-3b9e-4474-a898-ee13670b61c3"
    }
   },
   "outputs": [],
   "source": [
    "# Utilice este espacio para escribir el código."
   ]
  },
  {
   "cell_type": "markdown",
   "id": "32482dca",
   "metadata": {
    "id": "32482dca"
   },
   "source": [
    "(Utilice este espacio para describir su procedimiento)"
   ]
  }
 ],
 "metadata": {
  "colab": {
   "provenance": []
  },
  "kernelspec": {
   "display_name": "Python 3",
   "language": "python",
   "name": "python3"
  },
  "language_info": {
   "codemirror_mode": {
    "name": "ipython",
    "version": 3
   },
   "file_extension": ".py",
   "mimetype": "text/x-python",
   "name": "python",
   "nbconvert_exporter": "python",
   "pygments_lexer": "ipython3",
   "version": "3.12.5"
  },
  "noteable": {
   "last_transaction_id": "981dee18-307a-4ad4-a85c-724d5132feaa"
  },
  "selected_hardware_size": "small",
  "toc": {
   "base_numbering": 1,
   "nav_menu": {},
   "number_sections": true,
   "sideBar": true,
   "skip_h1_title": false,
   "title_cell": "Table of Contents",
   "title_sidebar": "Contents",
   "toc_cell": false,
   "toc_position": {},
   "toc_section_display": true,
   "toc_window_display": false
  }
 },
 "nbformat": 4,
 "nbformat_minor": 5
}
